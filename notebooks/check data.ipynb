{
 "metadata": {
  "name": "",
  "signature": "sha256:7728e14203527a7d12b4f4667d79e2c1a1fccf5f48a8007910c288f2464638d4"
 },
 "nbformat": 3,
 "nbformat_minor": 0,
 "worksheets": [
  {
   "cells": [
    {
     "cell_type": "code",
     "collapsed": false,
     "input": [
      "import sys\n",
      "sys.path.insert(0, '..')\n",
      "\n",
      "from formtype import features, evaluation, tool\n",
      "from formtype.storage import Storage, FORM_TYPES, FORM_TYPES_INV, load_html"
     ],
     "language": "python",
     "metadata": {},
     "outputs": [],
     "prompt_number": 1
    },
    {
     "cell_type": "code",
     "collapsed": false,
     "input": [
      "storage = Storage(\"../data\")\n",
      "storage.print_type_counts()"
     ],
     "language": "python",
     "metadata": {},
     "outputs": [
      {
       "output_type": "stream",
       "stream": "stdout",
       "text": [
        "Annotated HTML forms:\n",
        "\n",
        "\r",
        "Loading: |----------| 0/288   0% [elapsed: 00:00 left: ?, ? iters/sec]"
       ]
      },
      {
       "output_type": "stream",
       "stream": "stdout",
       "text": [
        "\r",
        "Loading: |----------| 1/288   0% [elapsed: 00:00 left: 00:01, 199.17 iters/sec]"
       ]
      },
      {
       "output_type": "stream",
       "stream": "stdout",
       "text": [
        "\r",
        "Loading: |----------| 2/288   0% [elapsed: 00:00 left: 00:01, 150.36 iters/sec]"
       ]
      },
      {
       "output_type": "stream",
       "stream": "stdout",
       "text": [
        "\r",
        "Loading: |----------| 3/288   1% [elapsed: 00:00 left: 00:02, 116.96 iters/sec]"
       ]
      },
      {
       "output_type": "stream",
       "stream": "stdout",
       "text": [
        "\r",
        "Loading: |----------| 4/288   1% [elapsed: 00:00 left: 00:02, 134.18 iters/sec]"
       ]
      },
      {
       "output_type": "stream",
       "stream": "stdout",
       "text": [
        "\r",
        "Loading: |----------| 5/288   1% [elapsed: 00:00 left: 00:02, 102.55 iters/sec]"
       ]
      },
      {
       "output_type": "stream",
       "stream": "stdout",
       "text": [
        "\r",
        "Loading: |----------| 6/288   2% [elapsed: 00:00 left: 00:02, 114.12 iters/sec]"
       ]
      },
      {
       "output_type": "stream",
       "stream": "stdout",
       "text": [
        "\r",
        "Loading: |----------| 7/288   2% [elapsed: 00:00 left: 00:02, 127.16 iters/sec]"
       ]
      },
      {
       "output_type": "stream",
       "stream": "stdout",
       "text": [
        "\r",
        "Loading: |----------| 8/288   2% [elapsed: 00:00 left: 00:02, 136.30 iters/sec]"
       ]
      },
      {
       "output_type": "stream",
       "stream": "stdout",
       "text": [
        "\r",
        "Loading: |----------| 9/288   3% [elapsed: 00:00 left: 00:02, 119.76 iters/sec]"
       ]
      },
      {
       "output_type": "stream",
       "stream": "stdout",
       "text": [
        "\r",
        "Loading: |----------| 10/288   3% [elapsed: 00:00 left: 00:02, 111.98 iters/sec]"
       ]
      },
      {
       "output_type": "stream",
       "stream": "stdout",
       "text": [
        "\r",
        "Loading: |----------| 11/288   3% [elapsed: 00:00 left: 00:02, 118.46 iters/sec]"
       ]
      },
      {
       "output_type": "stream",
       "stream": "stdout",
       "text": [
        "\r",
        "Loading: |----------| 12/288   4% [elapsed: 00:00 left: 00:02, 121.48 iters/sec]"
       ]
      },
      {
       "output_type": "stream",
       "stream": "stdout",
       "text": [
        "\r",
        "Loading: |----------| 13/288   4% [elapsed: 00:00 left: 00:02, 111.23 iters/sec]"
       ]
      },
      {
       "output_type": "stream",
       "stream": "stdout",
       "text": [
        "\r",
        "Loading: |----------| 14/288   4% [elapsed: 00:00 left: 00:02, 114.23 iters/sec]"
       ]
      },
      {
       "output_type": "stream",
       "stream": "stdout",
       "text": [
        "\r",
        "Loading: |----------| 15/288   5% [elapsed: 00:00 left: 00:02, 115.17 iters/sec]"
       ]
      },
      {
       "output_type": "stream",
       "stream": "stdout",
       "text": [
        "\r",
        "Loading: |----------| 16/288   5% [elapsed: 00:00 left: 00:02, 117.18 iters/sec]"
       ]
      },
      {
       "output_type": "stream",
       "stream": "stdout",
       "text": [
        "\r",
        "Loading: |----------| 17/288   5% [elapsed: 00:00 left: 00:02, 114.78 iters/sec]"
       ]
      },
      {
       "output_type": "stream",
       "stream": "stdout",
       "text": [
        "\r",
        "Loading: |----------| 18/288   6% [elapsed: 00:00 left: 00:02, 117.20 iters/sec]"
       ]
      },
      {
       "output_type": "stream",
       "stream": "stdout",
       "text": [
        "\r",
        "Loading: |----------| 19/288   6% [elapsed: 00:00 left: 00:02, 120.38 iters/sec]"
       ]
      },
      {
       "output_type": "stream",
       "stream": "stdout",
       "text": [
        "\r",
        "Loading: |----------| 20/288   6% [elapsed: 00:00 left: 00:02, 117.78 iters/sec]"
       ]
      },
      {
       "output_type": "stream",
       "stream": "stdout",
       "text": [
        "\r",
        "Loading: |----------| 21/288   7% [elapsed: 00:00 left: 00:02, 122.30 iters/sec]"
       ]
      },
      {
       "output_type": "stream",
       "stream": "stdout",
       "text": [
        "\r",
        "Loading: |----------| 22/288   7% [elapsed: 00:00 left: 00:02, 126.45 iters/sec]"
       ]
      },
      {
       "output_type": "stream",
       "stream": "stdout",
       "text": [
        "\r",
        "Loading: |----------| 23/288   7% [elapsed: 00:00 left: 00:02, 124.70 iters/sec]"
       ]
      },
      {
       "output_type": "stream",
       "stream": "stdout",
       "text": [
        "\r",
        "Loading: |----------| 24/288   8% [elapsed: 00:00 left: 00:02, 123.98 iters/sec]"
       ]
      },
      {
       "output_type": "stream",
       "stream": "stdout",
       "text": [
        "\r",
        "Loading: |----------| 25/288   8% [elapsed: 00:00 left: 00:02, 123.73 iters/sec]"
       ]
      },
      {
       "output_type": "stream",
       "stream": "stdout",
       "text": [
        "\r",
        "Loading: |----------| 26/288   9% [elapsed: 00:00 left: 00:02, 126.69 iters/sec]"
       ]
      },
      {
       "output_type": "stream",
       "stream": "stdout",
       "text": [
        "\r",
        "Loading: |----------| 27/288   9% [elapsed: 00:00 left: 00:02, 128.54 iters/sec]"
       ]
      },
      {
       "output_type": "stream",
       "stream": "stdout",
       "text": [
        "\r",
        "Loading: |----------| 28/288   9% [elapsed: 00:00 left: 00:01, 130.51 iters/sec]"
       ]
      },
      {
       "output_type": "stream",
       "stream": "stdout",
       "text": [
        "\r",
        "Loading: |#---------| 29/288  10% [elapsed: 00:00 left: 00:01, 131.22 iters/sec]"
       ]
      },
      {
       "output_type": "stream",
       "stream": "stdout",
       "text": [
        "\r",
        "Loading: |#---------| 30/288  10% [elapsed: 00:00 left: 00:01, 132.70 iters/sec]"
       ]
      },
      {
       "output_type": "stream",
       "stream": "stdout",
       "text": [
        "\r",
        "Loading: |#---------| 31/288  10% [elapsed: 00:00 left: 00:01, 132.27 iters/sec]"
       ]
      },
      {
       "output_type": "stream",
       "stream": "stdout",
       "text": [
        "\r",
        "Loading: |#---------| 32/288  11% [elapsed: 00:00 left: 00:01, 133.16 iters/sec]"
       ]
      },
      {
       "output_type": "stream",
       "stream": "stdout",
       "text": [
        "\r",
        "Loading: |#---------| 33/288  11% [elapsed: 00:00 left: 00:01, 131.01 iters/sec]"
       ]
      },
      {
       "output_type": "stream",
       "stream": "stdout",
       "text": [
        "\r",
        "Loading: |#---------| 34/288  11% [elapsed: 00:00 left: 00:01, 128.52 iters/sec]"
       ]
      },
      {
       "output_type": "stream",
       "stream": "stdout",
       "text": [
        "\r",
        "Loading: |#---------| 35/288  12% [elapsed: 00:00 left: 00:01, 130.79 iters/sec]"
       ]
      },
      {
       "output_type": "stream",
       "stream": "stdout",
       "text": [
        "\r",
        "Loading: |#---------| 36/288  12% [elapsed: 00:00 left: 00:01, 133.10 iters/sec]"
       ]
      },
      {
       "output_type": "stream",
       "stream": "stdout",
       "text": [
        "\r",
        "Loading: |#---------| 37/288  12% [elapsed: 00:00 left: 00:01, 134.10 iters/sec]"
       ]
      },
      {
       "output_type": "stream",
       "stream": "stdout",
       "text": [
        "\r",
        "Loading: |#---------| 38/288  13% [elapsed: 00:00 left: 00:01, 133.03 iters/sec]"
       ]
      },
      {
       "output_type": "stream",
       "stream": "stdout",
       "text": [
        "\r",
        "Loading: |#---------| 39/288  13% [elapsed: 00:00 left: 00:01, 134.21 iters/sec]"
       ]
      },
      {
       "output_type": "stream",
       "stream": "stdout",
       "text": [
        "\r",
        "Loading: |#---------| 40/288  13% [elapsed: 00:00 left: 00:01, 136.74 iters/sec]"
       ]
      },
      {
       "output_type": "stream",
       "stream": "stdout",
       "text": [
        "\r",
        "Loading: |#---------| 41/288  14% [elapsed: 00:00 left: 00:01, 136.25 iters/sec]"
       ]
      },
      {
       "output_type": "stream",
       "stream": "stdout",
       "text": [
        "\r",
        "Loading: |#---------| 42/288  14% [elapsed: 00:00 left: 00:01, 136.66 iters/sec]"
       ]
      },
      {
       "output_type": "stream",
       "stream": "stdout",
       "text": [
        "\r",
        "Loading: |#---------| 43/288  14% [elapsed: 00:00 left: 00:01, 134.87 iters/sec]"
       ]
      },
      {
       "output_type": "stream",
       "stream": "stdout",
       "text": [
        "\r",
        "Loading: |#---------| 44/288  15% [elapsed: 00:00 left: 00:01, 136.98 iters/sec]"
       ]
      },
      {
       "output_type": "stream",
       "stream": "stdout",
       "text": [
        "\r",
        "Loading: |#---------| 45/288  15% [elapsed: 00:00 left: 00:01, 139.31 iters/sec]"
       ]
      },
      {
       "output_type": "stream",
       "stream": "stdout",
       "text": [
        "\r",
        "Loading: |#---------| 46/288  15% [elapsed: 00:00 left: 00:01, 141.60 iters/sec]"
       ]
      },
      {
       "output_type": "stream",
       "stream": "stdout",
       "text": [
        "\r",
        "Loading: |#---------| 47/288  16% [elapsed: 00:00 left: 00:01, 143.33 iters/sec]"
       ]
      },
      {
       "output_type": "stream",
       "stream": "stdout",
       "text": [
        "\r",
        "Loading: |#---------| 48/288  16% [elapsed: 00:00 left: 00:01, 140.56 iters/sec]"
       ]
      },
      {
       "output_type": "stream",
       "stream": "stdout",
       "text": [
        "\r",
        "Loading: |#---------| 49/288  17% [elapsed: 00:00 left: 00:01, 141.24 iters/sec]"
       ]
      },
      {
       "output_type": "stream",
       "stream": "stdout",
       "text": [
        "\r",
        "Loading: |#---------| 50/288  17% [elapsed: 00:00 left: 00:01, 143.14 iters/sec]"
       ]
      },
      {
       "output_type": "stream",
       "stream": "stdout",
       "text": [
        "\r",
        "Loading: |#---------| 51/288  17% [elapsed: 00:00 left: 00:01, 144.58 iters/sec]"
       ]
      },
      {
       "output_type": "stream",
       "stream": "stdout",
       "text": [
        "\r",
        "Loading: |#---------| 52/288  18% [elapsed: 00:00 left: 00:01, 137.30 iters/sec]"
       ]
      },
      {
       "output_type": "stream",
       "stream": "stdout",
       "text": [
        "\r",
        "Loading: |#---------| 53/288  18% [elapsed: 00:00 left: 00:01, 136.23 iters/sec]"
       ]
      },
      {
       "output_type": "stream",
       "stream": "stdout",
       "text": [
        "\r",
        "Loading: |#---------| 54/288  18% [elapsed: 00:00 left: 00:01, 136.95 iters/sec]"
       ]
      },
      {
       "output_type": "stream",
       "stream": "stdout",
       "text": [
        "\r",
        "Loading: |#---------| 55/288  19% [elapsed: 00:00 left: 00:01, 135.63 iters/sec]"
       ]
      },
      {
       "output_type": "stream",
       "stream": "stdout",
       "text": [
        "\r",
        "Loading: |#---------| 56/288  19% [elapsed: 00:00 left: 00:01, 133.51 iters/sec]"
       ]
      },
      {
       "output_type": "stream",
       "stream": "stdout",
       "text": [
        "\r",
        "Loading: |#---------| 57/288  19% [elapsed: 00:00 left: 00:01, 134.37 iters/sec]"
       ]
      },
      {
       "output_type": "stream",
       "stream": "stdout",
       "text": [
        "\r",
        "Loading: |##--------| 58/288  20% [elapsed: 00:00 left: 00:01, 135.55 iters/sec]"
       ]
      },
      {
       "output_type": "stream",
       "stream": "stdout",
       "text": [
        "\r",
        "Loading: |##--------| 59/288  20% [elapsed: 00:00 left: 00:01, 136.26 iters/sec]"
       ]
      },
      {
       "output_type": "stream",
       "stream": "stdout",
       "text": [
        "\r",
        "Loading: |##--------| 60/288  20% [elapsed: 00:00 left: 00:01, 137.21 iters/sec]"
       ]
      },
      {
       "output_type": "stream",
       "stream": "stdout",
       "text": [
        "\r",
        "Loading: |##--------| 61/288  21% [elapsed: 00:00 left: 00:01, 138.48 iters/sec]"
       ]
      },
      {
       "output_type": "stream",
       "stream": "stdout",
       "text": [
        "\r",
        "Loading: |##--------| 62/288  21% [elapsed: 00:00 left: 00:01, 137.53 iters/sec]"
       ]
      },
      {
       "output_type": "stream",
       "stream": "stdout",
       "text": [
        "\r",
        "Loading: |##--------| 63/288  21% [elapsed: 00:00 left: 00:01, 138.71 iters/sec]"
       ]
      },
      {
       "output_type": "stream",
       "stream": "stdout",
       "text": [
        "\r",
        "Loading: |##--------| 64/288  22% [elapsed: 00:00 left: 00:01, 137.62 iters/sec]"
       ]
      },
      {
       "output_type": "stream",
       "stream": "stdout",
       "text": [
        "\r",
        "Loading: |##--------| 65/288  22% [elapsed: 00:00 left: 00:01, 137.93 iters/sec]"
       ]
      },
      {
       "output_type": "stream",
       "stream": "stdout",
       "text": [
        "\r",
        "Loading: |##--------| 66/288  22% [elapsed: 00:00 left: 00:01, 139.36 iters/sec]"
       ]
      },
      {
       "output_type": "stream",
       "stream": "stdout",
       "text": [
        "\r",
        "Loading: |##--------| 67/288  23% [elapsed: 00:00 left: 00:01, 138.61 iters/sec]"
       ]
      },
      {
       "output_type": "stream",
       "stream": "stdout",
       "text": [
        "\r",
        "Loading: |##--------| 68/288  23% [elapsed: 00:00 left: 00:01, 139.95 iters/sec]"
       ]
      },
      {
       "output_type": "stream",
       "stream": "stdout",
       "text": [
        "\r",
        "Loading: |##--------| 69/288  23% [elapsed: 00:00 left: 00:01, 138.87 iters/sec]"
       ]
      },
      {
       "output_type": "stream",
       "stream": "stdout",
       "text": [
        "\r",
        "Loading: |##--------| 70/288  24% [elapsed: 00:00 left: 00:01, 138.96 iters/sec]"
       ]
      },
      {
       "output_type": "stream",
       "stream": "stdout",
       "text": [
        "\r",
        "Loading: |##--------| 71/288  24% [elapsed: 00:00 left: 00:01, 139.28 iters/sec]"
       ]
      },
      {
       "output_type": "stream",
       "stream": "stdout",
       "text": [
        "\r",
        "Loading: |##--------| 72/288  25% [elapsed: 00:00 left: 00:01, 138.64 iters/sec]"
       ]
      },
      {
       "output_type": "stream",
       "stream": "stdout",
       "text": [
        "\r",
        "Loading: |##--------| 73/288  25% [elapsed: 00:00 left: 00:01, 136.78 iters/sec]"
       ]
      },
      {
       "output_type": "stream",
       "stream": "stdout",
       "text": [
        "\r",
        "Loading: |##--------| 74/288  25% [elapsed: 00:00 left: 00:01, 136.04 iters/sec]"
       ]
      },
      {
       "output_type": "stream",
       "stream": "stdout",
       "text": [
        "\r",
        "Loading: |##--------| 75/288  26% [elapsed: 00:00 left: 00:01, 137.47 iters/sec]"
       ]
      },
      {
       "output_type": "stream",
       "stream": "stdout",
       "text": [
        "\r",
        "Loading: |##--------| 76/288  26% [elapsed: 00:00 left: 00:01, 138.17 iters/sec]"
       ]
      },
      {
       "output_type": "stream",
       "stream": "stdout",
       "text": [
        "\r",
        "Loading: |##--------| 77/288  26% [elapsed: 00:00 left: 00:01, 138.27 iters/sec]"
       ]
      },
      {
       "output_type": "stream",
       "stream": "stdout",
       "text": [
        "\r",
        "Loading: |##--------| 78/288  27% [elapsed: 00:00 left: 00:01, 139.30 iters/sec]"
       ]
      },
      {
       "output_type": "stream",
       "stream": "stdout",
       "text": [
        "\r",
        "Loading: |##--------| 79/288  27% [elapsed: 00:00 left: 00:01, 139.91 iters/sec]"
       ]
      },
      {
       "output_type": "stream",
       "stream": "stdout",
       "text": [
        "\r",
        "Loading: |##--------| 80/288  27% [elapsed: 00:00 left: 00:01, 140.21 iters/sec]"
       ]
      },
      {
       "output_type": "stream",
       "stream": "stdout",
       "text": [
        "\r",
        "Loading: |##--------| 81/288  28% [elapsed: 00:00 left: 00:01, 139.12 iters/sec]"
       ]
      },
      {
       "output_type": "stream",
       "stream": "stdout",
       "text": [
        "\r",
        "Loading: |##--------| 82/288  28% [elapsed: 00:00 left: 00:01, 139.17 iters/sec]"
       ]
      },
      {
       "output_type": "stream",
       "stream": "stdout",
       "text": [
        "\r",
        "Loading: |##--------| 83/288  28% [elapsed: 00:00 left: 00:01, 138.94 iters/sec]"
       ]
      },
      {
       "output_type": "stream",
       "stream": "stdout",
       "text": [
        "\r",
        "Loading: |##--------| 84/288  29% [elapsed: 00:00 left: 00:01, 140.01 iters/sec]"
       ]
      },
      {
       "output_type": "stream",
       "stream": "stdout",
       "text": [
        "\r",
        "Loading: |##--------| 85/288  29% [elapsed: 00:00 left: 00:01, 139.56 iters/sec]"
       ]
      },
      {
       "output_type": "stream",
       "stream": "stdout",
       "text": [
        "\r",
        "Loading: |##--------| 86/288  29% [elapsed: 00:00 left: 00:01, 136.64 iters/sec]"
       ]
      },
      {
       "output_type": "stream",
       "stream": "stdout",
       "text": [
        "\r",
        "Loading: |###-------| 87/288  30% [elapsed: 00:00 left: 00:01, 137.11 iters/sec]"
       ]
      },
      {
       "output_type": "stream",
       "stream": "stdout",
       "text": [
        "\r",
        "Loading: |###-------| 88/288  30% [elapsed: 00:00 left: 00:01, 137.14 iters/sec]"
       ]
      },
      {
       "output_type": "stream",
       "stream": "stdout",
       "text": [
        "\r",
        "Loading: |###-------| 89/288  30% [elapsed: 00:00 left: 00:01, 137.84 iters/sec]"
       ]
      },
      {
       "output_type": "stream",
       "stream": "stdout",
       "text": [
        "\r",
        "Loading: |###-------| 90/288  31% [elapsed: 00:00 left: 00:01, 138.81 iters/sec]"
       ]
      },
      {
       "output_type": "stream",
       "stream": "stdout",
       "text": [
        "\r",
        "Loading: |###-------| 91/288  31% [elapsed: 00:00 left: 00:01, 136.63 iters/sec]"
       ]
      },
      {
       "output_type": "stream",
       "stream": "stdout",
       "text": [
        "\r",
        "Loading: |###-------| 92/288  31% [elapsed: 00:00 left: 00:01, 133.75 iters/sec]"
       ]
      },
      {
       "output_type": "stream",
       "stream": "stdout",
       "text": [
        "\r",
        "Loading: |###-------| 93/288  32% [elapsed: 00:00 left: 00:01, 133.70 iters/sec]"
       ]
      },
      {
       "output_type": "stream",
       "stream": "stdout",
       "text": [
        "\r",
        "Loading: |###-------| 94/288  32% [elapsed: 00:00 left: 00:01, 133.80 iters/sec]"
       ]
      },
      {
       "output_type": "stream",
       "stream": "stdout",
       "text": [
        "\r",
        "Loading: |###-------| 95/288  32% [elapsed: 00:00 left: 00:01, 134.73 iters/sec]"
       ]
      },
      {
       "output_type": "stream",
       "stream": "stdout",
       "text": [
        "\r",
        "Loading: |###-------| 96/288  33% [elapsed: 00:00 left: 00:01, 135.36 iters/sec]"
       ]
      },
      {
       "output_type": "stream",
       "stream": "stdout",
       "text": [
        "\r",
        "Loading: |###-------| 97/288  33% [elapsed: 00:00 left: 00:01, 136.23 iters/sec]"
       ]
      },
      {
       "output_type": "stream",
       "stream": "stdout",
       "text": [
        "\r",
        "Loading: |###-------| 98/288  34% [elapsed: 00:00 left: 00:01, 136.54 iters/sec]"
       ]
      },
      {
       "output_type": "stream",
       "stream": "stdout",
       "text": [
        "\r",
        "Loading: |###-------| 99/288  34% [elapsed: 00:00 left: 00:01, 137.33 iters/sec]"
       ]
      },
      {
       "output_type": "stream",
       "stream": "stdout",
       "text": [
        "\r",
        "Loading: |###-------| 100/288  34% [elapsed: 00:00 left: 00:01, 138.25 iters/sec]"
       ]
      },
      {
       "output_type": "stream",
       "stream": "stdout",
       "text": [
        "\r",
        "Loading: |###-------| 101/288  35% [elapsed: 00:00 left: 00:01, 139.16 iters/sec]"
       ]
      },
      {
       "output_type": "stream",
       "stream": "stdout",
       "text": [
        "\r",
        "Loading: |###-------| 102/288  35% [elapsed: 00:00 left: 00:01, 139.96 iters/sec]"
       ]
      },
      {
       "output_type": "stream",
       "stream": "stdout",
       "text": [
        "\r",
        "Loading: |###-------| 103/288  35% [elapsed: 00:00 left: 00:01, 140.60 iters/sec]"
       ]
      },
      {
       "output_type": "stream",
       "stream": "stdout",
       "text": [
        "\r",
        "Loading: |###-------| 104/288  36% [elapsed: 00:00 left: 00:01, 139.47 iters/sec]"
       ]
      },
      {
       "output_type": "stream",
       "stream": "stdout",
       "text": [
        "\r",
        "Loading: |###-------| 105/288  36% [elapsed: 00:00 left: 00:01, 137.91 iters/sec]"
       ]
      },
      {
       "output_type": "stream",
       "stream": "stdout",
       "text": [
        "\r",
        "Loading: |###-------| 106/288  36% [elapsed: 00:00 left: 00:01, 138.71 iters/sec]"
       ]
      },
      {
       "output_type": "stream",
       "stream": "stdout",
       "text": [
        "\r",
        "Loading: |###-------| 107/288  37% [elapsed: 00:00 left: 00:01, 138.70 iters/sec]"
       ]
      },
      {
       "output_type": "stream",
       "stream": "stdout",
       "text": [
        "\r",
        "Loading: |###-------| 108/288  37% [elapsed: 00:00 left: 00:01, 139.61 iters/sec]"
       ]
      },
      {
       "output_type": "stream",
       "stream": "stdout",
       "text": [
        "\r",
        "Loading: |###-------| 109/288  37% [elapsed: 00:00 left: 00:01, 140.49 iters/sec]"
       ]
      },
      {
       "output_type": "stream",
       "stream": "stdout",
       "text": [
        "\r",
        "Loading: |###-------| 110/288  38% [elapsed: 00:00 left: 00:01, 140.59 iters/sec]"
       ]
      },
      {
       "output_type": "stream",
       "stream": "stdout",
       "text": [
        "\r",
        "Loading: |###-------| 111/288  38% [elapsed: 00:00 left: 00:01, 139.13 iters/sec]"
       ]
      },
      {
       "output_type": "stream",
       "stream": "stdout",
       "text": [
        "\r",
        "Loading: |###-------| 112/288  38% [elapsed: 00:00 left: 00:01, 139.58 iters/sec]"
       ]
      },
      {
       "output_type": "stream",
       "stream": "stdout",
       "text": [
        "\r",
        "Loading: |###-------| 113/288  39% [elapsed: 00:00 left: 00:01, 140.33 iters/sec]"
       ]
      },
      {
       "output_type": "stream",
       "stream": "stdout",
       "text": [
        "\r",
        "Loading: |###-------| 114/288  39% [elapsed: 00:00 left: 00:01, 140.87 iters/sec]"
       ]
      },
      {
       "output_type": "stream",
       "stream": "stdout",
       "text": [
        "\r",
        "Loading: |###-------| 115/288  39% [elapsed: 00:00 left: 00:01, 141.47 iters/sec]"
       ]
      },
      {
       "output_type": "stream",
       "stream": "stdout",
       "text": [
        "\r",
        "Loading: |####------| 116/288  40% [elapsed: 00:00 left: 00:01, 141.26 iters/sec]"
       ]
      },
      {
       "output_type": "stream",
       "stream": "stdout",
       "text": [
        "\r",
        "Loading: |####------| 117/288  40% [elapsed: 00:00 left: 00:01, 141.83 iters/sec]"
       ]
      },
      {
       "output_type": "stream",
       "stream": "stdout",
       "text": [
        "\r",
        "Loading: |####------| 118/288  40% [elapsed: 00:00 left: 00:01, 142.65 iters/sec]"
       ]
      },
      {
       "output_type": "stream",
       "stream": "stdout",
       "text": [
        "\r",
        "Loading: |####------| 119/288  41% [elapsed: 00:00 left: 00:01, 143.31 iters/sec]"
       ]
      },
      {
       "output_type": "stream",
       "stream": "stdout",
       "text": [
        "\r",
        "Loading: |####------| 120/288  41% [elapsed: 00:00 left: 00:01, 143.98 iters/sec]"
       ]
      },
      {
       "output_type": "stream",
       "stream": "stdout",
       "text": [
        "\r",
        "Loading: |####------| 121/288  42% [elapsed: 00:00 left: 00:01, 144.72 iters/sec]"
       ]
      },
      {
       "output_type": "stream",
       "stream": "stdout",
       "text": [
        "\r",
        "Loading: |####------| 122/288  42% [elapsed: 00:00 left: 00:01, 144.75 iters/sec]"
       ]
      },
      {
       "output_type": "stream",
       "stream": "stdout",
       "text": [
        "\r",
        "Loading: |####------| 123/288  42% [elapsed: 00:00 left: 00:01, 145.41 iters/sec]"
       ]
      },
      {
       "output_type": "stream",
       "stream": "stdout",
       "text": [
        "\r",
        "Loading: |####------| 124/288  43% [elapsed: 00:00 left: 00:01, 146.04 iters/sec]"
       ]
      },
      {
       "output_type": "stream",
       "stream": "stdout",
       "text": [
        "\r",
        "Loading: |####------| 125/288  43% [elapsed: 00:00 left: 00:01, 146.45 iters/sec]"
       ]
      },
      {
       "output_type": "stream",
       "stream": "stdout",
       "text": [
        "\r",
        "Loading: |####------| 126/288  43% [elapsed: 00:00 left: 00:01, 136.46 iters/sec]"
       ]
      },
      {
       "output_type": "stream",
       "stream": "stdout",
       "text": [
        "\r",
        "Loading: |####------| 127/288  44% [elapsed: 00:00 left: 00:01, 136.99 iters/sec]"
       ]
      },
      {
       "output_type": "stream",
       "stream": "stdout",
       "text": [
        "\r",
        "Loading: |####------| 128/288  44% [elapsed: 00:00 left: 00:01, 137.43 iters/sec]"
       ]
      },
      {
       "output_type": "stream",
       "stream": "stdout",
       "text": [
        "\r",
        "Loading: |####------| 129/288  44% [elapsed: 00:00 left: 00:01, 135.10 iters/sec]"
       ]
      },
      {
       "output_type": "stream",
       "stream": "stdout",
       "text": [
        "\r",
        "Loading: |####------| 130/288  45% [elapsed: 00:00 left: 00:01, 134.78 iters/sec]"
       ]
      },
      {
       "output_type": "stream",
       "stream": "stdout",
       "text": [
        "\r",
        "Loading: |####------| 131/288  45% [elapsed: 00:00 left: 00:01, 135.03 iters/sec]"
       ]
      },
      {
       "output_type": "stream",
       "stream": "stdout",
       "text": [
        "\r",
        "Loading: |####------| 132/288  45% [elapsed: 00:00 left: 00:01, 134.79 iters/sec]"
       ]
      },
      {
       "output_type": "stream",
       "stream": "stdout",
       "text": [
        "\r",
        "Loading: |####------| 133/288  46% [elapsed: 00:00 left: 00:01, 134.61 iters/sec]"
       ]
      },
      {
       "output_type": "stream",
       "stream": "stdout",
       "text": [
        "\r",
        "Loading: |####------| 134/288  46% [elapsed: 00:00 left: 00:01, 134.53 iters/sec]"
       ]
      },
      {
       "output_type": "stream",
       "stream": "stdout",
       "text": [
        "\r",
        "Loading: |####------| 135/288  46% [elapsed: 00:01 left: 00:01, 135.00 iters/sec]"
       ]
      },
      {
       "output_type": "stream",
       "stream": "stdout",
       "text": [
        "\r",
        "Loading: |####------| 136/288  47% [elapsed: 00:01 left: 00:01, 135.55 iters/sec]"
       ]
      },
      {
       "output_type": "stream",
       "stream": "stdout",
       "text": [
        "\r",
        "Loading: |####------| 137/288  47% [elapsed: 00:01 left: 00:01, 136.19 iters/sec]"
       ]
      },
      {
       "output_type": "stream",
       "stream": "stdout",
       "text": [
        "\r",
        "Loading: |####------| 138/288  47% [elapsed: 00:01 left: 00:01, 135.91 iters/sec]"
       ]
      },
      {
       "output_type": "stream",
       "stream": "stdout",
       "text": [
        "\r",
        "Loading: |####------| 139/288  48% [elapsed: 00:01 left: 00:01, 136.40 iters/sec]"
       ]
      },
      {
       "output_type": "stream",
       "stream": "stdout",
       "text": [
        "\r",
        "Loading: |####------| 140/288  48% [elapsed: 00:01 left: 00:01, 136.92 iters/sec]"
       ]
      },
      {
       "output_type": "stream",
       "stream": "stdout",
       "text": [
        "\r",
        "Loading: |####------| 141/288  48% [elapsed: 00:01 left: 00:01, 135.96 iters/sec]"
       ]
      },
      {
       "output_type": "stream",
       "stream": "stdout",
       "text": [
        "\r",
        "Loading: |####------| 142/288  49% [elapsed: 00:01 left: 00:01, 136.09 iters/sec]"
       ]
      },
      {
       "output_type": "stream",
       "stream": "stdout",
       "text": [
        "\r",
        "Loading: |####------| 143/288  49% [elapsed: 00:01 left: 00:01, 136.18 iters/sec]"
       ]
      },
      {
       "output_type": "stream",
       "stream": "stdout",
       "text": [
        "\r",
        "Loading: |#####-----| 144/288  50% [elapsed: 00:01 left: 00:01, 135.91 iters/sec]"
       ]
      },
      {
       "output_type": "stream",
       "stream": "stdout",
       "text": [
        "\r",
        "Loading: |#####-----| 145/288  50% [elapsed: 00:01 left: 00:01, 136.40 iters/sec]"
       ]
      },
      {
       "output_type": "stream",
       "stream": "stdout",
       "text": [
        "\r",
        "Loading: |#####-----| 146/288  50% [elapsed: 00:01 left: 00:01, 136.79 iters/sec]"
       ]
      },
      {
       "output_type": "stream",
       "stream": "stdout",
       "text": [
        "\r",
        "Loading: |#####-----| 147/288  51% [elapsed: 00:01 left: 00:01, 136.43 iters/sec]"
       ]
      },
      {
       "output_type": "stream",
       "stream": "stdout",
       "text": [
        "\r",
        "Loading: |#####-----| 148/288  51% [elapsed: 00:01 left: 00:01, 136.71 iters/sec]"
       ]
      },
      {
       "output_type": "stream",
       "stream": "stdout",
       "text": [
        "\r",
        "Loading: |#####-----| 149/288  51% [elapsed: 00:01 left: 00:01, 136.75 iters/sec]"
       ]
      },
      {
       "output_type": "stream",
       "stream": "stdout",
       "text": [
        "\r",
        "Loading: |#####-----| 150/288  52% [elapsed: 00:01 left: 00:01, 136.35 iters/sec]"
       ]
      },
      {
       "output_type": "stream",
       "stream": "stdout",
       "text": [
        "\r",
        "Loading: |#####-----| 151/288  52% [elapsed: 00:01 left: 00:01, 135.85 iters/sec]"
       ]
      },
      {
       "output_type": "stream",
       "stream": "stdout",
       "text": [
        "\r",
        "Loading: |#####-----| 152/288  52% [elapsed: 00:01 left: 00:01, 135.29 iters/sec]"
       ]
      },
      {
       "output_type": "stream",
       "stream": "stdout",
       "text": [
        "\r",
        "Loading: |#####-----| 153/288  53% [elapsed: 00:01 left: 00:01, 134.95 iters/sec]"
       ]
      },
      {
       "output_type": "stream",
       "stream": "stdout",
       "text": [
        "\r",
        "Loading: |#####-----| 154/288  53% [elapsed: 00:01 left: 00:00, 134.38 iters/sec]"
       ]
      },
      {
       "output_type": "stream",
       "stream": "stdout",
       "text": [
        "\r",
        "Loading: |#####-----| 155/288  53% [elapsed: 00:01 left: 00:00, 133.94 iters/sec]"
       ]
      },
      {
       "output_type": "stream",
       "stream": "stdout",
       "text": [
        "\r",
        "Loading: |#####-----| 156/288  54% [elapsed: 00:01 left: 00:00, 133.42 iters/sec]"
       ]
      },
      {
       "output_type": "stream",
       "stream": "stdout",
       "text": [
        "\r",
        "Loading: |#####-----| 157/288  54% [elapsed: 00:01 left: 00:00, 133.84 iters/sec]"
       ]
      },
      {
       "output_type": "stream",
       "stream": "stdout",
       "text": [
        "\r",
        "Loading: |#####-----| 158/288  54% [elapsed: 00:01 left: 00:00, 134.17 iters/sec]"
       ]
      },
      {
       "output_type": "stream",
       "stream": "stdout",
       "text": [
        "\r",
        "Loading: |#####-----| 159/288  55% [elapsed: 00:01 left: 00:00, 133.77 iters/sec]"
       ]
      },
      {
       "output_type": "stream",
       "stream": "stdout",
       "text": [
        "\r",
        "Loading: |#####-----| 160/288  55% [elapsed: 00:01 left: 00:00, 132.28 iters/sec]"
       ]
      },
      {
       "output_type": "stream",
       "stream": "stdout",
       "text": [
        "\r",
        "Loading: |#####-----| 161/288  55% [elapsed: 00:01 left: 00:00, 131.57 iters/sec]"
       ]
      },
      {
       "output_type": "stream",
       "stream": "stdout",
       "text": [
        "\r",
        "Loading: |#####-----| 162/288  56% [elapsed: 00:01 left: 00:00, 131.55 iters/sec]"
       ]
      },
      {
       "output_type": "stream",
       "stream": "stdout",
       "text": [
        "\r",
        "Loading: |#####-----| 163/288  56% [elapsed: 00:01 left: 00:00, 130.59 iters/sec]"
       ]
      },
      {
       "output_type": "stream",
       "stream": "stdout",
       "text": [
        "\r",
        "Loading: |#####-----| 164/288  56% [elapsed: 00:01 left: 00:00, 131.13 iters/sec]"
       ]
      },
      {
       "output_type": "stream",
       "stream": "stdout",
       "text": [
        "\r",
        "Loading: |#####-----| 165/288  57% [elapsed: 00:01 left: 00:00, 131.23 iters/sec]"
       ]
      },
      {
       "output_type": "stream",
       "stream": "stdout",
       "text": [
        "\r",
        "Loading: |#####-----| 166/288  57% [elapsed: 00:01 left: 00:00, 131.35 iters/sec]"
       ]
      },
      {
       "output_type": "stream",
       "stream": "stdout",
       "text": [
        "\r",
        "Loading: |#####-----| 167/288  57% [elapsed: 00:01 left: 00:00, 131.28 iters/sec]"
       ]
      },
      {
       "output_type": "stream",
       "stream": "stdout",
       "text": [
        "\r",
        "Loading: |#####-----| 168/288  58% [elapsed: 00:01 left: 00:00, 131.75 iters/sec]"
       ]
      },
      {
       "output_type": "stream",
       "stream": "stdout",
       "text": [
        "\r",
        "Loading: |#####-----| 169/288  58% [elapsed: 00:01 left: 00:00, 131.81 iters/sec]"
       ]
      },
      {
       "output_type": "stream",
       "stream": "stdout",
       "text": [
        "\r",
        "Loading: |#####-----| 170/288  59% [elapsed: 00:01 left: 00:00, 132.00 iters/sec]"
       ]
      },
      {
       "output_type": "stream",
       "stream": "stdout",
       "text": [
        "\r",
        "Loading: |#####-----| 171/288  59% [elapsed: 00:01 left: 00:00, 131.75 iters/sec]"
       ]
      },
      {
       "output_type": "stream",
       "stream": "stdout",
       "text": [
        "\r",
        "Loading: |#####-----| 172/288  59% [elapsed: 00:01 left: 00:00, 131.68 iters/sec]"
       ]
      },
      {
       "output_type": "stream",
       "stream": "stdout",
       "text": [
        "\r",
        "Loading: |######----| 173/288  60% [elapsed: 00:01 left: 00:00, 129.14 iters/sec]"
       ]
      },
      {
       "output_type": "stream",
       "stream": "stdout",
       "text": [
        "\r",
        "Loading: |######----| 174/288  60% [elapsed: 00:01 left: 00:00, 129.38 iters/sec]"
       ]
      },
      {
       "output_type": "stream",
       "stream": "stdout",
       "text": [
        "\r",
        "Loading: |######----| 175/288  60% [elapsed: 00:01 left: 00:00, 129.73 iters/sec]"
       ]
      },
      {
       "output_type": "stream",
       "stream": "stdout",
       "text": [
        "\r",
        "Loading: |######----| 176/288  61% [elapsed: 00:01 left: 00:00, 129.94 iters/sec]"
       ]
      },
      {
       "output_type": "stream",
       "stream": "stdout",
       "text": [
        "\r",
        "Loading: |######----| 177/288  61% [elapsed: 00:01 left: 00:00, 129.55 iters/sec]"
       ]
      },
      {
       "output_type": "stream",
       "stream": "stdout",
       "text": [
        "\r",
        "Loading: |######----| 178/288  61% [elapsed: 00:01 left: 00:00, 129.67 iters/sec]"
       ]
      },
      {
       "output_type": "stream",
       "stream": "stdout",
       "text": [
        "\r",
        "Loading: |######----| 179/288  62% [elapsed: 00:01 left: 00:00, 129.97 iters/sec]"
       ]
      },
      {
       "output_type": "stream",
       "stream": "stdout",
       "text": [
        "\r",
        "Loading: |######----| 180/288  62% [elapsed: 00:01 left: 00:00, 130.24 iters/sec]"
       ]
      },
      {
       "output_type": "stream",
       "stream": "stdout",
       "text": [
        "\r",
        "Loading: |######----| 181/288  62% [elapsed: 00:01 left: 00:00, 130.68 iters/sec]"
       ]
      },
      {
       "output_type": "stream",
       "stream": "stdout",
       "text": [
        "\r",
        "Loading: |######----| 182/288  63% [elapsed: 00:01 left: 00:00, 130.77 iters/sec]"
       ]
      },
      {
       "output_type": "stream",
       "stream": "stdout",
       "text": [
        "\r",
        "Loading: |######----| 183/288  63% [elapsed: 00:01 left: 00:00, 130.41 iters/sec]"
       ]
      },
      {
       "output_type": "stream",
       "stream": "stdout",
       "text": [
        "\r",
        "Loading: |######----| 184/288  63% [elapsed: 00:01 left: 00:00, 130.88 iters/sec]"
       ]
      },
      {
       "output_type": "stream",
       "stream": "stdout",
       "text": [
        "\r",
        "Loading: |######----| 185/288  64% [elapsed: 00:01 left: 00:00, 130.72 iters/sec]"
       ]
      },
      {
       "output_type": "stream",
       "stream": "stdout",
       "text": [
        "\r",
        "Loading: |######----| 186/288  64% [elapsed: 00:01 left: 00:00, 130.90 iters/sec]"
       ]
      },
      {
       "output_type": "stream",
       "stream": "stdout",
       "text": [
        "\r",
        "Loading: |######----| 187/288  64% [elapsed: 00:01 left: 00:00, 131.23 iters/sec]"
       ]
      },
      {
       "output_type": "stream",
       "stream": "stdout",
       "text": [
        "\r",
        "Loading: |######----| 188/288  65% [elapsed: 00:01 left: 00:00, 131.63 iters/sec]"
       ]
      },
      {
       "output_type": "stream",
       "stream": "stdout",
       "text": [
        "\r",
        "Loading: |######----| 189/288  65% [elapsed: 00:01 left: 00:00, 131.27 iters/sec]"
       ]
      },
      {
       "output_type": "stream",
       "stream": "stdout",
       "text": [
        "\r",
        "Loading: |######----| 190/288  65% [elapsed: 00:01 left: 00:00, 131.56 iters/sec]"
       ]
      },
      {
       "output_type": "stream",
       "stream": "stdout",
       "text": [
        "\r",
        "Loading: |######----| 191/288  66% [elapsed: 00:01 left: 00:00, 130.92 iters/sec]"
       ]
      },
      {
       "output_type": "stream",
       "stream": "stdout",
       "text": [
        "\r",
        "Loading: |######----| 192/288  66% [elapsed: 00:01 left: 00:00, 131.26 iters/sec]"
       ]
      },
      {
       "output_type": "stream",
       "stream": "stdout",
       "text": [
        "\r",
        "Loading: |######----| 193/288  67% [elapsed: 00:01 left: 00:00, 131.24 iters/sec]"
       ]
      },
      {
       "output_type": "stream",
       "stream": "stdout",
       "text": [
        "\r",
        "Loading: |######----| 194/288  67% [elapsed: 00:01 left: 00:00, 131.27 iters/sec]"
       ]
      },
      {
       "output_type": "stream",
       "stream": "stdout",
       "text": [
        "\r",
        "Loading: |######----| 195/288  67% [elapsed: 00:01 left: 00:00, 131.54 iters/sec]"
       ]
      },
      {
       "output_type": "stream",
       "stream": "stdout",
       "text": [
        "\r",
        "Loading: |######----| 196/288  68% [elapsed: 00:01 left: 00:00, 130.83 iters/sec]"
       ]
      },
      {
       "output_type": "stream",
       "stream": "stdout",
       "text": [
        "\r",
        "Loading: |######----| 197/288  68% [elapsed: 00:01 left: 00:00, 130.29 iters/sec]"
       ]
      },
      {
       "output_type": "stream",
       "stream": "stdout",
       "text": [
        "\r",
        "Loading: |######----| 198/288  68% [elapsed: 00:01 left: 00:00, 130.77 iters/sec]"
       ]
      },
      {
       "output_type": "stream",
       "stream": "stdout",
       "text": [
        "\r",
        "Loading: |######----| 199/288  69% [elapsed: 00:01 left: 00:00, 130.56 iters/sec]"
       ]
      },
      {
       "output_type": "stream",
       "stream": "stdout",
       "text": [
        "\r",
        "Loading: |######----| 200/288  69% [elapsed: 00:01 left: 00:00, 130.92 iters/sec]"
       ]
      },
      {
       "output_type": "stream",
       "stream": "stdout",
       "text": [
        "\r",
        "Loading: |######----| 201/288  69% [elapsed: 00:01 left: 00:00, 131.23 iters/sec]"
       ]
      },
      {
       "output_type": "stream",
       "stream": "stdout",
       "text": [
        "\r",
        "Loading: |#######---| 202/288  70% [elapsed: 00:01 left: 00:00, 131.43 iters/sec]"
       ]
      },
      {
       "output_type": "stream",
       "stream": "stdout",
       "text": [
        "\r",
        "Loading: |#######---| 203/288  70% [elapsed: 00:01 left: 00:00, 129.38 iters/sec]"
       ]
      },
      {
       "output_type": "stream",
       "stream": "stdout",
       "text": [
        "\r",
        "Loading: |#######---| 204/288  70% [elapsed: 00:01 left: 00:00, 129.63 iters/sec]"
       ]
      },
      {
       "output_type": "stream",
       "stream": "stdout",
       "text": [
        "\r",
        "Loading: |#######---| 205/288  71% [elapsed: 00:01 left: 00:00, 130.01 iters/sec]"
       ]
      },
      {
       "output_type": "stream",
       "stream": "stdout",
       "text": [
        "\r",
        "Loading: |#######---| 206/288  71% [elapsed: 00:01 left: 00:00, 130.37 iters/sec]"
       ]
      },
      {
       "output_type": "stream",
       "stream": "stdout",
       "text": [
        "\r",
        "Loading: |#######---| 207/288  71% [elapsed: 00:01 left: 00:00, 130.57 iters/sec]"
       ]
      },
      {
       "output_type": "stream",
       "stream": "stdout",
       "text": [
        "\r",
        "Loading: |#######---| 208/288  72% [elapsed: 00:01 left: 00:00, 130.83 iters/sec]"
       ]
      },
      {
       "output_type": "stream",
       "stream": "stdout",
       "text": [
        "\r",
        "Loading: |#######---| 209/288  72% [elapsed: 00:01 left: 00:00, 130.44 iters/sec]"
       ]
      },
      {
       "output_type": "stream",
       "stream": "stdout",
       "text": [
        "\r",
        "Loading: |#######---| 210/288  72% [elapsed: 00:01 left: 00:00, 129.94 iters/sec]"
       ]
      },
      {
       "output_type": "stream",
       "stream": "stdout",
       "text": [
        "\r",
        "Loading: |#######---| 211/288  73% [elapsed: 00:01 left: 00:00, 129.13 iters/sec]"
       ]
      },
      {
       "output_type": "stream",
       "stream": "stdout",
       "text": [
        "\r",
        "Loading: |#######---| 212/288  73% [elapsed: 00:01 left: 00:00, 128.67 iters/sec]"
       ]
      },
      {
       "output_type": "stream",
       "stream": "stdout",
       "text": [
        "\r",
        "Loading: |#######---| 213/288  73% [elapsed: 00:01 left: 00:00, 129.06 iters/sec]"
       ]
      },
      {
       "output_type": "stream",
       "stream": "stdout",
       "text": [
        "\r",
        "Loading: |#######---| 214/288  74% [elapsed: 00:01 left: 00:00, 129.37 iters/sec]"
       ]
      },
      {
       "output_type": "stream",
       "stream": "stdout",
       "text": [
        "\r",
        "Loading: |#######---| 215/288  74% [elapsed: 00:01 left: 00:00, 129.63 iters/sec]"
       ]
      },
      {
       "output_type": "stream",
       "stream": "stdout",
       "text": [
        "\r",
        "Loading: |#######---| 216/288  75% [elapsed: 00:01 left: 00:00, 129.99 iters/sec]"
       ]
      },
      {
       "output_type": "stream",
       "stream": "stdout",
       "text": [
        "\r",
        "Loading: |#######---| 217/288  75% [elapsed: 00:01 left: 00:00, 130.36 iters/sec]"
       ]
      },
      {
       "output_type": "stream",
       "stream": "stdout",
       "text": [
        "\r",
        "Loading: |#######---| 218/288  75% [elapsed: 00:01 left: 00:00, 130.73 iters/sec]"
       ]
      },
      {
       "output_type": "stream",
       "stream": "stdout",
       "text": [
        "\r",
        "Loading: |#######---| 219/288  76% [elapsed: 00:01 left: 00:00, 131.10 iters/sec]"
       ]
      },
      {
       "output_type": "stream",
       "stream": "stdout",
       "text": [
        "\r",
        "Loading: |#######---| 220/288  76% [elapsed: 00:01 left: 00:00, 131.34 iters/sec]"
       ]
      },
      {
       "output_type": "stream",
       "stream": "stdout",
       "text": [
        "\r",
        "Loading: |#######---| 221/288  76% [elapsed: 00:01 left: 00:00, 131.60 iters/sec]"
       ]
      },
      {
       "output_type": "stream",
       "stream": "stdout",
       "text": [
        "\r",
        "Loading: |#######---| 222/288  77% [elapsed: 00:01 left: 00:00, 131.86 iters/sec]"
       ]
      },
      {
       "output_type": "stream",
       "stream": "stdout",
       "text": [
        "\r",
        "Loading: |#######---| 223/288  77% [elapsed: 00:01 left: 00:00, 132.16 iters/sec]"
       ]
      },
      {
       "output_type": "stream",
       "stream": "stdout",
       "text": [
        "\r",
        "Loading: |#######---| 224/288  77% [elapsed: 00:01 left: 00:00, 132.29 iters/sec]"
       ]
      },
      {
       "output_type": "stream",
       "stream": "stdout",
       "text": [
        "\r",
        "Loading: |#######---| 225/288  78% [elapsed: 00:01 left: 00:00, 131.48 iters/sec]"
       ]
      },
      {
       "output_type": "stream",
       "stream": "stdout",
       "text": [
        "\r",
        "Loading: |#######---| 226/288  78% [elapsed: 00:01 left: 00:00, 131.12 iters/sec]"
       ]
      },
      {
       "output_type": "stream",
       "stream": "stdout",
       "text": [
        "\r",
        "Loading: |#######---| 227/288  78% [elapsed: 00:01 left: 00:00, 131.42 iters/sec]"
       ]
      },
      {
       "output_type": "stream",
       "stream": "stdout",
       "text": [
        "\r",
        "Loading: |#######---| 228/288  79% [elapsed: 00:01 left: 00:00, 131.71 iters/sec]"
       ]
      },
      {
       "output_type": "stream",
       "stream": "stdout",
       "text": [
        "\r",
        "Loading: |#######---| 229/288  79% [elapsed: 00:01 left: 00:00, 132.01 iters/sec]"
       ]
      },
      {
       "output_type": "stream",
       "stream": "stdout",
       "text": [
        "\r",
        "Loading: |#######---| 230/288  79% [elapsed: 00:01 left: 00:00, 131.88 iters/sec]"
       ]
      },
      {
       "output_type": "stream",
       "stream": "stdout",
       "text": [
        "\r",
        "Loading: |########--| 231/288  80% [elapsed: 00:01 left: 00:00, 131.99 iters/sec]"
       ]
      },
      {
       "output_type": "stream",
       "stream": "stdout",
       "text": [
        "\r",
        "Loading: |########--| 232/288  80% [elapsed: 00:01 left: 00:00, 131.92 iters/sec]"
       ]
      },
      {
       "output_type": "stream",
       "stream": "stdout",
       "text": [
        "\r",
        "Loading: |########--| 233/288  80% [elapsed: 00:01 left: 00:00, 132.01 iters/sec]"
       ]
      },
      {
       "output_type": "stream",
       "stream": "stdout",
       "text": [
        "\r",
        "Loading: |########--| 234/288  81% [elapsed: 00:01 left: 00:00, 132.09 iters/sec]"
       ]
      },
      {
       "output_type": "stream",
       "stream": "stdout",
       "text": [
        "\r",
        "Loading: |########--| 235/288  81% [elapsed: 00:01 left: 00:00, 131.97 iters/sec]"
       ]
      },
      {
       "output_type": "stream",
       "stream": "stdout",
       "text": [
        "\r",
        "Loading: |########--| 236/288  81% [elapsed: 00:01 left: 00:00, 131.83 iters/sec]"
       ]
      },
      {
       "output_type": "stream",
       "stream": "stdout",
       "text": [
        "\r",
        "Loading: |########--| 237/288  82% [elapsed: 00:01 left: 00:00, 131.95 iters/sec]"
       ]
      },
      {
       "output_type": "stream",
       "stream": "stdout",
       "text": [
        "\r",
        "Loading: |########--| 238/288  82% [elapsed: 00:01 left: 00:00, 131.03 iters/sec]"
       ]
      },
      {
       "output_type": "stream",
       "stream": "stdout",
       "text": [
        "\r",
        "Loading: |########--| 239/288  82% [elapsed: 00:01 left: 00:00, 131.35 iters/sec]"
       ]
      },
      {
       "output_type": "stream",
       "stream": "stdout",
       "text": [
        "\r",
        "Loading: |########--| 240/288  83% [elapsed: 00:01 left: 00:00, 131.64 iters/sec]"
       ]
      },
      {
       "output_type": "stream",
       "stream": "stdout",
       "text": [
        "\r",
        "Loading: |########--| 241/288  83% [elapsed: 00:01 left: 00:00, 131.96 iters/sec]"
       ]
      },
      {
       "output_type": "stream",
       "stream": "stdout",
       "text": [
        "\r",
        "Loading: |########--| 242/288  84% [elapsed: 00:01 left: 00:00, 132.13 iters/sec]"
       ]
      },
      {
       "output_type": "stream",
       "stream": "stdout",
       "text": [
        "\r",
        "Loading: |########--| 243/288  84% [elapsed: 00:01 left: 00:00, 130.05 iters/sec]"
       ]
      },
      {
       "output_type": "stream",
       "stream": "stdout",
       "text": [
        "\r",
        "Loading: |########--| 244/288  84% [elapsed: 00:01 left: 00:00, 130.19 iters/sec]"
       ]
      },
      {
       "output_type": "stream",
       "stream": "stdout",
       "text": [
        "\r",
        "Loading: |########--| 245/288  85% [elapsed: 00:01 left: 00:00, 130.56 iters/sec]"
       ]
      },
      {
       "output_type": "stream",
       "stream": "stdout",
       "text": [
        "\r",
        "Loading: |########--| 246/288  85% [elapsed: 00:01 left: 00:00, 130.94 iters/sec]"
       ]
      },
      {
       "output_type": "stream",
       "stream": "stdout",
       "text": [
        "\r",
        "Loading: |########--| 247/288  85% [elapsed: 00:01 left: 00:00, 129.83 iters/sec]"
       ]
      },
      {
       "output_type": "stream",
       "stream": "stdout",
       "text": [
        "\r",
        "Loading: |########--| 248/288  86% [elapsed: 00:01 left: 00:00, 128.78 iters/sec]"
       ]
      },
      {
       "output_type": "stream",
       "stream": "stdout",
       "text": [
        "\r",
        "Loading: |########--| 249/288  86% [elapsed: 00:01 left: 00:00, 126.86 iters/sec]"
       ]
      },
      {
       "output_type": "stream",
       "stream": "stdout",
       "text": [
        "\r",
        "Loading: |########--| 250/288  86% [elapsed: 00:01 left: 00:00, 126.03 iters/sec]"
       ]
      },
      {
       "output_type": "stream",
       "stream": "stdout",
       "text": [
        "\r",
        "Loading: |########--| 251/288  87% [elapsed: 00:01 left: 00:00, 126.38 iters/sec]"
       ]
      },
      {
       "output_type": "stream",
       "stream": "stdout",
       "text": [
        "\r",
        "Loading: |########--| 252/288  87% [elapsed: 00:01 left: 00:00, 126.47 iters/sec]"
       ]
      },
      {
       "output_type": "stream",
       "stream": "stdout",
       "text": [
        "\r",
        "Loading: |########--| 253/288  87% [elapsed: 00:01 left: 00:00, 126.74 iters/sec]"
       ]
      },
      {
       "output_type": "stream",
       "stream": "stdout",
       "text": [
        "\r",
        "Loading: |########--| 254/288  88% [elapsed: 00:02 left: 00:00, 126.85 iters/sec]"
       ]
      },
      {
       "output_type": "stream",
       "stream": "stdout",
       "text": [
        "\r",
        "Loading: |########--| 255/288  88% [elapsed: 00:02 left: 00:00, 127.11 iters/sec]"
       ]
      },
      {
       "output_type": "stream",
       "stream": "stdout",
       "text": [
        "\r",
        "Loading: |########--| 256/288  88% [elapsed: 00:02 left: 00:00, 127.18 iters/sec]"
       ]
      },
      {
       "output_type": "stream",
       "stream": "stdout",
       "text": [
        "\r",
        "Loading: |########--| 257/288  89% [elapsed: 00:02 left: 00:00, 126.81 iters/sec]"
       ]
      },
      {
       "output_type": "stream",
       "stream": "stdout",
       "text": [
        "\r",
        "Loading: |########--| 258/288  89% [elapsed: 00:02 left: 00:00, 127.09 iters/sec]"
       ]
      },
      {
       "output_type": "stream",
       "stream": "stdout",
       "text": [
        "\r",
        "Loading: |########--| 259/288  89% [elapsed: 00:02 left: 00:00, 127.29 iters/sec]"
       ]
      },
      {
       "output_type": "stream",
       "stream": "stdout",
       "text": [
        "\r",
        "Loading: |#########-| 260/288  90% [elapsed: 00:02 left: 00:00, 127.52 iters/sec]"
       ]
      },
      {
       "output_type": "stream",
       "stream": "stdout",
       "text": [
        "\r",
        "Loading: |#########-| 261/288  90% [elapsed: 00:02 left: 00:00, 127.39 iters/sec]"
       ]
      },
      {
       "output_type": "stream",
       "stream": "stdout",
       "text": [
        "\r",
        "Loading: |#########-| 262/288  90% [elapsed: 00:02 left: 00:00, 126.65 iters/sec]"
       ]
      },
      {
       "output_type": "stream",
       "stream": "stdout",
       "text": [
        "\r",
        "Loading: |#########-| 263/288  91% [elapsed: 00:02 left: 00:00, 126.95 iters/sec]"
       ]
      },
      {
       "output_type": "stream",
       "stream": "stdout",
       "text": [
        "\r",
        "Loading: |#########-| 264/288  91% [elapsed: 00:02 left: 00:00, 126.88 iters/sec]"
       ]
      },
      {
       "output_type": "stream",
       "stream": "stdout",
       "text": [
        "\r",
        "Loading: |#########-| 265/288  92% [elapsed: 00:02 left: 00:00, 127.18 iters/sec]"
       ]
      },
      {
       "output_type": "stream",
       "stream": "stdout",
       "text": [
        "\r",
        "Loading: |#########-| 266/288  92% [elapsed: 00:02 left: 00:00, 127.35 iters/sec]"
       ]
      },
      {
       "output_type": "stream",
       "stream": "stdout",
       "text": [
        "\r",
        "Loading: |#########-| 267/288  92% [elapsed: 00:02 left: 00:00, 127.51 iters/sec]"
       ]
      },
      {
       "output_type": "stream",
       "stream": "stdout",
       "text": [
        "\r",
        "Loading: |#########-| 268/288  93% [elapsed: 00:02 left: 00:00, 127.65 iters/sec]"
       ]
      },
      {
       "output_type": "stream",
       "stream": "stdout",
       "text": [
        "\r",
        "Loading: |#########-| 269/288  93% [elapsed: 00:02 left: 00:00, 128.02 iters/sec]"
       ]
      },
      {
       "output_type": "stream",
       "stream": "stdout",
       "text": [
        "\r",
        "Loading: |#########-| 270/288  93% [elapsed: 00:02 left: 00:00, 128.33 iters/sec]"
       ]
      },
      {
       "output_type": "stream",
       "stream": "stdout",
       "text": [
        "\r",
        "Loading: |#########-| 271/288  94% [elapsed: 00:02 left: 00:00, 128.42 iters/sec]"
       ]
      },
      {
       "output_type": "stream",
       "stream": "stdout",
       "text": [
        "\r",
        "Loading: |#########-| 272/288  94% [elapsed: 00:02 left: 00:00, 128.63 iters/sec]"
       ]
      },
      {
       "output_type": "stream",
       "stream": "stdout",
       "text": [
        "\r",
        "Loading: |#########-| 273/288  94% [elapsed: 00:02 left: 00:00, 128.93 iters/sec]"
       ]
      },
      {
       "output_type": "stream",
       "stream": "stdout",
       "text": [
        "\r",
        "Loading: |#########-| 274/288  95% [elapsed: 00:02 left: 00:00, 129.24 iters/sec]"
       ]
      },
      {
       "output_type": "stream",
       "stream": "stdout",
       "text": [
        "\r",
        "Loading: |#########-| 275/288  95% [elapsed: 00:02 left: 00:00, 129.22 iters/sec]"
       ]
      },
      {
       "output_type": "stream",
       "stream": "stdout",
       "text": [
        "\r",
        "Loading: |#########-| 276/288  95% [elapsed: 00:02 left: 00:00, 129.50 iters/sec]"
       ]
      },
      {
       "output_type": "stream",
       "stream": "stdout",
       "text": [
        "\r",
        "Loading: |#########-| 277/288  96% [elapsed: 00:02 left: 00:00, 129.81 iters/sec]"
       ]
      },
      {
       "output_type": "stream",
       "stream": "stdout",
       "text": [
        "\r",
        "Loading: |#########-| 278/288  96% [elapsed: 00:02 left: 00:00, 129.04 iters/sec]"
       ]
      },
      {
       "output_type": "stream",
       "stream": "stdout",
       "text": [
        "\r",
        "Loading: |#########-| 279/288  96% [elapsed: 00:02 left: 00:00, 128.86 iters/sec]"
       ]
      },
      {
       "output_type": "stream",
       "stream": "stdout",
       "text": [
        "\r",
        "Loading: |#########-| 280/288  97% [elapsed: 00:02 left: 00:00, 128.96 iters/sec]"
       ]
      },
      {
       "output_type": "stream",
       "stream": "stdout",
       "text": [
        "\r",
        "Loading: |#########-| 281/288  97% [elapsed: 00:02 left: 00:00, 129.22 iters/sec]"
       ]
      },
      {
       "output_type": "stream",
       "stream": "stdout",
       "text": [
        "\r",
        "Loading: |#########-| 282/288  97% [elapsed: 00:02 left: 00:00, 129.45 iters/sec]"
       ]
      },
      {
       "output_type": "stream",
       "stream": "stdout",
       "text": [
        "\r",
        "Loading: |#########-| 283/288  98% [elapsed: 00:02 left: 00:00, 129.49 iters/sec]"
       ]
      },
      {
       "output_type": "stream",
       "stream": "stdout",
       "text": [
        "\r",
        "Loading: |#########-| 284/288  98% [elapsed: 00:02 left: 00:00, 129.53 iters/sec]"
       ]
      },
      {
       "output_type": "stream",
       "stream": "stdout",
       "text": [
        "\r",
        "Loading: |#########-| 285/288  98% [elapsed: 00:02 left: 00:00, 129.62 iters/sec]"
       ]
      },
      {
       "output_type": "stream",
       "stream": "stdout",
       "text": [
        "\r",
        "Loading: |#########-| 286/288  99% [elapsed: 00:02 left: 00:00, 129.45 iters/sec]"
       ]
      },
      {
       "output_type": "stream",
       "stream": "stdout",
       "text": [
        "\r",
        "Loading: |#########-| 287/288  99% [elapsed: 00:02 left: 00:00, 128.89 iters/sec]"
       ]
      },
      {
       "output_type": "stream",
       "stream": "stdout",
       "text": [
        "\r",
        "Loading: |##########| 288/288 100% [elapsed: 00:02 left: 00:00, 128.38 iters/sec]"
       ]
      },
      {
       "output_type": "stream",
       "stream": "stdout",
       "text": [
        "\r",
        "                                                                                 "
       ]
      },
      {
       "output_type": "stream",
       "stream": "stdout",
       "text": [
        "\r",
        "155   search                    (s)"
       ]
      },
      {
       "output_type": "stream",
       "stream": "stdout",
       "text": [
        "\n",
        "117   login                     (l)\n",
        "99    other                     (o)\n",
        "75    registration              (r)\n",
        "39    password/login recovery   (p)\n",
        "34    join mailing list         (m)\n",
        "33    contact                   (c)\n",
        "\n",
        "Total form count: 552\n"
       ]
      }
     ],
     "prompt_number": 2
    },
    {
     "cell_type": "code",
     "collapsed": false,
     "input": [
      "TRAIN_SIZE = 400\n",
      "\n",
      "X, y = storage.get_Xy(verbose=True)\n",
      "X_train, X_test, y_train, y_test = X[:TRAIN_SIZE], X[TRAIN_SIZE:], y[:TRAIN_SIZE], y[TRAIN_SIZE:]"
     ],
     "language": "python",
     "metadata": {},
     "outputs": [
      {
       "output_type": "stream",
       "stream": "stdout",
       "text": [
        "\r",
        "Loading: |----------| 0/288   0% [elapsed: 00:00 left: ?, ? iters/sec]"
       ]
      },
      {
       "output_type": "stream",
       "stream": "stdout",
       "text": [
        "\r",
        "Loading: |----------| 1/288   0% [elapsed: 00:00 left: 00:01, 224.97 iters/sec]"
       ]
      },
      {
       "output_type": "stream",
       "stream": "stdout",
       "text": [
        "\r",
        "Loading: |----------| 2/288   0% [elapsed: 00:00 left: 00:01, 181.95 iters/sec]"
       ]
      },
      {
       "output_type": "stream",
       "stream": "stdout",
       "text": [
        "\r",
        "Loading: |----------| 3/288   1% [elapsed: 00:00 left: 00:02, 136.57 iters/sec]"
       ]
      },
      {
       "output_type": "stream",
       "stream": "stdout",
       "text": [
        "\r",
        "Loading: |----------| 4/288   1% [elapsed: 00:00 left: 00:01, 160.58 iters/sec]"
       ]
      },
      {
       "output_type": "stream",
       "stream": "stdout",
       "text": [
        "\r",
        "Loading: |----------| 5/288   1% [elapsed: 00:00 left: 00:02, 122.55 iters/sec]"
       ]
      },
      {
       "output_type": "stream",
       "stream": "stdout",
       "text": [
        "\r",
        "Loading: |----------| 6/288   2% [elapsed: 00:00 left: 00:02, 135.28 iters/sec]"
       ]
      },
      {
       "output_type": "stream",
       "stream": "stdout",
       "text": [
        "\r",
        "Loading: |----------| 7/288   2% [elapsed: 00:00 left: 00:01, 147.32 iters/sec]"
       ]
      },
      {
       "output_type": "stream",
       "stream": "stdout",
       "text": [
        "\r",
        "Loading: |----------| 8/288   2% [elapsed: 00:00 left: 00:01, 157.79 iters/sec]"
       ]
      },
      {
       "output_type": "stream",
       "stream": "stdout",
       "text": [
        "\r",
        "Loading: |----------| 9/288   3% [elapsed: 00:00 left: 00:01, 140.86 iters/sec]"
       ]
      },
      {
       "output_type": "stream",
       "stream": "stdout",
       "text": [
        "\r",
        "Loading: |----------| 10/288   3% [elapsed: 00:00 left: 00:02, 125.68 iters/sec]"
       ]
      },
      {
       "output_type": "stream",
       "stream": "stdout",
       "text": [
        "\r",
        "Loading: |----------| 11/288   3% [elapsed: 00:00 left: 00:02, 133.19 iters/sec]"
       ]
      },
      {
       "output_type": "stream",
       "stream": "stdout",
       "text": [
        "\r",
        "Loading: |----------| 12/288   4% [elapsed: 00:00 left: 00:01, 138.49 iters/sec]"
       ]
      },
      {
       "output_type": "stream",
       "stream": "stdout",
       "text": [
        "\r",
        "Loading: |----------| 13/288   4% [elapsed: 00:00 left: 00:02, 126.41 iters/sec]"
       ]
      },
      {
       "output_type": "stream",
       "stream": "stdout",
       "text": [
        "\r",
        "Loading: |----------| 14/288   4% [elapsed: 00:00 left: 00:02, 128.23 iters/sec]"
       ]
      },
      {
       "output_type": "stream",
       "stream": "stdout",
       "text": [
        "\r",
        "Loading: |----------| 15/288   5% [elapsed: 00:00 left: 00:02, 128.59 iters/sec]"
       ]
      },
      {
       "output_type": "stream",
       "stream": "stdout",
       "text": [
        "\r",
        "Loading: |----------| 16/288   5% [elapsed: 00:00 left: 00:02, 131.59 iters/sec]"
       ]
      },
      {
       "output_type": "stream",
       "stream": "stdout",
       "text": [
        "\r",
        "Loading: |----------| 17/288   5% [elapsed: 00:00 left: 00:02, 128.08 iters/sec]"
       ]
      },
      {
       "output_type": "stream",
       "stream": "stdout",
       "text": [
        "\r",
        "Loading: |----------| 18/288   6% [elapsed: 00:00 left: 00:02, 130.76 iters/sec]"
       ]
      },
      {
       "output_type": "stream",
       "stream": "stdout",
       "text": [
        "\r",
        "Loading: |----------| 19/288   6% [elapsed: 00:00 left: 00:02, 133.30 iters/sec]"
       ]
      },
      {
       "output_type": "stream",
       "stream": "stdout",
       "text": [
        "\r",
        "Loading: |----------| 20/288   6% [elapsed: 00:00 left: 00:02, 130.48 iters/sec]"
       ]
      },
      {
       "output_type": "stream",
       "stream": "stdout",
       "text": [
        "\r",
        "Loading: |----------| 21/288   7% [elapsed: 00:00 left: 00:01, 135.43 iters/sec]"
       ]
      },
      {
       "output_type": "stream",
       "stream": "stdout",
       "text": [
        "\r",
        "Loading: |----------| 22/288   7% [elapsed: 00:00 left: 00:01, 139.83 iters/sec]"
       ]
      },
      {
       "output_type": "stream",
       "stream": "stdout",
       "text": [
        "\r",
        "Loading: |----------| 23/288   7% [elapsed: 00:00 left: 00:01, 137.15 iters/sec]"
       ]
      },
      {
       "output_type": "stream",
       "stream": "stdout",
       "text": [
        "\r",
        "Loading: |----------| 24/288   8% [elapsed: 00:00 left: 00:01, 135.12 iters/sec]"
       ]
      },
      {
       "output_type": "stream",
       "stream": "stdout",
       "text": [
        "\r",
        "Loading: |----------| 25/288   8% [elapsed: 00:00 left: 00:01, 134.74 iters/sec]"
       ]
      },
      {
       "output_type": "stream",
       "stream": "stdout",
       "text": [
        "\r",
        "Loading: |----------| 26/288   9% [elapsed: 00:00 left: 00:01, 137.98 iters/sec]"
       ]
      },
      {
       "output_type": "stream",
       "stream": "stdout",
       "text": [
        "\r",
        "Loading: |----------| 27/288   9% [elapsed: 00:00 left: 00:01, 139.99 iters/sec]"
       ]
      },
      {
       "output_type": "stream",
       "stream": "stdout",
       "text": [
        "\r",
        "Loading: |----------| 28/288   9% [elapsed: 00:00 left: 00:01, 142.66 iters/sec]"
       ]
      },
      {
       "output_type": "stream",
       "stream": "stdout",
       "text": [
        "\r",
        "Loading: |#---------| 29/288  10% [elapsed: 00:00 left: 00:01, 144.01 iters/sec]"
       ]
      },
      {
       "output_type": "stream",
       "stream": "stdout",
       "text": [
        "\r",
        "Loading: |#---------| 30/288  10% [elapsed: 00:00 left: 00:01, 145.77 iters/sec]"
       ]
      },
      {
       "output_type": "stream",
       "stream": "stdout",
       "text": [
        "\r",
        "Loading: |#---------| 31/288  10% [elapsed: 00:00 left: 00:01, 145.92 iters/sec]"
       ]
      },
      {
       "output_type": "stream",
       "stream": "stdout",
       "text": [
        "\r",
        "Loading: |#---------| 32/288  11% [elapsed: 00:00 left: 00:01, 146.69 iters/sec]"
       ]
      },
      {
       "output_type": "stream",
       "stream": "stdout",
       "text": [
        "\r",
        "Loading: |#---------| 33/288  11% [elapsed: 00:00 left: 00:01, 145.85 iters/sec]"
       ]
      },
      {
       "output_type": "stream",
       "stream": "stdout",
       "text": [
        "\r",
        "Loading: |#---------| 34/288  11% [elapsed: 00:00 left: 00:01, 142.91 iters/sec]"
       ]
      },
      {
       "output_type": "stream",
       "stream": "stdout",
       "text": [
        "\r",
        "Loading: |#---------| 35/288  12% [elapsed: 00:00 left: 00:01, 145.68 iters/sec]"
       ]
      },
      {
       "output_type": "stream",
       "stream": "stdout",
       "text": [
        "\r",
        "Loading: |#---------| 36/288  12% [elapsed: 00:00 left: 00:01, 148.43 iters/sec]"
       ]
      },
      {
       "output_type": "stream",
       "stream": "stdout",
       "text": [
        "\r",
        "Loading: |#---------| 37/288  12% [elapsed: 00:00 left: 00:01, 148.86 iters/sec]"
       ]
      },
      {
       "output_type": "stream",
       "stream": "stdout",
       "text": [
        "\r",
        "Loading: |#---------| 38/288  13% [elapsed: 00:00 left: 00:01, 148.08 iters/sec]"
       ]
      },
      {
       "output_type": "stream",
       "stream": "stdout",
       "text": [
        "\r",
        "Loading: |#---------| 39/288  13% [elapsed: 00:00 left: 00:01, 149.23 iters/sec]"
       ]
      },
      {
       "output_type": "stream",
       "stream": "stdout",
       "text": [
        "\r",
        "Loading: |#---------| 40/288  13% [elapsed: 00:00 left: 00:01, 151.91 iters/sec]"
       ]
      },
      {
       "output_type": "stream",
       "stream": "stdout",
       "text": [
        "\r",
        "Loading: |#---------| 41/288  14% [elapsed: 00:00 left: 00:01, 151.02 iters/sec]"
       ]
      },
      {
       "output_type": "stream",
       "stream": "stdout",
       "text": [
        "\r",
        "Loading: |#---------| 42/288  14% [elapsed: 00:00 left: 00:01, 151.54 iters/sec]"
       ]
      },
      {
       "output_type": "stream",
       "stream": "stdout",
       "text": [
        "\r",
        "Loading: |#---------| 43/288  14% [elapsed: 00:00 left: 00:01, 149.08 iters/sec]"
       ]
      },
      {
       "output_type": "stream",
       "stream": "stdout",
       "text": [
        "\r",
        "Loading: |#---------| 44/288  15% [elapsed: 00:00 left: 00:01, 151.20 iters/sec]"
       ]
      },
      {
       "output_type": "stream",
       "stream": "stdout",
       "text": [
        "\r",
        "Loading: |#---------| 45/288  15% [elapsed: 00:00 left: 00:01, 153.71 iters/sec]"
       ]
      },
      {
       "output_type": "stream",
       "stream": "stdout",
       "text": [
        "\r",
        "Loading: |#---------| 46/288  15% [elapsed: 00:00 left: 00:01, 156.29 iters/sec]"
       ]
      },
      {
       "output_type": "stream",
       "stream": "stdout",
       "text": [
        "\r",
        "Loading: |#---------| 47/288  16% [elapsed: 00:00 left: 00:01, 158.01 iters/sec]"
       ]
      },
      {
       "output_type": "stream",
       "stream": "stdout",
       "text": [
        "\r",
        "Loading: |#---------| 48/288  16% [elapsed: 00:00 left: 00:01, 154.30 iters/sec]"
       ]
      },
      {
       "output_type": "stream",
       "stream": "stdout",
       "text": [
        "\r",
        "Loading: |#---------| 49/288  17% [elapsed: 00:00 left: 00:01, 155.52 iters/sec]"
       ]
      },
      {
       "output_type": "stream",
       "stream": "stdout",
       "text": [
        "\r",
        "Loading: |#---------| 50/288  17% [elapsed: 00:00 left: 00:01, 157.73 iters/sec]"
       ]
      },
      {
       "output_type": "stream",
       "stream": "stdout",
       "text": [
        "\r",
        "Loading: |#---------| 51/288  17% [elapsed: 00:00 left: 00:01, 160.05 iters/sec]"
       ]
      },
      {
       "output_type": "stream",
       "stream": "stdout",
       "text": [
        "\r",
        "Loading: |#---------| 52/288  18% [elapsed: 00:00 left: 00:01, 154.95 iters/sec]"
       ]
      },
      {
       "output_type": "stream",
       "stream": "stdout",
       "text": [
        "\r",
        "Loading: |#---------| 53/288  18% [elapsed: 00:00 left: 00:01, 155.06 iters/sec]"
       ]
      },
      {
       "output_type": "stream",
       "stream": "stdout",
       "text": [
        "\r",
        "Loading: |#---------| 54/288  18% [elapsed: 00:00 left: 00:01, 155.97 iters/sec]"
       ]
      },
      {
       "output_type": "stream",
       "stream": "stdout",
       "text": [
        "\r",
        "Loading: |#---------| 55/288  19% [elapsed: 00:00 left: 00:01, 154.81 iters/sec]"
       ]
      },
      {
       "output_type": "stream",
       "stream": "stdout",
       "text": [
        "\r",
        "Loading: |#---------| 56/288  19% [elapsed: 00:00 left: 00:01, 153.56 iters/sec]"
       ]
      },
      {
       "output_type": "stream",
       "stream": "stdout",
       "text": [
        "\r",
        "Loading: |#---------| 57/288  19% [elapsed: 00:00 left: 00:01, 154.76 iters/sec]"
       ]
      },
      {
       "output_type": "stream",
       "stream": "stdout",
       "text": [
        "\r",
        "Loading: |##--------| 58/288  20% [elapsed: 00:00 left: 00:01, 156.46 iters/sec]"
       ]
      },
      {
       "output_type": "stream",
       "stream": "stdout",
       "text": [
        "\r",
        "Loading: |##--------| 59/288  20% [elapsed: 00:00 left: 00:01, 157.84 iters/sec]"
       ]
      },
      {
       "output_type": "stream",
       "stream": "stdout",
       "text": [
        "\r",
        "Loading: |##--------| 60/288  20% [elapsed: 00:00 left: 00:01, 159.62 iters/sec]"
       ]
      },
      {
       "output_type": "stream",
       "stream": "stdout",
       "text": [
        "\r",
        "Loading: |##--------| 61/288  21% [elapsed: 00:00 left: 00:01, 161.07 iters/sec]"
       ]
      },
      {
       "output_type": "stream",
       "stream": "stdout",
       "text": [
        "\r",
        "Loading: |##--------| 62/288  21% [elapsed: 00:00 left: 00:01, 160.16 iters/sec]"
       ]
      },
      {
       "output_type": "stream",
       "stream": "stdout",
       "text": [
        "\r",
        "Loading: |##--------| 63/288  21% [elapsed: 00:00 left: 00:01, 161.82 iters/sec]"
       ]
      },
      {
       "output_type": "stream",
       "stream": "stdout",
       "text": [
        "\r",
        "Loading: |##--------| 64/288  22% [elapsed: 00:00 left: 00:01, 161.48 iters/sec]"
       ]
      },
      {
       "output_type": "stream",
       "stream": "stdout",
       "text": [
        "\r",
        "Loading: |##--------| 65/288  22% [elapsed: 00:00 left: 00:01, 162.21 iters/sec]"
       ]
      },
      {
       "output_type": "stream",
       "stream": "stdout",
       "text": [
        "\r",
        "Loading: |##--------| 66/288  22% [elapsed: 00:00 left: 00:01, 163.97 iters/sec]"
       ]
      },
      {
       "output_type": "stream",
       "stream": "stdout",
       "text": [
        "\r",
        "Loading: |##--------| 67/288  23% [elapsed: 00:00 left: 00:01, 164.51 iters/sec]"
       ]
      },
      {
       "output_type": "stream",
       "stream": "stdout",
       "text": [
        "\r",
        "Loading: |##--------| 68/288  23% [elapsed: 00:00 left: 00:01, 166.34 iters/sec]"
       ]
      },
      {
       "output_type": "stream",
       "stream": "stdout",
       "text": [
        "\r",
        "Loading: |##--------| 69/288  23% [elapsed: 00:00 left: 00:01, 165.74 iters/sec]"
       ]
      },
      {
       "output_type": "stream",
       "stream": "stdout",
       "text": [
        "\r",
        "Loading: |##--------| 70/288  24% [elapsed: 00:00 left: 00:01, 166.22 iters/sec]"
       ]
      },
      {
       "output_type": "stream",
       "stream": "stdout",
       "text": [
        "\r",
        "Loading: |##--------| 71/288  24% [elapsed: 00:00 left: 00:01, 167.30 iters/sec]"
       ]
      },
      {
       "output_type": "stream",
       "stream": "stdout",
       "text": [
        "\r",
        "Loading: |##--------| 72/288  25% [elapsed: 00:00 left: 00:01, 167.09 iters/sec]"
       ]
      },
      {
       "output_type": "stream",
       "stream": "stdout",
       "text": [
        "\r",
        "Loading: |##--------| 73/288  25% [elapsed: 00:00 left: 00:01, 165.65 iters/sec]"
       ]
      },
      {
       "output_type": "stream",
       "stream": "stdout",
       "text": [
        "\r",
        "Loading: |##--------| 74/288  25% [elapsed: 00:00 left: 00:01, 165.30 iters/sec]"
       ]
      },
      {
       "output_type": "stream",
       "stream": "stdout",
       "text": [
        "\r",
        "Loading: |##--------| 75/288  26% [elapsed: 00:00 left: 00:01, 166.80 iters/sec]"
       ]
      },
      {
       "output_type": "stream",
       "stream": "stdout",
       "text": [
        "\r",
        "Loading: |##--------| 76/288  26% [elapsed: 00:00 left: 00:01, 167.76 iters/sec]"
       ]
      },
      {
       "output_type": "stream",
       "stream": "stdout",
       "text": [
        "\r",
        "Loading: |##--------| 77/288  26% [elapsed: 00:00 left: 00:01, 168.28 iters/sec]"
       ]
      },
      {
       "output_type": "stream",
       "stream": "stdout",
       "text": [
        "\r",
        "Loading: |##--------| 78/288  27% [elapsed: 00:00 left: 00:01, 169.57 iters/sec]"
       ]
      },
      {
       "output_type": "stream",
       "stream": "stdout",
       "text": [
        "\r",
        "Loading: |##--------| 79/288  27% [elapsed: 00:00 left: 00:01, 170.54 iters/sec]"
       ]
      },
      {
       "output_type": "stream",
       "stream": "stdout",
       "text": [
        "\r",
        "Loading: |##--------| 80/288  27% [elapsed: 00:00 left: 00:01, 170.72 iters/sec]"
       ]
      },
      {
       "output_type": "stream",
       "stream": "stdout",
       "text": [
        "\r",
        "Loading: |##--------| 81/288  28% [elapsed: 00:00 left: 00:01, 169.45 iters/sec]"
       ]
      },
      {
       "output_type": "stream",
       "stream": "stdout",
       "text": [
        "\r",
        "Loading: |##--------| 82/288  28% [elapsed: 00:00 left: 00:01, 169.18 iters/sec]"
       ]
      },
      {
       "output_type": "stream",
       "stream": "stdout",
       "text": [
        "\r",
        "Loading: |##--------| 83/288  28% [elapsed: 00:00 left: 00:01, 169.43 iters/sec]"
       ]
      },
      {
       "output_type": "stream",
       "stream": "stdout",
       "text": [
        "\r",
        "Loading: |##--------| 84/288  29% [elapsed: 00:00 left: 00:01, 171.05 iters/sec]"
       ]
      },
      {
       "output_type": "stream",
       "stream": "stdout",
       "text": [
        "\r",
        "Loading: |##--------| 85/288  29% [elapsed: 00:00 left: 00:01, 171.15 iters/sec]"
       ]
      },
      {
       "output_type": "stream",
       "stream": "stdout",
       "text": [
        "\r",
        "Loading: |##--------| 86/288  29% [elapsed: 00:00 left: 00:01, 166.95 iters/sec]"
       ]
      },
      {
       "output_type": "stream",
       "stream": "stdout",
       "text": [
        "\r",
        "Loading: |###-------| 87/288  30% [elapsed: 00:00 left: 00:01, 167.49 iters/sec]"
       ]
      },
      {
       "output_type": "stream",
       "stream": "stdout",
       "text": [
        "\r",
        "Loading: |###-------| 88/288  30% [elapsed: 00:00 left: 00:01, 167.73 iters/sec]"
       ]
      },
      {
       "output_type": "stream",
       "stream": "stdout",
       "text": [
        "\r",
        "Loading: |###-------| 89/288  30% [elapsed: 00:00 left: 00:01, 168.90 iters/sec]"
       ]
      },
      {
       "output_type": "stream",
       "stream": "stdout",
       "text": [
        "\r",
        "Loading: |###-------| 90/288  31% [elapsed: 00:00 left: 00:01, 170.25 iters/sec]"
       ]
      },
      {
       "output_type": "stream",
       "stream": "stdout",
       "text": [
        "\r",
        "Loading: |###-------| 91/288  31% [elapsed: 00:00 left: 00:01, 168.49 iters/sec]"
       ]
      },
      {
       "output_type": "stream",
       "stream": "stdout",
       "text": [
        "\r",
        "Loading: |###-------| 92/288  31% [elapsed: 00:00 left: 00:01, 165.41 iters/sec]"
       ]
      },
      {
       "output_type": "stream",
       "stream": "stdout",
       "text": [
        "\r",
        "Loading: |###-------| 93/288  32% [elapsed: 00:00 left: 00:01, 164.45 iters/sec]"
       ]
      },
      {
       "output_type": "stream",
       "stream": "stdout",
       "text": [
        "\r",
        "Loading: |###-------| 94/288  32% [elapsed: 00:00 left: 00:01, 164.49 iters/sec]"
       ]
      },
      {
       "output_type": "stream",
       "stream": "stdout",
       "text": [
        "\r",
        "Loading: |###-------| 95/288  32% [elapsed: 00:00 left: 00:01, 165.71 iters/sec]"
       ]
      },
      {
       "output_type": "stream",
       "stream": "stdout",
       "text": [
        "\r",
        "Loading: |###-------| 96/288  33% [elapsed: 00:00 left: 00:01, 166.50 iters/sec]"
       ]
      },
      {
       "output_type": "stream",
       "stream": "stdout",
       "text": [
        "\r",
        "Loading: |###-------| 97/288  33% [elapsed: 00:00 left: 00:01, 167.70 iters/sec]"
       ]
      },
      {
       "output_type": "stream",
       "stream": "stdout",
       "text": [
        "\r",
        "Loading: |###-------| 98/288  34% [elapsed: 00:00 left: 00:01, 167.89 iters/sec]"
       ]
      },
      {
       "output_type": "stream",
       "stream": "stdout",
       "text": [
        "\r",
        "Loading: |###-------| 99/288  34% [elapsed: 00:00 left: 00:01, 168.81 iters/sec]"
       ]
      },
      {
       "output_type": "stream",
       "stream": "stdout",
       "text": [
        "\r",
        "Loading: |###-------| 100/288  34% [elapsed: 00:00 left: 00:01, 169.96 iters/sec]"
       ]
      },
      {
       "output_type": "stream",
       "stream": "stdout",
       "text": [
        "\r",
        "Loading: |###-------| 101/288  35% [elapsed: 00:00 left: 00:01, 171.29 iters/sec]"
       ]
      },
      {
       "output_type": "stream",
       "stream": "stdout",
       "text": [
        "\r",
        "Loading: |###-------| 102/288  35% [elapsed: 00:00 left: 00:01, 172.44 iters/sec]"
       ]
      },
      {
       "output_type": "stream",
       "stream": "stdout",
       "text": [
        "\r",
        "Loading: |###-------| 103/288  35% [elapsed: 00:00 left: 00:01, 173.39 iters/sec]"
       ]
      },
      {
       "output_type": "stream",
       "stream": "stdout",
       "text": [
        "\r",
        "Loading: |###-------| 104/288  36% [elapsed: 00:00 left: 00:01, 172.64 iters/sec]"
       ]
      },
      {
       "output_type": "stream",
       "stream": "stdout",
       "text": [
        "\r",
        "Loading: |###-------| 105/288  36% [elapsed: 00:00 left: 00:01, 171.74 iters/sec]"
       ]
      },
      {
       "output_type": "stream",
       "stream": "stdout",
       "text": [
        "\r",
        "Loading: |###-------| 106/288  36% [elapsed: 00:00 left: 00:01, 172.70 iters/sec]"
       ]
      },
      {
       "output_type": "stream",
       "stream": "stdout",
       "text": [
        "\r",
        "Loading: |###-------| 107/288  37% [elapsed: 00:00 left: 00:01, 172.86 iters/sec]"
       ]
      },
      {
       "output_type": "stream",
       "stream": "stdout",
       "text": [
        "\r",
        "Loading: |###-------| 108/288  37% [elapsed: 00:00 left: 00:01, 173.94 iters/sec]"
       ]
      },
      {
       "output_type": "stream",
       "stream": "stdout",
       "text": [
        "\r",
        "Loading: |###-------| 109/288  37% [elapsed: 00:00 left: 00:01, 175.08 iters/sec]"
       ]
      },
      {
       "output_type": "stream",
       "stream": "stdout",
       "text": [
        "\r",
        "Loading: |###-------| 110/288  38% [elapsed: 00:00 left: 00:01, 175.40 iters/sec]"
       ]
      },
      {
       "output_type": "stream",
       "stream": "stdout",
       "text": [
        "\r",
        "Loading: |###-------| 111/288  38% [elapsed: 00:00 left: 00:01, 173.28 iters/sec]"
       ]
      },
      {
       "output_type": "stream",
       "stream": "stdout",
       "text": [
        "\r",
        "Loading: |###-------| 112/288  38% [elapsed: 00:00 left: 00:01, 174.12 iters/sec]"
       ]
      },
      {
       "output_type": "stream",
       "stream": "stdout",
       "text": [
        "\r",
        "Loading: |###-------| 113/288  39% [elapsed: 00:00 left: 00:00, 175.19 iters/sec]"
       ]
      },
      {
       "output_type": "stream",
       "stream": "stdout",
       "text": [
        "\r",
        "Loading: |###-------| 114/288  39% [elapsed: 00:00 left: 00:00, 175.61 iters/sec]"
       ]
      },
      {
       "output_type": "stream",
       "stream": "stdout",
       "text": [
        "\r",
        "Loading: |###-------| 115/288  39% [elapsed: 00:00 left: 00:00, 176.08 iters/sec]"
       ]
      },
      {
       "output_type": "stream",
       "stream": "stdout",
       "text": [
        "\r",
        "Loading: |####------| 116/288  40% [elapsed: 00:00 left: 00:00, 175.98 iters/sec]"
       ]
      },
      {
       "output_type": "stream",
       "stream": "stdout",
       "text": [
        "\r",
        "Loading: |####------| 117/288  40% [elapsed: 00:00 left: 00:00, 176.59 iters/sec]"
       ]
      },
      {
       "output_type": "stream",
       "stream": "stdout",
       "text": [
        "\r",
        "Loading: |####------| 118/288  40% [elapsed: 00:00 left: 00:00, 177.50 iters/sec]"
       ]
      },
      {
       "output_type": "stream",
       "stream": "stdout",
       "text": [
        "\r",
        "Loading: |####------| 119/288  41% [elapsed: 00:00 left: 00:00, 178.11 iters/sec]"
       ]
      },
      {
       "output_type": "stream",
       "stream": "stdout",
       "text": [
        "\r",
        "Loading: |####------| 120/288  41% [elapsed: 00:00 left: 00:00, 178.86 iters/sec]"
       ]
      },
      {
       "output_type": "stream",
       "stream": "stdout",
       "text": [
        "\r",
        "Loading: |####------| 121/288  42% [elapsed: 00:00 left: 00:00, 179.89 iters/sec]"
       ]
      },
      {
       "output_type": "stream",
       "stream": "stdout",
       "text": [
        "\r",
        "Loading: |####------| 122/288  42% [elapsed: 00:00 left: 00:00, 179.72 iters/sec]"
       ]
      },
      {
       "output_type": "stream",
       "stream": "stdout",
       "text": [
        "\r",
        "Loading: |####------| 123/288  42% [elapsed: 00:00 left: 00:00, 180.42 iters/sec]"
       ]
      },
      {
       "output_type": "stream",
       "stream": "stdout",
       "text": [
        "\r",
        "Loading: |####------| 124/288  43% [elapsed: 00:00 left: 00:00, 181.09 iters/sec]"
       ]
      },
      {
       "output_type": "stream",
       "stream": "stdout",
       "text": [
        "\r",
        "Loading: |####------| 125/288  43% [elapsed: 00:00 left: 00:00, 181.90 iters/sec]"
       ]
      },
      {
       "output_type": "stream",
       "stream": "stdout",
       "text": [
        "\r",
        "Loading: |####------| 126/288  43% [elapsed: 00:00 left: 00:00, 167.65 iters/sec]"
       ]
      },
      {
       "output_type": "stream",
       "stream": "stdout",
       "text": [
        "\r",
        "Loading: |####------| 127/288  44% [elapsed: 00:00 left: 00:00, 168.28 iters/sec]"
       ]
      },
      {
       "output_type": "stream",
       "stream": "stdout",
       "text": [
        "\r",
        "Loading: |####------| 128/288  44% [elapsed: 00:00 left: 00:00, 168.71 iters/sec]"
       ]
      },
      {
       "output_type": "stream",
       "stream": "stdout",
       "text": [
        "\r",
        "Loading: |####------| 129/288  44% [elapsed: 00:00 left: 00:00, 165.58 iters/sec]"
       ]
      },
      {
       "output_type": "stream",
       "stream": "stdout",
       "text": [
        "\r",
        "Loading: |####------| 130/288  45% [elapsed: 00:00 left: 00:00, 164.41 iters/sec]"
       ]
      },
      {
       "output_type": "stream",
       "stream": "stdout",
       "text": [
        "\r",
        "Loading: |####------| 131/288  45% [elapsed: 00:00 left: 00:00, 164.68 iters/sec]"
       ]
      },
      {
       "output_type": "stream",
       "stream": "stdout",
       "text": [
        "\r",
        "Loading: |####------| 132/288  45% [elapsed: 00:00 left: 00:00, 164.14 iters/sec]"
       ]
      },
      {
       "output_type": "stream",
       "stream": "stdout",
       "text": [
        "\r",
        "Loading: |####------| 133/288  46% [elapsed: 00:00 left: 00:00, 163.98 iters/sec]"
       ]
      },
      {
       "output_type": "stream",
       "stream": "stdout",
       "text": [
        "\r",
        "Loading: |####------| 134/288  46% [elapsed: 00:00 left: 00:00, 163.60 iters/sec]"
       ]
      },
      {
       "output_type": "stream",
       "stream": "stdout",
       "text": [
        "\r",
        "Loading: |####------| 135/288  46% [elapsed: 00:00 left: 00:00, 164.27 iters/sec]"
       ]
      },
      {
       "output_type": "stream",
       "stream": "stdout",
       "text": [
        "\r",
        "Loading: |####------| 136/288  47% [elapsed: 00:00 left: 00:00, 164.96 iters/sec]"
       ]
      },
      {
       "output_type": "stream",
       "stream": "stdout",
       "text": [
        "\r",
        "Loading: |####------| 137/288  47% [elapsed: 00:00 left: 00:00, 165.64 iters/sec]"
       ]
      },
      {
       "output_type": "stream",
       "stream": "stdout",
       "text": [
        "\r",
        "Loading: |####------| 138/288  47% [elapsed: 00:00 left: 00:00, 165.03 iters/sec]"
       ]
      },
      {
       "output_type": "stream",
       "stream": "stdout",
       "text": [
        "\r",
        "Loading: |####------| 139/288  48% [elapsed: 00:00 left: 00:00, 165.73 iters/sec]"
       ]
      },
      {
       "output_type": "stream",
       "stream": "stdout",
       "text": [
        "\r",
        "Loading: |####------| 140/288  48% [elapsed: 00:00 left: 00:00, 166.27 iters/sec]"
       ]
      },
      {
       "output_type": "stream",
       "stream": "stdout",
       "text": [
        "\r",
        "Loading: |####------| 141/288  48% [elapsed: 00:00 left: 00:00, 164.50 iters/sec]"
       ]
      },
      {
       "output_type": "stream",
       "stream": "stdout",
       "text": [
        "\r",
        "Loading: |####------| 142/288  49% [elapsed: 00:00 left: 00:00, 164.43 iters/sec]"
       ]
      },
      {
       "output_type": "stream",
       "stream": "stdout",
       "text": [
        "\r",
        "Loading: |####------| 143/288  49% [elapsed: 00:00 left: 00:00, 164.34 iters/sec]"
       ]
      },
      {
       "output_type": "stream",
       "stream": "stdout",
       "text": [
        "\r",
        "Loading: |#####-----| 144/288  50% [elapsed: 00:00 left: 00:00, 163.71 iters/sec]"
       ]
      },
      {
       "output_type": "stream",
       "stream": "stdout",
       "text": [
        "\r",
        "Loading: |#####-----| 145/288  50% [elapsed: 00:00 left: 00:00, 164.20 iters/sec]"
       ]
      },
      {
       "output_type": "stream",
       "stream": "stdout",
       "text": [
        "\r",
        "Loading: |#####-----| 146/288  50% [elapsed: 00:00 left: 00:00, 164.71 iters/sec]"
       ]
      },
      {
       "output_type": "stream",
       "stream": "stdout",
       "text": [
        "\r",
        "Loading: |#####-----| 147/288  51% [elapsed: 00:00 left: 00:00, 164.05 iters/sec]"
       ]
      },
      {
       "output_type": "stream",
       "stream": "stdout",
       "text": [
        "\r",
        "Loading: |#####-----| 148/288  51% [elapsed: 00:00 left: 00:00, 164.38 iters/sec]"
       ]
      },
      {
       "output_type": "stream",
       "stream": "stdout",
       "text": [
        "\r",
        "Loading: |#####-----| 149/288  51% [elapsed: 00:00 left: 00:00, 164.35 iters/sec]"
       ]
      },
      {
       "output_type": "stream",
       "stream": "stdout",
       "text": [
        "\r",
        "Loading: |#####-----| 150/288  52% [elapsed: 00:00 left: 00:00, 163.79 iters/sec]"
       ]
      },
      {
       "output_type": "stream",
       "stream": "stdout",
       "text": [
        "\r",
        "Loading: |#####-----| 151/288  52% [elapsed: 00:00 left: 00:00, 163.13 iters/sec]"
       ]
      },
      {
       "output_type": "stream",
       "stream": "stdout",
       "text": [
        "\r",
        "Loading: |#####-----| 152/288  52% [elapsed: 00:00 left: 00:00, 162.95 iters/sec]"
       ]
      },
      {
       "output_type": "stream",
       "stream": "stdout",
       "text": [
        "\r",
        "Loading: |#####-----| 153/288  53% [elapsed: 00:00 left: 00:00, 162.66 iters/sec]"
       ]
      },
      {
       "output_type": "stream",
       "stream": "stdout",
       "text": [
        "\r",
        "Loading: |#####-----| 154/288  53% [elapsed: 00:00 left: 00:00, 161.99 iters/sec]"
       ]
      },
      {
       "output_type": "stream",
       "stream": "stdout",
       "text": [
        "\r",
        "Loading: |#####-----| 155/288  53% [elapsed: 00:00 left: 00:00, 161.22 iters/sec]"
       ]
      },
      {
       "output_type": "stream",
       "stream": "stdout",
       "text": [
        "\r",
        "Loading: |#####-----| 156/288  54% [elapsed: 00:00 left: 00:00, 160.35 iters/sec]"
       ]
      },
      {
       "output_type": "stream",
       "stream": "stdout",
       "text": [
        "\r",
        "Loading: |#####-----| 157/288  54% [elapsed: 00:00 left: 00:00, 160.78 iters/sec]"
       ]
      },
      {
       "output_type": "stream",
       "stream": "stdout",
       "text": [
        "\r",
        "Loading: |#####-----| 158/288  54% [elapsed: 00:00 left: 00:00, 161.03 iters/sec]"
       ]
      },
      {
       "output_type": "stream",
       "stream": "stdout",
       "text": [
        "\r",
        "Loading: |#####-----| 159/288  55% [elapsed: 00:00 left: 00:00, 160.31 iters/sec]"
       ]
      },
      {
       "output_type": "stream",
       "stream": "stdout",
       "text": [
        "\r",
        "Loading: |#####-----| 160/288  55% [elapsed: 00:01 left: 00:00, 158.24 iters/sec]"
       ]
      },
      {
       "output_type": "stream",
       "stream": "stdout",
       "text": [
        "\r",
        "Loading: |#####-----| 161/288  55% [elapsed: 00:01 left: 00:00, 157.02 iters/sec]"
       ]
      },
      {
       "output_type": "stream",
       "stream": "stdout",
       "text": [
        "\r",
        "Loading: |#####-----| 162/288  56% [elapsed: 00:01 left: 00:00, 156.85 iters/sec]"
       ]
      },
      {
       "output_type": "stream",
       "stream": "stdout",
       "text": [
        "\r",
        "Loading: |#####-----| 163/288  56% [elapsed: 00:01 left: 00:00, 155.25 iters/sec]"
       ]
      },
      {
       "output_type": "stream",
       "stream": "stdout",
       "text": [
        "\r",
        "Loading: |#####-----| 164/288  56% [elapsed: 00:01 left: 00:00, 155.90 iters/sec]"
       ]
      },
      {
       "output_type": "stream",
       "stream": "stdout",
       "text": [
        "\r",
        "Loading: |#####-----| 165/288  57% [elapsed: 00:01 left: 00:00, 156.01 iters/sec]"
       ]
      },
      {
       "output_type": "stream",
       "stream": "stdout",
       "text": [
        "\r",
        "Loading: |#####-----| 166/288  57% [elapsed: 00:01 left: 00:00, 156.05 iters/sec]"
       ]
      },
      {
       "output_type": "stream",
       "stream": "stdout",
       "text": [
        "\r",
        "Loading: |#####-----| 167/288  57% [elapsed: 00:01 left: 00:00, 155.89 iters/sec]"
       ]
      },
      {
       "output_type": "stream",
       "stream": "stdout",
       "text": [
        "\r",
        "Loading: |#####-----| 168/288  58% [elapsed: 00:01 left: 00:00, 156.39 iters/sec]"
       ]
      },
      {
       "output_type": "stream",
       "stream": "stdout",
       "text": [
        "\r",
        "Loading: |#####-----| 169/288  58% [elapsed: 00:01 left: 00:00, 156.26 iters/sec]"
       ]
      },
      {
       "output_type": "stream",
       "stream": "stdout",
       "text": [
        "\r",
        "Loading: |#####-----| 170/288  59% [elapsed: 00:01 left: 00:00, 156.47 iters/sec]"
       ]
      },
      {
       "output_type": "stream",
       "stream": "stdout",
       "text": [
        "\r",
        "Loading: |#####-----| 171/288  59% [elapsed: 00:01 left: 00:00, 155.90 iters/sec]"
       ]
      },
      {
       "output_type": "stream",
       "stream": "stdout",
       "text": [
        "\r",
        "Loading: |#####-----| 172/288  59% [elapsed: 00:01 left: 00:00, 155.67 iters/sec]"
       ]
      },
      {
       "output_type": "stream",
       "stream": "stdout",
       "text": [
        "\r",
        "Loading: |######----| 173/288  60% [elapsed: 00:01 left: 00:00, 152.28 iters/sec]"
       ]
      },
      {
       "output_type": "stream",
       "stream": "stdout",
       "text": [
        "\r",
        "Loading: |######----| 174/288  60% [elapsed: 00:01 left: 00:00, 152.57 iters/sec]"
       ]
      },
      {
       "output_type": "stream",
       "stream": "stdout",
       "text": [
        "\r",
        "Loading: |######----| 175/288  60% [elapsed: 00:01 left: 00:00, 152.91 iters/sec]"
       ]
      },
      {
       "output_type": "stream",
       "stream": "stdout",
       "text": [
        "\r",
        "Loading: |######----| 176/288  61% [elapsed: 00:01 left: 00:00, 153.13 iters/sec]"
       ]
      },
      {
       "output_type": "stream",
       "stream": "stdout",
       "text": [
        "\r",
        "Loading: |######----| 177/288  61% [elapsed: 00:01 left: 00:00, 153.02 iters/sec]"
       ]
      },
      {
       "output_type": "stream",
       "stream": "stdout",
       "text": [
        "\r",
        "Loading: |######----| 178/288  61% [elapsed: 00:01 left: 00:00, 152.99 iters/sec]"
       ]
      },
      {
       "output_type": "stream",
       "stream": "stdout",
       "text": [
        "\r",
        "Loading: |######----| 179/288  62% [elapsed: 00:01 left: 00:00, 153.29 iters/sec]"
       ]
      },
      {
       "output_type": "stream",
       "stream": "stdout",
       "text": [
        "\r",
        "Loading: |######----| 180/288  62% [elapsed: 00:01 left: 00:00, 153.53 iters/sec]"
       ]
      },
      {
       "output_type": "stream",
       "stream": "stdout",
       "text": [
        "\r",
        "Loading: |######----| 181/288  62% [elapsed: 00:01 left: 00:00, 154.18 iters/sec]"
       ]
      },
      {
       "output_type": "stream",
       "stream": "stdout",
       "text": [
        "\r",
        "Loading: |######----| 182/288  63% [elapsed: 00:01 left: 00:00, 154.31 iters/sec]"
       ]
      },
      {
       "output_type": "stream",
       "stream": "stdout",
       "text": [
        "\r",
        "Loading: |######----| 183/288  63% [elapsed: 00:01 left: 00:00, 153.90 iters/sec]"
       ]
      },
      {
       "output_type": "stream",
       "stream": "stdout",
       "text": [
        "\r",
        "Loading: |######----| 184/288  63% [elapsed: 00:01 left: 00:00, 154.52 iters/sec]"
       ]
      },
      {
       "output_type": "stream",
       "stream": "stdout",
       "text": [
        "\r",
        "Loading: |######----| 185/288  64% [elapsed: 00:01 left: 00:00, 154.61 iters/sec]"
       ]
      },
      {
       "output_type": "stream",
       "stream": "stdout",
       "text": [
        "\r",
        "Loading: |######----| 186/288  64% [elapsed: 00:01 left: 00:00, 154.95 iters/sec]"
       ]
      },
      {
       "output_type": "stream",
       "stream": "stdout",
       "text": [
        "\r",
        "Loading: |######----| 187/288  64% [elapsed: 00:01 left: 00:00, 155.43 iters/sec]"
       ]
      },
      {
       "output_type": "stream",
       "stream": "stdout",
       "text": [
        "\r",
        "Loading: |######----| 188/288  65% [elapsed: 00:01 left: 00:00, 155.98 iters/sec]"
       ]
      },
      {
       "output_type": "stream",
       "stream": "stdout",
       "text": [
        "\r",
        "Loading: |######----| 189/288  65% [elapsed: 00:01 left: 00:00, 155.51 iters/sec]"
       ]
      },
      {
       "output_type": "stream",
       "stream": "stdout",
       "text": [
        "\r",
        "Loading: |######----| 190/288  65% [elapsed: 00:01 left: 00:00, 155.75 iters/sec]"
       ]
      },
      {
       "output_type": "stream",
       "stream": "stdout",
       "text": [
        "\r",
        "Loading: |######----| 191/288  66% [elapsed: 00:01 left: 00:00, 154.89 iters/sec]"
       ]
      },
      {
       "output_type": "stream",
       "stream": "stdout",
       "text": [
        "\r",
        "Loading: |######----| 192/288  66% [elapsed: 00:01 left: 00:00, 155.16 iters/sec]"
       ]
      },
      {
       "output_type": "stream",
       "stream": "stdout",
       "text": [
        "\r",
        "Loading: |######----| 193/288  67% [elapsed: 00:01 left: 00:00, 155.11 iters/sec]"
       ]
      },
      {
       "output_type": "stream",
       "stream": "stdout",
       "text": [
        "\r",
        "Loading: |######----| 194/288  67% [elapsed: 00:01 left: 00:00, 155.11 iters/sec]"
       ]
      },
      {
       "output_type": "stream",
       "stream": "stdout",
       "text": [
        "\r",
        "Loading: |######----| 195/288  67% [elapsed: 00:01 left: 00:00, 155.35 iters/sec]"
       ]
      },
      {
       "output_type": "stream",
       "stream": "stdout",
       "text": [
        "\r",
        "Loading: |######----| 196/288  68% [elapsed: 00:01 left: 00:00, 154.15 iters/sec]"
       ]
      },
      {
       "output_type": "stream",
       "stream": "stdout",
       "text": [
        "\r",
        "Loading: |######----| 197/288  68% [elapsed: 00:01 left: 00:00, 153.59 iters/sec]"
       ]
      },
      {
       "output_type": "stream",
       "stream": "stdout",
       "text": [
        "\r",
        "Loading: |######----| 198/288  68% [elapsed: 00:01 left: 00:00, 154.18 iters/sec]"
       ]
      },
      {
       "output_type": "stream",
       "stream": "stdout",
       "text": [
        "\r",
        "Loading: |######----| 199/288  69% [elapsed: 00:01 left: 00:00, 153.76 iters/sec]"
       ]
      },
      {
       "output_type": "stream",
       "stream": "stdout",
       "text": [
        "\r",
        "Loading: |######----| 200/288  69% [elapsed: 00:01 left: 00:00, 154.13 iters/sec]"
       ]
      },
      {
       "output_type": "stream",
       "stream": "stdout",
       "text": [
        "\r",
        "Loading: |######----| 201/288  69% [elapsed: 00:01 left: 00:00, 154.43 iters/sec]"
       ]
      },
      {
       "output_type": "stream",
       "stream": "stdout",
       "text": [
        "\r",
        "Loading: |#######---| 202/288  70% [elapsed: 00:01 left: 00:00, 154.65 iters/sec]"
       ]
      },
      {
       "output_type": "stream",
       "stream": "stdout",
       "text": [
        "\r",
        "Loading: |#######---| 203/288  70% [elapsed: 00:01 left: 00:00, 152.07 iters/sec]"
       ]
      },
      {
       "output_type": "stream",
       "stream": "stdout",
       "text": [
        "\r",
        "Loading: |#######---| 204/288  70% [elapsed: 00:01 left: 00:00, 152.53 iters/sec]"
       ]
      },
      {
       "output_type": "stream",
       "stream": "stdout",
       "text": [
        "\r",
        "Loading: |#######---| 205/288  71% [elapsed: 00:01 left: 00:00, 153.02 iters/sec]"
       ]
      },
      {
       "output_type": "stream",
       "stream": "stdout",
       "text": [
        "\r",
        "Loading: |#######---| 206/288  71% [elapsed: 00:01 left: 00:00, 153.40 iters/sec]"
       ]
      },
      {
       "output_type": "stream",
       "stream": "stdout",
       "text": [
        "\r",
        "Loading: |#######---| 207/288  71% [elapsed: 00:01 left: 00:00, 153.59 iters/sec]"
       ]
      },
      {
       "output_type": "stream",
       "stream": "stdout",
       "text": [
        "\r",
        "Loading: |#######---| 208/288  72% [elapsed: 00:01 left: 00:00, 153.78 iters/sec]"
       ]
      },
      {
       "output_type": "stream",
       "stream": "stdout",
       "text": [
        "\r",
        "Loading: |#######---| 209/288  72% [elapsed: 00:01 left: 00:00, 153.15 iters/sec]"
       ]
      },
      {
       "output_type": "stream",
       "stream": "stdout",
       "text": [
        "\r",
        "Loading: |#######---| 210/288  72% [elapsed: 00:01 left: 00:00, 152.48 iters/sec]"
       ]
      },
      {
       "output_type": "stream",
       "stream": "stdout",
       "text": [
        "\r",
        "Loading: |#######---| 211/288  73% [elapsed: 00:01 left: 00:00, 151.06 iters/sec]"
       ]
      },
      {
       "output_type": "stream",
       "stream": "stdout",
       "text": [
        "\r",
        "Loading: |#######---| 212/288  73% [elapsed: 00:01 left: 00:00, 150.09 iters/sec]"
       ]
      },
      {
       "output_type": "stream",
       "stream": "stdout",
       "text": [
        "\r",
        "Loading: |#######---| 213/288  73% [elapsed: 00:01 left: 00:00, 150.47 iters/sec]"
       ]
      },
      {
       "output_type": "stream",
       "stream": "stdout",
       "text": [
        "\r",
        "Loading: |#######---| 214/288  74% [elapsed: 00:01 left: 00:00, 150.81 iters/sec]"
       ]
      },
      {
       "output_type": "stream",
       "stream": "stdout",
       "text": [
        "\r",
        "Loading: |#######---| 215/288  74% [elapsed: 00:01 left: 00:00, 151.08 iters/sec]"
       ]
      },
      {
       "output_type": "stream",
       "stream": "stdout",
       "text": [
        "\r",
        "Loading: |#######---| 216/288  75% [elapsed: 00:01 left: 00:00, 151.41 iters/sec]"
       ]
      },
      {
       "output_type": "stream",
       "stream": "stdout",
       "text": [
        "\r",
        "Loading: |#######---| 217/288  75% [elapsed: 00:01 left: 00:00, 151.72 iters/sec]"
       ]
      },
      {
       "output_type": "stream",
       "stream": "stdout",
       "text": [
        "\r",
        "Loading: |#######---| 218/288  75% [elapsed: 00:01 left: 00:00, 152.11 iters/sec]"
       ]
      },
      {
       "output_type": "stream",
       "stream": "stdout",
       "text": [
        "\r",
        "Loading: |#######---| 219/288  76% [elapsed: 00:01 left: 00:00, 152.52 iters/sec]"
       ]
      },
      {
       "output_type": "stream",
       "stream": "stdout",
       "text": [
        "\r",
        "Loading: |#######---| 220/288  76% [elapsed: 00:01 left: 00:00, 152.78 iters/sec]"
       ]
      },
      {
       "output_type": "stream",
       "stream": "stdout",
       "text": [
        "\r",
        "Loading: |#######---| 221/288  76% [elapsed: 00:01 left: 00:00, 152.90 iters/sec]"
       ]
      },
      {
       "output_type": "stream",
       "stream": "stdout",
       "text": [
        "\r",
        "Loading: |#######---| 222/288  77% [elapsed: 00:01 left: 00:00, 152.92 iters/sec]"
       ]
      },
      {
       "output_type": "stream",
       "stream": "stdout",
       "text": [
        "\r",
        "Loading: |#######---| 223/288  77% [elapsed: 00:01 left: 00:00, 153.03 iters/sec]"
       ]
      },
      {
       "output_type": "stream",
       "stream": "stdout",
       "text": [
        "\r",
        "Loading: |#######---| 224/288  77% [elapsed: 00:01 left: 00:00, 153.06 iters/sec]"
       ]
      },
      {
       "output_type": "stream",
       "stream": "stdout",
       "text": [
        "\r",
        "Loading: |#######---| 225/288  78% [elapsed: 00:01 left: 00:00, 150.86 iters/sec]"
       ]
      },
      {
       "output_type": "stream",
       "stream": "stdout",
       "text": [
        "\r",
        "Loading: |#######---| 226/288  78% [elapsed: 00:01 left: 00:00, 150.16 iters/sec]"
       ]
      },
      {
       "output_type": "stream",
       "stream": "stdout",
       "text": [
        "\r",
        "Loading: |#######---| 227/288  78% [elapsed: 00:01 left: 00:00, 150.42 iters/sec]"
       ]
      },
      {
       "output_type": "stream",
       "stream": "stdout",
       "text": [
        "\r",
        "Loading: |#######---| 228/288  79% [elapsed: 00:01 left: 00:00, 150.65 iters/sec]"
       ]
      },
      {
       "output_type": "stream",
       "stream": "stdout",
       "text": [
        "\r",
        "Loading: |#######---| 229/288  79% [elapsed: 00:01 left: 00:00, 150.85 iters/sec]"
       ]
      },
      {
       "output_type": "stream",
       "stream": "stdout",
       "text": [
        "\r",
        "Loading: |#######---| 230/288  79% [elapsed: 00:01 left: 00:00, 150.25 iters/sec]"
       ]
      },
      {
       "output_type": "stream",
       "stream": "stdout",
       "text": [
        "\r",
        "Loading: |########--| 231/288  80% [elapsed: 00:01 left: 00:00, 150.09 iters/sec]"
       ]
      },
      {
       "output_type": "stream",
       "stream": "stdout",
       "text": [
        "\r",
        "Loading: |########--| 232/288  80% [elapsed: 00:01 left: 00:00, 149.98 iters/sec]"
       ]
      },
      {
       "output_type": "stream",
       "stream": "stdout",
       "text": [
        "\r",
        "Loading: |########--| 233/288  80% [elapsed: 00:01 left: 00:00, 149.96 iters/sec]"
       ]
      },
      {
       "output_type": "stream",
       "stream": "stdout",
       "text": [
        "\r",
        "Loading: |########--| 234/288  81% [elapsed: 00:01 left: 00:00, 149.86 iters/sec]"
       ]
      },
      {
       "output_type": "stream",
       "stream": "stdout",
       "text": [
        "\r",
        "Loading: |########--| 235/288  81% [elapsed: 00:01 left: 00:00, 149.35 iters/sec]"
       ]
      },
      {
       "output_type": "stream",
       "stream": "stdout",
       "text": [
        "\r",
        "Loading: |########--| 236/288  81% [elapsed: 00:01 left: 00:00, 148.97 iters/sec]"
       ]
      },
      {
       "output_type": "stream",
       "stream": "stdout",
       "text": [
        "\r",
        "Loading: |########--| 237/288  82% [elapsed: 00:01 left: 00:00, 149.01 iters/sec]"
       ]
      },
      {
       "output_type": "stream",
       "stream": "stdout",
       "text": [
        "\r",
        "Loading: |########--| 238/288  82% [elapsed: 00:01 left: 00:00, 147.12 iters/sec]"
       ]
      },
      {
       "output_type": "stream",
       "stream": "stdout",
       "text": [
        "\r",
        "Loading: |########--| 239/288  82% [elapsed: 00:01 left: 00:00, 147.39 iters/sec]"
       ]
      },
      {
       "output_type": "stream",
       "stream": "stdout",
       "text": [
        "\r",
        "Loading: |########--| 240/288  83% [elapsed: 00:01 left: 00:00, 147.68 iters/sec]"
       ]
      },
      {
       "output_type": "stream",
       "stream": "stdout",
       "text": [
        "\r",
        "Loading: |########--| 241/288  83% [elapsed: 00:01 left: 00:00, 148.06 iters/sec]"
       ]
      },
      {
       "output_type": "stream",
       "stream": "stdout",
       "text": [
        "\r",
        "Loading: |########--| 242/288  84% [elapsed: 00:01 left: 00:00, 148.27 iters/sec]"
       ]
      },
      {
       "output_type": "stream",
       "stream": "stdout",
       "text": [
        "\r",
        "Loading: |########--| 243/288  84% [elapsed: 00:01 left: 00:00, 144.45 iters/sec]"
       ]
      },
      {
       "output_type": "stream",
       "stream": "stdout",
       "text": [
        "\r",
        "Loading: |########--| 244/288  84% [elapsed: 00:01 left: 00:00, 144.39 iters/sec]"
       ]
      },
      {
       "output_type": "stream",
       "stream": "stdout",
       "text": [
        "\r",
        "Loading: |########--| 245/288  85% [elapsed: 00:01 left: 00:00, 144.73 iters/sec]"
       ]
      },
      {
       "output_type": "stream",
       "stream": "stdout",
       "text": [
        "\r",
        "Loading: |########--| 246/288  85% [elapsed: 00:01 left: 00:00, 145.13 iters/sec]"
       ]
      },
      {
       "output_type": "stream",
       "stream": "stdout",
       "text": [
        "\r",
        "Loading: |########--| 247/288  85% [elapsed: 00:01 left: 00:00, 143.08 iters/sec]"
       ]
      },
      {
       "output_type": "stream",
       "stream": "stdout",
       "text": [
        "\r",
        "Loading: |########--| 248/288  86% [elapsed: 00:01 left: 00:00, 141.63 iters/sec]"
       ]
      },
      {
       "output_type": "stream",
       "stream": "stdout",
       "text": [
        "\r",
        "Loading: |########--| 249/288  86% [elapsed: 00:01 left: 00:00, 138.79 iters/sec]"
       ]
      },
      {
       "output_type": "stream",
       "stream": "stdout",
       "text": [
        "\r",
        "Loading: |########--| 250/288  86% [elapsed: 00:01 left: 00:00, 137.90 iters/sec]"
       ]
      },
      {
       "output_type": "stream",
       "stream": "stdout",
       "text": [
        "\r",
        "Loading: |########--| 251/288  87% [elapsed: 00:01 left: 00:00, 138.29 iters/sec]"
       ]
      },
      {
       "output_type": "stream",
       "stream": "stdout",
       "text": [
        "\r",
        "Loading: |########--| 252/288  87% [elapsed: 00:01 left: 00:00, 138.25 iters/sec]"
       ]
      },
      {
       "output_type": "stream",
       "stream": "stdout",
       "text": [
        "\r",
        "Loading: |########--| 253/288  87% [elapsed: 00:01 left: 00:00, 138.35 iters/sec]"
       ]
      },
      {
       "output_type": "stream",
       "stream": "stdout",
       "text": [
        "\r",
        "Loading: |########--| 254/288  88% [elapsed: 00:01 left: 00:00, 138.20 iters/sec]"
       ]
      },
      {
       "output_type": "stream",
       "stream": "stdout",
       "text": [
        "\r",
        "Loading: |########--| 255/288  88% [elapsed: 00:01 left: 00:00, 138.40 iters/sec]"
       ]
      },
      {
       "output_type": "stream",
       "stream": "stdout",
       "text": [
        "\r",
        "Loading: |########--| 256/288  88% [elapsed: 00:01 left: 00:00, 138.19 iters/sec]"
       ]
      },
      {
       "output_type": "stream",
       "stream": "stdout",
       "text": [
        "\r",
        "Loading: |########--| 257/288  89% [elapsed: 00:01 left: 00:00, 137.53 iters/sec]"
       ]
      },
      {
       "output_type": "stream",
       "stream": "stdout",
       "text": [
        "\r",
        "Loading: |########--| 258/288  89% [elapsed: 00:01 left: 00:00, 137.69 iters/sec]"
       ]
      },
      {
       "output_type": "stream",
       "stream": "stdout",
       "text": [
        "\r",
        "Loading: |########--| 259/288  89% [elapsed: 00:01 left: 00:00, 137.73 iters/sec]"
       ]
      },
      {
       "output_type": "stream",
       "stream": "stdout",
       "text": [
        "\r",
        "Loading: |#########-| 260/288  90% [elapsed: 00:01 left: 00:00, 137.95 iters/sec]"
       ]
      },
      {
       "output_type": "stream",
       "stream": "stdout",
       "text": [
        "\r",
        "Loading: |#########-| 261/288  90% [elapsed: 00:01 left: 00:00, 137.63 iters/sec]"
       ]
      },
      {
       "output_type": "stream",
       "stream": "stdout",
       "text": [
        "\r",
        "Loading: |#########-| 262/288  90% [elapsed: 00:01 left: 00:00, 136.57 iters/sec]"
       ]
      },
      {
       "output_type": "stream",
       "stream": "stdout",
       "text": [
        "\r",
        "Loading: |#########-| 263/288  91% [elapsed: 00:01 left: 00:00, 136.93 iters/sec]"
       ]
      },
      {
       "output_type": "stream",
       "stream": "stdout",
       "text": [
        "\r",
        "Loading: |#########-| 264/288  91% [elapsed: 00:01 left: 00:00, 136.78 iters/sec]"
       ]
      },
      {
       "output_type": "stream",
       "stream": "stdout",
       "text": [
        "\r",
        "Loading: |#########-| 265/288  92% [elapsed: 00:01 left: 00:00, 137.11 iters/sec]"
       ]
      },
      {
       "output_type": "stream",
       "stream": "stdout",
       "text": [
        "\r",
        "Loading: |#########-| 266/288  92% [elapsed: 00:01 left: 00:00, 137.27 iters/sec]"
       ]
      },
      {
       "output_type": "stream",
       "stream": "stdout",
       "text": [
        "\r",
        "Loading: |#########-| 267/288  92% [elapsed: 00:01 left: 00:00, 137.44 iters/sec]"
       ]
      },
      {
       "output_type": "stream",
       "stream": "stdout",
       "text": [
        "\r",
        "Loading: |#########-| 268/288  93% [elapsed: 00:01 left: 00:00, 137.59 iters/sec]"
       ]
      },
      {
       "output_type": "stream",
       "stream": "stdout",
       "text": [
        "\r",
        "Loading: |#########-| 269/288  93% [elapsed: 00:01 left: 00:00, 137.99 iters/sec]"
       ]
      },
      {
       "output_type": "stream",
       "stream": "stdout",
       "text": [
        "\r",
        "Loading: |#########-| 270/288  93% [elapsed: 00:01 left: 00:00, 138.36 iters/sec]"
       ]
      },
      {
       "output_type": "stream",
       "stream": "stdout",
       "text": [
        "\r",
        "Loading: |#########-| 271/288  94% [elapsed: 00:01 left: 00:00, 138.40 iters/sec]"
       ]
      },
      {
       "output_type": "stream",
       "stream": "stdout",
       "text": [
        "\r",
        "Loading: |#########-| 272/288  94% [elapsed: 00:01 left: 00:00, 138.58 iters/sec]"
       ]
      },
      {
       "output_type": "stream",
       "stream": "stdout",
       "text": [
        "\r",
        "Loading: |#########-| 273/288  94% [elapsed: 00:01 left: 00:00, 138.91 iters/sec]"
       ]
      },
      {
       "output_type": "stream",
       "stream": "stdout",
       "text": [
        "\r",
        "Loading: |#########-| 274/288  95% [elapsed: 00:01 left: 00:00, 139.24 iters/sec]"
       ]
      },
      {
       "output_type": "stream",
       "stream": "stdout",
       "text": [
        "\r",
        "Loading: |#########-| 275/288  95% [elapsed: 00:01 left: 00:00, 139.25 iters/sec]"
       ]
      },
      {
       "output_type": "stream",
       "stream": "stdout",
       "text": [
        "\r",
        "Loading: |#########-| 276/288  95% [elapsed: 00:01 left: 00:00, 139.56 iters/sec]"
       ]
      },
      {
       "output_type": "stream",
       "stream": "stdout",
       "text": [
        "\r",
        "Loading: |#########-| 277/288  96% [elapsed: 00:01 left: 00:00, 139.87 iters/sec]"
       ]
      },
      {
       "output_type": "stream",
       "stream": "stdout",
       "text": [
        "\r",
        "Loading: |#########-| 278/288  96% [elapsed: 00:02 left: 00:00, 139.00 iters/sec]"
       ]
      },
      {
       "output_type": "stream",
       "stream": "stdout",
       "text": [
        "\r",
        "Loading: |#########-| 279/288  96% [elapsed: 00:02 left: 00:00, 138.81 iters/sec]"
       ]
      },
      {
       "output_type": "stream",
       "stream": "stdout",
       "text": [
        "\r",
        "Loading: |#########-| 280/288  97% [elapsed: 00:02 left: 00:00, 138.91 iters/sec]"
       ]
      },
      {
       "output_type": "stream",
       "stream": "stdout",
       "text": [
        "\r",
        "Loading: |#########-| 281/288  97% [elapsed: 00:02 left: 00:00, 139.21 iters/sec]"
       ]
      },
      {
       "output_type": "stream",
       "stream": "stdout",
       "text": [
        "\r",
        "Loading: |#########-| 282/288  97% [elapsed: 00:02 left: 00:00, 139.45 iters/sec]"
       ]
      },
      {
       "output_type": "stream",
       "stream": "stdout",
       "text": [
        "\r",
        "Loading: |#########-| 283/288  98% [elapsed: 00:02 left: 00:00, 139.41 iters/sec]"
       ]
      },
      {
       "output_type": "stream",
       "stream": "stdout",
       "text": [
        "\r",
        "Loading: |#########-| 284/288  98% [elapsed: 00:02 left: 00:00, 139.47 iters/sec]"
       ]
      },
      {
       "output_type": "stream",
       "stream": "stdout",
       "text": [
        "\r",
        "Loading: |#########-| 285/288  98% [elapsed: 00:02 left: 00:00, 139.50 iters/sec]"
       ]
      },
      {
       "output_type": "stream",
       "stream": "stdout",
       "text": [
        "\r",
        "Loading: |#########-| 286/288  99% [elapsed: 00:02 left: 00:00, 139.30 iters/sec]"
       ]
      },
      {
       "output_type": "stream",
       "stream": "stdout",
       "text": [
        "\r",
        "Loading: |#########-| 287/288  99% [elapsed: 00:02 left: 00:00, 138.68 iters/sec]"
       ]
      },
      {
       "output_type": "stream",
       "stream": "stdout",
       "text": [
        "\r",
        "Loading: |##########| 288/288 100% [elapsed: 00:02 left: 00:00, 138.17 iters/sec]"
       ]
      },
      {
       "output_type": "stream",
       "stream": "stdout",
       "text": [
        "\r",
        "                                                                                 "
       ]
      },
      {
       "output_type": "stream",
       "stream": "stdout",
       "text": [
        "\r"
       ]
      }
     ],
     "prompt_number": 3
    },
    {
     "cell_type": "code",
     "collapsed": false,
     "input": [
      "mailing_list_forms = [form for form, tp in zip(X_test, y_test) if tp == 'm']"
     ],
     "language": "python",
     "metadata": {},
     "outputs": [],
     "prompt_number": 4
    },
    {
     "cell_type": "code",
     "collapsed": false,
     "input": [
      "for form in mailing_list_forms:\n",
      "    tool.print_form_html(form)\n",
      "    print(\"=\"*40)"
     ],
     "language": "python",
     "metadata": {},
     "outputs": [
      {
       "output_type": "stream",
       "stream": "stdout",
       "text": [
        "<form class=\"newsletter\" action=\"\">\n",
        "<input type=\"hidden\" name=\"user_id\" value=\"\">\n",
        "<input type=\"hidden\" name=\"user_email\" value=\"\">\n",
        "<input type=\"text\" name=\"subscriber\" value=\"\" id=\"subscriber_email\">\n",
        "<input type=\"submit\" name=\"submit\" value=\"Noriu gauti naujienlai\u0161kius\">\n",
        "</form>\n",
        "========================================\n",
        "<form id=\"subscription-form\" method=\"POST\" class=\"form\" action=\"/subscription/add\">\n",
        "<input type=\"text\" name=\"email\" class=\"required email\">\n",
        "<select id=\"city_id\" name=\"city_id\"><option value=\"\">-- Select City --</option>\n",
        "<option value=\"9\">Albany</option>\n",
        "<option value=\"58\">Albuquerque</option>\n",
        "<option value=\"110\">Alexandria Louisiana</option>\n",
        "<option value=\"59\">Amarillo</option>\n",
        "<option value=\"122\">Athens</option>\n",
        "<option value=\"3\">Atlanta</option>\n",
        "<option value=\"125\">Atlantic City</option>\n",
        "<option value=\"7\">Austin</option>\n",
        "<option value=\"23\">Baltimore</option>\n",
        "<option value=\"46\">Baton Rouge</option>\n",
        "<option value=\"111\">Beaumont</option>\n",
        "<option value=\"53\">Big Island</option>\n",
        "<option value=\"64\">Boise</option>\n",
        "<option value=\"6\">Boston</option>\n",
        "<option value=\"55\">Buffalo</option>\n",
        "<option value=\"65\">Cedar Rapids</option>\n",
        "<option value=\"118\">Cedar Valley</option>\n",
        "<option value=\"66\">Charleston</option>\n",
        "<option value=\"8\">Charlotte</option>\n",
        "<option value=\"67\">Chattanooga</option>\n",
        "<option value=\"34\">Chicago</option>\n",
        "<option value=\"68\">Cincinnati</option>\n",
        "<option value=\"32\">Cleveland</option>\n",
        "<option value=\"69\">Colorado Springs</option>\n",
        "<option value=\"30\">Columbus</option>\n",
        "<option value=\"20\">Dallas</option>\n",
        "<option value=\"70\">Dayton</option>\n",
        "<option value=\"4\">Denver</option>\n",
        "<option value=\"27\">Detroit</option>\n",
        "<option value=\"33\">East Bay</option>\n",
        "<option value=\"71\">El Paso</option>\n",
        "<option value=\"72\">Eugene</option>\n",
        "<option value=\"42\">Fort Worth</option>\n",
        "<option value=\"252\">Fort-lauderdale</option>\n",
        "<option value=\"73\">Fresno</option>\n",
        "<option value=\"74\">Ft. Myers</option>\n",
        "<option value=\"75\">Ft. Wayne</option>\n",
        "<option value=\"108\">Golden Triangle</option>\n",
        "<option value=\"76\">Grand Rapids</option>\n",
        "<option value=\"77\">Green Bay</option>\n",
        "<option value=\"78\">Greenwood</option>\n",
        "<option value=\"109\">Gulfport</option>\n",
        "<option value=\"79\">Harrisburg</option>\n",
        "<option value=\"80\">Hartford</option>\n",
        "<option value=\"52\">Honolulu</option>\n",
        "<option value=\"17\">Houston</option>\n",
        "<option value=\"22\">Indianapolis</option>\n",
        "<option value=\"12\">Jacksonville</option>\n",
        "<option value=\"48\">Johnson County</option>\n",
        "<option value=\"14\">Kansas City</option>\n",
        "<option value=\"81\">Knoxville</option>\n",
        "<option value=\"106\">Lafayette</option>\n",
        "<option value=\"105\">Lake Charles</option>\n",
        "<option value=\"11\">Las Vegas</option>\n",
        "<option value=\"117\">Lawrence</option>\n",
        "<option value=\"82\">Little Rock</option>\n",
        "<option value=\"49\">Los Angeles/ventura County</option>\n",
        "<option value=\"28\">Louisville</option>\n",
        "<option value=\"83\">Lubbock</option>\n",
        "<option value=\"116\">Manhattan - Kansas</option>\n",
        "<option value=\"54\">Maui</option>\n",
        "<option value=\"47\">Memphis</option>\n",
        "<option value=\"13\">Miami</option>\n",
        "<option value=\"84\">Milwaukee</option>\n",
        "<option value=\"85\">Minneapolis / St Paul</option>\n",
        "<option value=\"86\">Mobile</option>\n",
        "<option value=\"87\">Montgomery</option>\n",
        "<option value=\"25\">Nashville</option>\n",
        "<option value=\"36\" selected>National Deals</option>\n",
        "<option value=\"43\">New Orleans</option>\n",
        "<option value=\"5\">New York City</option>\n",
        "<option value=\"88\">Norfolk</option>\n",
        "<option value=\"57\">Northwest Suburbs - Chicago</option>\n",
        "<option value=\"89\">Odessa</option>\n",
        "<option value=\"44\">Oklahoma City</option>\n",
        "<option value=\"90\">Omaha</option>\n",
        "<option value=\"29\">Orange County</option>\n",
        "<option value=\"2\">Orlando</option>\n",
        "<option value=\"91\">Palm Springs</option>\n",
        "<option value=\"121\">Pets</option>\n",
        "<option value=\"31\">Philadelphia</option>\n",
        "<option value=\"18\">Phoenix</option>\n",
        "<option value=\"92\">Pittsburgh</option>\n",
        "<option value=\"16\">Portland</option>\n",
        "<option value=\"93\">Portland Maine</option>\n",
        "<option value=\"38\">Poughkeepsie</option>\n",
        "<option value=\"94\">Providence</option>\n",
        "<option value=\"61\">Raleigh</option>\n",
        "<option value=\"95\">Richmond</option>\n",
        "<option value=\"56\">Rochester</option>\n",
        "<option value=\"113\">Rochester - Minnesota</option>\n",
        "<option value=\"96\">Sacramento</option>\n",
        "<option value=\"45\">Salt Lake City</option>\n",
        "<option value=\"26\">San Antonio</option>\n",
        "<option value=\"19\">San Diego</option>\n",
        "<option value=\"50\">San Fernando Valley</option>\n",
        "<option value=\"10\">San Francisco</option>\n",
        "<option value=\"21\">San Jose</option>\n",
        "<option value=\"51\">Santa Clarita</option>\n",
        "<option value=\"24\">Seattle</option>\n",
        "<option value=\"107\">Shreveport</option>\n",
        "<option value=\"115\">Sioux City</option>\n",
        "<option value=\"97\">Sioux Falls</option>\n",
        "<option value=\"98\">Springfield</option>\n",
        "<option value=\"60\">St. Louis</option>\n",
        "<option value=\"37\">St. Petersburg</option>\n",
        "<option value=\"112\">Sugar Land</option>\n",
        "<option value=\"99\">Syracuse</option>\n",
        "<option value=\"100\">Tacoma</option>\n",
        "<option value=\"101\">Tallahassee</option>\n",
        "<option value=\"1\">Tampa Bay</option>\n",
        "<option value=\"123\">Temecula</option>\n",
        "<option value=\"114\">Topeka</option>\n",
        "<option value=\"41\">Tucson</option>\n",
        "<option value=\"40\">Tulsa</option>\n",
        "<option value=\"39\">Utica</option>\n",
        "<option value=\"104\">Washington D. C.</option></select>\n",
        "Submit\n",
        "<input type=\"hidden\" name=\"url\" value=\"/national/share\">\n",
        "</form>\n",
        "========================================\n",
        "<form action=\"http://www.rakuten.de/kundenkonto/newsletter/anmelden\" method=\"post\" class=\"newsletter-register\">\n",
        "<input type=\"text\" id=\"nl_email\" name=\"susa_newsletter\">\n",
        "Jetzt anmelden &amp; sparen\n",
        "</form>\n",
        "========================================\n",
        "<form action=\"http://www.rakuten.de/kundenkonto/newsletter/anmelden\" method=\"post\" class=\"newsletter-register\">\n",
        "<input type=\"text\" id=\"nl_email\" name=\"susa_newsletter\" value=\"Ihre Email-Adresse eingeben\">\n",
        "Anmelden\n",
        "<input type=\"hidden\" name=\"inp_40840\" value=\"DE_2014\">\n",
        "</form>\n",
        "========================================\n",
        "<form action=\"https://www.rakuten.de/kundenkonto/newsletter/anmelden\" method=\"post\">\n",
        "<input type=\"text\" name=\"newsletter\" id=\"newsletter\" class=\"tr_footer_newsletter_input\" value=\"Ihre E-Mail-Adresse\" target=\"https://www.rakuten.de/kundenkonto/newsletter/anmelden\">\n",
        "<input type=\"submit\" id=\"button\" value=\"OK\" class=\"tr_footer_newsletter_icon\">\n",
        "</form>\n",
        "========================================\n",
        "<form id=\"form_news\" name=\"form_news\"> Recevoir la newsletter bimensuelle de routard.com  <input id=\"email_news\" name=\"email_news\" type=\"text\" value=\"Votre adresse email\">         \u00a0    <a href=\"/pages_spe/newsletter\" target=\"_blank\">consulter un exemple</a> \u00a0  </form>\n",
        "========================================\n",
        "<form name=\"ccoptin\" action=\"http://visitor.r20.constantcontact.com/d.jsp\" target=\"_blank\" method=\"post\"> Sign up for our Happy Homes Email Newsletter \u00a0<input type=\"text\" name=\"ea\" size=\"16\" value=\"\"> <input type=\"submit\" name=\"go\" value=\"GO\"> <input type=\"hidden\" name=\"llr\" value=\"uxruvzcab\"> <input type=\"hidden\" name=\"m\" value=\"1102520665844\"> <input type=\"hidden\" name=\"p\" value=\"oi\"> </form>\n",
        "========================================\n",
        "<form action=\"http://trendo.bg/user/signup/flybox\" method=\"POST\" id=\"signup_flybox\">\n",
        "<input type=\"text\" name=\"signup[email]\" value=\"\" class=\"form-control\">\n",
        "<input type=\"hidden\" name=\"signup[gender]\" value=\"\">\n",
        "<input type=\"submit\" value=\" \u041c\u044a\u0436\" class=\"btn btn-default\">\n",
        "<input type=\"submit\" value=\"\u0416\u0435\u043d\u0430\" class=\"btn btn-default\">\n",
        "</form>\n",
        "========================================\n",
        "<form method=\"get\" action=\"/web/en/emailSubscription.page\">\n",
        "<input type=\"text\" id=\"signupText\" class=\"mr20 empty\" name=\"emailsignup\" value=\"Enter e-mail address\">\n",
        "<input type=\"submit\" id=\"signupButton\" name=\"btnFooterSignUp\" value=\"Sign up\">\n",
        "<input type=\"hidden\" value=\"e\" name=\"cmtag\">\n",
        "</form>\n",
        "========================================\n",
        "<form action=\"https://wpmudev.us1.list-manage.com/subscribe/post?u=4e8bfa5d84735d9c9d7016040&amp;id=1ba864f654\" method=\"post\" id=\"mc-embedded-subscribe-form\" name=\"mc-embedded-subscribe-form\" class=\"validate\" target=\"_blank\">\n",
        "<label for=\"newsletter-email\">Sign up for the WPMU DEV Newsletter!</label>\n",
        "<input value=\"\" name=\"EMAIL\" class=\"required email\" id=\"mce-EMAIL\" type=\"text\">\n",
        "<input type=\"submit\" class=\"submit\" value=\"Submit\" id=\"wpmu-mailchimp-send\">\n",
        "</form>\n",
        "========================================\n",
        "<form id=\"newsletterValidateDetail\" method=\"post\" action=\"/newsletter/subscriber/new\" name=\"footer.newsletter\">\n",
        "<input type=\"hidden\" value=\"1\" name=\"wt_form\"> <input type=\"text\" class=\"email-correction inputText required-entry validate-email prefilled\" value=\"E-Mail-Adresse hier eingeben\" name=\"email\" id=\"newsletter\">\n",
        "F\u00fcr Frauen\n",
        "F\u00fcr M\u00e4nner\n",
        "<input type=\"hidden\" name=\"_xtk\" value=\"m50vxeTVWWp9r5LNVDcYpZwcTFpFrEX6pvw9IUepK6EY1uFT3l3opqqQfsfuvYpb\">\n",
        "</form>\n",
        "========================================\n",
        "<form id=\"newsletterValidateDetail\" method=\"post\" action=\"/newsletter/subscriber/new\" name=\"footer.newsletter\">\n",
        "<input type=\"hidden\" value=\"1\" name=\"wt_form\"> <input type=\"text\" class=\"email-correction inputText required-entry validate-email prefilled\" value=\"E-Mail-Adresse hier eingeben\" name=\"email\" id=\"newsletter\">\n",
        "F\u00fcr Frauen\n",
        "F\u00fcr M\u00e4nner\n",
        "<input type=\"hidden\" name=\"_xtk\" value=\"gM9xzfZWpPVdsDP1yb2u5FRcSxxA3MOjR3suJmfK8FhluuHjS0QMJIRq5B0kzBPN\">\n",
        "</form>\n",
        "========================================\n",
        "<form id=\"newsletterValidateDetail\" method=\"post\" action=\"/newsletter/subscriber/new\" name=\"footer.newsletter\">\n",
        "<input type=\"hidden\" value=\"1\" name=\"wt_form\"> <input type=\"text\" class=\"email-correction inputText required-entry validate-email prefilled\" value=\"E-Mail-Adresse hier eingeben\" name=\"email\" id=\"newsletter\">\n",
        "F\u00fcr Frauen\n",
        "F\u00fcr M\u00e4nner\n",
        "<input type=\"hidden\" name=\"_xtk\" value=\"KydAFS3DVnsPWyVjSb51dftpgpvbtfQOgj708t8fcGjXnsyhDtdcQYCjr7b9sN78\">\n",
        "</form>\n",
        "========================================\n",
        "<form id=\"page_footer_iaFooter_emailSignup-form\" class=\"AcAJ-form\" method=\"post\" action=\"https://www.zazzle.com/eml/signupdialog\" name=\"emailSignup\" target=\"emailSignupWindow\" accept-charset=\"UTF-8\">\n",
        "<input id=\"page_footer_iaFooter_emailSignup_elements_email-input\" class=\" \" name=\"em\" type=\"text\">\n",
        "<input type=\"hidden\" name=\"pn\" id=\"page_footer_iaFooter_emailSignup_elements_zWidget1-input\" value=\"Zazzle\">\n",
        "Sign me up!\n",
        "</form>\n",
        "========================================\n",
        "<form id=\"page_footer_iaFooter_emailSignup2-form\" class=\"AcAJ-form\" method=\"post\" action=\"https://www.zazzle.com/eml/signupdialog\" name=\"emailSignup2\" target=\"emailSignupWindow\" accept-charset=\"UTF-8\">\n",
        "<input id=\"page_footer_iaFooter_emailSignup2_elements_email-input\" class=\" \" name=\"em\" type=\"text\">\n",
        "<input type=\"hidden\" name=\"pn\" id=\"page_footer_iaFooter_emailSignup2_elements_zWidget1-input\" value=\"Zazzle\">\n",
        "</form>\n",
        "========================================\n",
        "<form id=\"page_footer_iaFooter_emailSignup-form\" class=\"AcAJ-form\" method=\"post\" action=\"http://www.zazzle.com/eml/signupdialog\" name=\"emailSignup\" target=\"emailSignupWindow\" accept-charset=\"UTF-8\">\n",
        "<input id=\"page_footer_iaFooter_emailSignup_elements_email-input\" class=\" \" name=\"em\" type=\"text\">\n",
        "<input type=\"hidden\" name=\"pn\" id=\"page_footer_iaFooter_emailSignup_elements_zWidget1-input\" value=\"Zazzle\">\n",
        "Sign me up!\n",
        "</form>\n",
        "========================================\n",
        "<form id=\"page_footer_iaFooter_emailSignup2-form\" class=\"AcAJ-form\" method=\"post\" action=\"http://www.zazzle.com/eml/signupdialog\" name=\"emailSignup2\" target=\"emailSignupWindow\" accept-charset=\"UTF-8\">\n",
        "<input id=\"page_footer_iaFooter_emailSignup2_elements_email-input\" class=\" \" name=\"em\" type=\"text\">\n",
        "<input type=\"hidden\" name=\"pn\" id=\"page_footer_iaFooter_emailSignup2_elements_zWidget1-input\" value=\"Zazzle\">\n",
        "</form>\n",
        "========================================\n"
       ]
      }
     ],
     "prompt_number": 5
    },
    {
     "cell_type": "code",
     "collapsed": false,
     "input": [],
     "language": "python",
     "metadata": {},
     "outputs": []
    }
   ],
   "metadata": {}
  }
 ]
}