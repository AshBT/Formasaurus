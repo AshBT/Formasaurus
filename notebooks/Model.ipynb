{
 "metadata": {
  "name": "",
  "signature": "sha256:138980b940565112ab48ebfdd622677c72d27fa9a0d8bf216379ab3c7c06d866"
 },
 "nbformat": 3,
 "nbformat_minor": 0,
 "worksheets": [
  {
   "cells": [
    {
     "cell_type": "code",
     "collapsed": false,
     "input": [
      "import sys\n",
      "sys.path.insert(0, '..')\n",
      "\n",
      "from formtype import features, evaluation\n",
      "from formtype.storage import Storage, FORM_TYPES, FORM_TYPES_INV, load_html"
     ],
     "language": "python",
     "metadata": {},
     "outputs": [],
     "prompt_number": 1
    },
    {
     "cell_type": "markdown",
     "metadata": {},
     "source": [
      "### Available training data"
     ]
    },
    {
     "cell_type": "code",
     "collapsed": false,
     "input": [
      "storage = Storage(\"../data\")\n",
      "storage.check()\n",
      "storage.print_type_counts()"
     ],
     "language": "python",
     "metadata": {},
     "outputs": [
      {
       "output_type": "stream",
       "stream": "stdout",
       "text": [
        "\r",
        "Checking: |----------| 0/343   0% [elapsed: 00:00 left: ?, ? iters/sec]"
       ]
      },
      {
       "output_type": "stream",
       "stream": "stdout",
       "text": [
        "\r",
        "Checking: |----------| 1/343   0% [elapsed: 00:00 left: 00:01, 317.15 iters/sec]"
       ]
      },
      {
       "output_type": "stream",
       "stream": "stdout",
       "text": [
        "\r",
        "Checking: |----------| 2/343   0% [elapsed: 00:00 left: 00:04, 81.69 iters/sec] "
       ]
      },
      {
       "output_type": "stream",
       "stream": "stdout",
       "text": [
        "\r",
        "Checking: |----------| 3/343   0% [elapsed: 00:00 left: 00:04, 82.02 iters/sec]"
       ]
      },
      {
       "output_type": "stream",
       "stream": "stdout",
       "text": [
        "\r",
        "Checking: |----------| 4/343   1% [elapsed: 00:00 left: 00:04, 83.87 iters/sec]"
       ]
      },
      {
       "output_type": "stream",
       "stream": "stdout",
       "text": [
        "\r",
        "Checking: |----------| 5/343   1% [elapsed: 00:00 left: 00:04, 84.48 iters/sec]"
       ]
      },
      {
       "output_type": "stream",
       "stream": "stdout",
       "text": [
        "\r",
        "Checking: |----------| 6/343   1% [elapsed: 00:00 left: 00:03, 94.54 iters/sec]"
       ]
      },
      {
       "output_type": "stream",
       "stream": "stdout",
       "text": [
        "\r",
        "Checking: |----------| 7/343   2% [elapsed: 00:00 left: 00:03, 94.27 iters/sec]"
       ]
      },
      {
       "output_type": "stream",
       "stream": "stdout",
       "text": [
        "\r",
        "Checking: |----------| 8/343   2% [elapsed: 00:00 left: 00:03, 102.80 iters/sec]"
       ]
      },
      {
       "output_type": "stream",
       "stream": "stdout",
       "text": [
        "\r",
        "Checking: |----------| 9/343   2% [elapsed: 00:00 left: 00:03, 99.38 iters/sec] "
       ]
      },
      {
       "output_type": "stream",
       "stream": "stdout",
       "text": [
        "\r",
        "Checking: |----------| 10/343   2% [elapsed: 00:00 left: 00:03, 103.30 iters/sec]"
       ]
      },
      {
       "output_type": "stream",
       "stream": "stdout",
       "text": [
        "\r",
        "Checking: |----------| 11/343   3% [elapsed: 00:00 left: 00:02, 111.27 iters/sec]"
       ]
      },
      {
       "output_type": "stream",
       "stream": "stdout",
       "text": [
        "\r",
        "Checking: |----------| 12/343   3% [elapsed: 00:00 left: 00:02, 116.77 iters/sec]"
       ]
      },
      {
       "output_type": "stream",
       "stream": "stdout",
       "text": [
        "\r",
        "Checking: |----------| 13/343   3% [elapsed: 00:00 left: 00:03, 97.27 iters/sec] "
       ]
      },
      {
       "output_type": "stream",
       "stream": "stdout",
       "text": [
        "\r",
        "Checking: |----------| 14/343   4% [elapsed: 00:00 left: 00:03, 96.09 iters/sec]"
       ]
      },
      {
       "output_type": "stream",
       "stream": "stdout",
       "text": [
        "\r",
        "Checking: |----------| 15/343   4% [elapsed: 00:00 left: 00:03, 93.06 iters/sec]"
       ]
      },
      {
       "output_type": "stream",
       "stream": "stdout",
       "text": [
        "\r",
        "Checking: |----------| 16/343   4% [elapsed: 00:00 left: 00:03, 94.38 iters/sec]"
       ]
      },
      {
       "output_type": "stream",
       "stream": "stdout",
       "text": [
        "\r",
        "Checking: |----------| 17/343   4% [elapsed: 00:00 left: 00:03, 97.44 iters/sec]"
       ]
      },
      {
       "output_type": "stream",
       "stream": "stdout",
       "text": [
        "\r",
        "Checking: |----------| 18/343   5% [elapsed: 00:00 left: 00:03, 101.43 iters/sec]"
       ]
      },
      {
       "output_type": "stream",
       "stream": "stdout",
       "text": [
        "\r",
        "Checking: |----------| 19/343   5% [elapsed: 00:00 left: 00:03, 102.36 iters/sec]"
       ]
      },
      {
       "output_type": "stream",
       "stream": "stdout",
       "text": [
        "\r",
        "Checking: |----------| 20/343   5% [elapsed: 00:00 left: 00:03, 103.46 iters/sec]"
       ]
      },
      {
       "output_type": "stream",
       "stream": "stdout",
       "text": [
        "\r",
        "Checking: |----------| 21/343   6% [elapsed: 00:00 left: 00:03, 105.44 iters/sec]"
       ]
      },
      {
       "output_type": "stream",
       "stream": "stdout",
       "text": [
        "\r",
        "Checking: |----------| 22/343   6% [elapsed: 00:00 left: 00:02, 109.24 iters/sec]"
       ]
      },
      {
       "output_type": "stream",
       "stream": "stdout",
       "text": [
        "\r",
        "Checking: |----------| 23/343   6% [elapsed: 00:00 left: 00:02, 108.47 iters/sec]"
       ]
      },
      {
       "output_type": "stream",
       "stream": "stdout",
       "text": [
        "\r",
        "Checking: |----------| 24/343   6% [elapsed: 00:00 left: 00:02, 111.21 iters/sec]"
       ]
      },
      {
       "output_type": "stream",
       "stream": "stdout",
       "text": [
        "\r",
        "Checking: |----------| 25/343   7% [elapsed: 00:00 left: 00:02, 110.05 iters/sec]"
       ]
      },
      {
       "output_type": "stream",
       "stream": "stdout",
       "text": [
        "\r",
        "Checking: |----------| 26/343   7% [elapsed: 00:00 left: 00:02, 110.16 iters/sec]"
       ]
      },
      {
       "output_type": "stream",
       "stream": "stdout",
       "text": [
        "\r",
        "Checking: |----------| 27/343   7% [elapsed: 00:00 left: 00:02, 112.46 iters/sec]"
       ]
      },
      {
       "output_type": "stream",
       "stream": "stdout",
       "text": [
        "\r",
        "Checking: |----------| 28/343   8% [elapsed: 00:00 left: 00:02, 109.09 iters/sec]"
       ]
      },
      {
       "output_type": "stream",
       "stream": "stdout",
       "text": [
        "\r",
        "Checking: |----------| 29/343   8% [elapsed: 00:00 left: 00:02, 109.67 iters/sec]"
       ]
      },
      {
       "output_type": "stream",
       "stream": "stdout",
       "text": [
        "\r",
        "Checking: |----------| 30/343   8% [elapsed: 00:00 left: 00:02, 110.46 iters/sec]"
       ]
      },
      {
       "output_type": "stream",
       "stream": "stdout",
       "text": [
        "\r",
        "Checking: |----------| 31/343   9% [elapsed: 00:00 left: 00:02, 110.45 iters/sec]"
       ]
      },
      {
       "output_type": "stream",
       "stream": "stdout",
       "text": [
        "\r",
        "Checking: |----------| 32/343   9% [elapsed: 00:00 left: 00:02, 112.67 iters/sec]"
       ]
      },
      {
       "output_type": "stream",
       "stream": "stdout",
       "text": [
        "\r",
        "Checking: |----------| 33/343   9% [elapsed: 00:00 left: 00:02, 115.01 iters/sec]"
       ]
      },
      {
       "output_type": "stream",
       "stream": "stdout",
       "text": [
        "\r",
        "Checking: |----------| 34/343   9% [elapsed: 00:00 left: 00:02, 116.88 iters/sec]"
       ]
      },
      {
       "output_type": "stream",
       "stream": "stdout",
       "text": [
        "\r",
        "Checking: |#---------| 35/343  10% [elapsed: 00:00 left: 00:02, 118.36 iters/sec]"
       ]
      },
      {
       "output_type": "stream",
       "stream": "stdout",
       "text": [
        "\r",
        "Checking: |#---------| 36/343  10% [elapsed: 00:00 left: 00:02, 119.67 iters/sec]"
       ]
      },
      {
       "output_type": "stream",
       "stream": "stdout",
       "text": [
        "\r",
        "Checking: |#---------| 37/343  10% [elapsed: 00:00 left: 00:02, 118.69 iters/sec]"
       ]
      },
      {
       "output_type": "stream",
       "stream": "stdout",
       "text": [
        "\r",
        "Checking: |#---------| 38/343  11% [elapsed: 00:00 left: 00:02, 119.07 iters/sec]"
       ]
      },
      {
       "output_type": "stream",
       "stream": "stdout",
       "text": [
        "\r",
        "Checking: |#---------| 39/343  11% [elapsed: 00:00 left: 00:02, 110.71 iters/sec]"
       ]
      },
      {
       "output_type": "stream",
       "stream": "stdout",
       "text": [
        "\r",
        "Checking: |#---------| 40/343  11% [elapsed: 00:00 left: 00:02, 110.73 iters/sec]"
       ]
      },
      {
       "output_type": "stream",
       "stream": "stdout",
       "text": [
        "\r",
        "Checking: |#---------| 41/343  11% [elapsed: 00:00 left: 00:02, 111.55 iters/sec]"
       ]
      },
      {
       "output_type": "stream",
       "stream": "stdout",
       "text": [
        "\r",
        "Checking: |#---------| 42/343  12% [elapsed: 00:00 left: 00:02, 110.92 iters/sec]"
       ]
      },
      {
       "output_type": "stream",
       "stream": "stdout",
       "text": [
        "\r",
        "Checking: |#---------| 43/343  12% [elapsed: 00:00 left: 00:02, 112.59 iters/sec]"
       ]
      },
      {
       "output_type": "stream",
       "stream": "stdout",
       "text": [
        "\r",
        "Checking: |#---------| 44/343  12% [elapsed: 00:00 left: 00:02, 114.41 iters/sec]"
       ]
      },
      {
       "output_type": "stream",
       "stream": "stdout",
       "text": [
        "\r",
        "Checking: |#---------| 45/343  13% [elapsed: 00:00 left: 00:02, 115.96 iters/sec]"
       ]
      },
      {
       "output_type": "stream",
       "stream": "stdout",
       "text": [
        "\r",
        "Checking: |#---------| 46/343  13% [elapsed: 00:00 left: 00:02, 117.96 iters/sec]"
       ]
      },
      {
       "output_type": "stream",
       "stream": "stdout",
       "text": [
        "\r",
        "Checking: |#---------| 47/343  13% [elapsed: 00:00 left: 00:02, 119.93 iters/sec]"
       ]
      },
      {
       "output_type": "stream",
       "stream": "stdout",
       "text": [
        "\r",
        "Checking: |#---------| 48/343  13% [elapsed: 00:00 left: 00:02, 121.48 iters/sec]"
       ]
      },
      {
       "output_type": "stream",
       "stream": "stdout",
       "text": [
        "\r",
        "Checking: |#---------| 49/343  14% [elapsed: 00:00 left: 00:02, 122.10 iters/sec]"
       ]
      },
      {
       "output_type": "stream",
       "stream": "stdout",
       "text": [
        "\r",
        "Checking: |#---------| 50/343  14% [elapsed: 00:00 left: 00:02, 123.35 iters/sec]"
       ]
      },
      {
       "output_type": "stream",
       "stream": "stdout",
       "text": [
        "\r",
        "Checking: |#---------| 51/343  14% [elapsed: 00:00 left: 00:02, 125.00 iters/sec]"
       ]
      },
      {
       "output_type": "stream",
       "stream": "stdout",
       "text": [
        "\r",
        "Checking: |#---------| 52/343  15% [elapsed: 00:00 left: 00:02, 125.34 iters/sec]"
       ]
      },
      {
       "output_type": "stream",
       "stream": "stdout",
       "text": [
        "\r",
        "Checking: |#---------| 53/343  15% [elapsed: 00:00 left: 00:02, 126.43 iters/sec]"
       ]
      },
      {
       "output_type": "stream",
       "stream": "stdout",
       "text": [
        "\r",
        "Checking: |#---------| 54/343  15% [elapsed: 00:00 left: 00:02, 125.82 iters/sec]"
       ]
      },
      {
       "output_type": "stream",
       "stream": "stdout",
       "text": [
        "\r",
        "Checking: |#---------| 55/343  16% [elapsed: 00:00 left: 00:02, 126.04 iters/sec]"
       ]
      },
      {
       "output_type": "stream",
       "stream": "stdout",
       "text": [
        "\r",
        "Checking: |#---------| 56/343  16% [elapsed: 00:00 left: 00:02, 127.30 iters/sec]"
       ]
      },
      {
       "output_type": "stream",
       "stream": "stdout",
       "text": [
        "\r",
        "Checking: |#---------| 57/343  16% [elapsed: 00:00 left: 00:02, 128.37 iters/sec]"
       ]
      },
      {
       "output_type": "stream",
       "stream": "stdout",
       "text": [
        "\r",
        "Checking: |#---------| 58/343  16% [elapsed: 00:00 left: 00:02, 129.82 iters/sec]"
       ]
      },
      {
       "output_type": "stream",
       "stream": "stdout",
       "text": [
        "\r",
        "Checking: |#---------| 59/343  17% [elapsed: 00:00 left: 00:02, 129.79 iters/sec]"
       ]
      },
      {
       "output_type": "stream",
       "stream": "stdout",
       "text": [
        "\r",
        "Checking: |#---------| 60/343  17% [elapsed: 00:00 left: 00:02, 130.30 iters/sec]"
       ]
      },
      {
       "output_type": "stream",
       "stream": "stdout",
       "text": [
        "\r",
        "Checking: |#---------| 61/343  17% [elapsed: 00:00 left: 00:02, 131.70 iters/sec]"
       ]
      },
      {
       "output_type": "stream",
       "stream": "stdout",
       "text": [
        "\r",
        "Checking: |#---------| 62/343  18% [elapsed: 00:00 left: 00:02, 131.21 iters/sec]"
       ]
      },
      {
       "output_type": "stream",
       "stream": "stdout",
       "text": [
        "\r",
        "Checking: |#---------| 63/343  18% [elapsed: 00:00 left: 00:02, 132.42 iters/sec]"
       ]
      },
      {
       "output_type": "stream",
       "stream": "stdout",
       "text": [
        "\r",
        "Checking: |#---------| 64/343  18% [elapsed: 00:00 left: 00:02, 133.54 iters/sec]"
       ]
      },
      {
       "output_type": "stream",
       "stream": "stdout",
       "text": [
        "\r",
        "Checking: |#---------| 65/343  18% [elapsed: 00:00 left: 00:02, 133.13 iters/sec]"
       ]
      },
      {
       "output_type": "stream",
       "stream": "stdout",
       "text": [
        "\r",
        "Checking: |#---------| 66/343  19% [elapsed: 00:00 left: 00:02, 133.57 iters/sec]"
       ]
      },
      {
       "output_type": "stream",
       "stream": "stdout",
       "text": [
        "\r",
        "Checking: |#---------| 67/343  19% [elapsed: 00:00 left: 00:02, 134.60 iters/sec]"
       ]
      },
      {
       "output_type": "stream",
       "stream": "stdout",
       "text": [
        "\r",
        "Checking: |#---------| 68/343  19% [elapsed: 00:00 left: 00:02, 134.56 iters/sec]"
       ]
      },
      {
       "output_type": "stream",
       "stream": "stdout",
       "text": [
        "\r",
        "Checking: |##--------| 69/343  20% [elapsed: 00:00 left: 00:02, 134.53 iters/sec]"
       ]
      },
      {
       "output_type": "stream",
       "stream": "stdout",
       "text": [
        "\r",
        "Checking: |##--------| 70/343  20% [elapsed: 00:00 left: 00:02, 133.59 iters/sec]"
       ]
      },
      {
       "output_type": "stream",
       "stream": "stdout",
       "text": [
        "\r",
        "Checking: |##--------| 71/343  20% [elapsed: 00:00 left: 00:02, 134.37 iters/sec]"
       ]
      },
      {
       "output_type": "stream",
       "stream": "stdout",
       "text": [
        "\r",
        "Checking: |##--------| 72/343  20% [elapsed: 00:00 left: 00:02, 134.98 iters/sec]"
       ]
      },
      {
       "output_type": "stream",
       "stream": "stdout",
       "text": [
        "\r",
        "Checking: |##--------| 73/343  21% [elapsed: 00:00 left: 00:02, 133.40 iters/sec]"
       ]
      },
      {
       "output_type": "stream",
       "stream": "stdout",
       "text": [
        "\r",
        "Checking: |##--------| 74/343  21% [elapsed: 00:00 left: 00:02, 131.98 iters/sec]"
       ]
      },
      {
       "output_type": "stream",
       "stream": "stdout",
       "text": [
        "\r",
        "Checking: |##--------| 75/343  21% [elapsed: 00:00 left: 00:02, 132.56 iters/sec]"
       ]
      },
      {
       "output_type": "stream",
       "stream": "stdout",
       "text": [
        "\r",
        "Checking: |##--------| 76/343  22% [elapsed: 00:00 left: 00:02, 133.10 iters/sec]"
       ]
      },
      {
       "output_type": "stream",
       "stream": "stdout",
       "text": [
        "\r",
        "Checking: |##--------| 77/343  22% [elapsed: 00:00 left: 00:02, 132.87 iters/sec]"
       ]
      },
      {
       "output_type": "stream",
       "stream": "stdout",
       "text": [
        "\r",
        "Checking: |##--------| 78/343  22% [elapsed: 00:00 left: 00:01, 133.91 iters/sec]"
       ]
      },
      {
       "output_type": "stream",
       "stream": "stdout",
       "text": [
        "\r",
        "Checking: |##--------| 79/343  23% [elapsed: 00:00 left: 00:01, 134.37 iters/sec]"
       ]
      },
      {
       "output_type": "stream",
       "stream": "stdout",
       "text": [
        "\r",
        "Checking: |##--------| 80/343  23% [elapsed: 00:00 left: 00:01, 135.02 iters/sec]"
       ]
      },
      {
       "output_type": "stream",
       "stream": "stdout",
       "text": [
        "\r",
        "Checking: |##--------| 81/343  23% [elapsed: 00:00 left: 00:01, 135.81 iters/sec]"
       ]
      },
      {
       "output_type": "stream",
       "stream": "stdout",
       "text": [
        "\r",
        "Checking: |##--------| 82/343  23% [elapsed: 00:00 left: 00:01, 136.76 iters/sec]"
       ]
      },
      {
       "output_type": "stream",
       "stream": "stdout",
       "text": [
        "\r",
        "Checking: |##--------| 83/343  24% [elapsed: 00:00 left: 00:01, 136.98 iters/sec]"
       ]
      },
      {
       "output_type": "stream",
       "stream": "stdout",
       "text": [
        "\r",
        "Checking: |##--------| 84/343  24% [elapsed: 00:00 left: 00:01, 137.81 iters/sec]"
       ]
      },
      {
       "output_type": "stream",
       "stream": "stdout",
       "text": [
        "\r",
        "Checking: |##--------| 85/343  24% [elapsed: 00:00 left: 00:01, 138.83 iters/sec]"
       ]
      },
      {
       "output_type": "stream",
       "stream": "stdout",
       "text": [
        "\r",
        "Checking: |##--------| 86/343  25% [elapsed: 00:00 left: 00:01, 138.87 iters/sec]"
       ]
      },
      {
       "output_type": "stream",
       "stream": "stdout",
       "text": [
        "\r",
        "Checking: |##--------| 87/343  25% [elapsed: 00:00 left: 00:01, 139.64 iters/sec]"
       ]
      },
      {
       "output_type": "stream",
       "stream": "stdout",
       "text": [
        "\r",
        "Checking: |##--------| 88/343  25% [elapsed: 00:00 left: 00:01, 140.69 iters/sec]"
       ]
      },
      {
       "output_type": "stream",
       "stream": "stdout",
       "text": [
        "\r",
        "Checking: |##--------| 89/343  25% [elapsed: 00:00 left: 00:01, 141.15 iters/sec]"
       ]
      },
      {
       "output_type": "stream",
       "stream": "stdout",
       "text": [
        "\r",
        "Checking: |##--------| 90/343  26% [elapsed: 00:00 left: 00:01, 141.83 iters/sec]"
       ]
      },
      {
       "output_type": "stream",
       "stream": "stdout",
       "text": [
        "\r",
        "Checking: |##--------| 91/343  26% [elapsed: 00:00 left: 00:01, 141.63 iters/sec]"
       ]
      },
      {
       "output_type": "stream",
       "stream": "stdout",
       "text": [
        "\r",
        "Checking: |##--------| 92/343  26% [elapsed: 00:00 left: 00:01, 142.19 iters/sec]"
       ]
      },
      {
       "output_type": "stream",
       "stream": "stdout",
       "text": [
        "\r",
        "Checking: |##--------| 93/343  27% [elapsed: 00:00 left: 00:01, 142.94 iters/sec]"
       ]
      },
      {
       "output_type": "stream",
       "stream": "stdout",
       "text": [
        "\r",
        "Checking: |##--------| 94/343  27% [elapsed: 00:00 left: 00:01, 143.63 iters/sec]"
       ]
      },
      {
       "output_type": "stream",
       "stream": "stdout",
       "text": [
        "\r",
        "Checking: |##--------| 95/343  27% [elapsed: 00:00 left: 00:01, 144.24 iters/sec]"
       ]
      },
      {
       "output_type": "stream",
       "stream": "stdout",
       "text": [
        "\r",
        "Checking: |##--------| 96/343  27% [elapsed: 00:00 left: 00:01, 143.81 iters/sec]"
       ]
      },
      {
       "output_type": "stream",
       "stream": "stdout",
       "text": [
        "\r",
        "Checking: |##--------| 97/343  28% [elapsed: 00:00 left: 00:01, 144.53 iters/sec]"
       ]
      },
      {
       "output_type": "stream",
       "stream": "stdout",
       "text": [
        "\r",
        "Checking: |##--------| 98/343  28% [elapsed: 00:00 left: 00:01, 145.40 iters/sec]"
       ]
      },
      {
       "output_type": "stream",
       "stream": "stdout",
       "text": [
        "\r",
        "Checking: |##--------| 99/343  28% [elapsed: 00:00 left: 00:01, 146.09 iters/sec]"
       ]
      },
      {
       "output_type": "stream",
       "stream": "stdout",
       "text": [
        "\r",
        "Checking: |##--------| 100/343  29% [elapsed: 00:00 left: 00:01, 147.16 iters/sec]"
       ]
      },
      {
       "output_type": "stream",
       "stream": "stdout",
       "text": [
        "\r",
        "Checking: |##--------| 101/343  29% [elapsed: 00:00 left: 00:01, 146.91 iters/sec]"
       ]
      },
      {
       "output_type": "stream",
       "stream": "stdout",
       "text": [
        "\r",
        "Checking: |##--------| 102/343  29% [elapsed: 00:00 left: 00:01, 145.67 iters/sec]"
       ]
      },
      {
       "output_type": "stream",
       "stream": "stdout",
       "text": [
        "\r",
        "Checking: |###-------| 103/343  30% [elapsed: 00:00 left: 00:01, 145.25 iters/sec]"
       ]
      },
      {
       "output_type": "stream",
       "stream": "stdout",
       "text": [
        "\r",
        "Checking: |###-------| 104/343  30% [elapsed: 00:00 left: 00:01, 145.90 iters/sec]"
       ]
      },
      {
       "output_type": "stream",
       "stream": "stdout",
       "text": [
        "\r",
        "Checking: |###-------| 105/343  30% [elapsed: 00:00 left: 00:01, 146.82 iters/sec]"
       ]
      },
      {
       "output_type": "stream",
       "stream": "stdout",
       "text": [
        "\r",
        "Checking: |###-------| 106/343  30% [elapsed: 00:00 left: 00:01, 147.61 iters/sec]"
       ]
      },
      {
       "output_type": "stream",
       "stream": "stdout",
       "text": [
        "\r",
        "Checking: |###-------| 107/343  31% [elapsed: 00:00 left: 00:01, 147.21 iters/sec]"
       ]
      },
      {
       "output_type": "stream",
       "stream": "stdout",
       "text": [
        "\r",
        "Checking: |###-------| 108/343  31% [elapsed: 00:00 left: 00:01, 145.06 iters/sec]"
       ]
      },
      {
       "output_type": "stream",
       "stream": "stdout",
       "text": [
        "\r",
        "Checking: |###-------| 109/343  31% [elapsed: 00:00 left: 00:01, 145.44 iters/sec]"
       ]
      },
      {
       "output_type": "stream",
       "stream": "stdout",
       "text": [
        "\r",
        "Checking: |###-------| 110/343  32% [elapsed: 00:00 left: 00:01, 146.39 iters/sec]"
       ]
      },
      {
       "output_type": "stream",
       "stream": "stdout",
       "text": [
        "\r",
        "Checking: |###-------| 111/343  32% [elapsed: 00:00 left: 00:01, 147.19 iters/sec]"
       ]
      },
      {
       "output_type": "stream",
       "stream": "stdout",
       "text": [
        "\r",
        "Checking: |###-------| 112/343  32% [elapsed: 00:00 left: 00:01, 147.24 iters/sec]"
       ]
      },
      {
       "output_type": "stream",
       "stream": "stdout",
       "text": [
        "\r",
        "Checking: |###-------| 113/343  32% [elapsed: 00:00 left: 00:01, 146.82 iters/sec]"
       ]
      },
      {
       "output_type": "stream",
       "stream": "stdout",
       "text": [
        "\r",
        "Checking: |###-------| 114/343  33% [elapsed: 00:00 left: 00:01, 147.58 iters/sec]"
       ]
      },
      {
       "output_type": "stream",
       "stream": "stdout",
       "text": [
        "\r",
        "Checking: |###-------| 115/343  33% [elapsed: 00:00 left: 00:01, 148.00 iters/sec]"
       ]
      },
      {
       "output_type": "stream",
       "stream": "stdout",
       "text": [
        "\r",
        "Checking: |###-------| 116/343  33% [elapsed: 00:00 left: 00:01, 148.51 iters/sec]"
       ]
      },
      {
       "output_type": "stream",
       "stream": "stdout",
       "text": [
        "\r",
        "Checking: |###-------| 117/343  34% [elapsed: 00:00 left: 00:01, 148.43 iters/sec]"
       ]
      },
      {
       "output_type": "stream",
       "stream": "stdout",
       "text": [
        "\r",
        "Checking: |###-------| 118/343  34% [elapsed: 00:00 left: 00:01, 146.57 iters/sec]"
       ]
      },
      {
       "output_type": "stream",
       "stream": "stdout",
       "text": [
        "\r",
        "Checking: |###-------| 119/343  34% [elapsed: 00:00 left: 00:01, 146.18 iters/sec]"
       ]
      },
      {
       "output_type": "stream",
       "stream": "stdout",
       "text": [
        "\r",
        "Checking: |###-------| 120/343  34% [elapsed: 00:00 left: 00:01, 146.65 iters/sec]"
       ]
      },
      {
       "output_type": "stream",
       "stream": "stdout",
       "text": [
        "\r",
        "Checking: |###-------| 121/343  35% [elapsed: 00:00 left: 00:01, 146.75 iters/sec]"
       ]
      },
      {
       "output_type": "stream",
       "stream": "stdout",
       "text": [
        "\r",
        "Checking: |###-------| 122/343  35% [elapsed: 00:00 left: 00:01, 147.27 iters/sec]"
       ]
      },
      {
       "output_type": "stream",
       "stream": "stdout",
       "text": [
        "\r",
        "Checking: |###-------| 123/343  35% [elapsed: 00:00 left: 00:01, 148.03 iters/sec]"
       ]
      },
      {
       "output_type": "stream",
       "stream": "stdout",
       "text": [
        "\r",
        "Checking: |###-------| 124/343  36% [elapsed: 00:00 left: 00:01, 148.80 iters/sec]"
       ]
      },
      {
       "output_type": "stream",
       "stream": "stdout",
       "text": [
        "\r",
        "Checking: |###-------| 125/343  36% [elapsed: 00:00 left: 00:01, 148.92 iters/sec]"
       ]
      },
      {
       "output_type": "stream",
       "stream": "stdout",
       "text": [
        "\r",
        "Checking: |###-------| 126/343  36% [elapsed: 00:00 left: 00:01, 148.70 iters/sec]"
       ]
      },
      {
       "output_type": "stream",
       "stream": "stdout",
       "text": [
        "\r",
        "Checking: |###-------| 127/343  37% [elapsed: 00:00 left: 00:01, 149.41 iters/sec]"
       ]
      },
      {
       "output_type": "stream",
       "stream": "stdout",
       "text": [
        "\r",
        "Checking: |###-------| 128/343  37% [elapsed: 00:00 left: 00:01, 149.21 iters/sec]"
       ]
      },
      {
       "output_type": "stream",
       "stream": "stdout",
       "text": [
        "\r",
        "Checking: |###-------| 129/343  37% [elapsed: 00:00 left: 00:01, 149.00 iters/sec]"
       ]
      },
      {
       "output_type": "stream",
       "stream": "stdout",
       "text": [
        "\r",
        "Checking: |###-------| 130/343  37% [elapsed: 00:00 left: 00:01, 148.46 iters/sec]"
       ]
      },
      {
       "output_type": "stream",
       "stream": "stdout",
       "text": [
        "\r",
        "Checking: |###-------| 131/343  38% [elapsed: 00:00 left: 00:01, 148.76 iters/sec]"
       ]
      },
      {
       "output_type": "stream",
       "stream": "stdout",
       "text": [
        "\r",
        "Checking: |###-------| 132/343  38% [elapsed: 00:00 left: 00:01, 148.51 iters/sec]"
       ]
      },
      {
       "output_type": "stream",
       "stream": "stdout",
       "text": [
        "\r",
        "Checking: |###-------| 133/343  38% [elapsed: 00:00 left: 00:01, 148.70 iters/sec]"
       ]
      },
      {
       "output_type": "stream",
       "stream": "stdout",
       "text": [
        "\r",
        "Checking: |###-------| 134/343  39% [elapsed: 00:00 left: 00:01, 149.31 iters/sec]"
       ]
      },
      {
       "output_type": "stream",
       "stream": "stdout",
       "text": [
        "\r",
        "Checking: |###-------| 135/343  39% [elapsed: 00:00 left: 00:01, 149.68 iters/sec]"
       ]
      },
      {
       "output_type": "stream",
       "stream": "stdout",
       "text": [
        "\r",
        "Checking: |###-------| 136/343  39% [elapsed: 00:00 left: 00:01, 149.87 iters/sec]"
       ]
      },
      {
       "output_type": "stream",
       "stream": "stdout",
       "text": [
        "\r",
        "Checking: |###-------| 137/343  39% [elapsed: 00:00 left: 00:01, 149.19 iters/sec]"
       ]
      },
      {
       "output_type": "stream",
       "stream": "stdout",
       "text": [
        "\r",
        "Checking: |####------| 138/343  40% [elapsed: 00:00 left: 00:01, 149.62 iters/sec]"
       ]
      },
      {
       "output_type": "stream",
       "stream": "stdout",
       "text": [
        "\r",
        "Checking: |####------| 139/343  40% [elapsed: 00:00 left: 00:01, 150.43 iters/sec]"
       ]
      },
      {
       "output_type": "stream",
       "stream": "stdout",
       "text": [
        "\r",
        "Checking: |####------| 140/343  40% [elapsed: 00:00 left: 00:01, 150.47 iters/sec]"
       ]
      },
      {
       "output_type": "stream",
       "stream": "stdout",
       "text": [
        "\r",
        "Checking: |####------| 141/343  41% [elapsed: 00:00 left: 00:01, 151.14 iters/sec]"
       ]
      },
      {
       "output_type": "stream",
       "stream": "stdout",
       "text": [
        "\r",
        "Checking: |####------| 142/343  41% [elapsed: 00:00 left: 00:01, 151.19 iters/sec]"
       ]
      },
      {
       "output_type": "stream",
       "stream": "stdout",
       "text": [
        "\r",
        "Checking: |####------| 143/343  41% [elapsed: 00:00 left: 00:01, 151.43 iters/sec]"
       ]
      },
      {
       "output_type": "stream",
       "stream": "stdout",
       "text": [
        "\r",
        "Checking: |####------| 144/343  41% [elapsed: 00:00 left: 00:01, 150.48 iters/sec]"
       ]
      },
      {
       "output_type": "stream",
       "stream": "stdout",
       "text": [
        "\r",
        "Checking: |####------| 145/343  42% [elapsed: 00:00 left: 00:01, 150.72 iters/sec]"
       ]
      },
      {
       "output_type": "stream",
       "stream": "stdout",
       "text": [
        "\r",
        "Checking: |####------| 146/343  42% [elapsed: 00:00 left: 00:01, 146.43 iters/sec]"
       ]
      },
      {
       "output_type": "stream",
       "stream": "stdout",
       "text": [
        "\r",
        "Checking: |####------| 147/343  42% [elapsed: 00:01 left: 00:01, 145.62 iters/sec]"
       ]
      },
      {
       "output_type": "stream",
       "stream": "stdout",
       "text": [
        "\r",
        "Checking: |####------| 148/343  43% [elapsed: 00:01 left: 00:01, 145.53 iters/sec]"
       ]
      },
      {
       "output_type": "stream",
       "stream": "stdout",
       "text": [
        "\r",
        "Checking: |####------| 149/343  43% [elapsed: 00:01 left: 00:01, 145.82 iters/sec]"
       ]
      },
      {
       "output_type": "stream",
       "stream": "stdout",
       "text": [
        "\r",
        "Checking: |####------| 150/343  43% [elapsed: 00:01 left: 00:01, 145.99 iters/sec]"
       ]
      },
      {
       "output_type": "stream",
       "stream": "stdout",
       "text": [
        "\r",
        "Checking: |####------| 151/343  44% [elapsed: 00:01 left: 00:01, 145.52 iters/sec]"
       ]
      },
      {
       "output_type": "stream",
       "stream": "stdout",
       "text": [
        "\r",
        "Checking: |####------| 152/343  44% [elapsed: 00:01 left: 00:01, 145.54 iters/sec]"
       ]
      },
      {
       "output_type": "stream",
       "stream": "stdout",
       "text": [
        "\r",
        "Checking: |####------| 153/343  44% [elapsed: 00:01 left: 00:01, 145.90 iters/sec]"
       ]
      },
      {
       "output_type": "stream",
       "stream": "stdout",
       "text": [
        "\r",
        "Checking: |####------| 154/343  44% [elapsed: 00:01 left: 00:01, 146.30 iters/sec]"
       ]
      },
      {
       "output_type": "stream",
       "stream": "stdout",
       "text": [
        "\r",
        "Checking: |####------| 155/343  45% [elapsed: 00:01 left: 00:01, 146.88 iters/sec]"
       ]
      },
      {
       "output_type": "stream",
       "stream": "stdout",
       "text": [
        "\r",
        "Checking: |####------| 156/343  45% [elapsed: 00:01 left: 00:01, 147.36 iters/sec]"
       ]
      },
      {
       "output_type": "stream",
       "stream": "stdout",
       "text": [
        "\r",
        "Checking: |####------| 157/343  45% [elapsed: 00:01 left: 00:01, 147.86 iters/sec]"
       ]
      },
      {
       "output_type": "stream",
       "stream": "stdout",
       "text": [
        "\r",
        "Checking: |####------| 158/343  46% [elapsed: 00:01 left: 00:01, 148.26 iters/sec]"
       ]
      },
      {
       "output_type": "stream",
       "stream": "stdout",
       "text": [
        "\r",
        "Checking: |####------| 159/343  46% [elapsed: 00:01 left: 00:01, 147.73 iters/sec]"
       ]
      },
      {
       "output_type": "stream",
       "stream": "stdout",
       "text": [
        "\r",
        "Checking: |####------| 160/343  46% [elapsed: 00:01 left: 00:01, 148.22 iters/sec]"
       ]
      },
      {
       "output_type": "stream",
       "stream": "stdout",
       "text": [
        "\r",
        "Checking: |####------| 161/343  46% [elapsed: 00:01 left: 00:01, 145.67 iters/sec]"
       ]
      },
      {
       "output_type": "stream",
       "stream": "stdout",
       "text": [
        "\r",
        "Checking: |####------| 162/343  47% [elapsed: 00:01 left: 00:01, 145.45 iters/sec]"
       ]
      },
      {
       "output_type": "stream",
       "stream": "stdout",
       "text": [
        "\r",
        "Checking: |####------| 163/343  47% [elapsed: 00:01 left: 00:01, 145.83 iters/sec]"
       ]
      },
      {
       "output_type": "stream",
       "stream": "stdout",
       "text": [
        "\r",
        "Checking: |####------| 164/343  47% [elapsed: 00:01 left: 00:01, 146.14 iters/sec]"
       ]
      },
      {
       "output_type": "stream",
       "stream": "stdout",
       "text": [
        "\r",
        "Checking: |####------| 165/343  48% [elapsed: 00:01 left: 00:01, 146.08 iters/sec]"
       ]
      },
      {
       "output_type": "stream",
       "stream": "stdout",
       "text": [
        "\r",
        "Checking: |####------| 166/343  48% [elapsed: 00:01 left: 00:01, 145.73 iters/sec]"
       ]
      },
      {
       "output_type": "stream",
       "stream": "stdout",
       "text": [
        "\r",
        "Checking: |####------| 167/343  48% [elapsed: 00:01 left: 00:01, 146.04 iters/sec]"
       ]
      },
      {
       "output_type": "stream",
       "stream": "stdout",
       "text": [
        "\r",
        "Checking: |####------| 168/343  48% [elapsed: 00:01 left: 00:01, 146.36 iters/sec]"
       ]
      },
      {
       "output_type": "stream",
       "stream": "stdout",
       "text": [
        "\r",
        "Checking: |####------| 169/343  49% [elapsed: 00:01 left: 00:01, 146.85 iters/sec]"
       ]
      },
      {
       "output_type": "stream",
       "stream": "stdout",
       "text": [
        "\r",
        "Checking: |####------| 170/343  49% [elapsed: 00:01 left: 00:01, 147.34 iters/sec]"
       ]
      },
      {
       "output_type": "stream",
       "stream": "stdout",
       "text": [
        "\r",
        "Checking: |####------| 171/343  49% [elapsed: 00:01 left: 00:01, 147.53 iters/sec]"
       ]
      },
      {
       "output_type": "stream",
       "stream": "stdout",
       "text": [
        "\r",
        "Checking: |#####-----| 172/343  50% [elapsed: 00:01 left: 00:01, 147.52 iters/sec]"
       ]
      },
      {
       "output_type": "stream",
       "stream": "stdout",
       "text": [
        "\r",
        "Checking: |#####-----| 173/343  50% [elapsed: 00:01 left: 00:01, 148.09 iters/sec]"
       ]
      },
      {
       "output_type": "stream",
       "stream": "stdout",
       "text": [
        "\r",
        "Checking: |#####-----| 174/343  50% [elapsed: 00:01 left: 00:01, 147.66 iters/sec]"
       ]
      },
      {
       "output_type": "stream",
       "stream": "stdout",
       "text": [
        "\r",
        "Checking: |#####-----| 175/343  51% [elapsed: 00:01 left: 00:01, 147.87 iters/sec]"
       ]
      },
      {
       "output_type": "stream",
       "stream": "stdout",
       "text": [
        "\r",
        "Checking: |#####-----| 176/343  51% [elapsed: 00:01 left: 00:01, 148.36 iters/sec]"
       ]
      },
      {
       "output_type": "stream",
       "stream": "stdout",
       "text": [
        "\r",
        "Checking: |#####-----| 177/343  51% [elapsed: 00:01 left: 00:01, 148.79 iters/sec]"
       ]
      },
      {
       "output_type": "stream",
       "stream": "stdout",
       "text": [
        "\r",
        "Checking: |#####-----| 178/343  51% [elapsed: 00:01 left: 00:01, 148.18 iters/sec]"
       ]
      },
      {
       "output_type": "stream",
       "stream": "stdout",
       "text": [
        "\r",
        "Checking: |#####-----| 179/343  52% [elapsed: 00:01 left: 00:01, 147.58 iters/sec]"
       ]
      },
      {
       "output_type": "stream",
       "stream": "stdout",
       "text": [
        "\r",
        "Checking: |#####-----| 180/343  52% [elapsed: 00:01 left: 00:01, 147.61 iters/sec]"
       ]
      },
      {
       "output_type": "stream",
       "stream": "stdout",
       "text": [
        "\r",
        "Checking: |#####-----| 181/343  52% [elapsed: 00:01 left: 00:01, 148.11 iters/sec]"
       ]
      },
      {
       "output_type": "stream",
       "stream": "stdout",
       "text": [
        "\r",
        "Checking: |#####-----| 182/343  53% [elapsed: 00:01 left: 00:01, 148.57 iters/sec]"
       ]
      },
      {
       "output_type": "stream",
       "stream": "stdout",
       "text": [
        "\r",
        "Checking: |#####-----| 183/343  53% [elapsed: 00:01 left: 00:01, 148.70 iters/sec]"
       ]
      },
      {
       "output_type": "stream",
       "stream": "stdout",
       "text": [
        "\r",
        "Checking: |#####-----| 184/343  53% [elapsed: 00:01 left: 00:01, 148.79 iters/sec]"
       ]
      },
      {
       "output_type": "stream",
       "stream": "stdout",
       "text": [
        "\r",
        "Checking: |#####-----| 185/343  53% [elapsed: 00:01 left: 00:01, 149.25 iters/sec]"
       ]
      },
      {
       "output_type": "stream",
       "stream": "stdout",
       "text": [
        "\r",
        "Checking: |#####-----| 186/343  54% [elapsed: 00:01 left: 00:01, 149.80 iters/sec]"
       ]
      },
      {
       "output_type": "stream",
       "stream": "stdout",
       "text": [
        "\r",
        "Checking: |#####-----| 187/343  54% [elapsed: 00:01 left: 00:01, 150.00 iters/sec]"
       ]
      },
      {
       "output_type": "stream",
       "stream": "stdout",
       "text": [
        "\r",
        "Checking: |#####-----| 188/343  54% [elapsed: 00:01 left: 00:01, 150.27 iters/sec]"
       ]
      },
      {
       "output_type": "stream",
       "stream": "stdout",
       "text": [
        "\r",
        "Checking: |#####-----| 189/343  55% [elapsed: 00:01 left: 00:01, 149.60 iters/sec]"
       ]
      },
      {
       "output_type": "stream",
       "stream": "stdout",
       "text": [
        "\r",
        "Checking: |#####-----| 190/343  55% [elapsed: 00:01 left: 00:01, 149.93 iters/sec]"
       ]
      },
      {
       "output_type": "stream",
       "stream": "stdout",
       "text": [
        "\r",
        "Checking: |#####-----| 191/343  55% [elapsed: 00:01 left: 00:01, 150.33 iters/sec]"
       ]
      },
      {
       "output_type": "stream",
       "stream": "stdout",
       "text": [
        "\r",
        "Checking: |#####-----| 192/343  55% [elapsed: 00:01 left: 00:01, 150.49 iters/sec]"
       ]
      },
      {
       "output_type": "stream",
       "stream": "stdout",
       "text": [
        "\r",
        "Checking: |#####-----| 193/343  56% [elapsed: 00:01 left: 00:00, 150.76 iters/sec]"
       ]
      },
      {
       "output_type": "stream",
       "stream": "stdout",
       "text": [
        "\r",
        "Checking: |#####-----| 194/343  56% [elapsed: 00:01 left: 00:00, 150.82 iters/sec]"
       ]
      },
      {
       "output_type": "stream",
       "stream": "stdout",
       "text": [
        "\r",
        "Checking: |#####-----| 195/343  56% [elapsed: 00:01 left: 00:00, 151.26 iters/sec]"
       ]
      },
      {
       "output_type": "stream",
       "stream": "stdout",
       "text": [
        "\r",
        "Checking: |#####-----| 196/343  57% [elapsed: 00:01 left: 00:00, 150.93 iters/sec]"
       ]
      },
      {
       "output_type": "stream",
       "stream": "stdout",
       "text": [
        "\r",
        "Checking: |#####-----| 197/343  57% [elapsed: 00:01 left: 00:00, 151.08 iters/sec]"
       ]
      },
      {
       "output_type": "stream",
       "stream": "stdout",
       "text": [
        "\r",
        "Checking: |#####-----| 198/343  57% [elapsed: 00:01 left: 00:00, 151.61 iters/sec]"
       ]
      },
      {
       "output_type": "stream",
       "stream": "stdout",
       "text": [
        "\r",
        "Checking: |#####-----| 199/343  58% [elapsed: 00:01 left: 00:00, 151.51 iters/sec]"
       ]
      },
      {
       "output_type": "stream",
       "stream": "stdout",
       "text": [
        "\r",
        "Checking: |#####-----| 200/343  58% [elapsed: 00:01 left: 00:00, 151.43 iters/sec]"
       ]
      },
      {
       "output_type": "stream",
       "stream": "stdout",
       "text": [
        "\r",
        "Checking: |#####-----| 201/343  58% [elapsed: 00:01 left: 00:00, 151.82 iters/sec]"
       ]
      },
      {
       "output_type": "stream",
       "stream": "stdout",
       "text": [
        "\r",
        "Checking: |#####-----| 202/343  58% [elapsed: 00:01 left: 00:00, 150.93 iters/sec]"
       ]
      },
      {
       "output_type": "stream",
       "stream": "stdout",
       "text": [
        "\r",
        "Checking: |#####-----| 203/343  59% [elapsed: 00:01 left: 00:00, 150.64 iters/sec]"
       ]
      },
      {
       "output_type": "stream",
       "stream": "stdout",
       "text": [
        "\r",
        "Checking: |#####-----| 204/343  59% [elapsed: 00:01 left: 00:00, 150.27 iters/sec]"
       ]
      },
      {
       "output_type": "stream",
       "stream": "stdout",
       "text": [
        "\r",
        "Checking: |#####-----| 205/343  59% [elapsed: 00:01 left: 00:00, 150.19 iters/sec]"
       ]
      },
      {
       "output_type": "stream",
       "stream": "stdout",
       "text": [
        "\r",
        "Checking: |######----| 206/343  60% [elapsed: 00:01 left: 00:00, 149.09 iters/sec]"
       ]
      },
      {
       "output_type": "stream",
       "stream": "stdout",
       "text": [
        "\r",
        "Checking: |######----| 207/343  60% [elapsed: 00:01 left: 00:00, 149.25 iters/sec]"
       ]
      },
      {
       "output_type": "stream",
       "stream": "stdout",
       "text": [
        "\r",
        "Checking: |######----| 208/343  60% [elapsed: 00:01 left: 00:00, 149.79 iters/sec]"
       ]
      },
      {
       "output_type": "stream",
       "stream": "stdout",
       "text": [
        "\r",
        "Checking: |######----| 209/343  60% [elapsed: 00:01 left: 00:00, 150.23 iters/sec]"
       ]
      },
      {
       "output_type": "stream",
       "stream": "stdout",
       "text": [
        "\r",
        "Checking: |######----| 210/343  61% [elapsed: 00:01 left: 00:00, 150.27 iters/sec]"
       ]
      },
      {
       "output_type": "stream",
       "stream": "stdout",
       "text": [
        "\r",
        "Checking: |######----| 211/343  61% [elapsed: 00:01 left: 00:00, 150.63 iters/sec]"
       ]
      },
      {
       "output_type": "stream",
       "stream": "stdout",
       "text": [
        "\r",
        "Checking: |######----| 212/343  61% [elapsed: 00:01 left: 00:00, 151.11 iters/sec]"
       ]
      },
      {
       "output_type": "stream",
       "stream": "stdout",
       "text": [
        "\r",
        "Checking: |######----| 213/343  62% [elapsed: 00:01 left: 00:00, 151.40 iters/sec]"
       ]
      },
      {
       "output_type": "stream",
       "stream": "stdout",
       "text": [
        "\r",
        "Checking: |######----| 214/343  62% [elapsed: 00:01 left: 00:00, 151.70 iters/sec]"
       ]
      },
      {
       "output_type": "stream",
       "stream": "stdout",
       "text": [
        "\r",
        "Checking: |######----| 215/343  62% [elapsed: 00:01 left: 00:00, 152.00 iters/sec]"
       ]
      },
      {
       "output_type": "stream",
       "stream": "stdout",
       "text": [
        "\r",
        "Checking: |######----| 216/343  62% [elapsed: 00:01 left: 00:00, 152.12 iters/sec]"
       ]
      },
      {
       "output_type": "stream",
       "stream": "stdout",
       "text": [
        "\r",
        "Checking: |######----| 217/343  63% [elapsed: 00:01 left: 00:00, 151.86 iters/sec]"
       ]
      },
      {
       "output_type": "stream",
       "stream": "stdout",
       "text": [
        "\r",
        "Checking: |######----| 218/343  63% [elapsed: 00:01 left: 00:00, 150.38 iters/sec]"
       ]
      },
      {
       "output_type": "stream",
       "stream": "stdout",
       "text": [
        "\r",
        "Checking: |######----| 219/343  63% [elapsed: 00:01 left: 00:00, 150.37 iters/sec]"
       ]
      },
      {
       "output_type": "stream",
       "stream": "stdout",
       "text": [
        "\r",
        "Checking: |######----| 220/343  64% [elapsed: 00:01 left: 00:00, 150.44 iters/sec]"
       ]
      },
      {
       "output_type": "stream",
       "stream": "stdout",
       "text": [
        "\r",
        "Checking: |######----| 221/343  64% [elapsed: 00:01 left: 00:00, 150.56 iters/sec]"
       ]
      },
      {
       "output_type": "stream",
       "stream": "stdout",
       "text": [
        "\r",
        "Checking: |######----| 222/343  64% [elapsed: 00:01 left: 00:00, 150.22 iters/sec]"
       ]
      },
      {
       "output_type": "stream",
       "stream": "stdout",
       "text": [
        "\r",
        "Checking: |######----| 223/343  65% [elapsed: 00:01 left: 00:00, 150.36 iters/sec]"
       ]
      },
      {
       "output_type": "stream",
       "stream": "stdout",
       "text": [
        "\r",
        "Checking: |######----| 224/343  65% [elapsed: 00:01 left: 00:00, 150.23 iters/sec]"
       ]
      },
      {
       "output_type": "stream",
       "stream": "stdout",
       "text": [
        "\r",
        "Checking: |######----| 225/343  65% [elapsed: 00:01 left: 00:00, 150.35 iters/sec]"
       ]
      },
      {
       "output_type": "stream",
       "stream": "stdout",
       "text": [
        "\r",
        "Checking: |######----| 226/343  65% [elapsed: 00:01 left: 00:00, 150.74 iters/sec]"
       ]
      },
      {
       "output_type": "stream",
       "stream": "stdout",
       "text": [
        "\r",
        "Checking: |######----| 227/343  66% [elapsed: 00:01 left: 00:00, 151.04 iters/sec]"
       ]
      },
      {
       "output_type": "stream",
       "stream": "stdout",
       "text": [
        "\r",
        "Checking: |######----| 228/343  66% [elapsed: 00:01 left: 00:00, 151.11 iters/sec]"
       ]
      },
      {
       "output_type": "stream",
       "stream": "stdout",
       "text": [
        "\r",
        "Checking: |######----| 229/343  66% [elapsed: 00:01 left: 00:00, 151.54 iters/sec]"
       ]
      },
      {
       "output_type": "stream",
       "stream": "stdout",
       "text": [
        "\r",
        "Checking: |######----| 230/343  67% [elapsed: 00:01 left: 00:00, 152.01 iters/sec]"
       ]
      },
      {
       "output_type": "stream",
       "stream": "stdout",
       "text": [
        "\r",
        "Checking: |######----| 231/343  67% [elapsed: 00:01 left: 00:00, 152.15 iters/sec]"
       ]
      },
      {
       "output_type": "stream",
       "stream": "stdout",
       "text": [
        "\r",
        "Checking: |######----| 232/343  67% [elapsed: 00:01 left: 00:00, 152.54 iters/sec]"
       ]
      },
      {
       "output_type": "stream",
       "stream": "stdout",
       "text": [
        "\r",
        "Checking: |######----| 233/343  67% [elapsed: 00:01 left: 00:00, 152.57 iters/sec]"
       ]
      },
      {
       "output_type": "stream",
       "stream": "stdout",
       "text": [
        "\r",
        "Checking: |######----| 234/343  68% [elapsed: 00:01 left: 00:00, 152.47 iters/sec]"
       ]
      },
      {
       "output_type": "stream",
       "stream": "stdout",
       "text": [
        "\r",
        "Checking: |######----| 235/343  68% [elapsed: 00:01 left: 00:00, 152.91 iters/sec]"
       ]
      },
      {
       "output_type": "stream",
       "stream": "stdout",
       "text": [
        "\r",
        "Checking: |######----| 236/343  68% [elapsed: 00:01 left: 00:00, 153.26 iters/sec]"
       ]
      },
      {
       "output_type": "stream",
       "stream": "stdout",
       "text": [
        "\r",
        "Checking: |######----| 237/343  69% [elapsed: 00:01 left: 00:00, 153.59 iters/sec]"
       ]
      },
      {
       "output_type": "stream",
       "stream": "stdout",
       "text": [
        "\r",
        "Checking: |######----| 238/343  69% [elapsed: 00:01 left: 00:00, 153.81 iters/sec]"
       ]
      },
      {
       "output_type": "stream",
       "stream": "stdout",
       "text": [
        "\r",
        "Checking: |######----| 239/343  69% [elapsed: 00:01 left: 00:00, 154.02 iters/sec]"
       ]
      },
      {
       "output_type": "stream",
       "stream": "stdout",
       "text": [
        "\r",
        "Checking: |######----| 240/343  69% [elapsed: 00:01 left: 00:00, 154.27 iters/sec]"
       ]
      },
      {
       "output_type": "stream",
       "stream": "stdout",
       "text": [
        "\r",
        "Checking: |#######---| 241/343  70% [elapsed: 00:01 left: 00:00, 154.66 iters/sec]"
       ]
      },
      {
       "output_type": "stream",
       "stream": "stdout",
       "text": [
        "\r",
        "Checking: |#######---| 242/343  70% [elapsed: 00:01 left: 00:00, 155.07 iters/sec]"
       ]
      },
      {
       "output_type": "stream",
       "stream": "stdout",
       "text": [
        "\r",
        "Checking: |#######---| 243/343  70% [elapsed: 00:01 left: 00:00, 154.73 iters/sec]"
       ]
      },
      {
       "output_type": "stream",
       "stream": "stdout",
       "text": [
        "\r",
        "Checking: |#######---| 244/343  71% [elapsed: 00:01 left: 00:00, 154.79 iters/sec]"
       ]
      },
      {
       "output_type": "stream",
       "stream": "stdout",
       "text": [
        "\r",
        "Checking: |#######---| 245/343  71% [elapsed: 00:01 left: 00:00, 154.57 iters/sec]"
       ]
      },
      {
       "output_type": "stream",
       "stream": "stdout",
       "text": [
        "\r",
        "Checking: |#######---| 246/343  71% [elapsed: 00:01 left: 00:00, 154.74 iters/sec]"
       ]
      },
      {
       "output_type": "stream",
       "stream": "stdout",
       "text": [
        "\r",
        "Checking: |#######---| 247/343  72% [elapsed: 00:01 left: 00:00, 155.09 iters/sec]"
       ]
      },
      {
       "output_type": "stream",
       "stream": "stdout",
       "text": [
        "\r",
        "Checking: |#######---| 248/343  72% [elapsed: 00:01 left: 00:00, 151.62 iters/sec]"
       ]
      },
      {
       "output_type": "stream",
       "stream": "stdout",
       "text": [
        "\r",
        "Checking: |#######---| 249/343  72% [elapsed: 00:01 left: 00:00, 151.20 iters/sec]"
       ]
      },
      {
       "output_type": "stream",
       "stream": "stdout",
       "text": [
        "\r",
        "Checking: |#######---| 250/343  72% [elapsed: 00:01 left: 00:00, 151.43 iters/sec]"
       ]
      },
      {
       "output_type": "stream",
       "stream": "stdout",
       "text": [
        "\r",
        "Checking: |#######---| 251/343  73% [elapsed: 00:01 left: 00:00, 151.46 iters/sec]"
       ]
      },
      {
       "output_type": "stream",
       "stream": "stdout",
       "text": [
        "\r",
        "Checking: |#######---| 252/343  73% [elapsed: 00:01 left: 00:00, 151.77 iters/sec]"
       ]
      },
      {
       "output_type": "stream",
       "stream": "stdout",
       "text": [
        "\r",
        "Checking: |#######---| 253/343  73% [elapsed: 00:01 left: 00:00, 151.85 iters/sec]"
       ]
      },
      {
       "output_type": "stream",
       "stream": "stdout",
       "text": [
        "\r",
        "Checking: |#######---| 254/343  74% [elapsed: 00:01 left: 00:00, 151.14 iters/sec]"
       ]
      },
      {
       "output_type": "stream",
       "stream": "stdout",
       "text": [
        "\r",
        "Checking: |#######---| 255/343  74% [elapsed: 00:01 left: 00:00, 150.20 iters/sec]"
       ]
      },
      {
       "output_type": "stream",
       "stream": "stdout",
       "text": [
        "\r",
        "Checking: |#######---| 256/343  74% [elapsed: 00:01 left: 00:00, 150.38 iters/sec]"
       ]
      },
      {
       "output_type": "stream",
       "stream": "stdout",
       "text": [
        "\r",
        "Checking: |#######---| 257/343  74% [elapsed: 00:01 left: 00:00, 150.62 iters/sec]"
       ]
      },
      {
       "output_type": "stream",
       "stream": "stdout",
       "text": [
        "\r",
        "Checking: |#######---| 258/343  75% [elapsed: 00:01 left: 00:00, 150.77 iters/sec]"
       ]
      },
      {
       "output_type": "stream",
       "stream": "stdout",
       "text": [
        "\r",
        "Checking: |#######---| 259/343  75% [elapsed: 00:01 left: 00:00, 150.67 iters/sec]"
       ]
      },
      {
       "output_type": "stream",
       "stream": "stdout",
       "text": [
        "\r",
        "Checking: |#######---| 260/343  75% [elapsed: 00:01 left: 00:00, 150.48 iters/sec]"
       ]
      },
      {
       "output_type": "stream",
       "stream": "stdout",
       "text": [
        "\r",
        "Checking: |#######---| 261/343  76% [elapsed: 00:01 left: 00:00, 150.75 iters/sec]"
       ]
      },
      {
       "output_type": "stream",
       "stream": "stdout",
       "text": [
        "\r",
        "Checking: |#######---| 262/343  76% [elapsed: 00:01 left: 00:00, 151.07 iters/sec]"
       ]
      },
      {
       "output_type": "stream",
       "stream": "stdout",
       "text": [
        "\r",
        "Checking: |#######---| 263/343  76% [elapsed: 00:01 left: 00:00, 150.08 iters/sec]"
       ]
      },
      {
       "output_type": "stream",
       "stream": "stdout",
       "text": [
        "\r",
        "Checking: |#######---| 264/343  76% [elapsed: 00:01 left: 00:00, 148.64 iters/sec]"
       ]
      },
      {
       "output_type": "stream",
       "stream": "stdout",
       "text": [
        "\r",
        "Checking: |#######---| 265/343  77% [elapsed: 00:01 left: 00:00, 147.91 iters/sec]"
       ]
      },
      {
       "output_type": "stream",
       "stream": "stdout",
       "text": [
        "\r",
        "Checking: |#######---| 266/343  77% [elapsed: 00:01 left: 00:00, 148.07 iters/sec]"
       ]
      },
      {
       "output_type": "stream",
       "stream": "stdout",
       "text": [
        "\r",
        "Checking: |#######---| 267/343  77% [elapsed: 00:01 left: 00:00, 148.35 iters/sec]"
       ]
      },
      {
       "output_type": "stream",
       "stream": "stdout",
       "text": [
        "\r",
        "Checking: |#######---| 268/343  78% [elapsed: 00:01 left: 00:00, 148.73 iters/sec]"
       ]
      },
      {
       "output_type": "stream",
       "stream": "stdout",
       "text": [
        "\r",
        "Checking: |#######---| 269/343  78% [elapsed: 00:01 left: 00:00, 149.07 iters/sec]"
       ]
      },
      {
       "output_type": "stream",
       "stream": "stdout",
       "text": [
        "\r",
        "Checking: |#######---| 270/343  78% [elapsed: 00:01 left: 00:00, 148.86 iters/sec]"
       ]
      },
      {
       "output_type": "stream",
       "stream": "stdout",
       "text": [
        "\r",
        "Checking: |#######---| 271/343  79% [elapsed: 00:01 left: 00:00, 148.79 iters/sec]"
       ]
      },
      {
       "output_type": "stream",
       "stream": "stdout",
       "text": [
        "\r",
        "Checking: |#######---| 272/343  79% [elapsed: 00:01 left: 00:00, 148.75 iters/sec]"
       ]
      },
      {
       "output_type": "stream",
       "stream": "stdout",
       "text": [
        "\r",
        "Checking: |#######---| 273/343  79% [elapsed: 00:01 left: 00:00, 149.00 iters/sec]"
       ]
      },
      {
       "output_type": "stream",
       "stream": "stdout",
       "text": [
        "\r",
        "Checking: |#######---| 274/343  79% [elapsed: 00:01 left: 00:00, 148.33 iters/sec]"
       ]
      },
      {
       "output_type": "stream",
       "stream": "stdout",
       "text": [
        "\r",
        "Checking: |########--| 275/343  80% [elapsed: 00:01 left: 00:00, 148.54 iters/sec]"
       ]
      },
      {
       "output_type": "stream",
       "stream": "stdout",
       "text": [
        "\r",
        "Checking: |########--| 276/343  80% [elapsed: 00:01 left: 00:00, 148.93 iters/sec]"
       ]
      },
      {
       "output_type": "stream",
       "stream": "stdout",
       "text": [
        "\r",
        "Checking: |########--| 277/343  80% [elapsed: 00:01 left: 00:00, 149.27 iters/sec]"
       ]
      },
      {
       "output_type": "stream",
       "stream": "stdout",
       "text": [
        "\r",
        "Checking: |########--| 278/343  81% [elapsed: 00:01 left: 00:00, 149.62 iters/sec]"
       ]
      },
      {
       "output_type": "stream",
       "stream": "stdout",
       "text": [
        "\r",
        "Checking: |########--| 279/343  81% [elapsed: 00:01 left: 00:00, 149.49 iters/sec]"
       ]
      },
      {
       "output_type": "stream",
       "stream": "stdout",
       "text": [
        "\r",
        "Checking: |########--| 280/343  81% [elapsed: 00:01 left: 00:00, 149.82 iters/sec]"
       ]
      },
      {
       "output_type": "stream",
       "stream": "stdout",
       "text": [
        "\r",
        "Checking: |########--| 281/343  81% [elapsed: 00:01 left: 00:00, 149.96 iters/sec]"
       ]
      },
      {
       "output_type": "stream",
       "stream": "stdout",
       "text": [
        "\r",
        "Checking: |########--| 282/343  82% [elapsed: 00:01 left: 00:00, 150.22 iters/sec]"
       ]
      },
      {
       "output_type": "stream",
       "stream": "stdout",
       "text": [
        "\r",
        "Checking: |########--| 283/343  82% [elapsed: 00:01 left: 00:00, 150.48 iters/sec]"
       ]
      },
      {
       "output_type": "stream",
       "stream": "stdout",
       "text": [
        "\r",
        "Checking: |########--| 284/343  82% [elapsed: 00:01 left: 00:00, 150.52 iters/sec]"
       ]
      },
      {
       "output_type": "stream",
       "stream": "stdout",
       "text": [
        "\r",
        "Checking: |########--| 285/343  83% [elapsed: 00:01 left: 00:00, 150.84 iters/sec]"
       ]
      },
      {
       "output_type": "stream",
       "stream": "stdout",
       "text": [
        "\r",
        "Checking: |########--| 286/343  83% [elapsed: 00:01 left: 00:00, 150.99 iters/sec]"
       ]
      },
      {
       "output_type": "stream",
       "stream": "stdout",
       "text": [
        "\r",
        "Checking: |########--| 287/343  83% [elapsed: 00:01 left: 00:00, 151.27 iters/sec]"
       ]
      },
      {
       "output_type": "stream",
       "stream": "stdout",
       "text": [
        "\r",
        "Checking: |########--| 288/343  83% [elapsed: 00:01 left: 00:00, 151.61 iters/sec]"
       ]
      },
      {
       "output_type": "stream",
       "stream": "stdout",
       "text": [
        "\r",
        "Checking: |########--| 289/343  84% [elapsed: 00:01 left: 00:00, 151.88 iters/sec]"
       ]
      },
      {
       "output_type": "stream",
       "stream": "stdout",
       "text": [
        "\r",
        "Checking: |########--| 290/343  84% [elapsed: 00:01 left: 00:00, 151.19 iters/sec]"
       ]
      },
      {
       "output_type": "stream",
       "stream": "stdout",
       "text": [
        "\r",
        "Checking: |########--| 291/343  84% [elapsed: 00:01 left: 00:00, 151.06 iters/sec]"
       ]
      },
      {
       "output_type": "stream",
       "stream": "stdout",
       "text": [
        "\r",
        "Checking: |########--| 292/343  85% [elapsed: 00:01 left: 00:00, 151.35 iters/sec]"
       ]
      },
      {
       "output_type": "stream",
       "stream": "stdout",
       "text": [
        "\r",
        "Checking: |########--| 293/343  85% [elapsed: 00:01 left: 00:00, 151.26 iters/sec]"
       ]
      },
      {
       "output_type": "stream",
       "stream": "stdout",
       "text": [
        "\r",
        "Checking: |########--| 294/343  85% [elapsed: 00:01 left: 00:00, 151.37 iters/sec]"
       ]
      },
      {
       "output_type": "stream",
       "stream": "stdout",
       "text": [
        "\r",
        "Checking: |########--| 295/343  86% [elapsed: 00:01 left: 00:00, 151.34 iters/sec]"
       ]
      },
      {
       "output_type": "stream",
       "stream": "stdout",
       "text": [
        "\r",
        "Checking: |########--| 296/343  86% [elapsed: 00:01 left: 00:00, 150.29 iters/sec]"
       ]
      },
      {
       "output_type": "stream",
       "stream": "stdout",
       "text": [
        "\r",
        "Checking: |########--| 297/343  86% [elapsed: 00:01 left: 00:00, 149.94 iters/sec]"
       ]
      },
      {
       "output_type": "stream",
       "stream": "stdout",
       "text": [
        "\r",
        "Checking: |########--| 298/343  86% [elapsed: 00:01 left: 00:00, 150.14 iters/sec]"
       ]
      },
      {
       "output_type": "stream",
       "stream": "stdout",
       "text": [
        "\r",
        "Checking: |########--| 299/343  87% [elapsed: 00:01 left: 00:00, 150.44 iters/sec]"
       ]
      },
      {
       "output_type": "stream",
       "stream": "stdout",
       "text": [
        "\r",
        "Checking: |########--| 300/343  87% [elapsed: 00:01 left: 00:00, 150.67 iters/sec]"
       ]
      },
      {
       "output_type": "stream",
       "stream": "stdout",
       "text": [
        "\r",
        "Checking: |########--| 301/343  87% [elapsed: 00:02 left: 00:00, 150.43 iters/sec]"
       ]
      },
      {
       "output_type": "stream",
       "stream": "stdout",
       "text": [
        "\r",
        "Checking: |########--| 302/343  88% [elapsed: 00:02 left: 00:00, 150.56 iters/sec]"
       ]
      },
      {
       "output_type": "stream",
       "stream": "stdout",
       "text": [
        "\r",
        "Checking: |########--| 303/343  88% [elapsed: 00:02 left: 00:00, 150.59 iters/sec]"
       ]
      },
      {
       "output_type": "stream",
       "stream": "stdout",
       "text": [
        "\r",
        "Checking: |########--| 304/343  88% [elapsed: 00:02 left: 00:00, 150.54 iters/sec]"
       ]
      },
      {
       "output_type": "stream",
       "stream": "stdout",
       "text": [
        "\r",
        "Checking: |########--| 305/343  88% [elapsed: 00:02 left: 00:00, 150.68 iters/sec]"
       ]
      },
      {
       "output_type": "stream",
       "stream": "stdout",
       "text": [
        "\r",
        "Checking: |########--| 306/343  89% [elapsed: 00:02 left: 00:00, 150.63 iters/sec]"
       ]
      },
      {
       "output_type": "stream",
       "stream": "stdout",
       "text": [
        "\r",
        "Checking: |########--| 307/343  89% [elapsed: 00:02 left: 00:00, 150.51 iters/sec]"
       ]
      },
      {
       "output_type": "stream",
       "stream": "stdout",
       "text": [
        "\r",
        "Checking: |########--| 308/343  89% [elapsed: 00:02 left: 00:00, 150.71 iters/sec]"
       ]
      },
      {
       "output_type": "stream",
       "stream": "stdout",
       "text": [
        "\r",
        "Checking: |#########-| 309/343  90% [elapsed: 00:02 left: 00:00, 151.07 iters/sec]"
       ]
      },
      {
       "output_type": "stream",
       "stream": "stdout",
       "text": [
        "\r",
        "Checking: |#########-| 310/343  90% [elapsed: 00:02 left: 00:00, 151.39 iters/sec]"
       ]
      },
      {
       "output_type": "stream",
       "stream": "stdout",
       "text": [
        "\r",
        "Checking: |#########-| 311/343  90% [elapsed: 00:02 left: 00:00, 150.85 iters/sec]"
       ]
      },
      {
       "output_type": "stream",
       "stream": "stdout",
       "text": [
        "\r",
        "Checking: |#########-| 312/343  90% [elapsed: 00:02 left: 00:00, 150.93 iters/sec]"
       ]
      },
      {
       "output_type": "stream",
       "stream": "stdout",
       "text": [
        "\r",
        "Checking: |#########-| 313/343  91% [elapsed: 00:02 left: 00:00, 151.24 iters/sec]"
       ]
      },
      {
       "output_type": "stream",
       "stream": "stdout",
       "text": [
        "\r",
        "Checking: |#########-| 314/343  91% [elapsed: 00:02 left: 00:00, 151.07 iters/sec]"
       ]
      },
      {
       "output_type": "stream",
       "stream": "stdout",
       "text": [
        "\r",
        "Checking: |#########-| 315/343  91% [elapsed: 00:02 left: 00:00, 151.40 iters/sec]"
       ]
      },
      {
       "output_type": "stream",
       "stream": "stdout",
       "text": [
        "\r",
        "Checking: |#########-| 316/343  92% [elapsed: 00:02 left: 00:00, 151.69 iters/sec]"
       ]
      },
      {
       "output_type": "stream",
       "stream": "stdout",
       "text": [
        "\r",
        "Checking: |#########-| 317/343  92% [elapsed: 00:02 left: 00:00, 150.65 iters/sec]"
       ]
      },
      {
       "output_type": "stream",
       "stream": "stdout",
       "text": [
        "\r",
        "Checking: |#########-| 318/343  92% [elapsed: 00:02 left: 00:00, 150.82 iters/sec]"
       ]
      },
      {
       "output_type": "stream",
       "stream": "stdout",
       "text": [
        "\r",
        "Checking: |#########-| 319/343  93% [elapsed: 00:02 left: 00:00, 151.07 iters/sec]"
       ]
      },
      {
       "output_type": "stream",
       "stream": "stdout",
       "text": [
        "\r",
        "Checking: |#########-| 320/343  93% [elapsed: 00:02 left: 00:00, 149.98 iters/sec]"
       ]
      },
      {
       "output_type": "stream",
       "stream": "stdout",
       "text": [
        "\r",
        "Checking: |#########-| 321/343  93% [elapsed: 00:02 left: 00:00, 149.99 iters/sec]"
       ]
      },
      {
       "output_type": "stream",
       "stream": "stdout",
       "text": [
        "\r",
        "Checking: |#########-| 322/343  93% [elapsed: 00:02 left: 00:00, 150.22 iters/sec]"
       ]
      },
      {
       "output_type": "stream",
       "stream": "stdout",
       "text": [
        "\r",
        "Checking: |#########-| 323/343  94% [elapsed: 00:02 left: 00:00, 150.52 iters/sec]"
       ]
      },
      {
       "output_type": "stream",
       "stream": "stdout",
       "text": [
        "\r",
        "Checking: |#########-| 324/343  94% [elapsed: 00:02 left: 00:00, 149.97 iters/sec]"
       ]
      },
      {
       "output_type": "stream",
       "stream": "stdout",
       "text": [
        "\r",
        "Checking: |#########-| 325/343  94% [elapsed: 00:02 left: 00:00, 149.88 iters/sec]"
       ]
      },
      {
       "output_type": "stream",
       "stream": "stdout",
       "text": [
        "\r",
        "Checking: |#########-| 326/343  95% [elapsed: 00:02 left: 00:00, 150.13 iters/sec]"
       ]
      },
      {
       "output_type": "stream",
       "stream": "stdout",
       "text": [
        "\r",
        "Checking: |#########-| 327/343  95% [elapsed: 00:02 left: 00:00, 150.42 iters/sec]"
       ]
      },
      {
       "output_type": "stream",
       "stream": "stdout",
       "text": [
        "\r",
        "Checking: |#########-| 328/343  95% [elapsed: 00:02 left: 00:00, 150.51 iters/sec]"
       ]
      },
      {
       "output_type": "stream",
       "stream": "stdout",
       "text": [
        "\r",
        "Checking: |#########-| 329/343  95% [elapsed: 00:02 left: 00:00, 148.73 iters/sec]"
       ]
      },
      {
       "output_type": "stream",
       "stream": "stdout",
       "text": [
        "\r",
        "Checking: |#########-| 330/343  96% [elapsed: 00:02 left: 00:00, 148.45 iters/sec]"
       ]
      },
      {
       "output_type": "stream",
       "stream": "stdout",
       "text": [
        "\r",
        "Checking: |#########-| 331/343  96% [elapsed: 00:02 left: 00:00, 148.17 iters/sec]"
       ]
      },
      {
       "output_type": "stream",
       "stream": "stdout",
       "text": [
        "\r",
        "Checking: |#########-| 332/343  96% [elapsed: 00:02 left: 00:00, 148.40 iters/sec]"
       ]
      },
      {
       "output_type": "stream",
       "stream": "stdout",
       "text": [
        "\r",
        "Checking: |#########-| 333/343  97% [elapsed: 00:02 left: 00:00, 148.61 iters/sec]"
       ]
      },
      {
       "output_type": "stream",
       "stream": "stdout",
       "text": [
        "\r",
        "Checking: |#########-| 334/343  97% [elapsed: 00:02 left: 00:00, 148.62 iters/sec]"
       ]
      },
      {
       "output_type": "stream",
       "stream": "stdout",
       "text": [
        "\r",
        "Checking: |#########-| 335/343  97% [elapsed: 00:02 left: 00:00, 147.70 iters/sec]"
       ]
      },
      {
       "output_type": "stream",
       "stream": "stdout",
       "text": [
        "\r",
        "Checking: |#########-| 336/343  97% [elapsed: 00:02 left: 00:00, 147.72 iters/sec]"
       ]
      },
      {
       "output_type": "stream",
       "stream": "stdout",
       "text": [
        "\r",
        "Checking: |#########-| 337/343  98% [elapsed: 00:02 left: 00:00, 147.61 iters/sec]"
       ]
      },
      {
       "output_type": "stream",
       "stream": "stdout",
       "text": [
        "\r",
        "Checking: |#########-| 338/343  98% [elapsed: 00:02 left: 00:00, 147.76 iters/sec]"
       ]
      },
      {
       "output_type": "stream",
       "stream": "stdout",
       "text": [
        "\r",
        "Checking: |#########-| 339/343  98% [elapsed: 00:02 left: 00:00, 148.01 iters/sec]"
       ]
      },
      {
       "output_type": "stream",
       "stream": "stdout",
       "text": [
        "\r",
        "Checking: |#########-| 340/343  99% [elapsed: 00:02 left: 00:00, 148.33 iters/sec]"
       ]
      },
      {
       "output_type": "stream",
       "stream": "stdout",
       "text": [
        "\r",
        "Checking: |#########-| 341/343  99% [elapsed: 00:02 left: 00:00, 148.06 iters/sec]"
       ]
      },
      {
       "output_type": "stream",
       "stream": "stdout",
       "text": [
        "\r",
        "Checking: |#########-| 342/343  99% [elapsed: 00:02 left: 00:00, 148.12 iters/sec]"
       ]
      },
      {
       "output_type": "stream",
       "stream": "stdout",
       "text": [
        "\r",
        "Checking: |##########| 343/343 100% [elapsed: 00:02 left: 00:00, 148.36 iters/sec]"
       ]
      },
      {
       "output_type": "stream",
       "stream": "stdout",
       "text": [
        " OK\n",
        "Annotated HTML forms:\n",
        "\n",
        "\r",
        "Loading: |----------| 0/343   0% [elapsed: 00:00 left: ?, ? iters/sec]"
       ]
      },
      {
       "output_type": "stream",
       "stream": "stdout",
       "text": [
        "\r",
        "Loading: |----------| 1/343   0% [elapsed: 00:00 left: 00:01, 237.58 iters/sec]"
       ]
      },
      {
       "output_type": "stream",
       "stream": "stdout",
       "text": [
        "\r",
        "Loading: |----------| 2/343   0% [elapsed: 00:00 left: 00:01, 189.88 iters/sec]"
       ]
      },
      {
       "output_type": "stream",
       "stream": "stdout",
       "text": [
        "\r",
        "Loading: |----------| 3/343   0% [elapsed: 00:00 left: 00:02, 143.29 iters/sec]"
       ]
      },
      {
       "output_type": "stream",
       "stream": "stdout",
       "text": [
        "\r",
        "Loading: |----------| 4/343   1% [elapsed: 00:00 left: 00:02, 166.53 iters/sec]"
       ]
      },
      {
       "output_type": "stream",
       "stream": "stdout",
       "text": [
        "\r",
        "Loading: |----------| 5/343   1% [elapsed: 00:00 left: 00:02, 120.75 iters/sec]"
       ]
      },
      {
       "output_type": "stream",
       "stream": "stdout",
       "text": [
        "\r",
        "Loading: |----------| 6/343   1% [elapsed: 00:00 left: 00:02, 132.41 iters/sec]"
       ]
      },
      {
       "output_type": "stream",
       "stream": "stdout",
       "text": [
        "\r",
        "Loading: |----------| 7/343   2% [elapsed: 00:00 left: 00:02, 146.20 iters/sec]"
       ]
      },
      {
       "output_type": "stream",
       "stream": "stdout",
       "text": [
        "\r",
        "Loading: |----------| 8/343   2% [elapsed: 00:00 left: 00:02, 158.15 iters/sec]"
       ]
      },
      {
       "output_type": "stream",
       "stream": "stdout",
       "text": [
        "\r",
        "Loading: |----------| 9/343   2% [elapsed: 00:00 left: 00:02, 139.89 iters/sec]"
       ]
      },
      {
       "output_type": "stream",
       "stream": "stdout",
       "text": [
        "\r",
        "Loading: |----------| 10/343   2% [elapsed: 00:00 left: 00:02, 130.48 iters/sec]"
       ]
      },
      {
       "output_type": "stream",
       "stream": "stdout",
       "text": [
        "\r",
        "Loading: |----------| 11/343   3% [elapsed: 00:00 left: 00:02, 136.95 iters/sec]"
       ]
      },
      {
       "output_type": "stream",
       "stream": "stdout",
       "text": [
        "\r",
        "Loading: |----------| 12/343   3% [elapsed: 00:00 left: 00:02, 142.01 iters/sec]"
       ]
      },
      {
       "output_type": "stream",
       "stream": "stdout",
       "text": [
        "\r",
        "Loading: |----------| 13/343   3% [elapsed: 00:00 left: 00:02, 127.24 iters/sec]"
       ]
      },
      {
       "output_type": "stream",
       "stream": "stdout",
       "text": [
        "\r",
        "Loading: |----------| 14/343   4% [elapsed: 00:00 left: 00:02, 129.79 iters/sec]"
       ]
      },
      {
       "output_type": "stream",
       "stream": "stdout",
       "text": [
        "\r",
        "Loading: |----------| 15/343   4% [elapsed: 00:00 left: 00:02, 127.68 iters/sec]"
       ]
      },
      {
       "output_type": "stream",
       "stream": "stdout",
       "text": [
        "\r",
        "Loading: |----------| 16/343   4% [elapsed: 00:00 left: 00:02, 130.84 iters/sec]"
       ]
      },
      {
       "output_type": "stream",
       "stream": "stdout",
       "text": [
        "\r",
        "Loading: |----------| 17/343   4% [elapsed: 00:00 left: 00:02, 132.97 iters/sec]"
       ]
      },
      {
       "output_type": "stream",
       "stream": "stdout",
       "text": [
        "\r",
        "Loading: |----------| 18/343   5% [elapsed: 00:00 left: 00:02, 135.14 iters/sec]"
       ]
      },
      {
       "output_type": "stream",
       "stream": "stdout",
       "text": [
        "\r",
        "Loading: |----------| 19/343   5% [elapsed: 00:00 left: 00:02, 130.69 iters/sec]"
       ]
      },
      {
       "output_type": "stream",
       "stream": "stdout",
       "text": [
        "\r",
        "Loading: |----------| 20/343   5% [elapsed: 00:00 left: 00:02, 135.53 iters/sec]"
       ]
      },
      {
       "output_type": "stream",
       "stream": "stdout",
       "text": [
        "\r",
        "Loading: |----------| 21/343   6% [elapsed: 00:00 left: 00:02, 140.27 iters/sec]"
       ]
      },
      {
       "output_type": "stream",
       "stream": "stdout",
       "text": [
        "\r",
        "Loading: |----------| 22/343   6% [elapsed: 00:00 left: 00:02, 142.32 iters/sec]"
       ]
      },
      {
       "output_type": "stream",
       "stream": "stdout",
       "text": [
        "\r",
        "Loading: |----------| 23/343   6% [elapsed: 00:00 left: 00:02, 141.08 iters/sec]"
       ]
      },
      {
       "output_type": "stream",
       "stream": "stdout",
       "text": [
        "\r",
        "Loading: |----------| 24/343   6% [elapsed: 00:00 left: 00:02, 140.05 iters/sec]"
       ]
      },
      {
       "output_type": "stream",
       "stream": "stdout",
       "text": [
        "\r",
        "Loading: |----------| 25/343   7% [elapsed: 00:00 left: 00:02, 143.04 iters/sec]"
       ]
      },
      {
       "output_type": "stream",
       "stream": "stdout",
       "text": [
        "\r",
        "Loading: |----------| 26/343   7% [elapsed: 00:00 left: 00:02, 145.21 iters/sec]"
       ]
      },
      {
       "output_type": "stream",
       "stream": "stdout",
       "text": [
        "\r",
        "Loading: |----------| 27/343   7% [elapsed: 00:00 left: 00:02, 146.05 iters/sec]"
       ]
      },
      {
       "output_type": "stream",
       "stream": "stdout",
       "text": [
        "\r",
        "Loading: |----------| 28/343   8% [elapsed: 00:00 left: 00:02, 148.73 iters/sec]"
       ]
      },
      {
       "output_type": "stream",
       "stream": "stdout",
       "text": [
        "\r",
        "Loading: |----------| 29/343   8% [elapsed: 00:00 left: 00:02, 152.35 iters/sec]"
       ]
      },
      {
       "output_type": "stream",
       "stream": "stdout",
       "text": [
        "\r",
        "Loading: |----------| 30/343   8% [elapsed: 00:00 left: 00:02, 155.31 iters/sec]"
       ]
      },
      {
       "output_type": "stream",
       "stream": "stdout",
       "text": [
        "\r",
        "Loading: |----------| 31/343   9% [elapsed: 00:00 left: 00:01, 159.35 iters/sec]"
       ]
      },
      {
       "output_type": "stream",
       "stream": "stdout",
       "text": [
        "\r",
        "Loading: |----------| 32/343   9% [elapsed: 00:00 left: 00:01, 158.12 iters/sec]"
       ]
      },
      {
       "output_type": "stream",
       "stream": "stdout",
       "text": [
        "\r",
        "Loading: |----------| 33/343   9% [elapsed: 00:00 left: 00:01, 160.68 iters/sec]"
       ]
      },
      {
       "output_type": "stream",
       "stream": "stdout",
       "text": [
        "\r",
        "Loading: |----------| 34/343   9% [elapsed: 00:00 left: 00:01, 162.01 iters/sec]"
       ]
      },
      {
       "output_type": "stream",
       "stream": "stdout",
       "text": [
        "\r",
        "Loading: |#---------| 35/343  10% [elapsed: 00:00 left: 00:01, 163.18 iters/sec]"
       ]
      },
      {
       "output_type": "stream",
       "stream": "stdout",
       "text": [
        "\r",
        "Loading: |#---------| 36/343  10% [elapsed: 00:00 left: 00:01, 165.05 iters/sec]"
       ]
      },
      {
       "output_type": "stream",
       "stream": "stdout",
       "text": [
        "\r",
        "Loading: |#---------| 37/343  10% [elapsed: 00:00 left: 00:01, 164.90 iters/sec]"
       ]
      },
      {
       "output_type": "stream",
       "stream": "stdout",
       "text": [
        "\r",
        "Loading: |#---------| 38/343  11% [elapsed: 00:00 left: 00:01, 165.86 iters/sec]"
       ]
      },
      {
       "output_type": "stream",
       "stream": "stdout",
       "text": [
        "\r",
        "Loading: |#---------| 39/343  11% [elapsed: 00:00 left: 00:01, 165.78 iters/sec]"
       ]
      },
      {
       "output_type": "stream",
       "stream": "stdout",
       "text": [
        "\r",
        "Loading: |#---------| 40/343  11% [elapsed: 00:00 left: 00:01, 163.60 iters/sec]"
       ]
      },
      {
       "output_type": "stream",
       "stream": "stdout",
       "text": [
        "\r",
        "Loading: |#---------| 41/343  11% [elapsed: 00:00 left: 00:01, 166.26 iters/sec]"
       ]
      },
      {
       "output_type": "stream",
       "stream": "stdout",
       "text": [
        "\r",
        "Loading: |#---------| 42/343  12% [elapsed: 00:00 left: 00:01, 168.10 iters/sec]"
       ]
      },
      {
       "output_type": "stream",
       "stream": "stdout",
       "text": [
        "\r",
        "Loading: |#---------| 43/343  12% [elapsed: 00:00 left: 00:01, 164.71 iters/sec]"
       ]
      },
      {
       "output_type": "stream",
       "stream": "stdout",
       "text": [
        "\r",
        "Loading: |#---------| 44/343  12% [elapsed: 00:00 left: 00:01, 165.96 iters/sec]"
       ]
      },
      {
       "output_type": "stream",
       "stream": "stdout",
       "text": [
        "\r",
        "Loading: |#---------| 45/343  13% [elapsed: 00:00 left: 00:01, 164.78 iters/sec]"
       ]
      },
      {
       "output_type": "stream",
       "stream": "stdout",
       "text": [
        "\r",
        "Loading: |#---------| 46/343  13% [elapsed: 00:00 left: 00:01, 166.88 iters/sec]"
       ]
      },
      {
       "output_type": "stream",
       "stream": "stdout",
       "text": [
        "\r",
        "Loading: |#---------| 47/343  13% [elapsed: 00:00 left: 00:01, 167.24 iters/sec]"
       ]
      },
      {
       "output_type": "stream",
       "stream": "stdout",
       "text": [
        "\r",
        "Loading: |#---------| 48/343  13% [elapsed: 00:00 left: 00:01, 166.12 iters/sec]"
       ]
      },
      {
       "output_type": "stream",
       "stream": "stdout",
       "text": [
        "\r",
        "Loading: |#---------| 49/343  14% [elapsed: 00:00 left: 00:01, 166.05 iters/sec]"
       ]
      },
      {
       "output_type": "stream",
       "stream": "stdout",
       "text": [
        "\r",
        "Loading: |#---------| 50/343  14% [elapsed: 00:00 left: 00:01, 163.32 iters/sec]"
       ]
      },
      {
       "output_type": "stream",
       "stream": "stdout",
       "text": [
        "\r",
        "Loading: |#---------| 51/343  14% [elapsed: 00:00 left: 00:01, 165.52 iters/sec]"
       ]
      },
      {
       "output_type": "stream",
       "stream": "stdout",
       "text": [
        "\r",
        "Loading: |#---------| 52/343  15% [elapsed: 00:00 left: 00:01, 167.38 iters/sec]"
       ]
      },
      {
       "output_type": "stream",
       "stream": "stdout",
       "text": [
        "\r",
        "Loading: |#---------| 53/343  15% [elapsed: 00:00 left: 00:01, 169.23 iters/sec]"
       ]
      },
      {
       "output_type": "stream",
       "stream": "stdout",
       "text": [
        "\r",
        "Loading: |#---------| 54/343  15% [elapsed: 00:00 left: 00:01, 171.48 iters/sec]"
       ]
      },
      {
       "output_type": "stream",
       "stream": "stdout",
       "text": [
        "\r",
        "Loading: |#---------| 55/343  16% [elapsed: 00:00 left: 00:01, 173.62 iters/sec]"
       ]
      },
      {
       "output_type": "stream",
       "stream": "stdout",
       "text": [
        "\r",
        "Loading: |#---------| 56/343  16% [elapsed: 00:00 left: 00:01, 175.12 iters/sec]"
       ]
      },
      {
       "output_type": "stream",
       "stream": "stdout",
       "text": [
        "\r",
        "Loading: |#---------| 57/343  16% [elapsed: 00:00 left: 00:01, 170.83 iters/sec]"
       ]
      },
      {
       "output_type": "stream",
       "stream": "stdout",
       "text": [
        "\r",
        "Loading: |#---------| 58/343  16% [elapsed: 00:00 left: 00:01, 172.27 iters/sec]"
       ]
      },
      {
       "output_type": "stream",
       "stream": "stdout",
       "text": [
        "\r",
        "Loading: |#---------| 59/343  17% [elapsed: 00:00 left: 00:01, 173.20 iters/sec]"
       ]
      },
      {
       "output_type": "stream",
       "stream": "stdout",
       "text": [
        "\r",
        "Loading: |#---------| 60/343  17% [elapsed: 00:00 left: 00:01, 174.54 iters/sec]"
       ]
      },
      {
       "output_type": "stream",
       "stream": "stdout",
       "text": [
        "\r",
        "Loading: |#---------| 61/343  17% [elapsed: 00:00 left: 00:01, 176.16 iters/sec]"
       ]
      },
      {
       "output_type": "stream",
       "stream": "stdout",
       "text": [
        "\r",
        "Loading: |#---------| 62/343  18% [elapsed: 00:00 left: 00:01, 177.26 iters/sec]"
       ]
      },
      {
       "output_type": "stream",
       "stream": "stdout",
       "text": [
        "\r",
        "Loading: |#---------| 63/343  18% [elapsed: 00:00 left: 00:01, 178.51 iters/sec]"
       ]
      },
      {
       "output_type": "stream",
       "stream": "stdout",
       "text": [
        "\r",
        "Loading: |#---------| 64/343  18% [elapsed: 00:00 left: 00:01, 179.84 iters/sec]"
       ]
      },
      {
       "output_type": "stream",
       "stream": "stdout",
       "text": [
        "\r",
        "Loading: |#---------| 65/343  18% [elapsed: 00:00 left: 00:01, 180.89 iters/sec]"
       ]
      },
      {
       "output_type": "stream",
       "stream": "stdout",
       "text": [
        "\r",
        "Loading: |#---------| 66/343  19% [elapsed: 00:00 left: 00:01, 182.85 iters/sec]"
       ]
      },
      {
       "output_type": "stream",
       "stream": "stdout",
       "text": [
        "\r",
        "Loading: |#---------| 67/343  19% [elapsed: 00:00 left: 00:01, 184.98 iters/sec]"
       ]
      },
      {
       "output_type": "stream",
       "stream": "stdout",
       "text": [
        "\r",
        "Loading: |#---------| 68/343  19% [elapsed: 00:00 left: 00:01, 178.34 iters/sec]"
       ]
      },
      {
       "output_type": "stream",
       "stream": "stdout",
       "text": [
        "\r",
        "Loading: |##--------| 69/343  20% [elapsed: 00:00 left: 00:01, 177.60 iters/sec]"
       ]
      },
      {
       "output_type": "stream",
       "stream": "stdout",
       "text": [
        "\r",
        "Loading: |##--------| 70/343  20% [elapsed: 00:00 left: 00:01, 178.21 iters/sec]"
       ]
      },
      {
       "output_type": "stream",
       "stream": "stdout",
       "text": [
        "\r",
        "Loading: |##--------| 71/343  20% [elapsed: 00:00 left: 00:01, 176.81 iters/sec]"
       ]
      },
      {
       "output_type": "stream",
       "stream": "stdout",
       "text": [
        "\r",
        "Loading: |##--------| 72/343  20% [elapsed: 00:00 left: 00:01, 175.49 iters/sec]"
       ]
      },
      {
       "output_type": "stream",
       "stream": "stdout",
       "text": [
        "\r",
        "Loading: |##--------| 73/343  21% [elapsed: 00:00 left: 00:01, 176.46 iters/sec]"
       ]
      },
      {
       "output_type": "stream",
       "stream": "stdout",
       "text": [
        "\r",
        "Loading: |##--------| 74/343  21% [elapsed: 00:00 left: 00:01, 177.24 iters/sec]"
       ]
      },
      {
       "output_type": "stream",
       "stream": "stdout",
       "text": [
        "\r",
        "Loading: |##--------| 75/343  21% [elapsed: 00:00 left: 00:01, 178.58 iters/sec]"
       ]
      },
      {
       "output_type": "stream",
       "stream": "stdout",
       "text": [
        "\r",
        "Loading: |##--------| 76/343  22% [elapsed: 00:00 left: 00:01, 179.82 iters/sec]"
       ]
      },
      {
       "output_type": "stream",
       "stream": "stdout",
       "text": [
        "\r",
        "Loading: |##--------| 77/343  22% [elapsed: 00:00 left: 00:01, 179.00 iters/sec]"
       ]
      },
      {
       "output_type": "stream",
       "stream": "stdout",
       "text": [
        "\r",
        "Loading: |##--------| 78/343  22% [elapsed: 00:00 left: 00:01, 179.96 iters/sec]"
       ]
      },
      {
       "output_type": "stream",
       "stream": "stdout",
       "text": [
        "\r",
        "Loading: |##--------| 79/343  23% [elapsed: 00:00 left: 00:01, 181.07 iters/sec]"
       ]
      },
      {
       "output_type": "stream",
       "stream": "stdout",
       "text": [
        "\r",
        "Loading: |##--------| 80/343  23% [elapsed: 00:00 left: 00:01, 180.31 iters/sec]"
       ]
      },
      {
       "output_type": "stream",
       "stream": "stdout",
       "text": [
        "\r",
        "Loading: |##--------| 81/343  23% [elapsed: 00:00 left: 00:01, 181.03 iters/sec]"
       ]
      },
      {
       "output_type": "stream",
       "stream": "stdout",
       "text": [
        "\r",
        "Loading: |##--------| 82/343  23% [elapsed: 00:00 left: 00:01, 180.97 iters/sec]"
       ]
      },
      {
       "output_type": "stream",
       "stream": "stdout",
       "text": [
        "\r",
        "Loading: |##--------| 83/343  24% [elapsed: 00:00 left: 00:01, 182.43 iters/sec]"
       ]
      },
      {
       "output_type": "stream",
       "stream": "stdout",
       "text": [
        "\r",
        "Loading: |##--------| 84/343  24% [elapsed: 00:00 left: 00:01, 183.87 iters/sec]"
       ]
      },
      {
       "output_type": "stream",
       "stream": "stdout",
       "text": [
        "\r",
        "Loading: |##--------| 85/343  24% [elapsed: 00:00 left: 00:01, 183.02 iters/sec]"
       ]
      },
      {
       "output_type": "stream",
       "stream": "stdout",
       "text": [
        "\r",
        "Loading: |##--------| 86/343  25% [elapsed: 00:00 left: 00:01, 182.97 iters/sec]"
       ]
      },
      {
       "output_type": "stream",
       "stream": "stdout",
       "text": [
        "\r",
        "Loading: |##--------| 87/343  25% [elapsed: 00:00 left: 00:01, 183.53 iters/sec]"
       ]
      },
      {
       "output_type": "stream",
       "stream": "stdout",
       "text": [
        "\r",
        "Loading: |##--------| 88/343  25% [elapsed: 00:00 left: 00:01, 182.97 iters/sec]"
       ]
      },
      {
       "output_type": "stream",
       "stream": "stdout",
       "text": [
        "\r",
        "Loading: |##--------| 89/343  25% [elapsed: 00:00 left: 00:01, 180.64 iters/sec]"
       ]
      },
      {
       "output_type": "stream",
       "stream": "stdout",
       "text": [
        "\r",
        "Loading: |##--------| 90/343  26% [elapsed: 00:00 left: 00:01, 180.04 iters/sec]"
       ]
      },
      {
       "output_type": "stream",
       "stream": "stdout",
       "text": [
        "\r",
        "Loading: |##--------| 91/343  26% [elapsed: 00:00 left: 00:01, 181.47 iters/sec]"
       ]
      },
      {
       "output_type": "stream",
       "stream": "stdout",
       "text": [
        "\r",
        "Loading: |##--------| 92/343  26% [elapsed: 00:00 left: 00:01, 182.39 iters/sec]"
       ]
      },
      {
       "output_type": "stream",
       "stream": "stdout",
       "text": [
        "\r",
        "Loading: |##--------| 93/343  27% [elapsed: 00:00 left: 00:01, 182.33 iters/sec]"
       ]
      },
      {
       "output_type": "stream",
       "stream": "stdout",
       "text": [
        "\r",
        "Loading: |##--------| 94/343  27% [elapsed: 00:00 left: 00:01, 182.78 iters/sec]"
       ]
      },
      {
       "output_type": "stream",
       "stream": "stdout",
       "text": [
        "\r",
        "Loading: |##--------| 95/343  27% [elapsed: 00:00 left: 00:01, 183.23 iters/sec]"
       ]
      },
      {
       "output_type": "stream",
       "stream": "stdout",
       "text": [
        "\r",
        "Loading: |##--------| 96/343  27% [elapsed: 00:00 left: 00:01, 183.45 iters/sec]"
       ]
      },
      {
       "output_type": "stream",
       "stream": "stdout",
       "text": [
        "\r",
        "Loading: |##--------| 97/343  28% [elapsed: 00:00 left: 00:01, 182.04 iters/sec]"
       ]
      },
      {
       "output_type": "stream",
       "stream": "stdout",
       "text": [
        "\r",
        "Loading: |##--------| 98/343  28% [elapsed: 00:00 left: 00:01, 182.57 iters/sec]"
       ]
      },
      {
       "output_type": "stream",
       "stream": "stdout",
       "text": [
        "\r",
        "Loading: |##--------| 99/343  28% [elapsed: 00:00 left: 00:01, 183.68 iters/sec]"
       ]
      },
      {
       "output_type": "stream",
       "stream": "stdout",
       "text": [
        "\r",
        "Loading: |##--------| 100/343  29% [elapsed: 00:00 left: 00:01, 183.65 iters/sec]"
       ]
      },
      {
       "output_type": "stream",
       "stream": "stdout",
       "text": [
        "\r",
        "Loading: |##--------| 101/343  29% [elapsed: 00:00 left: 00:01, 183.19 iters/sec]"
       ]
      },
      {
       "output_type": "stream",
       "stream": "stdout",
       "text": [
        "\r",
        "Loading: |##--------| 102/343  29% [elapsed: 00:00 left: 00:01, 182.77 iters/sec]"
       ]
      },
      {
       "output_type": "stream",
       "stream": "stdout",
       "text": [
        "\r",
        "Loading: |###-------| 103/343  30% [elapsed: 00:00 left: 00:01, 180.07 iters/sec]"
       ]
      },
      {
       "output_type": "stream",
       "stream": "stdout",
       "text": [
        "\r",
        "Loading: |###-------| 104/343  30% [elapsed: 00:00 left: 00:01, 180.06 iters/sec]"
       ]
      },
      {
       "output_type": "stream",
       "stream": "stdout",
       "text": [
        "\r",
        "Loading: |###-------| 105/343  30% [elapsed: 00:00 left: 00:01, 176.81 iters/sec]"
       ]
      },
      {
       "output_type": "stream",
       "stream": "stdout",
       "text": [
        "\r",
        "Loading: |###-------| 106/343  30% [elapsed: 00:00 left: 00:01, 177.44 iters/sec]"
       ]
      },
      {
       "output_type": "stream",
       "stream": "stdout",
       "text": [
        "\r",
        "Loading: |###-------| 107/343  31% [elapsed: 00:00 left: 00:01, 177.40 iters/sec]"
       ]
      },
      {
       "output_type": "stream",
       "stream": "stdout",
       "text": [
        "\r",
        "Loading: |###-------| 108/343  31% [elapsed: 00:00 left: 00:01, 178.28 iters/sec]"
       ]
      },
      {
       "output_type": "stream",
       "stream": "stdout",
       "text": [
        "\r",
        "Loading: |###-------| 109/343  31% [elapsed: 00:00 left: 00:01, 179.43 iters/sec]"
       ]
      },
      {
       "output_type": "stream",
       "stream": "stdout",
       "text": [
        "\r",
        "Loading: |###-------| 110/343  32% [elapsed: 00:00 left: 00:01, 177.91 iters/sec]"
       ]
      },
      {
       "output_type": "stream",
       "stream": "stdout",
       "text": [
        "\r",
        "Loading: |###-------| 111/343  32% [elapsed: 00:00 left: 00:01, 173.87 iters/sec]"
       ]
      },
      {
       "output_type": "stream",
       "stream": "stdout",
       "text": [
        "\r",
        "Loading: |###-------| 112/343  32% [elapsed: 00:00 left: 00:01, 173.46 iters/sec]"
       ]
      },
      {
       "output_type": "stream",
       "stream": "stdout",
       "text": [
        "\r",
        "Loading: |###-------| 113/343  32% [elapsed: 00:00 left: 00:01, 173.92 iters/sec]"
       ]
      },
      {
       "output_type": "stream",
       "stream": "stdout",
       "text": [
        "\r",
        "Loading: |###-------| 114/343  33% [elapsed: 00:00 left: 00:01, 173.99 iters/sec]"
       ]
      },
      {
       "output_type": "stream",
       "stream": "stdout",
       "text": [
        "\r",
        "Loading: |###-------| 115/343  33% [elapsed: 00:00 left: 00:01, 174.97 iters/sec]"
       ]
      },
      {
       "output_type": "stream",
       "stream": "stdout",
       "text": [
        "\r",
        "Loading: |###-------| 116/343  33% [elapsed: 00:00 left: 00:01, 175.68 iters/sec]"
       ]
      },
      {
       "output_type": "stream",
       "stream": "stdout",
       "text": [
        "\r",
        "Loading: |###-------| 117/343  34% [elapsed: 00:00 left: 00:01, 176.66 iters/sec]"
       ]
      },
      {
       "output_type": "stream",
       "stream": "stdout",
       "text": [
        "\r",
        "Loading: |###-------| 118/343  34% [elapsed: 00:00 left: 00:01, 176.39 iters/sec]"
       ]
      },
      {
       "output_type": "stream",
       "stream": "stdout",
       "text": [
        "\r",
        "Loading: |###-------| 119/343  34% [elapsed: 00:00 left: 00:01, 177.16 iters/sec]"
       ]
      },
      {
       "output_type": "stream",
       "stream": "stdout",
       "text": [
        "\r",
        "Loading: |###-------| 120/343  34% [elapsed: 00:00 left: 00:01, 178.22 iters/sec]"
       ]
      },
      {
       "output_type": "stream",
       "stream": "stdout",
       "text": [
        "\r",
        "Loading: |###-------| 121/343  35% [elapsed: 00:00 left: 00:01, 179.27 iters/sec]"
       ]
      },
      {
       "output_type": "stream",
       "stream": "stdout",
       "text": [
        "\r",
        "Loading: |###-------| 122/343  35% [elapsed: 00:00 left: 00:01, 180.15 iters/sec]"
       ]
      },
      {
       "output_type": "stream",
       "stream": "stdout",
       "text": [
        "\r",
        "Loading: |###-------| 123/343  35% [elapsed: 00:00 left: 00:01, 180.89 iters/sec]"
       ]
      },
      {
       "output_type": "stream",
       "stream": "stdout",
       "text": [
        "\r",
        "Loading: |###-------| 124/343  36% [elapsed: 00:00 left: 00:01, 179.94 iters/sec]"
       ]
      },
      {
       "output_type": "stream",
       "stream": "stdout",
       "text": [
        "\r",
        "Loading: |###-------| 125/343  36% [elapsed: 00:00 left: 00:01, 179.88 iters/sec]"
       ]
      },
      {
       "output_type": "stream",
       "stream": "stdout",
       "text": [
        "\r",
        "Loading: |###-------| 126/343  36% [elapsed: 00:00 left: 00:01, 180.48 iters/sec]"
       ]
      },
      {
       "output_type": "stream",
       "stream": "stdout",
       "text": [
        "\r",
        "Loading: |###-------| 127/343  37% [elapsed: 00:00 left: 00:01, 179.54 iters/sec]"
       ]
      },
      {
       "output_type": "stream",
       "stream": "stdout",
       "text": [
        "\r",
        "Loading: |###-------| 128/343  37% [elapsed: 00:00 left: 00:01, 180.17 iters/sec]"
       ]
      },
      {
       "output_type": "stream",
       "stream": "stdout",
       "text": [
        "\r",
        "Loading: |###-------| 129/343  37% [elapsed: 00:00 left: 00:01, 181.09 iters/sec]"
       ]
      },
      {
       "output_type": "stream",
       "stream": "stdout",
       "text": [
        "\r",
        "Loading: |###-------| 130/343  37% [elapsed: 00:00 left: 00:01, 181.95 iters/sec]"
       ]
      },
      {
       "output_type": "stream",
       "stream": "stdout",
       "text": [
        "\r",
        "Loading: |###-------| 131/343  38% [elapsed: 00:00 left: 00:01, 181.86 iters/sec]"
       ]
      },
      {
       "output_type": "stream",
       "stream": "stdout",
       "text": [
        "\r",
        "Loading: |###-------| 132/343  38% [elapsed: 00:00 left: 00:01, 182.12 iters/sec]"
       ]
      },
      {
       "output_type": "stream",
       "stream": "stdout",
       "text": [
        "\r",
        "Loading: |###-------| 133/343  38% [elapsed: 00:00 left: 00:01, 183.02 iters/sec]"
       ]
      },
      {
       "output_type": "stream",
       "stream": "stdout",
       "text": [
        "\r",
        "Loading: |###-------| 134/343  39% [elapsed: 00:00 left: 00:01, 180.95 iters/sec]"
       ]
      },
      {
       "output_type": "stream",
       "stream": "stdout",
       "text": [
        "\r",
        "Loading: |###-------| 135/343  39% [elapsed: 00:00 left: 00:01, 181.70 iters/sec]"
       ]
      },
      {
       "output_type": "stream",
       "stream": "stdout",
       "text": [
        "\r",
        "Loading: |###-------| 136/343  39% [elapsed: 00:00 left: 00:01, 181.98 iters/sec]"
       ]
      },
      {
       "output_type": "stream",
       "stream": "stdout",
       "text": [
        "\r",
        "Loading: |###-------| 137/343  39% [elapsed: 00:00 left: 00:01, 182.18 iters/sec]"
       ]
      },
      {
       "output_type": "stream",
       "stream": "stdout",
       "text": [
        "\r",
        "Loading: |####------| 138/343  40% [elapsed: 00:00 left: 00:01, 181.96 iters/sec]"
       ]
      },
      {
       "output_type": "stream",
       "stream": "stdout",
       "text": [
        "\r",
        "Loading: |####------| 139/343  40% [elapsed: 00:00 left: 00:01, 182.43 iters/sec]"
       ]
      },
      {
       "output_type": "stream",
       "stream": "stdout",
       "text": [
        "\r",
        "Loading: |####------| 140/343  40% [elapsed: 00:00 left: 00:01, 183.28 iters/sec]"
       ]
      },
      {
       "output_type": "stream",
       "stream": "stdout",
       "text": [
        "\r",
        "Loading: |####------| 141/343  41% [elapsed: 00:00 left: 00:01, 183.84 iters/sec]"
       ]
      },
      {
       "output_type": "stream",
       "stream": "stdout",
       "text": [
        "\r",
        "Loading: |####------| 142/343  41% [elapsed: 00:00 left: 00:01, 184.35 iters/sec]"
       ]
      },
      {
       "output_type": "stream",
       "stream": "stdout",
       "text": [
        "\r",
        "Loading: |####------| 143/343  41% [elapsed: 00:00 left: 00:01, 185.15 iters/sec]"
       ]
      },
      {
       "output_type": "stream",
       "stream": "stdout",
       "text": [
        "\r",
        "Loading: |####------| 144/343  41% [elapsed: 00:00 left: 00:01, 185.69 iters/sec]"
       ]
      },
      {
       "output_type": "stream",
       "stream": "stdout",
       "text": [
        "\r",
        "Loading: |####------| 145/343  42% [elapsed: 00:00 left: 00:01, 186.33 iters/sec]"
       ]
      },
      {
       "output_type": "stream",
       "stream": "stdout",
       "text": [
        "\r",
        "Loading: |####------| 146/343  42% [elapsed: 00:00 left: 00:01, 186.78 iters/sec]"
       ]
      },
      {
       "output_type": "stream",
       "stream": "stdout",
       "text": [
        "\r",
        "Loading: |####------| 147/343  42% [elapsed: 00:00 left: 00:01, 186.42 iters/sec]"
       ]
      },
      {
       "output_type": "stream",
       "stream": "stdout",
       "text": [
        "\r",
        "Loading: |####------| 148/343  43% [elapsed: 00:00 left: 00:01, 187.07 iters/sec]"
       ]
      },
      {
       "output_type": "stream",
       "stream": "stdout",
       "text": [
        "\r",
        "Loading: |####------| 149/343  43% [elapsed: 00:00 left: 00:01, 173.27 iters/sec]"
       ]
      },
      {
       "output_type": "stream",
       "stream": "stdout",
       "text": [
        "\r",
        "Loading: |####------| 150/343  43% [elapsed: 00:00 left: 00:01, 169.34 iters/sec]"
       ]
      },
      {
       "output_type": "stream",
       "stream": "stdout",
       "text": [
        "\r",
        "Loading: |####------| 151/343  44% [elapsed: 00:00 left: 00:01, 169.71 iters/sec]"
       ]
      },
      {
       "output_type": "stream",
       "stream": "stdout",
       "text": [
        "\r",
        "Loading: |####------| 152/343  44% [elapsed: 00:00 left: 00:01, 169.83 iters/sec]"
       ]
      },
      {
       "output_type": "stream",
       "stream": "stdout",
       "text": [
        "\r",
        "Loading: |####------| 153/343  44% [elapsed: 00:00 left: 00:01, 170.02 iters/sec]"
       ]
      },
      {
       "output_type": "stream",
       "stream": "stdout",
       "text": [
        "\r",
        "Loading: |####------| 154/343  44% [elapsed: 00:00 left: 00:01, 169.47 iters/sec]"
       ]
      },
      {
       "output_type": "stream",
       "stream": "stdout",
       "text": [
        "\r",
        "Loading: |####------| 155/343  45% [elapsed: 00:00 left: 00:01, 169.33 iters/sec]"
       ]
      },
      {
       "output_type": "stream",
       "stream": "stdout",
       "text": [
        "\r",
        "Loading: |####------| 156/343  45% [elapsed: 00:00 left: 00:01, 168.76 iters/sec]"
       ]
      },
      {
       "output_type": "stream",
       "stream": "stdout",
       "text": [
        "\r",
        "Loading: |####------| 157/343  45% [elapsed: 00:00 left: 00:01, 169.32 iters/sec]"
       ]
      },
      {
       "output_type": "stream",
       "stream": "stdout",
       "text": [
        "\r",
        "Loading: |####------| 158/343  46% [elapsed: 00:00 left: 00:01, 168.74 iters/sec]"
       ]
      },
      {
       "output_type": "stream",
       "stream": "stdout",
       "text": [
        "\r",
        "Loading: |####------| 159/343  46% [elapsed: 00:00 left: 00:01, 169.32 iters/sec]"
       ]
      },
      {
       "output_type": "stream",
       "stream": "stdout",
       "text": [
        "\r",
        "Loading: |####------| 160/343  46% [elapsed: 00:00 left: 00:01, 169.92 iters/sec]"
       ]
      },
      {
       "output_type": "stream",
       "stream": "stdout",
       "text": [
        "\r",
        "Loading: |####------| 161/343  46% [elapsed: 00:00 left: 00:01, 170.51 iters/sec]"
       ]
      },
      {
       "output_type": "stream",
       "stream": "stdout",
       "text": [
        "\r",
        "Loading: |####------| 162/343  47% [elapsed: 00:00 left: 00:01, 169.01 iters/sec]"
       ]
      },
      {
       "output_type": "stream",
       "stream": "stdout",
       "text": [
        "\r",
        "Loading: |####------| 163/343  47% [elapsed: 00:00 left: 00:01, 169.35 iters/sec]"
       ]
      },
      {
       "output_type": "stream",
       "stream": "stdout",
       "text": [
        "\r",
        "Loading: |####------| 164/343  47% [elapsed: 00:00 left: 00:01, 169.79 iters/sec]"
       ]
      },
      {
       "output_type": "stream",
       "stream": "stdout",
       "text": [
        "\r",
        "Loading: |####------| 165/343  48% [elapsed: 00:00 left: 00:01, 169.66 iters/sec]"
       ]
      },
      {
       "output_type": "stream",
       "stream": "stdout",
       "text": [
        "\r",
        "Loading: |####------| 166/343  48% [elapsed: 00:00 left: 00:01, 169.04 iters/sec]"
       ]
      },
      {
       "output_type": "stream",
       "stream": "stdout",
       "text": [
        "\r",
        "Loading: |####------| 167/343  48% [elapsed: 00:00 left: 00:01, 169.31 iters/sec]"
       ]
      },
      {
       "output_type": "stream",
       "stream": "stdout",
       "text": [
        "\r",
        "Loading: |####------| 168/343  48% [elapsed: 00:00 left: 00:01, 169.76 iters/sec]"
       ]
      },
      {
       "output_type": "stream",
       "stream": "stdout",
       "text": [
        "\r",
        "Loading: |####------| 169/343  49% [elapsed: 00:00 left: 00:01, 169.26 iters/sec]"
       ]
      },
      {
       "output_type": "stream",
       "stream": "stdout",
       "text": [
        "\r",
        "Loading: |####------| 170/343  49% [elapsed: 00:01 left: 00:01, 169.43 iters/sec]"
       ]
      },
      {
       "output_type": "stream",
       "stream": "stdout",
       "text": [
        "\r",
        "Loading: |####------| 171/343  49% [elapsed: 00:01 left: 00:01, 169.49 iters/sec]"
       ]
      },
      {
       "output_type": "stream",
       "stream": "stdout",
       "text": [
        "\r",
        "Loading: |#####-----| 172/343  50% [elapsed: 00:01 left: 00:01, 168.83 iters/sec]"
       ]
      },
      {
       "output_type": "stream",
       "stream": "stdout",
       "text": [
        "\r",
        "Loading: |#####-----| 173/343  50% [elapsed: 00:01 left: 00:01, 169.44 iters/sec]"
       ]
      },
      {
       "output_type": "stream",
       "stream": "stdout",
       "text": [
        "\r",
        "Loading: |#####-----| 174/343  50% [elapsed: 00:01 left: 00:00, 169.53 iters/sec]"
       ]
      },
      {
       "output_type": "stream",
       "stream": "stdout",
       "text": [
        "\r",
        "Loading: |#####-----| 175/343  51% [elapsed: 00:01 left: 00:00, 168.33 iters/sec]"
       ]
      },
      {
       "output_type": "stream",
       "stream": "stdout",
       "text": [
        "\r",
        "Loading: |#####-----| 176/343  51% [elapsed: 00:01 left: 00:00, 168.14 iters/sec]"
       ]
      },
      {
       "output_type": "stream",
       "stream": "stdout",
       "text": [
        "\r",
        "Loading: |#####-----| 177/343  51% [elapsed: 00:01 left: 00:00, 167.33 iters/sec]"
       ]
      },
      {
       "output_type": "stream",
       "stream": "stdout",
       "text": [
        "\r",
        "Loading: |#####-----| 178/343  51% [elapsed: 00:01 left: 00:00, 166.62 iters/sec]"
       ]
      },
      {
       "output_type": "stream",
       "stream": "stdout",
       "text": [
        "\r",
        "Loading: |#####-----| 179/343  52% [elapsed: 00:01 left: 00:00, 166.09 iters/sec]"
       ]
      },
      {
       "output_type": "stream",
       "stream": "stdout",
       "text": [
        "\r",
        "Loading: |#####-----| 180/343  52% [elapsed: 00:01 left: 00:00, 165.29 iters/sec]"
       ]
      },
      {
       "output_type": "stream",
       "stream": "stdout",
       "text": [
        "\r",
        "Loading: |#####-----| 181/343  52% [elapsed: 00:01 left: 00:00, 164.59 iters/sec]"
       ]
      },
      {
       "output_type": "stream",
       "stream": "stdout",
       "text": [
        "\r",
        "Loading: |#####-----| 182/343  53% [elapsed: 00:01 left: 00:00, 164.89 iters/sec]"
       ]
      },
      {
       "output_type": "stream",
       "stream": "stdout",
       "text": [
        "\r",
        "Loading: |#####-----| 183/343  53% [elapsed: 00:01 left: 00:00, 165.10 iters/sec]"
       ]
      },
      {
       "output_type": "stream",
       "stream": "stdout",
       "text": [
        "\r",
        "Loading: |#####-----| 184/343  53% [elapsed: 00:01 left: 00:00, 164.83 iters/sec]"
       ]
      },
      {
       "output_type": "stream",
       "stream": "stdout",
       "text": [
        "\r",
        "Loading: |#####-----| 185/343  53% [elapsed: 00:01 left: 00:00, 163.20 iters/sec]"
       ]
      },
      {
       "output_type": "stream",
       "stream": "stdout",
       "text": [
        "\r",
        "Loading: |#####-----| 186/343  54% [elapsed: 00:01 left: 00:00, 162.66 iters/sec]"
       ]
      },
      {
       "output_type": "stream",
       "stream": "stdout",
       "text": [
        "\r",
        "Loading: |#####-----| 187/343  54% [elapsed: 00:01 left: 00:00, 160.37 iters/sec]"
       ]
      },
      {
       "output_type": "stream",
       "stream": "stdout",
       "text": [
        "\r",
        "Loading: |#####-----| 188/343  54% [elapsed: 00:01 left: 00:00, 160.54 iters/sec]"
       ]
      },
      {
       "output_type": "stream",
       "stream": "stdout",
       "text": [
        "\r",
        "Loading: |#####-----| 189/343  55% [elapsed: 00:01 left: 00:00, 160.68 iters/sec]"
       ]
      },
      {
       "output_type": "stream",
       "stream": "stdout",
       "text": [
        "\r",
        "Loading: |#####-----| 190/343  55% [elapsed: 00:01 left: 00:00, 160.77 iters/sec]"
       ]
      },
      {
       "output_type": "stream",
       "stream": "stdout",
       "text": [
        "\r",
        "Loading: |#####-----| 191/343  55% [elapsed: 00:01 left: 00:00, 160.67 iters/sec]"
       ]
      },
      {
       "output_type": "stream",
       "stream": "stdout",
       "text": [
        "\r",
        "Loading: |#####-----| 192/343  55% [elapsed: 00:01 left: 00:00, 161.14 iters/sec]"
       ]
      },
      {
       "output_type": "stream",
       "stream": "stdout",
       "text": [
        "\r",
        "Loading: |#####-----| 193/343  56% [elapsed: 00:01 left: 00:00, 161.44 iters/sec]"
       ]
      },
      {
       "output_type": "stream",
       "stream": "stdout",
       "text": [
        "\r",
        "Loading: |#####-----| 194/343  56% [elapsed: 00:01 left: 00:00, 161.83 iters/sec]"
       ]
      },
      {
       "output_type": "stream",
       "stream": "stdout",
       "text": [
        "\r",
        "Loading: |#####-----| 195/343  56% [elapsed: 00:01 left: 00:00, 161.85 iters/sec]"
       ]
      },
      {
       "output_type": "stream",
       "stream": "stdout",
       "text": [
        "\r",
        "Loading: |#####-----| 196/343  57% [elapsed: 00:01 left: 00:00, 161.78 iters/sec]"
       ]
      },
      {
       "output_type": "stream",
       "stream": "stdout",
       "text": [
        "\r",
        "Loading: |#####-----| 197/343  57% [elapsed: 00:01 left: 00:00, 162.18 iters/sec]"
       ]
      },
      {
       "output_type": "stream",
       "stream": "stdout",
       "text": [
        "\r",
        "Loading: |#####-----| 198/343  57% [elapsed: 00:01 left: 00:00, 161.60 iters/sec]"
       ]
      },
      {
       "output_type": "stream",
       "stream": "stdout",
       "text": [
        "\r",
        "Loading: |#####-----| 199/343  58% [elapsed: 00:01 left: 00:00, 161.49 iters/sec]"
       ]
      },
      {
       "output_type": "stream",
       "stream": "stdout",
       "text": [
        "\r",
        "Loading: |#####-----| 200/343  58% [elapsed: 00:01 left: 00:00, 161.72 iters/sec]"
       ]
      },
      {
       "output_type": "stream",
       "stream": "stdout",
       "text": [
        "\r",
        "Loading: |#####-----| 201/343  58% [elapsed: 00:01 left: 00:00, 161.58 iters/sec]"
       ]
      },
      {
       "output_type": "stream",
       "stream": "stdout",
       "text": [
        "\r",
        "Loading: |#####-----| 202/343  58% [elapsed: 00:01 left: 00:00, 158.10 iters/sec]"
       ]
      },
      {
       "output_type": "stream",
       "stream": "stdout",
       "text": [
        "\r",
        "Loading: |#####-----| 203/343  59% [elapsed: 00:01 left: 00:00, 158.33 iters/sec]"
       ]
      },
      {
       "output_type": "stream",
       "stream": "stdout",
       "text": [
        "\r",
        "Loading: |#####-----| 204/343  59% [elapsed: 00:01 left: 00:00, 158.65 iters/sec]"
       ]
      },
      {
       "output_type": "stream",
       "stream": "stdout",
       "text": [
        "\r",
        "Loading: |#####-----| 205/343  59% [elapsed: 00:01 left: 00:00, 158.50 iters/sec]"
       ]
      },
      {
       "output_type": "stream",
       "stream": "stdout",
       "text": [
        "\r",
        "Loading: |######----| 206/343  60% [elapsed: 00:01 left: 00:00, 158.38 iters/sec]"
       ]
      },
      {
       "output_type": "stream",
       "stream": "stdout",
       "text": [
        "\r",
        "Loading: |######----| 207/343  60% [elapsed: 00:01 left: 00:00, 158.52 iters/sec]"
       ]
      },
      {
       "output_type": "stream",
       "stream": "stdout",
       "text": [
        "\r",
        "Loading: |######----| 208/343  60% [elapsed: 00:01 left: 00:00, 158.75 iters/sec]"
       ]
      },
      {
       "output_type": "stream",
       "stream": "stdout",
       "text": [
        "\r",
        "Loading: |######----| 209/343  60% [elapsed: 00:01 left: 00:00, 159.01 iters/sec]"
       ]
      },
      {
       "output_type": "stream",
       "stream": "stdout",
       "text": [
        "\r",
        "Loading: |######----| 210/343  61% [elapsed: 00:01 left: 00:00, 159.12 iters/sec]"
       ]
      },
      {
       "output_type": "stream",
       "stream": "stdout",
       "text": [
        "\r",
        "Loading: |######----| 211/343  61% [elapsed: 00:01 left: 00:00, 158.79 iters/sec]"
       ]
      },
      {
       "output_type": "stream",
       "stream": "stdout",
       "text": [
        "\r",
        "Loading: |######----| 212/343  61% [elapsed: 00:01 left: 00:00, 159.34 iters/sec]"
       ]
      },
      {
       "output_type": "stream",
       "stream": "stdout",
       "text": [
        "\r",
        "Loading: |######----| 213/343  62% [elapsed: 00:01 left: 00:00, 159.90 iters/sec]"
       ]
      },
      {
       "output_type": "stream",
       "stream": "stdout",
       "text": [
        "\r",
        "Loading: |######----| 214/343  62% [elapsed: 00:01 left: 00:00, 160.32 iters/sec]"
       ]
      },
      {
       "output_type": "stream",
       "stream": "stdout",
       "text": [
        "\r",
        "Loading: |######----| 215/343  62% [elapsed: 00:01 left: 00:00, 160.32 iters/sec]"
       ]
      },
      {
       "output_type": "stream",
       "stream": "stdout",
       "text": [
        "\r",
        "Loading: |######----| 216/343  62% [elapsed: 00:01 left: 00:00, 160.52 iters/sec]"
       ]
      },
      {
       "output_type": "stream",
       "stream": "stdout",
       "text": [
        "\r",
        "Loading: |######----| 217/343  63% [elapsed: 00:01 left: 00:00, 160.01 iters/sec]"
       ]
      },
      {
       "output_type": "stream",
       "stream": "stdout",
       "text": [
        "\r",
        "Loading: |######----| 218/343  63% [elapsed: 00:01 left: 00:00, 160.32 iters/sec]"
       ]
      },
      {
       "output_type": "stream",
       "stream": "stdout",
       "text": [
        "\r",
        "Loading: |######----| 219/343  63% [elapsed: 00:01 left: 00:00, 160.87 iters/sec]"
       ]
      },
      {
       "output_type": "stream",
       "stream": "stdout",
       "text": [
        "\r",
        "Loading: |######----| 220/343  64% [elapsed: 00:01 left: 00:00, 160.79 iters/sec]"
       ]
      },
      {
       "output_type": "stream",
       "stream": "stdout",
       "text": [
        "\r",
        "Loading: |######----| 221/343  64% [elapsed: 00:01 left: 00:00, 160.92 iters/sec]"
       ]
      },
      {
       "output_type": "stream",
       "stream": "stdout",
       "text": [
        "\r",
        "Loading: |######----| 222/343  64% [elapsed: 00:01 left: 00:00, 161.24 iters/sec]"
       ]
      },
      {
       "output_type": "stream",
       "stream": "stdout",
       "text": [
        "\r",
        "Loading: |######----| 223/343  65% [elapsed: 00:01 left: 00:00, 161.13 iters/sec]"
       ]
      },
      {
       "output_type": "stream",
       "stream": "stdout",
       "text": [
        "\r",
        "Loading: |######----| 224/343  65% [elapsed: 00:01 left: 00:00, 160.18 iters/sec]"
       ]
      },
      {
       "output_type": "stream",
       "stream": "stdout",
       "text": [
        "\r",
        "Loading: |######----| 225/343  65% [elapsed: 00:01 left: 00:00, 159.26 iters/sec]"
       ]
      },
      {
       "output_type": "stream",
       "stream": "stdout",
       "text": [
        "\r",
        "Loading: |######----| 226/343  65% [elapsed: 00:01 left: 00:00, 158.56 iters/sec]"
       ]
      },
      {
       "output_type": "stream",
       "stream": "stdout",
       "text": [
        "\r",
        "Loading: |######----| 227/343  66% [elapsed: 00:01 left: 00:00, 158.38 iters/sec]"
       ]
      },
      {
       "output_type": "stream",
       "stream": "stdout",
       "text": [
        "\r",
        "Loading: |######----| 228/343  66% [elapsed: 00:01 left: 00:00, 157.81 iters/sec]"
       ]
      },
      {
       "output_type": "stream",
       "stream": "stdout",
       "text": [
        "\r",
        "Loading: |######----| 229/343  66% [elapsed: 00:01 left: 00:00, 157.56 iters/sec]"
       ]
      },
      {
       "output_type": "stream",
       "stream": "stdout",
       "text": [
        "\r",
        "Loading: |######----| 230/343  67% [elapsed: 00:01 left: 00:00, 157.31 iters/sec]"
       ]
      },
      {
       "output_type": "stream",
       "stream": "stdout",
       "text": [
        "\r",
        "Loading: |######----| 231/343  67% [elapsed: 00:01 left: 00:00, 156.94 iters/sec]"
       ]
      },
      {
       "output_type": "stream",
       "stream": "stdout",
       "text": [
        "\r",
        "Loading: |######----| 232/343  67% [elapsed: 00:01 left: 00:00, 157.44 iters/sec]"
       ]
      },
      {
       "output_type": "stream",
       "stream": "stdout",
       "text": [
        "\r",
        "Loading: |######----| 233/343  67% [elapsed: 00:01 left: 00:00, 157.09 iters/sec]"
       ]
      },
      {
       "output_type": "stream",
       "stream": "stdout",
       "text": [
        "\r",
        "Loading: |######----| 234/343  68% [elapsed: 00:01 left: 00:00, 157.37 iters/sec]"
       ]
      },
      {
       "output_type": "stream",
       "stream": "stdout",
       "text": [
        "\r",
        "Loading: |######----| 235/343  68% [elapsed: 00:01 left: 00:00, 157.55 iters/sec]"
       ]
      },
      {
       "output_type": "stream",
       "stream": "stdout",
       "text": [
        "\r",
        "Loading: |######----| 236/343  68% [elapsed: 00:01 left: 00:00, 157.78 iters/sec]"
       ]
      },
      {
       "output_type": "stream",
       "stream": "stdout",
       "text": [
        "\r",
        "Loading: |######----| 237/343  69% [elapsed: 00:01 left: 00:00, 155.20 iters/sec]"
       ]
      },
      {
       "output_type": "stream",
       "stream": "stdout",
       "text": [
        "\r",
        "Loading: |######----| 238/343  69% [elapsed: 00:01 left: 00:00, 155.53 iters/sec]"
       ]
      },
      {
       "output_type": "stream",
       "stream": "stdout",
       "text": [
        "\r",
        "Loading: |######----| 239/343  69% [elapsed: 00:01 left: 00:00, 155.96 iters/sec]"
       ]
      },
      {
       "output_type": "stream",
       "stream": "stdout",
       "text": [
        "\r",
        "Loading: |######----| 240/343  69% [elapsed: 00:01 left: 00:00, 156.38 iters/sec]"
       ]
      },
      {
       "output_type": "stream",
       "stream": "stdout",
       "text": [
        "\r",
        "Loading: |#######---| 241/343  70% [elapsed: 00:01 left: 00:00, 156.57 iters/sec]"
       ]
      },
      {
       "output_type": "stream",
       "stream": "stdout",
       "text": [
        "\r",
        "Loading: |#######---| 242/343  70% [elapsed: 00:01 left: 00:00, 156.72 iters/sec]"
       ]
      },
      {
       "output_type": "stream",
       "stream": "stdout",
       "text": [
        "\r",
        "Loading: |#######---| 243/343  70% [elapsed: 00:01 left: 00:00, 156.12 iters/sec]"
       ]
      },
      {
       "output_type": "stream",
       "stream": "stdout",
       "text": [
        "\r",
        "Loading: |#######---| 244/343  71% [elapsed: 00:01 left: 00:00, 155.47 iters/sec]"
       ]
      },
      {
       "output_type": "stream",
       "stream": "stdout",
       "text": [
        "\r",
        "Loading: |#######---| 245/343  71% [elapsed: 00:01 left: 00:00, 154.20 iters/sec]"
       ]
      },
      {
       "output_type": "stream",
       "stream": "stdout",
       "text": [
        "\r",
        "Loading: |#######---| 246/343  71% [elapsed: 00:01 left: 00:00, 153.63 iters/sec]"
       ]
      },
      {
       "output_type": "stream",
       "stream": "stdout",
       "text": [
        "\r",
        "Loading: |#######---| 247/343  72% [elapsed: 00:01 left: 00:00, 154.02 iters/sec]"
       ]
      },
      {
       "output_type": "stream",
       "stream": "stdout",
       "text": [
        "\r",
        "Loading: |#######---| 248/343  72% [elapsed: 00:01 left: 00:00, 154.36 iters/sec]"
       ]
      },
      {
       "output_type": "stream",
       "stream": "stdout",
       "text": [
        "\r",
        "Loading: |#######---| 249/343  72% [elapsed: 00:01 left: 00:00, 154.77 iters/sec]"
       ]
      },
      {
       "output_type": "stream",
       "stream": "stdout",
       "text": [
        "\r",
        "Loading: |#######---| 250/343  72% [elapsed: 00:01 left: 00:00, 155.17 iters/sec]"
       ]
      },
      {
       "output_type": "stream",
       "stream": "stdout",
       "text": [
        "\r",
        "Loading: |#######---| 251/343  73% [elapsed: 00:01 left: 00:00, 155.55 iters/sec]"
       ]
      },
      {
       "output_type": "stream",
       "stream": "stdout",
       "text": [
        "\r",
        "Loading: |#######---| 252/343  73% [elapsed: 00:01 left: 00:00, 155.87 iters/sec]"
       ]
      },
      {
       "output_type": "stream",
       "stream": "stdout",
       "text": [
        "\r",
        "Loading: |#######---| 253/343  73% [elapsed: 00:01 left: 00:00, 156.10 iters/sec]"
       ]
      },
      {
       "output_type": "stream",
       "stream": "stdout",
       "text": [
        "\r",
        "Loading: |#######---| 254/343  74% [elapsed: 00:01 left: 00:00, 156.28 iters/sec]"
       ]
      },
      {
       "output_type": "stream",
       "stream": "stdout",
       "text": [
        "\r",
        "Loading: |#######---| 255/343  74% [elapsed: 00:01 left: 00:00, 156.66 iters/sec]"
       ]
      },
      {
       "output_type": "stream",
       "stream": "stdout",
       "text": [
        "\r",
        "Loading: |#######---| 256/343  74% [elapsed: 00:01 left: 00:00, 157.01 iters/sec]"
       ]
      },
      {
       "output_type": "stream",
       "stream": "stdout",
       "text": [
        "\r",
        "Loading: |#######---| 257/343  74% [elapsed: 00:01 left: 00:00, 156.96 iters/sec]"
       ]
      },
      {
       "output_type": "stream",
       "stream": "stdout",
       "text": [
        "\r",
        "Loading: |#######---| 258/343  75% [elapsed: 00:01 left: 00:00, 157.06 iters/sec]"
       ]
      },
      {
       "output_type": "stream",
       "stream": "stdout",
       "text": [
        "\r",
        "Loading: |#######---| 259/343  75% [elapsed: 00:01 left: 00:00, 157.25 iters/sec]"
       ]
      },
      {
       "output_type": "stream",
       "stream": "stdout",
       "text": [
        "\r",
        "Loading: |#######---| 260/343  75% [elapsed: 00:01 left: 00:00, 157.43 iters/sec]"
       ]
      },
      {
       "output_type": "stream",
       "stream": "stdout",
       "text": [
        "\r",
        "Loading: |#######---| 261/343  76% [elapsed: 00:01 left: 00:00, 157.60 iters/sec]"
       ]
      },
      {
       "output_type": "stream",
       "stream": "stdout",
       "text": [
        "\r",
        "Loading: |#######---| 262/343  76% [elapsed: 00:01 left: 00:00, 156.93 iters/sec]"
       ]
      },
      {
       "output_type": "stream",
       "stream": "stdout",
       "text": [
        "\r",
        "Loading: |#######---| 263/343  76% [elapsed: 00:01 left: 00:00, 155.86 iters/sec]"
       ]
      },
      {
       "output_type": "stream",
       "stream": "stdout",
       "text": [
        "\r",
        "Loading: |#######---| 264/343  76% [elapsed: 00:01 left: 00:00, 156.02 iters/sec]"
       ]
      },
      {
       "output_type": "stream",
       "stream": "stdout",
       "text": [
        "\r",
        "Loading: |#######---| 265/343  77% [elapsed: 00:01 left: 00:00, 156.29 iters/sec]"
       ]
      },
      {
       "output_type": "stream",
       "stream": "stdout",
       "text": [
        "\r",
        "Loading: |#######---| 266/343  77% [elapsed: 00:01 left: 00:00, 156.17 iters/sec]"
       ]
      },
      {
       "output_type": "stream",
       "stream": "stdout",
       "text": [
        "\r",
        "Loading: |#######---| 267/343  77% [elapsed: 00:01 left: 00:00, 155.86 iters/sec]"
       ]
      },
      {
       "output_type": "stream",
       "stream": "stdout",
       "text": [
        "\r",
        "Loading: |#######---| 268/343  78% [elapsed: 00:01 left: 00:00, 156.17 iters/sec]"
       ]
      },
      {
       "output_type": "stream",
       "stream": "stdout",
       "text": [
        "\r",
        "Loading: |#######---| 269/343  78% [elapsed: 00:01 left: 00:00, 156.03 iters/sec]"
       ]
      },
      {
       "output_type": "stream",
       "stream": "stdout",
       "text": [
        "\r",
        "Loading: |#######---| 270/343  78% [elapsed: 00:01 left: 00:00, 155.99 iters/sec]"
       ]
      },
      {
       "output_type": "stream",
       "stream": "stdout",
       "text": [
        "\r",
        "Loading: |#######---| 271/343  79% [elapsed: 00:01 left: 00:00, 155.84 iters/sec]"
       ]
      },
      {
       "output_type": "stream",
       "stream": "stdout",
       "text": [
        "\r",
        "Loading: |#######---| 272/343  79% [elapsed: 00:01 left: 00:00, 155.44 iters/sec]"
       ]
      },
      {
       "output_type": "stream",
       "stream": "stdout",
       "text": [
        "\r",
        "Loading: |#######---| 273/343  79% [elapsed: 00:01 left: 00:00, 155.53 iters/sec]"
       ]
      },
      {
       "output_type": "stream",
       "stream": "stdout",
       "text": [
        "\r",
        "Loading: |#######---| 274/343  79% [elapsed: 00:01 left: 00:00, 155.17 iters/sec]"
       ]
      },
      {
       "output_type": "stream",
       "stream": "stdout",
       "text": [
        "\r",
        "Loading: |########--| 275/343  80% [elapsed: 00:01 left: 00:00, 155.58 iters/sec]"
       ]
      },
      {
       "output_type": "stream",
       "stream": "stdout",
       "text": [
        "\r",
        "Loading: |########--| 276/343  80% [elapsed: 00:01 left: 00:00, 155.96 iters/sec]"
       ]
      },
      {
       "output_type": "stream",
       "stream": "stdout",
       "text": [
        "\r",
        "Loading: |########--| 277/343  80% [elapsed: 00:01 left: 00:00, 156.36 iters/sec]"
       ]
      },
      {
       "output_type": "stream",
       "stream": "stdout",
       "text": [
        "\r",
        "Loading: |########--| 278/343  81% [elapsed: 00:01 left: 00:00, 154.90 iters/sec]"
       ]
      },
      {
       "output_type": "stream",
       "stream": "stdout",
       "text": [
        "\r",
        "Loading: |########--| 279/343  81% [elapsed: 00:01 left: 00:00, 155.01 iters/sec]"
       ]
      },
      {
       "output_type": "stream",
       "stream": "stdout",
       "text": [
        "\r",
        "Loading: |########--| 280/343  81% [elapsed: 00:01 left: 00:00, 155.23 iters/sec]"
       ]
      },
      {
       "output_type": "stream",
       "stream": "stdout",
       "text": [
        "\r",
        "Loading: |########--| 281/343  81% [elapsed: 00:01 left: 00:00, 155.49 iters/sec]"
       ]
      },
      {
       "output_type": "stream",
       "stream": "stdout",
       "text": [
        "\r",
        "Loading: |########--| 282/343  82% [elapsed: 00:01 left: 00:00, 155.76 iters/sec]"
       ]
      },
      {
       "output_type": "stream",
       "stream": "stdout",
       "text": [
        "\r",
        "Loading: |########--| 283/343  82% [elapsed: 00:01 left: 00:00, 153.05 iters/sec]"
       ]
      },
      {
       "output_type": "stream",
       "stream": "stdout",
       "text": [
        "\r",
        "Loading: |########--| 284/343  82% [elapsed: 00:01 left: 00:00, 153.37 iters/sec]"
       ]
      },
      {
       "output_type": "stream",
       "stream": "stdout",
       "text": [
        "\r",
        "Loading: |########--| 285/343  83% [elapsed: 00:01 left: 00:00, 153.70 iters/sec]"
       ]
      },
      {
       "output_type": "stream",
       "stream": "stdout",
       "text": [
        "\r",
        "Loading: |########--| 286/343  83% [elapsed: 00:01 left: 00:00, 153.65 iters/sec]"
       ]
      },
      {
       "output_type": "stream",
       "stream": "stdout",
       "text": [
        "\r",
        "Loading: |########--| 287/343  83% [elapsed: 00:01 left: 00:00, 151.03 iters/sec]"
       ]
      },
      {
       "output_type": "stream",
       "stream": "stdout",
       "text": [
        "\r",
        "Loading: |########--| 288/343  83% [elapsed: 00:01 left: 00:00, 149.47 iters/sec]"
       ]
      },
      {
       "output_type": "stream",
       "stream": "stdout",
       "text": [
        "\r",
        "Loading: |########--| 289/343  84% [elapsed: 00:01 left: 00:00, 147.68 iters/sec]"
       ]
      },
      {
       "output_type": "stream",
       "stream": "stdout",
       "text": [
        "\r",
        "Loading: |########--| 290/343  84% [elapsed: 00:01 left: 00:00, 146.64 iters/sec]"
       ]
      },
      {
       "output_type": "stream",
       "stream": "stdout",
       "text": [
        "\r",
        "Loading: |########--| 291/343  84% [elapsed: 00:01 left: 00:00, 147.01 iters/sec]"
       ]
      },
      {
       "output_type": "stream",
       "stream": "stdout",
       "text": [
        "\r",
        "Loading: |########--| 292/343  85% [elapsed: 00:01 left: 00:00, 147.17 iters/sec]"
       ]
      },
      {
       "output_type": "stream",
       "stream": "stdout",
       "text": [
        "\r",
        "Loading: |########--| 293/343  85% [elapsed: 00:01 left: 00:00, 147.36 iters/sec]"
       ]
      },
      {
       "output_type": "stream",
       "stream": "stdout",
       "text": [
        "\r",
        "Loading: |########--| 294/343  85% [elapsed: 00:01 left: 00:00, 147.28 iters/sec]"
       ]
      },
      {
       "output_type": "stream",
       "stream": "stdout",
       "text": [
        "\r",
        "Loading: |########--| 295/343  86% [elapsed: 00:01 left: 00:00, 147.53 iters/sec]"
       ]
      },
      {
       "output_type": "stream",
       "stream": "stdout",
       "text": [
        "\r",
        "Loading: |########--| 296/343  86% [elapsed: 00:02 left: 00:00, 147.76 iters/sec]"
       ]
      },
      {
       "output_type": "stream",
       "stream": "stdout",
       "text": [
        "\r",
        "Loading: |########--| 297/343  86% [elapsed: 00:02 left: 00:00, 148.11 iters/sec]"
       ]
      },
      {
       "output_type": "stream",
       "stream": "stdout",
       "text": [
        "\r",
        "Loading: |########--| 298/343  86% [elapsed: 00:02 left: 00:00, 147.85 iters/sec]"
       ]
      },
      {
       "output_type": "stream",
       "stream": "stdout",
       "text": [
        "\r",
        "Loading: |########--| 299/343  87% [elapsed: 00:02 left: 00:00, 147.93 iters/sec]"
       ]
      },
      {
       "output_type": "stream",
       "stream": "stdout",
       "text": [
        "\r",
        "Loading: |########--| 300/343  87% [elapsed: 00:02 left: 00:00, 147.29 iters/sec]"
       ]
      },
      {
       "output_type": "stream",
       "stream": "stdout",
       "text": [
        "\r",
        "Loading: |########--| 301/343  87% [elapsed: 00:02 left: 00:00, 147.29 iters/sec]"
       ]
      },
      {
       "output_type": "stream",
       "stream": "stdout",
       "text": [
        "\r",
        "Loading: |########--| 302/343  88% [elapsed: 00:02 left: 00:00, 147.45 iters/sec]"
       ]
      },
      {
       "output_type": "stream",
       "stream": "stdout",
       "text": [
        "\r",
        "Loading: |########--| 303/343  88% [elapsed: 00:02 left: 00:00, 147.60 iters/sec]"
       ]
      },
      {
       "output_type": "stream",
       "stream": "stdout",
       "text": [
        "\r",
        "Loading: |########--| 304/343  88% [elapsed: 00:02 left: 00:00, 147.30 iters/sec]"
       ]
      },
      {
       "output_type": "stream",
       "stream": "stdout",
       "text": [
        "\r",
        "Loading: |########--| 305/343  88% [elapsed: 00:02 left: 00:00, 146.25 iters/sec]"
       ]
      },
      {
       "output_type": "stream",
       "stream": "stdout",
       "text": [
        "\r",
        "Loading: |########--| 306/343  89% [elapsed: 00:02 left: 00:00, 146.04 iters/sec]"
       ]
      },
      {
       "output_type": "stream",
       "stream": "stdout",
       "text": [
        "\r",
        "Loading: |########--| 307/343  89% [elapsed: 00:02 left: 00:00, 146.34 iters/sec]"
       ]
      },
      {
       "output_type": "stream",
       "stream": "stdout",
       "text": [
        "\r",
        "Loading: |########--| 308/343  89% [elapsed: 00:02 left: 00:00, 146.64 iters/sec]"
       ]
      },
      {
       "output_type": "stream",
       "stream": "stdout",
       "text": [
        "\r",
        "Loading: |#########-| 309/343  90% [elapsed: 00:02 left: 00:00, 146.82 iters/sec]"
       ]
      },
      {
       "output_type": "stream",
       "stream": "stdout",
       "text": [
        "\r",
        "Loading: |#########-| 310/343  90% [elapsed: 00:02 left: 00:00, 146.91 iters/sec]"
       ]
      },
      {
       "output_type": "stream",
       "stream": "stdout",
       "text": [
        "\r",
        "Loading: |#########-| 311/343  90% [elapsed: 00:02 left: 00:00, 146.97 iters/sec]"
       ]
      },
      {
       "output_type": "stream",
       "stream": "stdout",
       "text": [
        "\r",
        "Loading: |#########-| 312/343  90% [elapsed: 00:02 left: 00:00, 147.27 iters/sec]"
       ]
      },
      {
       "output_type": "stream",
       "stream": "stdout",
       "text": [
        "\r",
        "Loading: |#########-| 313/343  91% [elapsed: 00:02 left: 00:00, 147.58 iters/sec]"
       ]
      },
      {
       "output_type": "stream",
       "stream": "stdout",
       "text": [
        "\r",
        "Loading: |#########-| 314/343  91% [elapsed: 00:02 left: 00:00, 147.63 iters/sec]"
       ]
      },
      {
       "output_type": "stream",
       "stream": "stdout",
       "text": [
        "\r",
        "Loading: |#########-| 315/343  91% [elapsed: 00:02 left: 00:00, 147.37 iters/sec]"
       ]
      },
      {
       "output_type": "stream",
       "stream": "stdout",
       "text": [
        "\r",
        "Loading: |#########-| 316/343  92% [elapsed: 00:02 left: 00:00, 147.71 iters/sec]"
       ]
      },
      {
       "output_type": "stream",
       "stream": "stdout",
       "text": [
        "\r",
        "Loading: |#########-| 317/343  92% [elapsed: 00:02 left: 00:00, 147.74 iters/sec]"
       ]
      },
      {
       "output_type": "stream",
       "stream": "stdout",
       "text": [
        "\r",
        "Loading: |#########-| 318/343  92% [elapsed: 00:02 left: 00:00, 148.02 iters/sec]"
       ]
      },
      {
       "output_type": "stream",
       "stream": "stdout",
       "text": [
        "\r",
        "Loading: |#########-| 319/343  93% [elapsed: 00:02 left: 00:00, 147.89 iters/sec]"
       ]
      },
      {
       "output_type": "stream",
       "stream": "stdout",
       "text": [
        "\r",
        "Loading: |#########-| 320/343  93% [elapsed: 00:02 left: 00:00, 148.17 iters/sec]"
       ]
      },
      {
       "output_type": "stream",
       "stream": "stdout",
       "text": [
        "\r",
        "Loading: |#########-| 321/343  93% [elapsed: 00:02 left: 00:00, 148.25 iters/sec]"
       ]
      },
      {
       "output_type": "stream",
       "stream": "stdout",
       "text": [
        "\r",
        "Loading: |#########-| 322/343  93% [elapsed: 00:02 left: 00:00, 148.56 iters/sec]"
       ]
      },
      {
       "output_type": "stream",
       "stream": "stdout",
       "text": [
        "\r",
        "Loading: |#########-| 323/343  94% [elapsed: 00:02 left: 00:00, 148.84 iters/sec]"
       ]
      },
      {
       "output_type": "stream",
       "stream": "stdout",
       "text": [
        "\r",
        "Loading: |#########-| 324/343  94% [elapsed: 00:02 left: 00:00, 148.99 iters/sec]"
       ]
      },
      {
       "output_type": "stream",
       "stream": "stdout",
       "text": [
        "\r",
        "Loading: |#########-| 325/343  94% [elapsed: 00:02 left: 00:00, 148.92 iters/sec]"
       ]
      },
      {
       "output_type": "stream",
       "stream": "stdout",
       "text": [
        "\r",
        "Loading: |#########-| 326/343  95% [elapsed: 00:02 left: 00:00, 149.20 iters/sec]"
       ]
      },
      {
       "output_type": "stream",
       "stream": "stdout",
       "text": [
        "\r",
        "Loading: |#########-| 327/343  95% [elapsed: 00:02 left: 00:00, 149.51 iters/sec]"
       ]
      },
      {
       "output_type": "stream",
       "stream": "stdout",
       "text": [
        "\r",
        "Loading: |#########-| 328/343  95% [elapsed: 00:02 left: 00:00, 148.66 iters/sec]"
       ]
      },
      {
       "output_type": "stream",
       "stream": "stdout",
       "text": [
        "\r",
        "Loading: |#########-| 329/343  95% [elapsed: 00:02 left: 00:00, 148.43 iters/sec]"
       ]
      },
      {
       "output_type": "stream",
       "stream": "stdout",
       "text": [
        "\r",
        "Loading: |#########-| 330/343  96% [elapsed: 00:02 left: 00:00, 148.47 iters/sec]"
       ]
      },
      {
       "output_type": "stream",
       "stream": "stdout",
       "text": [
        "\r",
        "Loading: |#########-| 331/343  96% [elapsed: 00:02 left: 00:00, 148.70 iters/sec]"
       ]
      },
      {
       "output_type": "stream",
       "stream": "stdout",
       "text": [
        "\r",
        "Loading: |#########-| 332/343  96% [elapsed: 00:02 left: 00:00, 148.85 iters/sec]"
       ]
      },
      {
       "output_type": "stream",
       "stream": "stdout",
       "text": [
        "\r",
        "Loading: |#########-| 333/343  97% [elapsed: 00:02 left: 00:00, 149.13 iters/sec]"
       ]
      },
      {
       "output_type": "stream",
       "stream": "stdout",
       "text": [
        "\r",
        "Loading: |#########-| 334/343  97% [elapsed: 00:02 left: 00:00, 149.37 iters/sec]"
       ]
      },
      {
       "output_type": "stream",
       "stream": "stdout",
       "text": [
        "\r",
        "Loading: |#########-| 335/343  97% [elapsed: 00:02 left: 00:00, 149.08 iters/sec]"
       ]
      },
      {
       "output_type": "stream",
       "stream": "stdout",
       "text": [
        "\r",
        "Loading: |#########-| 336/343  97% [elapsed: 00:02 left: 00:00, 149.36 iters/sec]"
       ]
      },
      {
       "output_type": "stream",
       "stream": "stdout",
       "text": [
        "\r",
        "Loading: |#########-| 337/343  98% [elapsed: 00:02 left: 00:00, 149.46 iters/sec]"
       ]
      },
      {
       "output_type": "stream",
       "stream": "stdout",
       "text": [
        "\r",
        "Loading: |#########-| 338/343  98% [elapsed: 00:02 left: 00:00, 149.39 iters/sec]"
       ]
      },
      {
       "output_type": "stream",
       "stream": "stdout",
       "text": [
        "\r",
        "Loading: |#########-| 339/343  98% [elapsed: 00:02 left: 00:00, 149.43 iters/sec]"
       ]
      },
      {
       "output_type": "stream",
       "stream": "stdout",
       "text": [
        "\r",
        "Loading: |#########-| 340/343  99% [elapsed: 00:02 left: 00:00, 149.49 iters/sec]"
       ]
      },
      {
       "output_type": "stream",
       "stream": "stdout",
       "text": [
        "\r",
        "Loading: |#########-| 341/343  99% [elapsed: 00:02 left: 00:00, 148.72 iters/sec]"
       ]
      },
      {
       "output_type": "stream",
       "stream": "stdout",
       "text": [
        "\r",
        "Loading: |#########-| 342/343  99% [elapsed: 00:02 left: 00:00, 148.43 iters/sec]"
       ]
      },
      {
       "output_type": "stream",
       "stream": "stdout",
       "text": [
        "\r",
        "Loading: |##########| 343/343 100% [elapsed: 00:02 left: 00:00, 147.75 iters/sec]"
       ]
      },
      {
       "output_type": "stream",
       "stream": "stdout",
       "text": [
        "\r",
        "                                                                                 "
       ]
      },
      {
       "output_type": "stream",
       "stream": "stdout",
       "text": [
        "\r",
        "177   search                    (s)"
       ]
      },
      {
       "output_type": "stream",
       "stream": "stdout",
       "text": [
        "\n",
        "139   login                     (l)\n",
        "111   other                     (o)\n",
        "89    registration              (r)\n",
        "50    password/login recovery   (p)\n",
        "38    join mailing list         (m)\n",
        "36    contact                   (c)\n",
        "\n",
        "Total form count: 640\n"
       ]
      }
     ],
     "prompt_number": 2
    },
    {
     "cell_type": "markdown",
     "metadata": {},
     "source": [
      "## Load training / evaluation data\n",
      "\n",
      "We must be careful when splitting the dataset into training and evaluation parts: forms from the same domain should be in the same \"bin\". There could be several pages from the same domain, and these pages may have duplicate or similar forms (e.g. a search form on each page). If we put one such form in training dataset and another in evaluation dataset then the metrics will be too optimistic, and they can make us to choose wrong features/models. For example, train_test_split from scikit-learn shouldn't be used here.\n",
      "\n",
      "As an approximation, data is sorted by a domain below (it is done in storage.get_Xy function), and then it is split into 2 parts. It means that no more than 1 domain is prone to overfitting (the one we're splitting at)."
     ]
    },
    {
     "cell_type": "code",
     "collapsed": false,
     "input": [
      "TRAIN_SIZE = 500\n",
      "\n",
      "X, y = storage.get_Xy(verbose=True, leave=True)\n",
      "X_train, X_test, y_train, y_test = X[:TRAIN_SIZE], X[TRAIN_SIZE:], y[:TRAIN_SIZE], y[TRAIN_SIZE:]\n",
      "\n",
      "print(\"Train size: %d, test size: %d\" % (len(y_train), len(y_test)))"
     ],
     "language": "python",
     "metadata": {},
     "outputs": [
      {
       "output_type": "stream",
       "stream": "stdout",
       "text": [
        "\r",
        "Loading: |----------| 0/343   0% [elapsed: 00:00 left: ?, ? iters/sec]"
       ]
      },
      {
       "output_type": "stream",
       "stream": "stdout",
       "text": [
        "\r",
        "Loading: |----------| 1/343   0% [elapsed: 00:00 left: 00:01, 232.94 iters/sec]"
       ]
      },
      {
       "output_type": "stream",
       "stream": "stdout",
       "text": [
        "\r",
        "Loading: |----------| 2/343   0% [elapsed: 00:00 left: 00:01, 172.89 iters/sec]"
       ]
      },
      {
       "output_type": "stream",
       "stream": "stdout",
       "text": [
        "\r",
        "Loading: |----------| 3/343   0% [elapsed: 00:00 left: 00:02, 119.36 iters/sec]"
       ]
      },
      {
       "output_type": "stream",
       "stream": "stdout",
       "text": [
        "\r",
        "Loading: |----------| 4/343   1% [elapsed: 00:00 left: 00:02, 139.61 iters/sec]"
       ]
      },
      {
       "output_type": "stream",
       "stream": "stdout",
       "text": [
        "\r",
        "Loading: |----------| 5/343   1% [elapsed: 00:00 left: 00:03, 106.03 iters/sec]"
       ]
      },
      {
       "output_type": "stream",
       "stream": "stdout",
       "text": [
        "\r",
        "Loading: |----------| 6/343   1% [elapsed: 00:00 left: 00:02, 114.21 iters/sec]"
       ]
      },
      {
       "output_type": "stream",
       "stream": "stdout",
       "text": [
        "\r",
        "Loading: |----------| 7/343   2% [elapsed: 00:00 left: 00:02, 127.42 iters/sec]"
       ]
      },
      {
       "output_type": "stream",
       "stream": "stdout",
       "text": [
        "\r",
        "Loading: |----------| 8/343   2% [elapsed: 00:00 left: 00:02, 138.70 iters/sec]"
       ]
      },
      {
       "output_type": "stream",
       "stream": "stdout",
       "text": [
        "\r",
        "Loading: |----------| 9/343   2% [elapsed: 00:00 left: 00:02, 123.73 iters/sec]"
       ]
      },
      {
       "output_type": "stream",
       "stream": "stdout",
       "text": [
        "\r",
        "Loading: |----------| 10/343   2% [elapsed: 00:00 left: 00:02, 116.54 iters/sec]"
       ]
      },
      {
       "output_type": "stream",
       "stream": "stdout",
       "text": [
        "\r",
        "Loading: |----------| 11/343   3% [elapsed: 00:00 left: 00:02, 123.40 iters/sec]"
       ]
      },
      {
       "output_type": "stream",
       "stream": "stdout",
       "text": [
        "\r",
        "Loading: |----------| 12/343   3% [elapsed: 00:00 left: 00:02, 128.41 iters/sec]"
       ]
      },
      {
       "output_type": "stream",
       "stream": "stdout",
       "text": [
        "\r",
        "Loading: |----------| 13/343   3% [elapsed: 00:00 left: 00:02, 117.51 iters/sec]"
       ]
      },
      {
       "output_type": "stream",
       "stream": "stdout",
       "text": [
        "\r",
        "Loading: |----------| 14/343   4% [elapsed: 00:00 left: 00:02, 119.79 iters/sec]"
       ]
      },
      {
       "output_type": "stream",
       "stream": "stdout",
       "text": [
        "\r",
        "Loading: |----------| 15/343   4% [elapsed: 00:00 left: 00:02, 116.20 iters/sec]"
       ]
      },
      {
       "output_type": "stream",
       "stream": "stdout",
       "text": [
        "\r",
        "Loading: |----------| 16/343   4% [elapsed: 00:00 left: 00:02, 119.12 iters/sec]"
       ]
      },
      {
       "output_type": "stream",
       "stream": "stdout",
       "text": [
        "\r",
        "Loading: |----------| 17/343   4% [elapsed: 00:00 left: 00:02, 121.39 iters/sec]"
       ]
      },
      {
       "output_type": "stream",
       "stream": "stdout",
       "text": [
        "\r",
        "Loading: |----------| 18/343   5% [elapsed: 00:00 left: 00:02, 123.16 iters/sec]"
       ]
      },
      {
       "output_type": "stream",
       "stream": "stdout",
       "text": [
        "\r",
        "Loading: |----------| 19/343   5% [elapsed: 00:00 left: 00:02, 121.20 iters/sec]"
       ]
      },
      {
       "output_type": "stream",
       "stream": "stdout",
       "text": [
        "\r",
        "Loading: |----------| 20/343   5% [elapsed: 00:00 left: 00:02, 125.75 iters/sec]"
       ]
      },
      {
       "output_type": "stream",
       "stream": "stdout",
       "text": [
        "\r",
        "Loading: |----------| 21/343   6% [elapsed: 00:00 left: 00:02, 130.37 iters/sec]"
       ]
      },
      {
       "output_type": "stream",
       "stream": "stdout",
       "text": [
        "\r",
        "Loading: |----------| 22/343   6% [elapsed: 00:00 left: 00:02, 132.64 iters/sec]"
       ]
      },
      {
       "output_type": "stream",
       "stream": "stdout",
       "text": [
        "\r",
        "Loading: |----------| 23/343   6% [elapsed: 00:00 left: 00:02, 131.88 iters/sec]"
       ]
      },
      {
       "output_type": "stream",
       "stream": "stdout",
       "text": [
        "\r",
        "Loading: |----------| 24/343   6% [elapsed: 00:00 left: 00:02, 131.51 iters/sec]"
       ]
      },
      {
       "output_type": "stream",
       "stream": "stdout",
       "text": [
        "\r",
        "Loading: |----------| 25/343   7% [elapsed: 00:00 left: 00:02, 134.02 iters/sec]"
       ]
      },
      {
       "output_type": "stream",
       "stream": "stdout",
       "text": [
        "\r",
        "Loading: |----------| 26/343   7% [elapsed: 00:00 left: 00:02, 136.17 iters/sec]"
       ]
      },
      {
       "output_type": "stream",
       "stream": "stdout",
       "text": [
        "\r",
        "Loading: |----------| 27/343   7% [elapsed: 00:00 left: 00:02, 137.43 iters/sec]"
       ]
      },
      {
       "output_type": "stream",
       "stream": "stdout",
       "text": [
        "\r",
        "Loading: |----------| 28/343   8% [elapsed: 00:00 left: 00:02, 139.90 iters/sec]"
       ]
      },
      {
       "output_type": "stream",
       "stream": "stdout",
       "text": [
        "\r",
        "Loading: |----------| 29/343   8% [elapsed: 00:00 left: 00:02, 143.40 iters/sec]"
       ]
      },
      {
       "output_type": "stream",
       "stream": "stdout",
       "text": [
        "\r",
        "Loading: |----------| 30/343   8% [elapsed: 00:00 left: 00:02, 145.59 iters/sec]"
       ]
      },
      {
       "output_type": "stream",
       "stream": "stdout",
       "text": [
        "\r",
        "Loading: |----------| 31/343   9% [elapsed: 00:00 left: 00:02, 148.26 iters/sec]"
       ]
      },
      {
       "output_type": "stream",
       "stream": "stdout",
       "text": [
        "\r",
        "Loading: |----------| 32/343   9% [elapsed: 00:00 left: 00:02, 148.13 iters/sec]"
       ]
      },
      {
       "output_type": "stream",
       "stream": "stdout",
       "text": [
        "\r",
        "Loading: |----------| 33/343   9% [elapsed: 00:00 left: 00:02, 150.63 iters/sec]"
       ]
      },
      {
       "output_type": "stream",
       "stream": "stdout",
       "text": [
        "\r",
        "Loading: |----------| 34/343   9% [elapsed: 00:00 left: 00:02, 152.07 iters/sec]"
       ]
      },
      {
       "output_type": "stream",
       "stream": "stdout",
       "text": [
        "\r",
        "Loading: |#---------| 35/343  10% [elapsed: 00:00 left: 00:02, 153.62 iters/sec]"
       ]
      },
      {
       "output_type": "stream",
       "stream": "stdout",
       "text": [
        "\r",
        "Loading: |#---------| 36/343  10% [elapsed: 00:00 left: 00:01, 155.68 iters/sec]"
       ]
      },
      {
       "output_type": "stream",
       "stream": "stdout",
       "text": [
        "\r",
        "Loading: |#---------| 37/343  10% [elapsed: 00:00 left: 00:01, 155.97 iters/sec]"
       ]
      },
      {
       "output_type": "stream",
       "stream": "stdout",
       "text": [
        "\r",
        "Loading: |#---------| 38/343  11% [elapsed: 00:00 left: 00:01, 156.02 iters/sec]"
       ]
      },
      {
       "output_type": "stream",
       "stream": "stdout",
       "text": [
        "\r",
        "Loading: |#---------| 39/343  11% [elapsed: 00:00 left: 00:01, 156.11 iters/sec]"
       ]
      },
      {
       "output_type": "stream",
       "stream": "stdout",
       "text": [
        "\r",
        "Loading: |#---------| 40/343  11% [elapsed: 00:00 left: 00:01, 154.40 iters/sec]"
       ]
      },
      {
       "output_type": "stream",
       "stream": "stdout",
       "text": [
        "\r",
        "Loading: |#---------| 41/343  11% [elapsed: 00:00 left: 00:01, 156.84 iters/sec]"
       ]
      },
      {
       "output_type": "stream",
       "stream": "stdout",
       "text": [
        "\r",
        "Loading: |#---------| 42/343  12% [elapsed: 00:00 left: 00:01, 158.98 iters/sec]"
       ]
      },
      {
       "output_type": "stream",
       "stream": "stdout",
       "text": [
        "\r",
        "Loading: |#---------| 43/343  12% [elapsed: 00:00 left: 00:01, 154.07 iters/sec]"
       ]
      },
      {
       "output_type": "stream",
       "stream": "stdout",
       "text": [
        "\r",
        "Loading: |#---------| 44/343  12% [elapsed: 00:00 left: 00:01, 155.27 iters/sec]"
       ]
      },
      {
       "output_type": "stream",
       "stream": "stdout",
       "text": [
        "\r",
        "Loading: |#---------| 45/343  13% [elapsed: 00:00 left: 00:01, 152.65 iters/sec]"
       ]
      },
      {
       "output_type": "stream",
       "stream": "stdout",
       "text": [
        "\r",
        "Loading: |#---------| 46/343  13% [elapsed: 00:00 left: 00:01, 153.90 iters/sec]"
       ]
      },
      {
       "output_type": "stream",
       "stream": "stdout",
       "text": [
        "\r",
        "Loading: |#---------| 47/343  13% [elapsed: 00:00 left: 00:01, 154.23 iters/sec]"
       ]
      },
      {
       "output_type": "stream",
       "stream": "stdout",
       "text": [
        "\r",
        "Loading: |#---------| 48/343  13% [elapsed: 00:00 left: 00:01, 152.77 iters/sec]"
       ]
      },
      {
       "output_type": "stream",
       "stream": "stdout",
       "text": [
        "\r",
        "Loading: |#---------| 49/343  14% [elapsed: 00:00 left: 00:01, 153.03 iters/sec]"
       ]
      },
      {
       "output_type": "stream",
       "stream": "stdout",
       "text": [
        "\r",
        "Loading: |#---------| 50/343  14% [elapsed: 00:00 left: 00:01, 150.36 iters/sec]"
       ]
      },
      {
       "output_type": "stream",
       "stream": "stdout",
       "text": [
        "\r",
        "Loading: |#---------| 51/343  14% [elapsed: 00:00 left: 00:01, 152.36 iters/sec]"
       ]
      },
      {
       "output_type": "stream",
       "stream": "stdout",
       "text": [
        "\r",
        "Loading: |#---------| 52/343  15% [elapsed: 00:00 left: 00:01, 154.23 iters/sec]"
       ]
      },
      {
       "output_type": "stream",
       "stream": "stdout",
       "text": [
        "\r",
        "Loading: |#---------| 53/343  15% [elapsed: 00:00 left: 00:01, 155.86 iters/sec]"
       ]
      },
      {
       "output_type": "stream",
       "stream": "stdout",
       "text": [
        "\r",
        "Loading: |#---------| 54/343  15% [elapsed: 00:00 left: 00:01, 157.92 iters/sec]"
       ]
      },
      {
       "output_type": "stream",
       "stream": "stdout",
       "text": [
        "\r",
        "Loading: |#---------| 55/343  16% [elapsed: 00:00 left: 00:01, 159.99 iters/sec]"
       ]
      },
      {
       "output_type": "stream",
       "stream": "stdout",
       "text": [
        "\r",
        "Loading: |#---------| 56/343  16% [elapsed: 00:00 left: 00:01, 161.43 iters/sec]"
       ]
      },
      {
       "output_type": "stream",
       "stream": "stdout",
       "text": [
        "\r",
        "Loading: |#---------| 57/343  16% [elapsed: 00:00 left: 00:01, 158.99 iters/sec]"
       ]
      },
      {
       "output_type": "stream",
       "stream": "stdout",
       "text": [
        "\r",
        "Loading: |#---------| 58/343  16% [elapsed: 00:00 left: 00:01, 159.59 iters/sec]"
       ]
      },
      {
       "output_type": "stream",
       "stream": "stdout",
       "text": [
        "\r",
        "Loading: |#---------| 59/343  17% [elapsed: 00:00 left: 00:01, 159.12 iters/sec]"
       ]
      },
      {
       "output_type": "stream",
       "stream": "stdout",
       "text": [
        "\r",
        "Loading: |#---------| 60/343  17% [elapsed: 00:00 left: 00:01, 160.29 iters/sec]"
       ]
      },
      {
       "output_type": "stream",
       "stream": "stdout",
       "text": [
        "\r",
        "Loading: |#---------| 61/343  17% [elapsed: 00:00 left: 00:01, 161.87 iters/sec]"
       ]
      },
      {
       "output_type": "stream",
       "stream": "stdout",
       "text": [
        "\r",
        "Loading: |#---------| 62/343  18% [elapsed: 00:00 left: 00:01, 162.50 iters/sec]"
       ]
      },
      {
       "output_type": "stream",
       "stream": "stdout",
       "text": [
        "\r",
        "Loading: |#---------| 63/343  18% [elapsed: 00:00 left: 00:01, 164.02 iters/sec]"
       ]
      },
      {
       "output_type": "stream",
       "stream": "stdout",
       "text": [
        "\r",
        "Loading: |#---------| 64/343  18% [elapsed: 00:00 left: 00:01, 165.47 iters/sec]"
       ]
      },
      {
       "output_type": "stream",
       "stream": "stdout",
       "text": [
        "\r",
        "Loading: |#---------| 65/343  18% [elapsed: 00:00 left: 00:01, 166.39 iters/sec]"
       ]
      },
      {
       "output_type": "stream",
       "stream": "stdout",
       "text": [
        "\r",
        "Loading: |#---------| 66/343  19% [elapsed: 00:00 left: 00:01, 168.18 iters/sec]"
       ]
      },
      {
       "output_type": "stream",
       "stream": "stdout",
       "text": [
        "\r",
        "Loading: |#---------| 67/343  19% [elapsed: 00:00 left: 00:01, 169.94 iters/sec]"
       ]
      },
      {
       "output_type": "stream",
       "stream": "stdout",
       "text": [
        "\r",
        "Loading: |#---------| 68/343  19% [elapsed: 00:00 left: 00:01, 163.29 iters/sec]"
       ]
      },
      {
       "output_type": "stream",
       "stream": "stdout",
       "text": [
        "\r",
        "Loading: |##--------| 69/343  20% [elapsed: 00:00 left: 00:01, 162.75 iters/sec]"
       ]
      },
      {
       "output_type": "stream",
       "stream": "stdout",
       "text": [
        "\r",
        "Loading: |##--------| 70/343  20% [elapsed: 00:00 left: 00:01, 163.26 iters/sec]"
       ]
      },
      {
       "output_type": "stream",
       "stream": "stdout",
       "text": [
        "\r",
        "Loading: |##--------| 71/343  20% [elapsed: 00:00 left: 00:01, 162.64 iters/sec]"
       ]
      },
      {
       "output_type": "stream",
       "stream": "stdout",
       "text": [
        "\r",
        "Loading: |##--------| 72/343  20% [elapsed: 00:00 left: 00:01, 160.60 iters/sec]"
       ]
      },
      {
       "output_type": "stream",
       "stream": "stdout",
       "text": [
        "\r",
        "Loading: |##--------| 73/343  21% [elapsed: 00:00 left: 00:01, 160.41 iters/sec]"
       ]
      },
      {
       "output_type": "stream",
       "stream": "stdout",
       "text": [
        "\r",
        "Loading: |##--------| 74/343  21% [elapsed: 00:00 left: 00:01, 160.72 iters/sec]"
       ]
      },
      {
       "output_type": "stream",
       "stream": "stdout",
       "text": [
        "\r",
        "Loading: |##--------| 75/343  21% [elapsed: 00:00 left: 00:01, 161.64 iters/sec]"
       ]
      },
      {
       "output_type": "stream",
       "stream": "stdout",
       "text": [
        "\r",
        "Loading: |##--------| 76/343  22% [elapsed: 00:00 left: 00:01, 162.75 iters/sec]"
       ]
      },
      {
       "output_type": "stream",
       "stream": "stdout",
       "text": [
        "\r",
        "Loading: |##--------| 77/343  22% [elapsed: 00:00 left: 00:01, 162.04 iters/sec]"
       ]
      },
      {
       "output_type": "stream",
       "stream": "stdout",
       "text": [
        "\r",
        "Loading: |##--------| 78/343  22% [elapsed: 00:00 left: 00:01, 163.04 iters/sec]"
       ]
      },
      {
       "output_type": "stream",
       "stream": "stdout",
       "text": [
        "\r",
        "Loading: |##--------| 79/343  23% [elapsed: 00:00 left: 00:01, 163.93 iters/sec]"
       ]
      },
      {
       "output_type": "stream",
       "stream": "stdout",
       "text": [
        "\r",
        "Loading: |##--------| 80/343  23% [elapsed: 00:00 left: 00:01, 163.30 iters/sec]"
       ]
      },
      {
       "output_type": "stream",
       "stream": "stdout",
       "text": [
        "\r",
        "Loading: |##--------| 81/343  23% [elapsed: 00:00 left: 00:01, 163.45 iters/sec]"
       ]
      },
      {
       "output_type": "stream",
       "stream": "stdout",
       "text": [
        "\r",
        "Loading: |##--------| 82/343  23% [elapsed: 00:00 left: 00:01, 162.58 iters/sec]"
       ]
      },
      {
       "output_type": "stream",
       "stream": "stdout",
       "text": [
        "\r",
        "Loading: |##--------| 83/343  24% [elapsed: 00:00 left: 00:01, 163.55 iters/sec]"
       ]
      },
      {
       "output_type": "stream",
       "stream": "stdout",
       "text": [
        "\r",
        "Loading: |##--------| 84/343  24% [elapsed: 00:00 left: 00:01, 164.42 iters/sec]"
       ]
      },
      {
       "output_type": "stream",
       "stream": "stdout",
       "text": [
        "\r",
        "Loading: |##--------| 85/343  24% [elapsed: 00:00 left: 00:01, 163.26 iters/sec]"
       ]
      },
      {
       "output_type": "stream",
       "stream": "stdout",
       "text": [
        "\r",
        "Loading: |##--------| 86/343  25% [elapsed: 00:00 left: 00:01, 162.86 iters/sec]"
       ]
      },
      {
       "output_type": "stream",
       "stream": "stdout",
       "text": [
        "\r",
        "Loading: |##--------| 87/343  25% [elapsed: 00:00 left: 00:01, 162.30 iters/sec]"
       ]
      },
      {
       "output_type": "stream",
       "stream": "stdout",
       "text": [
        "\r",
        "Loading: |##--------| 88/343  25% [elapsed: 00:00 left: 00:01, 161.33 iters/sec]"
       ]
      },
      {
       "output_type": "stream",
       "stream": "stdout",
       "text": [
        "\r",
        "Loading: |##--------| 89/343  25% [elapsed: 00:00 left: 00:01, 155.97 iters/sec]"
       ]
      },
      {
       "output_type": "stream",
       "stream": "stdout",
       "text": [
        "\r",
        "Loading: |##--------| 90/343  26% [elapsed: 00:00 left: 00:01, 151.16 iters/sec]"
       ]
      },
      {
       "output_type": "stream",
       "stream": "stdout",
       "text": [
        "\r",
        "Loading: |##--------| 91/343  26% [elapsed: 00:00 left: 00:01, 152.19 iters/sec]"
       ]
      },
      {
       "output_type": "stream",
       "stream": "stdout",
       "text": [
        "\r",
        "Loading: |##--------| 92/343  26% [elapsed: 00:00 left: 00:01, 152.36 iters/sec]"
       ]
      },
      {
       "output_type": "stream",
       "stream": "stdout",
       "text": [
        "\r",
        "Loading: |##--------| 93/343  27% [elapsed: 00:00 left: 00:01, 152.08 iters/sec]"
       ]
      },
      {
       "output_type": "stream",
       "stream": "stdout",
       "text": [
        "\r",
        "Loading: |##--------| 94/343  27% [elapsed: 00:00 left: 00:01, 152.72 iters/sec]"
       ]
      },
      {
       "output_type": "stream",
       "stream": "stdout",
       "text": [
        "\r",
        "Loading: |##--------| 95/343  27% [elapsed: 00:00 left: 00:01, 153.14 iters/sec]"
       ]
      },
      {
       "output_type": "stream",
       "stream": "stdout",
       "text": [
        "\r",
        "Loading: |##--------| 96/343  27% [elapsed: 00:00 left: 00:01, 152.59 iters/sec]"
       ]
      },
      {
       "output_type": "stream",
       "stream": "stdout",
       "text": [
        "\r",
        "Loading: |##--------| 97/343  28% [elapsed: 00:00 left: 00:01, 151.36 iters/sec]"
       ]
      },
      {
       "output_type": "stream",
       "stream": "stdout",
       "text": [
        "\r",
        "Loading: |##--------| 98/343  28% [elapsed: 00:00 left: 00:01, 152.12 iters/sec]"
       ]
      },
      {
       "output_type": "stream",
       "stream": "stdout",
       "text": [
        "\r",
        "Loading: |##--------| 99/343  28% [elapsed: 00:00 left: 00:01, 153.17 iters/sec]"
       ]
      },
      {
       "output_type": "stream",
       "stream": "stdout",
       "text": [
        "\r",
        "Loading: |##--------| 100/343  29% [elapsed: 00:00 left: 00:01, 153.40 iters/sec]"
       ]
      },
      {
       "output_type": "stream",
       "stream": "stdout",
       "text": [
        "\r",
        "Loading: |##--------| 101/343  29% [elapsed: 00:00 left: 00:01, 153.39 iters/sec]"
       ]
      },
      {
       "output_type": "stream",
       "stream": "stdout",
       "text": [
        "\r",
        "Loading: |##--------| 102/343  29% [elapsed: 00:00 left: 00:01, 152.82 iters/sec]"
       ]
      },
      {
       "output_type": "stream",
       "stream": "stdout",
       "text": [
        "\r",
        "Loading: |###-------| 103/343  30% [elapsed: 00:00 left: 00:01, 150.74 iters/sec]"
       ]
      },
      {
       "output_type": "stream",
       "stream": "stdout",
       "text": [
        "\r",
        "Loading: |###-------| 104/343  30% [elapsed: 00:00 left: 00:01, 151.03 iters/sec]"
       ]
      },
      {
       "output_type": "stream",
       "stream": "stdout",
       "text": [
        "\r",
        "Loading: |###-------| 105/343  30% [elapsed: 00:00 left: 00:01, 149.09 iters/sec]"
       ]
      },
      {
       "output_type": "stream",
       "stream": "stdout",
       "text": [
        "\r",
        "Loading: |###-------| 106/343  30% [elapsed: 00:00 left: 00:01, 149.78 iters/sec]"
       ]
      },
      {
       "output_type": "stream",
       "stream": "stdout",
       "text": [
        "\r",
        "Loading: |###-------| 107/343  31% [elapsed: 00:00 left: 00:01, 149.99 iters/sec]"
       ]
      },
      {
       "output_type": "stream",
       "stream": "stdout",
       "text": [
        "\r",
        "Loading: |###-------| 108/343  31% [elapsed: 00:00 left: 00:01, 150.80 iters/sec]"
       ]
      },
      {
       "output_type": "stream",
       "stream": "stdout",
       "text": [
        "\r",
        "Loading: |###-------| 109/343  31% [elapsed: 00:00 left: 00:01, 151.85 iters/sec]"
       ]
      },
      {
       "output_type": "stream",
       "stream": "stdout",
       "text": [
        "\r",
        "Loading: |###-------| 110/343  32% [elapsed: 00:00 left: 00:01, 150.16 iters/sec]"
       ]
      },
      {
       "output_type": "stream",
       "stream": "stdout",
       "text": [
        "\r",
        "Loading: |###-------| 111/343  32% [elapsed: 00:00 left: 00:01, 147.95 iters/sec]"
       ]
      },
      {
       "output_type": "stream",
       "stream": "stdout",
       "text": [
        "\r",
        "Loading: |###-------| 112/343  32% [elapsed: 00:00 left: 00:01, 147.96 iters/sec]"
       ]
      },
      {
       "output_type": "stream",
       "stream": "stdout",
       "text": [
        "\r",
        "Loading: |###-------| 113/343  32% [elapsed: 00:00 left: 00:01, 148.40 iters/sec]"
       ]
      },
      {
       "output_type": "stream",
       "stream": "stdout",
       "text": [
        "\r",
        "Loading: |###-------| 114/343  33% [elapsed: 00:00 left: 00:01, 148.46 iters/sec]"
       ]
      },
      {
       "output_type": "stream",
       "stream": "stdout",
       "text": [
        "\r",
        "Loading: |###-------| 115/343  33% [elapsed: 00:00 left: 00:01, 149.26 iters/sec]"
       ]
      },
      {
       "output_type": "stream",
       "stream": "stdout",
       "text": [
        "\r",
        "Loading: |###-------| 116/343  33% [elapsed: 00:00 left: 00:01, 149.94 iters/sec]"
       ]
      },
      {
       "output_type": "stream",
       "stream": "stdout",
       "text": [
        "\r",
        "Loading: |###-------| 117/343  34% [elapsed: 00:00 left: 00:01, 150.81 iters/sec]"
       ]
      },
      {
       "output_type": "stream",
       "stream": "stdout",
       "text": [
        "\r",
        "Loading: |###-------| 118/343  34% [elapsed: 00:00 left: 00:01, 150.48 iters/sec]"
       ]
      },
      {
       "output_type": "stream",
       "stream": "stdout",
       "text": [
        "\r",
        "Loading: |###-------| 119/343  34% [elapsed: 00:00 left: 00:01, 151.15 iters/sec]"
       ]
      },
      {
       "output_type": "stream",
       "stream": "stdout",
       "text": [
        "\r",
        "Loading: |###-------| 120/343  34% [elapsed: 00:00 left: 00:01, 151.65 iters/sec]"
       ]
      },
      {
       "output_type": "stream",
       "stream": "stdout",
       "text": [
        "\r",
        "Loading: |###-------| 121/343  35% [elapsed: 00:00 left: 00:01, 152.34 iters/sec]"
       ]
      },
      {
       "output_type": "stream",
       "stream": "stdout",
       "text": [
        "\r",
        "Loading: |###-------| 122/343  35% [elapsed: 00:00 left: 00:01, 153.05 iters/sec]"
       ]
      },
      {
       "output_type": "stream",
       "stream": "stdout",
       "text": [
        "\r",
        "Loading: |###-------| 123/343  35% [elapsed: 00:00 left: 00:01, 153.60 iters/sec]"
       ]
      },
      {
       "output_type": "stream",
       "stream": "stdout",
       "text": [
        "\r",
        "Loading: |###-------| 124/343  36% [elapsed: 00:00 left: 00:01, 152.64 iters/sec]"
       ]
      },
      {
       "output_type": "stream",
       "stream": "stdout",
       "text": [
        "\r",
        "Loading: |###-------| 125/343  36% [elapsed: 00:00 left: 00:01, 152.21 iters/sec]"
       ]
      },
      {
       "output_type": "stream",
       "stream": "stdout",
       "text": [
        "\r",
        "Loading: |###-------| 126/343  36% [elapsed: 00:00 left: 00:01, 152.52 iters/sec]"
       ]
      },
      {
       "output_type": "stream",
       "stream": "stdout",
       "text": [
        "\r",
        "Loading: |###-------| 127/343  37% [elapsed: 00:00 left: 00:01, 151.68 iters/sec]"
       ]
      },
      {
       "output_type": "stream",
       "stream": "stdout",
       "text": [
        "\r",
        "Loading: |###-------| 128/343  37% [elapsed: 00:00 left: 00:01, 152.32 iters/sec]"
       ]
      },
      {
       "output_type": "stream",
       "stream": "stdout",
       "text": [
        "\r",
        "Loading: |###-------| 129/343  37% [elapsed: 00:00 left: 00:01, 153.15 iters/sec]"
       ]
      },
      {
       "output_type": "stream",
       "stream": "stdout",
       "text": [
        "\r",
        "Loading: |###-------| 130/343  37% [elapsed: 00:00 left: 00:01, 154.01 iters/sec]"
       ]
      },
      {
       "output_type": "stream",
       "stream": "stdout",
       "text": [
        "\r",
        "Loading: |###-------| 131/343  38% [elapsed: 00:00 left: 00:01, 154.28 iters/sec]"
       ]
      },
      {
       "output_type": "stream",
       "stream": "stdout",
       "text": [
        "\r",
        "Loading: |###-------| 132/343  38% [elapsed: 00:00 left: 00:01, 154.58 iters/sec]"
       ]
      },
      {
       "output_type": "stream",
       "stream": "stdout",
       "text": [
        "\r",
        "Loading: |###-------| 133/343  38% [elapsed: 00:00 left: 00:01, 155.35 iters/sec]"
       ]
      },
      {
       "output_type": "stream",
       "stream": "stdout",
       "text": [
        "\r",
        "Loading: |###-------| 134/343  39% [elapsed: 00:00 left: 00:01, 153.72 iters/sec]"
       ]
      },
      {
       "output_type": "stream",
       "stream": "stdout",
       "text": [
        "\r",
        "Loading: |###-------| 135/343  39% [elapsed: 00:00 left: 00:01, 154.38 iters/sec]"
       ]
      },
      {
       "output_type": "stream",
       "stream": "stdout",
       "text": [
        "\r",
        "Loading: |###-------| 136/343  39% [elapsed: 00:00 left: 00:01, 154.88 iters/sec]"
       ]
      },
      {
       "output_type": "stream",
       "stream": "stdout",
       "text": [
        "\r",
        "Loading: |###-------| 137/343  39% [elapsed: 00:00 left: 00:01, 155.34 iters/sec]"
       ]
      },
      {
       "output_type": "stream",
       "stream": "stdout",
       "text": [
        "\r",
        "Loading: |####------| 138/343  40% [elapsed: 00:00 left: 00:01, 155.29 iters/sec]"
       ]
      },
      {
       "output_type": "stream",
       "stream": "stdout",
       "text": [
        "\r",
        "Loading: |####------| 139/343  40% [elapsed: 00:00 left: 00:01, 155.62 iters/sec]"
       ]
      },
      {
       "output_type": "stream",
       "stream": "stdout",
       "text": [
        "\r",
        "Loading: |####------| 140/343  40% [elapsed: 00:00 left: 00:01, 156.28 iters/sec]"
       ]
      },
      {
       "output_type": "stream",
       "stream": "stdout",
       "text": [
        "\r",
        "Loading: |####------| 141/343  41% [elapsed: 00:00 left: 00:01, 156.84 iters/sec]"
       ]
      },
      {
       "output_type": "stream",
       "stream": "stdout",
       "text": [
        "\r",
        "Loading: |####------| 142/343  41% [elapsed: 00:00 left: 00:01, 157.50 iters/sec]"
       ]
      },
      {
       "output_type": "stream",
       "stream": "stdout",
       "text": [
        "\r",
        "Loading: |####------| 143/343  41% [elapsed: 00:00 left: 00:01, 158.26 iters/sec]"
       ]
      },
      {
       "output_type": "stream",
       "stream": "stdout",
       "text": [
        "\r",
        "Loading: |####------| 144/343  41% [elapsed: 00:00 left: 00:01, 158.77 iters/sec]"
       ]
      },
      {
       "output_type": "stream",
       "stream": "stdout",
       "text": [
        "\r",
        "Loading: |####------| 145/343  42% [elapsed: 00:00 left: 00:01, 159.31 iters/sec]"
       ]
      },
      {
       "output_type": "stream",
       "stream": "stdout",
       "text": [
        "\r",
        "Loading: |####------| 146/343  42% [elapsed: 00:00 left: 00:01, 159.74 iters/sec]"
       ]
      },
      {
       "output_type": "stream",
       "stream": "stdout",
       "text": [
        "\r",
        "Loading: |####------| 147/343  42% [elapsed: 00:00 left: 00:01, 159.61 iters/sec]"
       ]
      },
      {
       "output_type": "stream",
       "stream": "stdout",
       "text": [
        "\r",
        "Loading: |####------| 148/343  43% [elapsed: 00:00 left: 00:01, 160.15 iters/sec]"
       ]
      },
      {
       "output_type": "stream",
       "stream": "stdout",
       "text": [
        "\r",
        "Loading: |####------| 149/343  43% [elapsed: 00:00 left: 00:01, 149.27 iters/sec]"
       ]
      },
      {
       "output_type": "stream",
       "stream": "stdout",
       "text": [
        "\r",
        "Loading: |####------| 150/343  43% [elapsed: 00:01 left: 00:01, 146.46 iters/sec]"
       ]
      },
      {
       "output_type": "stream",
       "stream": "stdout",
       "text": [
        "\r",
        "Loading: |####------| 151/343  44% [elapsed: 00:01 left: 00:01, 146.79 iters/sec]"
       ]
      },
      {
       "output_type": "stream",
       "stream": "stdout",
       "text": [
        "\r",
        "Loading: |####------| 152/343  44% [elapsed: 00:01 left: 00:01, 146.58 iters/sec]"
       ]
      },
      {
       "output_type": "stream",
       "stream": "stdout",
       "text": [
        "\r",
        "Loading: |####------| 153/343  44% [elapsed: 00:01 left: 00:01, 146.85 iters/sec]"
       ]
      },
      {
       "output_type": "stream",
       "stream": "stdout",
       "text": [
        "\r",
        "Loading: |####------| 154/343  44% [elapsed: 00:01 left: 00:01, 146.47 iters/sec]"
       ]
      },
      {
       "output_type": "stream",
       "stream": "stdout",
       "text": [
        "\r",
        "Loading: |####------| 155/343  45% [elapsed: 00:01 left: 00:01, 146.41 iters/sec]"
       ]
      },
      {
       "output_type": "stream",
       "stream": "stdout",
       "text": [
        "\r",
        "Loading: |####------| 156/343  45% [elapsed: 00:01 left: 00:01, 146.07 iters/sec]"
       ]
      },
      {
       "output_type": "stream",
       "stream": "stdout",
       "text": [
        "\r",
        "Loading: |####------| 157/343  45% [elapsed: 00:01 left: 00:01, 146.46 iters/sec]"
       ]
      },
      {
       "output_type": "stream",
       "stream": "stdout",
       "text": [
        "\r",
        "Loading: |####------| 158/343  46% [elapsed: 00:01 left: 00:01, 146.09 iters/sec]"
       ]
      },
      {
       "output_type": "stream",
       "stream": "stdout",
       "text": [
        "\r",
        "Loading: |####------| 159/343  46% [elapsed: 00:01 left: 00:01, 146.52 iters/sec]"
       ]
      },
      {
       "output_type": "stream",
       "stream": "stdout",
       "text": [
        "\r",
        "Loading: |####------| 160/343  46% [elapsed: 00:01 left: 00:01, 146.94 iters/sec]"
       ]
      },
      {
       "output_type": "stream",
       "stream": "stdout",
       "text": [
        "\r",
        "Loading: |####------| 161/343  46% [elapsed: 00:01 left: 00:01, 147.46 iters/sec]"
       ]
      },
      {
       "output_type": "stream",
       "stream": "stdout",
       "text": [
        "\r",
        "Loading: |####------| 162/343  47% [elapsed: 00:01 left: 00:01, 146.23 iters/sec]"
       ]
      },
      {
       "output_type": "stream",
       "stream": "stdout",
       "text": [
        "\r",
        "Loading: |####------| 163/343  47% [elapsed: 00:01 left: 00:01, 146.57 iters/sec]"
       ]
      },
      {
       "output_type": "stream",
       "stream": "stdout",
       "text": [
        "\r",
        "Loading: |####------| 164/343  47% [elapsed: 00:01 left: 00:01, 147.06 iters/sec]"
       ]
      },
      {
       "output_type": "stream",
       "stream": "stdout",
       "text": [
        "\r",
        "Loading: |####------| 165/343  48% [elapsed: 00:01 left: 00:01, 147.00 iters/sec]"
       ]
      },
      {
       "output_type": "stream",
       "stream": "stdout",
       "text": [
        "\r",
        "Loading: |####------| 166/343  48% [elapsed: 00:01 left: 00:01, 146.60 iters/sec]"
       ]
      },
      {
       "output_type": "stream",
       "stream": "stdout",
       "text": [
        "\r",
        "Loading: |####------| 167/343  48% [elapsed: 00:01 left: 00:01, 146.66 iters/sec]"
       ]
      },
      {
       "output_type": "stream",
       "stream": "stdout",
       "text": [
        "\r",
        "Loading: |####------| 168/343  48% [elapsed: 00:01 left: 00:01, 147.09 iters/sec]"
       ]
      },
      {
       "output_type": "stream",
       "stream": "stdout",
       "text": [
        "\r",
        "Loading: |####------| 169/343  49% [elapsed: 00:01 left: 00:01, 146.59 iters/sec]"
       ]
      },
      {
       "output_type": "stream",
       "stream": "stdout",
       "text": [
        "\r",
        "Loading: |####------| 170/343  49% [elapsed: 00:01 left: 00:01, 146.76 iters/sec]"
       ]
      },
      {
       "output_type": "stream",
       "stream": "stdout",
       "text": [
        "\r",
        "Loading: |####------| 171/343  49% [elapsed: 00:01 left: 00:01, 146.75 iters/sec]"
       ]
      },
      {
       "output_type": "stream",
       "stream": "stdout",
       "text": [
        "\r",
        "Loading: |#####-----| 172/343  50% [elapsed: 00:01 left: 00:01, 146.01 iters/sec]"
       ]
      },
      {
       "output_type": "stream",
       "stream": "stdout",
       "text": [
        "\r",
        "Loading: |#####-----| 173/343  50% [elapsed: 00:01 left: 00:01, 146.65 iters/sec]"
       ]
      },
      {
       "output_type": "stream",
       "stream": "stdout",
       "text": [
        "\r",
        "Loading: |#####-----| 174/343  50% [elapsed: 00:01 left: 00:01, 146.73 iters/sec]"
       ]
      },
      {
       "output_type": "stream",
       "stream": "stdout",
       "text": [
        "\r",
        "Loading: |#####-----| 175/343  51% [elapsed: 00:01 left: 00:01, 146.15 iters/sec]"
       ]
      },
      {
       "output_type": "stream",
       "stream": "stdout",
       "text": [
        "\r",
        "Loading: |#####-----| 176/343  51% [elapsed: 00:01 left: 00:01, 145.84 iters/sec]"
       ]
      },
      {
       "output_type": "stream",
       "stream": "stdout",
       "text": [
        "\r",
        "Loading: |#####-----| 177/343  51% [elapsed: 00:01 left: 00:01, 145.37 iters/sec]"
       ]
      },
      {
       "output_type": "stream",
       "stream": "stdout",
       "text": [
        "\r",
        "Loading: |#####-----| 178/343  51% [elapsed: 00:01 left: 00:01, 144.86 iters/sec]"
       ]
      },
      {
       "output_type": "stream",
       "stream": "stdout",
       "text": [
        "\r",
        "Loading: |#####-----| 179/343  52% [elapsed: 00:01 left: 00:01, 144.42 iters/sec]"
       ]
      },
      {
       "output_type": "stream",
       "stream": "stdout",
       "text": [
        "\r",
        "Loading: |#####-----| 180/343  52% [elapsed: 00:01 left: 00:01, 144.10 iters/sec]"
       ]
      },
      {
       "output_type": "stream",
       "stream": "stdout",
       "text": [
        "\r",
        "Loading: |#####-----| 181/343  52% [elapsed: 00:01 left: 00:01, 143.54 iters/sec]"
       ]
      },
      {
       "output_type": "stream",
       "stream": "stdout",
       "text": [
        "\r",
        "Loading: |#####-----| 182/343  53% [elapsed: 00:01 left: 00:01, 143.97 iters/sec]"
       ]
      },
      {
       "output_type": "stream",
       "stream": "stdout",
       "text": [
        "\r",
        "Loading: |#####-----| 183/343  53% [elapsed: 00:01 left: 00:01, 144.12 iters/sec]"
       ]
      },
      {
       "output_type": "stream",
       "stream": "stdout",
       "text": [
        "\r",
        "Loading: |#####-----| 184/343  53% [elapsed: 00:01 left: 00:01, 143.99 iters/sec]"
       ]
      },
      {
       "output_type": "stream",
       "stream": "stdout",
       "text": [
        "\r",
        "Loading: |#####-----| 185/343  53% [elapsed: 00:01 left: 00:01, 142.93 iters/sec]"
       ]
      },
      {
       "output_type": "stream",
       "stream": "stdout",
       "text": [
        "\r",
        "Loading: |#####-----| 186/343  54% [elapsed: 00:01 left: 00:01, 142.59 iters/sec]"
       ]
      },
      {
       "output_type": "stream",
       "stream": "stdout",
       "text": [
        "\r",
        "Loading: |#####-----| 187/343  54% [elapsed: 00:01 left: 00:01, 140.87 iters/sec]"
       ]
      },
      {
       "output_type": "stream",
       "stream": "stdout",
       "text": [
        "\r",
        "Loading: |#####-----| 188/343  54% [elapsed: 00:01 left: 00:01, 141.13 iters/sec]"
       ]
      },
      {
       "output_type": "stream",
       "stream": "stdout",
       "text": [
        "\r",
        "Loading: |#####-----| 189/343  55% [elapsed: 00:01 left: 00:01, 141.24 iters/sec]"
       ]
      },
      {
       "output_type": "stream",
       "stream": "stdout",
       "text": [
        "\r",
        "Loading: |#####-----| 190/343  55% [elapsed: 00:01 left: 00:01, 141.35 iters/sec]"
       ]
      },
      {
       "output_type": "stream",
       "stream": "stdout",
       "text": [
        "\r",
        "Loading: |#####-----| 191/343  55% [elapsed: 00:01 left: 00:01, 141.39 iters/sec]"
       ]
      },
      {
       "output_type": "stream",
       "stream": "stdout",
       "text": [
        "\r",
        "Loading: |#####-----| 192/343  55% [elapsed: 00:01 left: 00:01, 141.79 iters/sec]"
       ]
      },
      {
       "output_type": "stream",
       "stream": "stdout",
       "text": [
        "\r",
        "Loading: |#####-----| 193/343  56% [elapsed: 00:01 left: 00:01, 142.07 iters/sec]"
       ]
      },
      {
       "output_type": "stream",
       "stream": "stdout",
       "text": [
        "\r",
        "Loading: |#####-----| 194/343  56% [elapsed: 00:01 left: 00:01, 142.46 iters/sec]"
       ]
      },
      {
       "output_type": "stream",
       "stream": "stdout",
       "text": [
        "\r",
        "Loading: |#####-----| 195/343  56% [elapsed: 00:01 left: 00:01, 142.41 iters/sec]"
       ]
      },
      {
       "output_type": "stream",
       "stream": "stdout",
       "text": [
        "\r",
        "Loading: |#####-----| 196/343  57% [elapsed: 00:01 left: 00:01, 142.36 iters/sec]"
       ]
      },
      {
       "output_type": "stream",
       "stream": "stdout",
       "text": [
        "\r",
        "Loading: |#####-----| 197/343  57% [elapsed: 00:01 left: 00:01, 142.75 iters/sec]"
       ]
      },
      {
       "output_type": "stream",
       "stream": "stdout",
       "text": [
        "\r",
        "Loading: |#####-----| 198/343  57% [elapsed: 00:01 left: 00:01, 142.32 iters/sec]"
       ]
      },
      {
       "output_type": "stream",
       "stream": "stdout",
       "text": [
        "\r",
        "Loading: |#####-----| 199/343  58% [elapsed: 00:01 left: 00:01, 142.38 iters/sec]"
       ]
      },
      {
       "output_type": "stream",
       "stream": "stdout",
       "text": [
        "\r",
        "Loading: |#####-----| 200/343  58% [elapsed: 00:01 left: 00:01, 142.58 iters/sec]"
       ]
      },
      {
       "output_type": "stream",
       "stream": "stdout",
       "text": [
        "\r",
        "Loading: |#####-----| 201/343  58% [elapsed: 00:01 left: 00:00, 142.50 iters/sec]"
       ]
      },
      {
       "output_type": "stream",
       "stream": "stdout",
       "text": [
        "\r",
        "Loading: |#####-----| 202/343  58% [elapsed: 00:01 left: 00:01, 139.83 iters/sec]"
       ]
      },
      {
       "output_type": "stream",
       "stream": "stdout",
       "text": [
        "\r",
        "Loading: |#####-----| 203/343  59% [elapsed: 00:01 left: 00:00, 140.11 iters/sec]"
       ]
      },
      {
       "output_type": "stream",
       "stream": "stdout",
       "text": [
        "\r",
        "Loading: |#####-----| 204/343  59% [elapsed: 00:01 left: 00:00, 140.35 iters/sec]"
       ]
      },
      {
       "output_type": "stream",
       "stream": "stdout",
       "text": [
        "\r",
        "Loading: |#####-----| 205/343  59% [elapsed: 00:01 left: 00:00, 140.10 iters/sec]"
       ]
      },
      {
       "output_type": "stream",
       "stream": "stdout",
       "text": [
        "\r",
        "Loading: |######----| 206/343  60% [elapsed: 00:01 left: 00:00, 140.14 iters/sec]"
       ]
      },
      {
       "output_type": "stream",
       "stream": "stdout",
       "text": [
        "\r",
        "Loading: |######----| 207/343  60% [elapsed: 00:01 left: 00:00, 140.26 iters/sec]"
       ]
      },
      {
       "output_type": "stream",
       "stream": "stdout",
       "text": [
        "\r",
        "Loading: |######----| 208/343  60% [elapsed: 00:01 left: 00:00, 140.46 iters/sec]"
       ]
      },
      {
       "output_type": "stream",
       "stream": "stdout",
       "text": [
        "\r",
        "Loading: |######----| 209/343  60% [elapsed: 00:01 left: 00:00, 140.74 iters/sec]"
       ]
      },
      {
       "output_type": "stream",
       "stream": "stdout",
       "text": [
        "\r",
        "Loading: |######----| 210/343  61% [elapsed: 00:01 left: 00:00, 140.75 iters/sec]"
       ]
      },
      {
       "output_type": "stream",
       "stream": "stdout",
       "text": [
        "\r",
        "Loading: |######----| 211/343  61% [elapsed: 00:01 left: 00:00, 140.52 iters/sec]"
       ]
      },
      {
       "output_type": "stream",
       "stream": "stdout",
       "text": [
        "\r",
        "Loading: |######----| 212/343  61% [elapsed: 00:01 left: 00:00, 141.02 iters/sec]"
       ]
      },
      {
       "output_type": "stream",
       "stream": "stdout",
       "text": [
        "\r",
        "Loading: |######----| 213/343  62% [elapsed: 00:01 left: 00:00, 141.49 iters/sec]"
       ]
      },
      {
       "output_type": "stream",
       "stream": "stdout",
       "text": [
        "\r",
        "Loading: |######----| 214/343  62% [elapsed: 00:01 left: 00:00, 141.85 iters/sec]"
       ]
      },
      {
       "output_type": "stream",
       "stream": "stdout",
       "text": [
        "\r",
        "Loading: |######----| 215/343  62% [elapsed: 00:01 left: 00:00, 141.95 iters/sec]"
       ]
      },
      {
       "output_type": "stream",
       "stream": "stdout",
       "text": [
        "\r",
        "Loading: |######----| 216/343  62% [elapsed: 00:01 left: 00:00, 142.05 iters/sec]"
       ]
      },
      {
       "output_type": "stream",
       "stream": "stdout",
       "text": [
        "\r",
        "Loading: |######----| 217/343  63% [elapsed: 00:01 left: 00:00, 141.73 iters/sec]"
       ]
      },
      {
       "output_type": "stream",
       "stream": "stdout",
       "text": [
        "\r",
        "Loading: |######----| 218/343  63% [elapsed: 00:01 left: 00:00, 141.97 iters/sec]"
       ]
      },
      {
       "output_type": "stream",
       "stream": "stdout",
       "text": [
        "\r",
        "Loading: |######----| 219/343  63% [elapsed: 00:01 left: 00:00, 142.43 iters/sec]"
       ]
      },
      {
       "output_type": "stream",
       "stream": "stdout",
       "text": [
        "\r",
        "Loading: |######----| 220/343  64% [elapsed: 00:01 left: 00:00, 142.44 iters/sec]"
       ]
      },
      {
       "output_type": "stream",
       "stream": "stdout",
       "text": [
        "\r",
        "Loading: |######----| 221/343  64% [elapsed: 00:01 left: 00:00, 142.68 iters/sec]"
       ]
      },
      {
       "output_type": "stream",
       "stream": "stdout",
       "text": [
        "\r",
        "Loading: |######----| 222/343  64% [elapsed: 00:01 left: 00:00, 142.95 iters/sec]"
       ]
      },
      {
       "output_type": "stream",
       "stream": "stdout",
       "text": [
        "\r",
        "Loading: |######----| 223/343  65% [elapsed: 00:01 left: 00:00, 142.89 iters/sec]"
       ]
      },
      {
       "output_type": "stream",
       "stream": "stdout",
       "text": [
        "\r",
        "Loading: |######----| 224/343  65% [elapsed: 00:01 left: 00:00, 142.11 iters/sec]"
       ]
      },
      {
       "output_type": "stream",
       "stream": "stdout",
       "text": [
        "\r",
        "Loading: |######----| 225/343  65% [elapsed: 00:01 left: 00:00, 141.38 iters/sec]"
       ]
      },
      {
       "output_type": "stream",
       "stream": "stdout",
       "text": [
        "\r",
        "Loading: |######----| 226/343  65% [elapsed: 00:01 left: 00:00, 140.97 iters/sec]"
       ]
      },
      {
       "output_type": "stream",
       "stream": "stdout",
       "text": [
        "\r",
        "Loading: |######----| 227/343  66% [elapsed: 00:01 left: 00:00, 140.74 iters/sec]"
       ]
      },
      {
       "output_type": "stream",
       "stream": "stdout",
       "text": [
        "\r",
        "Loading: |######----| 228/343  66% [elapsed: 00:01 left: 00:00, 140.27 iters/sec]"
       ]
      },
      {
       "output_type": "stream",
       "stream": "stdout",
       "text": [
        "\r",
        "Loading: |######----| 229/343  66% [elapsed: 00:01 left: 00:00, 140.16 iters/sec]"
       ]
      },
      {
       "output_type": "stream",
       "stream": "stdout",
       "text": [
        "\r",
        "Loading: |######----| 230/343  67% [elapsed: 00:01 left: 00:00, 139.87 iters/sec]"
       ]
      },
      {
       "output_type": "stream",
       "stream": "stdout",
       "text": [
        "\r",
        "Loading: |######----| 231/343  67% [elapsed: 00:01 left: 00:00, 139.67 iters/sec]"
       ]
      },
      {
       "output_type": "stream",
       "stream": "stdout",
       "text": [
        "\r",
        "Loading: |######----| 232/343  67% [elapsed: 00:01 left: 00:00, 140.11 iters/sec]"
       ]
      },
      {
       "output_type": "stream",
       "stream": "stdout",
       "text": [
        "\r",
        "Loading: |######----| 233/343  67% [elapsed: 00:01 left: 00:00, 139.89 iters/sec]"
       ]
      },
      {
       "output_type": "stream",
       "stream": "stdout",
       "text": [
        "\r",
        "Loading: |######----| 234/343  68% [elapsed: 00:01 left: 00:00, 140.15 iters/sec]"
       ]
      },
      {
       "output_type": "stream",
       "stream": "stdout",
       "text": [
        "\r",
        "Loading: |######----| 235/343  68% [elapsed: 00:01 left: 00:00, 140.33 iters/sec]"
       ]
      },
      {
       "output_type": "stream",
       "stream": "stdout",
       "text": [
        "\r",
        "Loading: |######----| 236/343  68% [elapsed: 00:01 left: 00:00, 140.51 iters/sec]"
       ]
      },
      {
       "output_type": "stream",
       "stream": "stdout",
       "text": [
        "\r",
        "Loading: |######----| 237/343  69% [elapsed: 00:01 left: 00:00, 138.26 iters/sec]"
       ]
      },
      {
       "output_type": "stream",
       "stream": "stdout",
       "text": [
        "\r",
        "Loading: |######----| 238/343  69% [elapsed: 00:01 left: 00:00, 138.59 iters/sec]"
       ]
      },
      {
       "output_type": "stream",
       "stream": "stdout",
       "text": [
        "\r",
        "Loading: |######----| 239/343  69% [elapsed: 00:01 left: 00:00, 138.95 iters/sec]"
       ]
      },
      {
       "output_type": "stream",
       "stream": "stdout",
       "text": [
        "\r",
        "Loading: |######----| 240/343  69% [elapsed: 00:01 left: 00:00, 139.33 iters/sec]"
       ]
      },
      {
       "output_type": "stream",
       "stream": "stdout",
       "text": [
        "\r",
        "Loading: |#######---| 241/343  70% [elapsed: 00:01 left: 00:00, 139.51 iters/sec]"
       ]
      },
      {
       "output_type": "stream",
       "stream": "stdout",
       "text": [
        "\r",
        "Loading: |#######---| 242/343  70% [elapsed: 00:01 left: 00:00, 139.72 iters/sec]"
       ]
      },
      {
       "output_type": "stream",
       "stream": "stdout",
       "text": [
        "\r",
        "Loading: |#######---| 243/343  70% [elapsed: 00:01 left: 00:00, 139.36 iters/sec]"
       ]
      },
      {
       "output_type": "stream",
       "stream": "stdout",
       "text": [
        "\r",
        "Loading: |#######---| 244/343  71% [elapsed: 00:01 left: 00:00, 138.83 iters/sec]"
       ]
      },
      {
       "output_type": "stream",
       "stream": "stdout",
       "text": [
        "\r",
        "Loading: |#######---| 245/343  71% [elapsed: 00:01 left: 00:00, 137.95 iters/sec]"
       ]
      },
      {
       "output_type": "stream",
       "stream": "stdout",
       "text": [
        "\r",
        "Loading: |#######---| 246/343  71% [elapsed: 00:01 left: 00:00, 137.56 iters/sec]"
       ]
      },
      {
       "output_type": "stream",
       "stream": "stdout",
       "text": [
        "\r",
        "Loading: |#######---| 247/343  72% [elapsed: 00:01 left: 00:00, 137.92 iters/sec]"
       ]
      },
      {
       "output_type": "stream",
       "stream": "stdout",
       "text": [
        "\r",
        "Loading: |#######---| 248/343  72% [elapsed: 00:01 left: 00:00, 138.28 iters/sec]"
       ]
      },
      {
       "output_type": "stream",
       "stream": "stdout",
       "text": [
        "\r",
        "Loading: |#######---| 249/343  72% [elapsed: 00:01 left: 00:00, 138.66 iters/sec]"
       ]
      },
      {
       "output_type": "stream",
       "stream": "stdout",
       "text": [
        "\r",
        "Loading: |#######---| 250/343  72% [elapsed: 00:01 left: 00:00, 139.03 iters/sec]"
       ]
      },
      {
       "output_type": "stream",
       "stream": "stdout",
       "text": [
        "\r",
        "Loading: |#######---| 251/343  73% [elapsed: 00:01 left: 00:00, 139.40 iters/sec]"
       ]
      },
      {
       "output_type": "stream",
       "stream": "stdout",
       "text": [
        "\r",
        "Loading: |#######---| 252/343  73% [elapsed: 00:01 left: 00:00, 139.73 iters/sec]"
       ]
      },
      {
       "output_type": "stream",
       "stream": "stdout",
       "text": [
        "\r",
        "Loading: |#######---| 253/343  73% [elapsed: 00:01 left: 00:00, 140.06 iters/sec]"
       ]
      },
      {
       "output_type": "stream",
       "stream": "stdout",
       "text": [
        "\r",
        "Loading: |#######---| 254/343  74% [elapsed: 00:01 left: 00:00, 140.38 iters/sec]"
       ]
      },
      {
       "output_type": "stream",
       "stream": "stdout",
       "text": [
        "\r",
        "Loading: |#######---| 255/343  74% [elapsed: 00:01 left: 00:00, 140.75 iters/sec]"
       ]
      },
      {
       "output_type": "stream",
       "stream": "stdout",
       "text": [
        "\r",
        "Loading: |#######---| 256/343  74% [elapsed: 00:01 left: 00:00, 141.11 iters/sec]"
       ]
      },
      {
       "output_type": "stream",
       "stream": "stdout",
       "text": [
        "\r",
        "Loading: |#######---| 257/343  74% [elapsed: 00:01 left: 00:00, 141.23 iters/sec]"
       ]
      },
      {
       "output_type": "stream",
       "stream": "stdout",
       "text": [
        "\r",
        "Loading: |#######---| 258/343  75% [elapsed: 00:01 left: 00:00, 141.42 iters/sec]"
       ]
      },
      {
       "output_type": "stream",
       "stream": "stdout",
       "text": [
        "\r",
        "Loading: |#######---| 259/343  75% [elapsed: 00:01 left: 00:00, 141.68 iters/sec]"
       ]
      },
      {
       "output_type": "stream",
       "stream": "stdout",
       "text": [
        "\r",
        "Loading: |#######---| 260/343  75% [elapsed: 00:01 left: 00:00, 141.96 iters/sec]"
       ]
      },
      {
       "output_type": "stream",
       "stream": "stdout",
       "text": [
        "\r",
        "Loading: |#######---| 261/343  76% [elapsed: 00:01 left: 00:00, 142.28 iters/sec]"
       ]
      },
      {
       "output_type": "stream",
       "stream": "stdout",
       "text": [
        "\r",
        "Loading: |#######---| 262/343  76% [elapsed: 00:01 left: 00:00, 141.84 iters/sec]"
       ]
      },
      {
       "output_type": "stream",
       "stream": "stdout",
       "text": [
        "\r",
        "Loading: |#######---| 263/343  76% [elapsed: 00:01 left: 00:00, 141.15 iters/sec]"
       ]
      },
      {
       "output_type": "stream",
       "stream": "stdout",
       "text": [
        "\r",
        "Loading: |#######---| 264/343  76% [elapsed: 00:01 left: 00:00, 141.47 iters/sec]"
       ]
      },
      {
       "output_type": "stream",
       "stream": "stdout",
       "text": [
        "\r",
        "Loading: |#######---| 265/343  77% [elapsed: 00:01 left: 00:00, 141.71 iters/sec]"
       ]
      },
      {
       "output_type": "stream",
       "stream": "stdout",
       "text": [
        "\r",
        "Loading: |#######---| 266/343  77% [elapsed: 00:01 left: 00:00, 141.74 iters/sec]"
       ]
      },
      {
       "output_type": "stream",
       "stream": "stdout",
       "text": [
        "\r",
        "Loading: |#######---| 267/343  77% [elapsed: 00:01 left: 00:00, 141.72 iters/sec]"
       ]
      },
      {
       "output_type": "stream",
       "stream": "stdout",
       "text": [
        "\r",
        "Loading: |#######---| 268/343  78% [elapsed: 00:01 left: 00:00, 141.98 iters/sec]"
       ]
      },
      {
       "output_type": "stream",
       "stream": "stdout",
       "text": [
        "\r",
        "Loading: |#######---| 269/343  78% [elapsed: 00:01 left: 00:00, 142.11 iters/sec]"
       ]
      },
      {
       "output_type": "stream",
       "stream": "stdout",
       "text": [
        "\r",
        "Loading: |#######---| 270/343  78% [elapsed: 00:01 left: 00:00, 142.21 iters/sec]"
       ]
      },
      {
       "output_type": "stream",
       "stream": "stdout",
       "text": [
        "\r",
        "Loading: |#######---| 271/343  79% [elapsed: 00:01 left: 00:00, 142.12 iters/sec]"
       ]
      },
      {
       "output_type": "stream",
       "stream": "stdout",
       "text": [
        "\r",
        "Loading: |#######---| 272/343  79% [elapsed: 00:01 left: 00:00, 141.92 iters/sec]"
       ]
      },
      {
       "output_type": "stream",
       "stream": "stdout",
       "text": [
        "\r",
        "Loading: |#######---| 273/343  79% [elapsed: 00:01 left: 00:00, 141.92 iters/sec]"
       ]
      },
      {
       "output_type": "stream",
       "stream": "stdout",
       "text": [
        "\r",
        "Loading: |#######---| 274/343  79% [elapsed: 00:01 left: 00:00, 141.59 iters/sec]"
       ]
      },
      {
       "output_type": "stream",
       "stream": "stdout",
       "text": [
        "\r",
        "Loading: |########--| 275/343  80% [elapsed: 00:01 left: 00:00, 141.98 iters/sec]"
       ]
      },
      {
       "output_type": "stream",
       "stream": "stdout",
       "text": [
        "\r",
        "Loading: |########--| 276/343  80% [elapsed: 00:01 left: 00:00, 142.32 iters/sec]"
       ]
      },
      {
       "output_type": "stream",
       "stream": "stdout",
       "text": [
        "\r",
        "Loading: |########--| 277/343  80% [elapsed: 00:01 left: 00:00, 142.70 iters/sec]"
       ]
      },
      {
       "output_type": "stream",
       "stream": "stdout",
       "text": [
        "\r",
        "Loading: |########--| 278/343  81% [elapsed: 00:01 left: 00:00, 141.78 iters/sec]"
       ]
      },
      {
       "output_type": "stream",
       "stream": "stdout",
       "text": [
        "\r",
        "Loading: |########--| 279/343  81% [elapsed: 00:01 left: 00:00, 142.00 iters/sec]"
       ]
      },
      {
       "output_type": "stream",
       "stream": "stdout",
       "text": [
        "\r",
        "Loading: |########--| 280/343  81% [elapsed: 00:01 left: 00:00, 142.33 iters/sec]"
       ]
      },
      {
       "output_type": "stream",
       "stream": "stdout",
       "text": [
        "\r",
        "Loading: |########--| 281/343  81% [elapsed: 00:01 left: 00:00, 142.64 iters/sec]"
       ]
      },
      {
       "output_type": "stream",
       "stream": "stdout",
       "text": [
        "\r",
        "Loading: |########--| 282/343  82% [elapsed: 00:01 left: 00:00, 142.92 iters/sec]"
       ]
      },
      {
       "output_type": "stream",
       "stream": "stdout",
       "text": [
        "\r",
        "Loading: |########--| 283/343  82% [elapsed: 00:02 left: 00:00, 140.61 iters/sec]"
       ]
      },
      {
       "output_type": "stream",
       "stream": "stdout",
       "text": [
        "\r",
        "Loading: |########--| 284/343  82% [elapsed: 00:02 left: 00:00, 140.90 iters/sec]"
       ]
      },
      {
       "output_type": "stream",
       "stream": "stdout",
       "text": [
        "\r",
        "Loading: |########--| 285/343  83% [elapsed: 00:02 left: 00:00, 141.25 iters/sec]"
       ]
      },
      {
       "output_type": "stream",
       "stream": "stdout",
       "text": [
        "\r",
        "Loading: |########--| 286/343  83% [elapsed: 00:02 left: 00:00, 141.31 iters/sec]"
       ]
      },
      {
       "output_type": "stream",
       "stream": "stdout",
       "text": [
        "\r",
        "Loading: |########--| 287/343  83% [elapsed: 00:02 left: 00:00, 139.00 iters/sec]"
       ]
      },
      {
       "output_type": "stream",
       "stream": "stdout",
       "text": [
        "\r",
        "Loading: |########--| 288/343  83% [elapsed: 00:02 left: 00:00, 137.75 iters/sec]"
       ]
      },
      {
       "output_type": "stream",
       "stream": "stdout",
       "text": [
        "\r",
        "Loading: |########--| 289/343  84% [elapsed: 00:02 left: 00:00, 136.46 iters/sec]"
       ]
      },
      {
       "output_type": "stream",
       "stream": "stdout",
       "text": [
        "\r",
        "Loading: |########--| 290/343  84% [elapsed: 00:02 left: 00:00, 135.58 iters/sec]"
       ]
      },
      {
       "output_type": "stream",
       "stream": "stdout",
       "text": [
        "\r",
        "Loading: |########--| 291/343  84% [elapsed: 00:02 left: 00:00, 135.85 iters/sec]"
       ]
      },
      {
       "output_type": "stream",
       "stream": "stdout",
       "text": [
        "\r",
        "Loading: |########--| 292/343  85% [elapsed: 00:02 left: 00:00, 136.00 iters/sec]"
       ]
      },
      {
       "output_type": "stream",
       "stream": "stdout",
       "text": [
        "\r",
        "Loading: |########--| 293/343  85% [elapsed: 00:02 left: 00:00, 136.25 iters/sec]"
       ]
      },
      {
       "output_type": "stream",
       "stream": "stdout",
       "text": [
        "\r",
        "Loading: |########--| 294/343  85% [elapsed: 00:02 left: 00:00, 136.25 iters/sec]"
       ]
      },
      {
       "output_type": "stream",
       "stream": "stdout",
       "text": [
        "\r",
        "Loading: |########--| 295/343  86% [elapsed: 00:02 left: 00:00, 136.45 iters/sec]"
       ]
      },
      {
       "output_type": "stream",
       "stream": "stdout",
       "text": [
        "\r",
        "Loading: |########--| 296/343  86% [elapsed: 00:02 left: 00:00, 136.72 iters/sec]"
       ]
      },
      {
       "output_type": "stream",
       "stream": "stdout",
       "text": [
        "\r",
        "Loading: |########--| 297/343  86% [elapsed: 00:02 left: 00:00, 137.09 iters/sec]"
       ]
      },
      {
       "output_type": "stream",
       "stream": "stdout",
       "text": [
        "\r",
        "Loading: |########--| 298/343  86% [elapsed: 00:02 left: 00:00, 137.04 iters/sec]"
       ]
      },
      {
       "output_type": "stream",
       "stream": "stdout",
       "text": [
        "\r",
        "Loading: |########--| 299/343  87% [elapsed: 00:02 left: 00:00, 137.22 iters/sec]"
       ]
      },
      {
       "output_type": "stream",
       "stream": "stdout",
       "text": [
        "\r",
        "Loading: |########--| 300/343  87% [elapsed: 00:02 left: 00:00, 136.81 iters/sec]"
       ]
      },
      {
       "output_type": "stream",
       "stream": "stdout",
       "text": [
        "\r",
        "Loading: |########--| 301/343  87% [elapsed: 00:02 left: 00:00, 136.95 iters/sec]"
       ]
      },
      {
       "output_type": "stream",
       "stream": "stdout",
       "text": [
        "\r",
        "Loading: |########--| 302/343  88% [elapsed: 00:02 left: 00:00, 137.23 iters/sec]"
       ]
      },
      {
       "output_type": "stream",
       "stream": "stdout",
       "text": [
        "\r",
        "Loading: |########--| 303/343  88% [elapsed: 00:02 left: 00:00, 137.44 iters/sec]"
       ]
      },
      {
       "output_type": "stream",
       "stream": "stdout",
       "text": [
        "\r",
        "Loading: |########--| 304/343  88% [elapsed: 00:02 left: 00:00, 137.30 iters/sec]"
       ]
      },
      {
       "output_type": "stream",
       "stream": "stdout",
       "text": [
        "\r",
        "Loading: |########--| 305/343  88% [elapsed: 00:02 left: 00:00, 136.62 iters/sec]"
       ]
      },
      {
       "output_type": "stream",
       "stream": "stdout",
       "text": [
        "\r",
        "Loading: |########--| 306/343  89% [elapsed: 00:02 left: 00:00, 136.38 iters/sec]"
       ]
      },
      {
       "output_type": "stream",
       "stream": "stdout",
       "text": [
        "\r",
        "Loading: |########--| 307/343  89% [elapsed: 00:02 left: 00:00, 136.66 iters/sec]"
       ]
      },
      {
       "output_type": "stream",
       "stream": "stdout",
       "text": [
        "\r",
        "Loading: |########--| 308/343  89% [elapsed: 00:02 left: 00:00, 136.96 iters/sec]"
       ]
      },
      {
       "output_type": "stream",
       "stream": "stdout",
       "text": [
        "\r",
        "Loading: |#########-| 309/343  90% [elapsed: 00:02 left: 00:00, 137.15 iters/sec]"
       ]
      },
      {
       "output_type": "stream",
       "stream": "stdout",
       "text": [
        "\r",
        "Loading: |#########-| 310/343  90% [elapsed: 00:02 left: 00:00, 137.22 iters/sec]"
       ]
      },
      {
       "output_type": "stream",
       "stream": "stdout",
       "text": [
        "\r",
        "Loading: |#########-| 311/343  90% [elapsed: 00:02 left: 00:00, 137.27 iters/sec]"
       ]
      },
      {
       "output_type": "stream",
       "stream": "stdout",
       "text": [
        "\r",
        "Loading: |#########-| 312/343  90% [elapsed: 00:02 left: 00:00, 137.55 iters/sec]"
       ]
      },
      {
       "output_type": "stream",
       "stream": "stdout",
       "text": [
        "\r",
        "Loading: |#########-| 313/343  91% [elapsed: 00:02 left: 00:00, 137.84 iters/sec]"
       ]
      },
      {
       "output_type": "stream",
       "stream": "stdout",
       "text": [
        "\r",
        "Loading: |#########-| 314/343  91% [elapsed: 00:02 left: 00:00, 137.88 iters/sec]"
       ]
      },
      {
       "output_type": "stream",
       "stream": "stdout",
       "text": [
        "\r",
        "Loading: |#########-| 315/343  91% [elapsed: 00:02 left: 00:00, 137.49 iters/sec]"
       ]
      },
      {
       "output_type": "stream",
       "stream": "stdout",
       "text": [
        "\r",
        "Loading: |#########-| 316/343  92% [elapsed: 00:02 left: 00:00, 137.83 iters/sec]"
       ]
      },
      {
       "output_type": "stream",
       "stream": "stdout",
       "text": [
        "\r",
        "Loading: |#########-| 317/343  92% [elapsed: 00:02 left: 00:00, 137.93 iters/sec]"
       ]
      },
      {
       "output_type": "stream",
       "stream": "stdout",
       "text": [
        "\r",
        "Loading: |#########-| 318/343  92% [elapsed: 00:02 left: 00:00, 138.21 iters/sec]"
       ]
      },
      {
       "output_type": "stream",
       "stream": "stdout",
       "text": [
        "\r",
        "Loading: |#########-| 319/343  93% [elapsed: 00:02 left: 00:00, 138.06 iters/sec]"
       ]
      },
      {
       "output_type": "stream",
       "stream": "stdout",
       "text": [
        "\r",
        "Loading: |#########-| 320/343  93% [elapsed: 00:02 left: 00:00, 138.35 iters/sec]"
       ]
      },
      {
       "output_type": "stream",
       "stream": "stdout",
       "text": [
        "\r",
        "Loading: |#########-| 321/343  93% [elapsed: 00:02 left: 00:00, 138.36 iters/sec]"
       ]
      },
      {
       "output_type": "stream",
       "stream": "stdout",
       "text": [
        "\r",
        "Loading: |#########-| 322/343  93% [elapsed: 00:02 left: 00:00, 138.62 iters/sec]"
       ]
      },
      {
       "output_type": "stream",
       "stream": "stdout",
       "text": [
        "\r",
        "Loading: |#########-| 323/343  94% [elapsed: 00:02 left: 00:00, 138.88 iters/sec]"
       ]
      },
      {
       "output_type": "stream",
       "stream": "stdout",
       "text": [
        "\r",
        "Loading: |#########-| 324/343  94% [elapsed: 00:02 left: 00:00, 139.08 iters/sec]"
       ]
      },
      {
       "output_type": "stream",
       "stream": "stdout",
       "text": [
        "\r",
        "Loading: |#########-| 325/343  94% [elapsed: 00:02 left: 00:00, 139.07 iters/sec]"
       ]
      },
      {
       "output_type": "stream",
       "stream": "stdout",
       "text": [
        "\r",
        "Loading: |#########-| 326/343  95% [elapsed: 00:02 left: 00:00, 139.32 iters/sec]"
       ]
      },
      {
       "output_type": "stream",
       "stream": "stdout",
       "text": [
        "\r",
        "Loading: |#########-| 327/343  95% [elapsed: 00:02 left: 00:00, 139.61 iters/sec]"
       ]
      },
      {
       "output_type": "stream",
       "stream": "stdout",
       "text": [
        "\r",
        "Loading: |#########-| 328/343  95% [elapsed: 00:02 left: 00:00, 138.77 iters/sec]"
       ]
      },
      {
       "output_type": "stream",
       "stream": "stdout",
       "text": [
        "\r",
        "Loading: |#########-| 329/343  95% [elapsed: 00:02 left: 00:00, 138.46 iters/sec]"
       ]
      },
      {
       "output_type": "stream",
       "stream": "stdout",
       "text": [
        "\r",
        "Loading: |#########-| 330/343  96% [elapsed: 00:02 left: 00:00, 138.54 iters/sec]"
       ]
      },
      {
       "output_type": "stream",
       "stream": "stdout",
       "text": [
        "\r",
        "Loading: |#########-| 331/343  96% [elapsed: 00:02 left: 00:00, 138.78 iters/sec]"
       ]
      },
      {
       "output_type": "stream",
       "stream": "stdout",
       "text": [
        "\r",
        "Loading: |#########-| 332/343  96% [elapsed: 00:02 left: 00:00, 138.99 iters/sec]"
       ]
      },
      {
       "output_type": "stream",
       "stream": "stdout",
       "text": [
        "\r",
        "Loading: |#########-| 333/343  97% [elapsed: 00:02 left: 00:00, 139.22 iters/sec]"
       ]
      },
      {
       "output_type": "stream",
       "stream": "stdout",
       "text": [
        "\r",
        "Loading: |#########-| 334/343  97% [elapsed: 00:02 left: 00:00, 139.47 iters/sec]"
       ]
      },
      {
       "output_type": "stream",
       "stream": "stdout",
       "text": [
        "\r",
        "Loading: |#########-| 335/343  97% [elapsed: 00:02 left: 00:00, 139.23 iters/sec]"
       ]
      },
      {
       "output_type": "stream",
       "stream": "stdout",
       "text": [
        "\r",
        "Loading: |#########-| 336/343  97% [elapsed: 00:02 left: 00:00, 139.46 iters/sec]"
       ]
      },
      {
       "output_type": "stream",
       "stream": "stdout",
       "text": [
        "\r",
        "Loading: |#########-| 337/343  98% [elapsed: 00:02 left: 00:00, 139.60 iters/sec]"
       ]
      },
      {
       "output_type": "stream",
       "stream": "stdout",
       "text": [
        "\r",
        "Loading: |#########-| 338/343  98% [elapsed: 00:02 left: 00:00, 139.44 iters/sec]"
       ]
      },
      {
       "output_type": "stream",
       "stream": "stdout",
       "text": [
        "\r",
        "Loading: |#########-| 339/343  98% [elapsed: 00:02 left: 00:00, 139.48 iters/sec]"
       ]
      },
      {
       "output_type": "stream",
       "stream": "stdout",
       "text": [
        "\r",
        "Loading: |#########-| 340/343  99% [elapsed: 00:02 left: 00:00, 139.49 iters/sec]"
       ]
      },
      {
       "output_type": "stream",
       "stream": "stdout",
       "text": [
        "\r",
        "Loading: |#########-| 341/343  99% [elapsed: 00:02 left: 00:00, 138.95 iters/sec]"
       ]
      },
      {
       "output_type": "stream",
       "stream": "stdout",
       "text": [
        "\r",
        "Loading: |#########-| 342/343  99% [elapsed: 00:02 left: 00:00, 138.78 iters/sec]"
       ]
      },
      {
       "output_type": "stream",
       "stream": "stdout",
       "text": [
        "\r",
        "Loading: |##########| 343/343 100% [elapsed: 00:02 left: 00:00, 138.23 iters/sec]"
       ]
      },
      {
       "output_type": "stream",
       "stream": "stdout",
       "text": [
        "\n",
        "Train size: 500, test size: 140\n"
       ]
      }
     ],
     "prompt_number": 3
    },
    {
     "cell_type": "markdown",
     "metadata": {},
     "source": [
      "## Ideas for useful features\n",
      "\n",
      "### Search forms\n",
      "\n",
      "* a single query field\n",
      "* a field named \"q\" or \"s\"\n",
      "* \"search\" in URL\n",
      "* \"search\" in submit button text (submit value)\n",
      "* \"search\" in form css class or id\n",
      "* no password field\n",
      "* method == GET?\n",
      "\n",
      "### Login forms\n",
      "\n",
      "* username or email and password\n",
      "* 2 passwords - likely not a login form\n",
      "* \"login\" or \"sign in\" (or variations) in URL\n",
      "* \"login\" or \"sign in\" (or variations) in form css class or id\n",
      "* \"login\" or \"sign in\" in submit button text\n",
      "* \"Remember me\" checkbox (or any single checkbox)\n",
      "* no select elements\n",
      "* no textarea elements\n",
      "* openid?\n",
      "* method == POST\n",
      "\n",
      "### Registration forms\n",
      "\n",
      "* 2 passwords \n",
      "* \"register\" / \"sign up\" in URL, form css class / id or submit button text\n",
      "* \"agree\" checkbox\n",
      "* email\n",
      "* username\n",
      "* method == POST\n",
      "\n",
      "### Contact forms\n",
      "\n",
      "* feedback in URL/class\n",
      "* textarea\n",
      "* \"Send\" button\n",
      "* email\n",
      "* method == POST\n",
      "\n",
      "### Password reset\n",
      "\n",
      "* a single email or username field\n",
      "* \"password\" in URL/css class/ submit button text\n",
      "\n",
      "### Join Mailing List\n",
      "\n",
      "* a single email field\n",
      "* subscribe/join/newsletter words\n",
      "* a short form\n",
      "\n",
      "The main problem with \"join mailing list\" forms is to distinguish them from search forms.\n",
      "\n",
      "## How to handle them\n",
      "\n",
      "Instead of hardcoding the features above many of them are generalized. For exmaple, instead of writing \"search in URL\" we extract all 5-character substrings from the URL and use \"`urlsubstring<N>` in URL\" as features. There are some disadvantages in this approach, but it provides a good starting point.\n",
      "\n",
      "The feature extractors are stored in formtype.features module."
     ]
    },
    {
     "cell_type": "code",
     "collapsed": false,
     "input": [
      "from sklearn.feature_extraction import DictVectorizer\n",
      "from sklearn.feature_extraction.text import CountVectorizer, TfidfVectorizer\n",
      "from sklearn.pipeline import Pipeline, FeatureUnion, make_pipeline, make_union\n",
      "from sklearn.linear_model import LogisticRegression, SGDClassifier\n",
      "from sklearn.svm import LinearSVC\n",
      "from sklearn.cross_validation import cross_val_score\n",
      "from sklearn.metrics import classification_report, confusion_matrix, precision_recall_fscore_support"
     ],
     "language": "python",
     "metadata": {},
     "outputs": [],
     "prompt_number": 4
    },
    {
     "cell_type": "code",
     "collapsed": false,
     "input": [
      "%%time\n",
      "reload(features)\n",
      "from formtype.model import _create_feature_union\n",
      "# ======= define the model ========\n",
      "\n",
      "# features should be the same as in formtype.model\n",
      "FEATURES = [\n",
      "    (\n",
      "        \"bias\",\n",
      "        features.Bias(),\n",
      "        DictVectorizer(),\n",
      "    ),\n",
      "    (\n",
      "        \"form elements\",\n",
      "        features.FormElements(),\n",
      "        DictVectorizer()\n",
      "    ),\n",
      "    (\n",
      "        \"<input type=submit value=...>\",\n",
      "        features.SubmitText(),\n",
      "        CountVectorizer(ngram_range=(1,2), min_df=1, binary=True)\n",
      "    ),\n",
      "    # (\n",
      "    #     \"<form> TEXT </form>\",\n",
      "    #     features.FormText(),\n",
      "    #     TfidfVectorizer(ngram_range=(1,2), min_df=5, stop_words='english', binary=True)\n",
      "    # ),\n",
      "\n",
      "    (\n",
      "        \"<a> TEXT </a>\",\n",
      "        features.FormLinksText(),\n",
      "        TfidfVectorizer(ngram_range=(1,2), min_df=4, stop_words={'and', 'or', 'of'}, binary=True)\n",
      "    ),\n",
      "    (\n",
      "        \"<label> TEXT </label>\",\n",
      "        features.FormLabelText(),\n",
      "        TfidfVectorizer(ngram_range=(1,2), min_df=3, stop_words=\"english\", binary=True)\n",
      "    ),\n",
      "\n",
      "    (\n",
      "        \"<form action=...>\",\n",
      "        features.FormUrl(),\n",
      "        TfidfVectorizer(ngram_range=(5,6), min_df=4, analyzer=\"char_wb\", binary=True)\n",
      "    ),\n",
      "    (\n",
      "        \"<form class=... id=...>\",\n",
      "        features.FormCss(),\n",
      "        TfidfVectorizer(ngram_range=(4,5), min_df=3, analyzer=\"char_wb\", binary=True)\n",
      "    ),\n",
      "    (\n",
      "        \"<input class=... id=...>\",\n",
      "        features.FormInputCss(),\n",
      "        TfidfVectorizer(ngram_range=(4,5), min_df=5, analyzer=\"char_wb\", binary=True)\n",
      "    ),\n",
      "    (\n",
      "        \"<input name=...>\",\n",
      "        features.FormInputNames(),\n",
      "        TfidfVectorizer(ngram_range=(5,6), min_df=3, analyzer=\"char_wb\", binary=True)\n",
      "    ),\n",
      "    (\n",
      "        \"<input title=...>\",\n",
      "        features.FormInputTitle(),\n",
      "        TfidfVectorizer(ngram_range=(5,6), min_df=3, analyzer=\"char_wb\", binary=True)\n",
      "    ),\n",
      "]\n",
      "\n",
      "\n",
      "\n",
      "# clf = SGDClassifier(\n",
      "#     penalty='elasticnet', \n",
      "#     loss='log', \n",
      "#     alpha=0.0002,\n",
      "#     fit_intercept=False, \n",
      "#     shuffle=True, \n",
      "#     random_state=0,\n",
      "#     n_iter=50,\n",
      "# )\n",
      "clf = LogisticRegression(penalty='l2', C=5, fit_intercept=False, random_state=0)\n",
      "# clf = LinearSVC(C=0.5, random_state=0, fit_intercept=False)\n",
      "\n",
      "model = make_pipeline(\n",
      "    _create_feature_union(FEATURES), \n",
      "    clf,\n",
      ")\n",
      "    \n",
      "evaluation.print_metrics(model, X, y, X_train, X_test, y_train, y_test, ipython=True)"
     ],
     "language": "python",
     "metadata": {},
     "outputs": [
      {
       "output_type": "stream",
       "stream": "stdout",
       "text": [
        "\n",
        "Classification report (500 training examples, 140 testing examples):\n",
        "\n",
        "                         precision    recall  f1-score   support\n",
        "\n",
        "                contact       1.00      0.88      0.93         8\n",
        "                  login       0.96      0.96      0.96        28\n",
        "      join mailing list       0.86      0.50      0.63        12\n",
        "                  other       0.68      1.00      0.81        19\n",
        "password/login recovery       1.00      0.92      0.96        13\n",
        "           registration       1.00      0.78      0.88        18\n",
        "                 search       0.95      1.00      0.98        42\n",
        "\n",
        "            avg / total       0.92      0.91      0.90       140\n",
        "\n",
        "Active features: 31388 out of possible 31388\n",
        "\n",
        "Confusion matrix (rows=>true values, columns=>predicted values):\n"
       ]
      },
      {
       "html": [
        "<div style=\"max-height:1000px;max-width:1500px;overflow:auto;\">\n",
        "<table border=\"1\" class=\"dataframe\">\n",
        "  <thead>\n",
        "    <tr style=\"text-align: right;\">\n",
        "      <th></th>\n",
        "      <th>contact</th>\n",
        "      <th>login</th>\n",
        "      <th>join mailing list</th>\n",
        "      <th>other</th>\n",
        "      <th>password/login recovery</th>\n",
        "      <th>registration</th>\n",
        "      <th>search</th>\n",
        "    </tr>\n",
        "  </thead>\n",
        "  <tbody>\n",
        "    <tr>\n",
        "      <th>contact</th>\n",
        "      <td> 7</td>\n",
        "      <td>  0</td>\n",
        "      <td> 0</td>\n",
        "      <td>  1</td>\n",
        "      <td>  0</td>\n",
        "      <td>  0</td>\n",
        "      <td>  0</td>\n",
        "    </tr>\n",
        "    <tr>\n",
        "      <th>login</th>\n",
        "      <td> 0</td>\n",
        "      <td> 27</td>\n",
        "      <td> 0</td>\n",
        "      <td>  1</td>\n",
        "      <td>  0</td>\n",
        "      <td>  0</td>\n",
        "      <td>  0</td>\n",
        "    </tr>\n",
        "    <tr>\n",
        "      <th>join mailing list</th>\n",
        "      <td> 0</td>\n",
        "      <td>  0</td>\n",
        "      <td> 6</td>\n",
        "      <td>  4</td>\n",
        "      <td>  0</td>\n",
        "      <td>  0</td>\n",
        "      <td>  2</td>\n",
        "    </tr>\n",
        "    <tr>\n",
        "      <th>other</th>\n",
        "      <td> 0</td>\n",
        "      <td>  0</td>\n",
        "      <td> 0</td>\n",
        "      <td> 19</td>\n",
        "      <td>  0</td>\n",
        "      <td>  0</td>\n",
        "      <td>  0</td>\n",
        "    </tr>\n",
        "    <tr>\n",
        "      <th>password/login recovery</th>\n",
        "      <td> 0</td>\n",
        "      <td>  0</td>\n",
        "      <td> 0</td>\n",
        "      <td>  1</td>\n",
        "      <td> 12</td>\n",
        "      <td>  0</td>\n",
        "      <td>  0</td>\n",
        "    </tr>\n",
        "    <tr>\n",
        "      <th>registration</th>\n",
        "      <td> 0</td>\n",
        "      <td>  1</td>\n",
        "      <td> 1</td>\n",
        "      <td>  2</td>\n",
        "      <td>  0</td>\n",
        "      <td> 14</td>\n",
        "      <td>  0</td>\n",
        "    </tr>\n",
        "    <tr>\n",
        "      <th>search</th>\n",
        "      <td> 0</td>\n",
        "      <td>  0</td>\n",
        "      <td> 0</td>\n",
        "      <td>  0</td>\n",
        "      <td>  0</td>\n",
        "      <td>  0</td>\n",
        "      <td> 42</td>\n",
        "    </tr>\n",
        "  </tbody>\n",
        "</table>\n",
        "</div>"
       ],
       "metadata": {},
       "output_type": "display_data",
       "text": [
        "                         contact  login  join mailing list  other  \\\n",
        "contact                        7      0                  0      1   \n",
        "login                          0     27                  0      1   \n",
        "join mailing list              0      0                  6      4   \n",
        "other                          0      0                  0     19   \n",
        "password/login recovery        0      0                  0      1   \n",
        "registration                   0      1                  1      2   \n",
        "search                         0      0                  0      0   \n",
        "\n",
        "                         password/login recovery  registration  search  \n",
        "contact                                        0             0       0  \n",
        "login                                          0             0       0  \n",
        "join mailing list                              0             0       2  \n",
        "other                                          0             0       0  \n",
        "password/login recovery                       12             0       0  \n",
        "registration                                   0            14       0  \n",
        "search                                         0             0      42  "
       ]
      },
      {
       "output_type": "stream",
       "stream": "stdout",
       "text": [
        "\n",
        "Running cross validation...\n",
        "10-fold cross-validation F1: 0.900 (\u00b10.087)  min=0.828  max=0.953"
       ]
      },
      {
       "output_type": "stream",
       "stream": "stdout",
       "text": [
        "\n",
        "CPU times: user 11.6 s, sys: 195 ms, total: 11.8 s\n",
        "Wall time: 11.8 s\n"
       ]
      }
     ],
     "prompt_number": 5
    },
    {
     "cell_type": "markdown",
     "metadata": {},
     "source": [
      "## Check what classifier learned\n",
      "\n",
      "For linear classifiers like Logistic Regression or an SVM without a kernel we can check coefficient values to understand better how the decision is made. \n",
      "\n",
      "For correlated features weight will be spread across all correlated features, so just checking coefficients is not enough, but looking at them is useful anyways."
     ]
    },
    {
     "cell_type": "code",
     "collapsed": false,
     "input": [
      "evaluation.print_informative_features(FEATURES, clf, 25)"
     ],
     "language": "python",
     "metadata": {},
     "outputs": [
      {
       "output_type": "stream",
       "stream": "stdout",
       "text": [
        "contact\n",
        "+3.3853:                  form elements  has <textarea>\n",
        "+1.9748:                  <a> TEXT </a>  contact\n",
        "+1.9487:                  <a> TEXT </a>  contact us\n",
        "+1.8169:                  <a> TEXT </a>  us\n",
        "+1.5304:                  <a> TEXT </a>  privacy\n",
        "+1.1378:        <form class=... id=...>  back\n",
        "+1.0006:  <input type=submit value=...>  \u043e\u0442\u043f\u0440\u0430\u0432\u0438\u0442\u044c\n",
        "+0.6777:  <input type=submit value=...>  send\n",
        "+0.6696:  <input type=submit value=...>  submit\n",
        "+0.5955:  <input type=submit value=...>  \u00e9rtes\u00edt\u0151t k\u00fcld\u00f6k\n",
        "+0.5955:  <input type=submit value=...>  neki\n",
        "+0.5955:  <input type=submit value=...>  k\u00fcld\u00f6k neki\n",
        "+0.5955:  <input type=submit value=...>  k\u00fcld\u00f6k\n",
        "+0.5955:  <input type=submit value=...>  \u00e9rtes\u00edt\u0151t\n",
        "+0.5744:          <label> TEXT </label>  message\n",
        "+0.5703:          <label> TEXT </label>  address\n",
        "+0.5452:          <label> TEXT </label>  \u0438\u043c\u044f\n",
        "+0.5386:          <label> TEXT </label>  phone\n",
        "+0.5292:          <label> TEXT </label>  city\n",
        "+0.5117:        <form class=... id=...>  _form\n",
        "+0.5117:        <form class=... id=...>  _for\n",
        "+0.4710:              <form action=...>   # \n",
        "+0.4627:       <input class=... id=...>  _but\n",
        "+0.4627:       <input class=... id=...>  _butt\n",
        "+0.4429:        <form class=... id=...>  ontac\n",
        "   ...\n",
        "-0.3653:        <form class=... id=...>  ntal\n",
        "-0.3834:  <input type=submit value=...>  register\n",
        "-0.3927:                  form elements  has <select>\n",
        "-0.3978:        <form class=... id=...>   sub\n",
        "-0.4049:       <input class=... id=...>   subm\n",
        "-0.4083:        <form class=... id=...>   xe \n",
        "-0.4209:               <input name=...>   mail\n",
        "-0.4209:               <input name=...>   mail \n",
        "-0.4234:  <input type=submit value=...>  now\n",
        "-0.4603:          <label> TEXT </label>  login\n",
        "-0.4988:  <input type=submit value=...>  rental\n",
        "-0.4988:  <input type=submit value=...>  submit your\n",
        "-0.4988:  <input type=submit value=...>  your\n",
        "-0.4988:  <input type=submit value=...>  your rental\n",
        "-0.5217:  <input type=submit value=...>  crear\n",
        "-0.5489:  <input type=submit value=...>  registrova\u0165\n",
        "-0.5635:                  form elements  has <input type=email>\n",
        "-0.9339:                  form elements  exactly one <input type=password>\n",
        "-0.9707:  <input type=submit value=...>  l\u00e4het\u00e4\n",
        "-1.0792:                  form elements  <form method=get\n",
        "-1.2261:                  form elements  <form method=post\n",
        "-1.3357:                  form elements  exactly two <input type=password>\n",
        "-1.5074:                  form elements  2 or 3 inputs\n",
        "-2.2941:                  form elements  exactly one <input type=text>\n",
        "-2.3053:                           bias  bias\n",
        "--------------------------------------------------------------------------------\n",
        "login\n",
        "+2.9634:                  form elements  exactly one <input type=password>\n",
        "+1.6081:  <input type=submit value=...>  login\n",
        "+1.5824:  <input type=submit value=...>  submit\n",
        "+1.5056:  <input type=submit value=...>  in\n",
        "+1.2101:              <form action=...>  login\n",
        "+1.1963:  <input type=submit value=...>  sign in\n",
        "+1.0861:              <form action=...>  penid\n",
        "+1.0861:              <form action=...>  openid\n",
        "+1.0861:              <form action=...>  openi\n",
        "+1.0517:  <input type=submit value=...>  sign\n",
        "+0.7585:              <form action=...>  gin# \n",
        "+0.7585:              <form action=...>  login#\n",
        "+0.7585:              <form action=...>  ogin#\n",
        "+0.7585:              <form action=...>  ogin# \n",
        "+0.6849:              <form action=...>  idlogi\n",
        "+0.6849:              <form action=...>  enidl\n",
        "+0.6849:              <form action=...>  enidlo\n",
        "+0.6849:              <form action=...>  idlog\n",
        "+0.6849:              <form action=...>  dlogi\n",
        "+0.6849:              <form action=...>  penidl\n",
        "+0.6849:              <form action=...>  dlogin\n",
        "+0.6849:              <form action=...>  nidlo\n",
        "+0.6849:              <form action=...>  nidlog\n",
        "+0.6585:                  <a> TEXT </a>  sign up\n",
        "+0.6131:                  form elements  has <input type=checkbox>\n",
        "   ...\n",
        "-0.4497:               <input name=...>  first\n",
        "-0.4841:                  <a> TEXT </a>  log\n",
        "-0.4985:              <form action=...>   auth\n",
        "-0.4997:               <input name=...>  email\n",
        "-0.5106:  <input type=submit value=...>  register now\n",
        "-0.5127:  <input type=submit value=...>  now\n",
        "-0.5229:                  <a> TEXT </a>  terms\n",
        "-0.5305:                  form elements  <form method=get\n",
        "-0.5512:                  form elements  <form method=post\n",
        "-0.5513:               <input name=...>  mail \n",
        "-0.5545:               <input name=...>  email \n",
        "-0.6155:          <label> TEXT </label>  mail\n",
        "-0.6186:               <input name=...>   q \n",
        "-0.7683:                  <a> TEXT </a>  com\n",
        "-0.7803:                  form elements  has <input type=radio>\n",
        "-0.9090:                  form elements  has <textarea>\n",
        "-0.9157:  <input type=submit value=...>  regisztr\u00e1ci\u00f3\n",
        "-0.9196:  <input type=submit value=...>  \u0437\u0430\u0440\u0435\u0433\u0438\u0441\u0442\u0440\u0438\u0440\u043e\u0432\u0430\u0442\u044c\u0441\u044f\n",
        "-1.0383:  <input type=submit value=...>  register\n",
        "-1.0817:                           bias  bias\n",
        "-1.2715:                  form elements  3 or more <input type=text>\n",
        "-1.3428:                  form elements  has <input type=email>\n",
        "-1.4492:                  form elements  exactly two <input type=password>\n",
        "-1.6209:                  form elements  has <select>\n",
        "-2.5834:                  form elements  no <input type=password>\n",
        "--------------------------------------------------------------------------------\n",
        "join mailing list\n",
        "+2.0667:  <input type=submit value=...>  subscribe\n",
        "+1.5393:                  form elements  has <input type=email>\n",
        "+1.2075:        <form class=... id=...>  mail\n",
        "+1.0489:              <form action=...>  bscri\n",
        "+1.0489:              <form action=...>  ubscri\n",
        "+1.0489:              <form action=...>  subscr\n",
        "+1.0489:              <form action=...>  ubscr\n",
        "+1.0489:              <form action=...>  subsc\n",
        "+0.8842:               <input name=...>  email\n",
        "+0.8531:               <input name=...>   emai\n",
        "+0.8531:               <input name=...>   email\n",
        "+0.8030:              <form action=...>   subsc\n",
        "+0.8030:              <form action=...>   subs\n",
        "+0.7995:               <input name=...>  maili\n",
        "+0.7590:        <form class=... id=...>  ette\n",
        "+0.7590:        <form class=... id=...>  lett\n",
        "+0.7590:        <form class=... id=...>  lette\n",
        "+0.7590:        <form class=... id=...>  ewsle\n",
        "+0.7590:        <form class=... id=...>  slet\n",
        "+0.7590:        <form class=... id=...>  ewsl\n",
        "+0.7590:        <form class=... id=...>  etter\n",
        "+0.7590:        <form class=... id=...>  slett\n",
        "+0.7590:        <form class=... id=...>   news\n",
        "+0.7590:        <form class=... id=...>  wsle\n",
        "+0.7590:        <form class=... id=...>  newsl\n",
        "   ...\n",
        "-0.3239:              <form action=...>  tion=\n",
        "-0.3312:       <input class=... id=...>   btn\n",
        "-0.3458:       <input class=... id=...>  earc\n",
        "-0.3458:       <input class=... id=...>  searc\n",
        "-0.3458:       <input class=... id=...>  earch\n",
        "-0.3534:          <label> TEXT </label>  mail address\n",
        "-0.3678:       <input class=... id=...>  arch\n",
        "-0.4019:  <input type=submit value=...>  login\n",
        "-0.4232:  <input type=submit value=...>  search\n",
        "-0.4910:          <label> TEXT </label>  address\n",
        "-0.6116:                  form elements  exactly two <input type=text>\n",
        "-0.6120:  <input type=submit value=...>  reset\n",
        "-0.6283:                  form elements  has <input type=radio>\n",
        "-0.6794:                  form elements  no <input type=text>\n",
        "-0.7252:                  form elements  exactly two <input type=password>\n",
        "-0.7685:               <input name=...>   q \n",
        "-0.8050:                  form elements  has <textarea>\n",
        "-0.9405:                  form elements  3 or more <input type=text>\n",
        "-0.9485:                  form elements  has <select>\n",
        "-1.0143:          <label> TEXT </label>  mail\n",
        "-1.0858:                  form elements  <form method=post\n",
        "-1.1408:          <label> TEXT </label>  email\n",
        "-1.4166:                  form elements  <form method=get\n",
        "-1.6109:                  form elements  exactly one <input type=password>\n",
        "-2.5024:                           bias  bias\n",
        "--------------------------------------------------------------------------------\n",
        "other\n",
        "+2.2422:        <form class=... id=...>   xe \n",
        "+1.8028:                  form elements  no <input type=password>\n",
        "+1.4426:                  form elements  no <input type=text>\n",
        "+1.4069:  <input type=submit value=...>  l\u00e4het\u00e4\n",
        "+1.4063:               <input name=...>   qty \n",
        "+1.1103:        <form class=... id=...>   form\n",
        "+1.0199:              <input title=...>   to \n",
        "+0.9788:        <form class=... id=...>   for\n",
        "+0.9555:  <input type=submit value=...>  ment\u00e9se\n",
        "+0.9555:  <input type=submit value=...>  keres\u00e9s ment\u00e9se\n",
        "+0.9093:              <form action=...>  ers# \n",
        "+0.8873:        <form class=... id=...>  orm-s\n",
        "+0.8873:        <form class=... id=...>  rm-s\n",
        "+0.8760:                  <a> TEXT </a>  new\n",
        "+0.8735:        <form class=... id=...>  jump\n",
        "+0.8396:        <form class=... id=...>  odal_\n",
        "+0.8396:        <form class=... id=...>  dal_\n",
        "+0.8396:        <form class=... id=...>  modal\n",
        "+0.8396:        <form class=... id=...>  moda\n",
        "+0.8396:        <form class=... id=...>  odal\n",
        "+0.8298:                  <a> TEXT </a>  10\n",
        "+0.8262:               <input name=...>  temail\n",
        "+0.8262:               <input name=...>  temai\n",
        "+0.8007:  <input type=submit value=...>  publik\u00e1l\n",
        "+0.7490:               <input name=...>  ntemai\n",
        "   ...\n",
        "-0.8077:               <input name=...>   sear\n",
        "-0.8077:               <input name=...>   searc\n",
        "-0.8128:                  <a> TEXT </a>  contact us\n",
        "-0.8280:          <label> TEXT </label>  search\n",
        "-0.8315:               <input name=...>   emai\n",
        "-0.8315:               <input name=...>   email\n",
        "-0.8397:       <input class=... id=...>  emai\n",
        "-0.8397:       <input class=... id=...>  email\n",
        "-0.8445:  <input type=submit value=...>  go\n",
        "-0.8536:  <input type=submit value=...>  reset\n",
        "-0.8695:       <input class=... id=...>  mail\n",
        "-0.8846:                  <a> TEXT </a>  privacy\n",
        "-0.8996:                  form elements  has <textarea>\n",
        "-0.9279:               <input name=...>  email \n",
        "-0.9645:               <input name=...>  mail \n",
        "-0.9993:                           bias  bias\n",
        "-1.0768:        <form class=... id=...>  back\n",
        "-1.0968:               <input name=...>  email\n",
        "-1.1373:                  <a> TEXT </a>  contact\n",
        "-1.1783:                  form elements  exactly one <input type=text>\n",
        "-1.1998:                  form elements  exactly two <input type=password>\n",
        "-1.2508:                  form elements  has <input type=email>\n",
        "-1.3457:  <input type=submit value=...>  search\n",
        "-1.5370:                  form elements  exactly one <input type=password>\n",
        "-2.3175:               <input name=...>   q \n",
        "--------------------------------------------------------------------------------\n",
        "password/login recovery\n",
        "+1.6820:  <input type=submit value=...>  reset\n",
        "+1.3474:  <input type=submit value=...>  priminti\n",
        "+1.2718:          <label> TEXT </label>  email\n",
        "+1.1644:  <input type=submit value=...>  password\n",
        "+1.1163:  <input type=submit value=...>  odo\u0161li\n",
        "+0.9678:  <input type=submit value=...>  enviar\n",
        "+0.9660:              <form action=...>  asswor\n",
        "+0.9660:              <form action=...>  asswo\n",
        "+0.9660:              <form action=...>  sswor\n",
        "+0.9660:              <form action=...>  passwo\n",
        "+0.9660:              <form action=...>  passw\n",
        "+0.9500:                  form elements  2 or 3 inputs\n",
        "+0.9346:          <label> TEXT </label>  mail\n",
        "+0.8807:  <input type=submit value=...>  weiter\n",
        "+0.8792:               <input name=...>   emai\n",
        "+0.8792:               <input name=...>   email\n",
        "+0.8335:              <form action=...>  sword\n",
        "+0.8335:              <form action=...>  ssword\n",
        "+0.8229:               <input name=...>  email\n",
        "+0.8036:               <input name=...>   name \n",
        "+0.8036:               <input name=...>   name\n",
        "+0.7962:          <label> TEXT </label>  electr\u00f3nico\n",
        "+0.7795:        <form class=... id=...>  forg\n",
        "+0.7795:        <form class=... id=...>  forgo\n",
        "+0.7795:        <form class=... id=...>  rgot\n",
        "   ...\n",
        "-0.4333:              <form action=...>  bscri\n",
        "-0.4333:              <form action=...>  ubscri\n",
        "-0.4333:              <form action=...>  subsc\n",
        "-0.4333:              <form action=...>  subscr\n",
        "-0.4333:              <form action=...>  ubscr\n",
        "-0.4463:       <input class=... id=...>  arch\n",
        "-0.4463:               <input name=...>   qty \n",
        "-0.4560:       <input class=... id=...>  sear\n",
        "-0.4664:        <form class=... id=...>   form\n",
        "-0.4827:        <form class=... id=...>  form\n",
        "-0.4923:  <input type=submit value=...>  register\n",
        "-0.5099:  <input type=submit value=...>  search\n",
        "-0.5694:                  form elements  <form method=post\n",
        "-0.7264:                  form elements  has <input type=radio>\n",
        "-0.8459:               <input name=...>   q \n",
        "-0.8579:                  form elements  exactly two <input type=password>\n",
        "-1.1484:  <input type=submit value=...>  subscribe\n",
        "-1.1503:                  form elements  no <input type=text>\n",
        "-1.2061:                  form elements  has <textarea>\n",
        "-1.2289:                  form elements  has <input type=checkbox>\n",
        "-1.3395:                  form elements  3 or more <input type=text>\n",
        "-1.5611:                  form elements  has <select>\n",
        "-2.1771:                  form elements  <form method=get\n",
        "-2.2660:                  form elements  exactly one <input type=password>\n",
        "-2.7465:                           bias  bias\n",
        "--------------------------------------------------------------------------------\n",
        "registration\n",
        "+2.4631:                  form elements  exactly two <input type=password>\n",
        "+1.5080:  <input type=submit value=...>  register\n",
        "+1.3937:                  form elements  3 or more <input type=text>\n",
        "+1.2289:  <input type=submit value=...>  create\n",
        "+1.1559:  <input type=submit value=...>  registrova\u0165\n",
        "+1.1150:  <input type=submit value=...>  regisztr\u00e1ci\u00f3\n",
        "+1.0473:                  form elements  has <input type=email>\n",
        "+0.9690:               <input name=...>  mail \n",
        "+0.9390:              <form action=...>   auth\n",
        "+0.9242:  <input type=submit value=...>  \u0437\u0430\u0440\u0435\u0433\u0438\u0441\u0442\u0440\u0438\u0440\u043e\u0432\u0430\u0442\u044c\u0441\u044f\n",
        "+0.9227:                  <a> TEXT </a>  com\n",
        "+0.8736:          <label> TEXT </label>  offers\n",
        "+0.8599:  <input type=submit value=...>  account\n",
        "+0.8387:                  form elements  has <input type=radio>\n",
        "+0.7942:               <input name=...>   emai\n",
        "+0.7942:               <input name=...>   email\n",
        "+0.7709:              <form action=...>  reate\n",
        "+0.7709:              <form action=...>  create\n",
        "+0.7709:              <form action=...>  creat\n",
        "+0.7624:              <form action=...>  regis\n",
        "+0.7548:  <input type=submit value=...>  now\n",
        "+0.7434:              <form action=...>  egist\n",
        "+0.7434:              <form action=...>  regist\n",
        "+0.7311:               <input name=...>  email\n",
        "+0.7285:               <input name=...>   mail\n",
        "   ...\n",
        "-0.3710:  <input type=submit value=...>  \u043e\u0442\u043f\u0440\u0430\u0432\u0438\u0442\u044c\n",
        "-0.3800:              <form action=...>   logi\n",
        "-0.3800:              <form action=...>   login\n",
        "-0.3813:                  <a> TEXT </a>  to\n",
        "-0.3912:        <form class=... id=...>  form\n",
        "-0.3938:                  form elements  has <input type=checkbox>\n",
        "-0.4037:  <input type=submit value=...>  bel\u00e9p\u00e9s\n",
        "-0.4364:              <form action=...>  login#\n",
        "-0.4364:              <form action=...>  ogin#\n",
        "-0.4364:              <form action=...>  gin# \n",
        "-0.4364:              <form action=...>  ogin# \n",
        "-0.4390:                  <a> TEXT </a>  forgot\n",
        "-0.4582:                  <a> TEXT </a>  10\n",
        "-0.5847:          <label> TEXT </label>  remember\n",
        "-0.5966:              <form action=...>  login\n",
        "-0.7445:  <input type=submit value=...>  in\n",
        "-0.8707:                  form elements  exactly one <input type=password>\n",
        "-0.9310:                           bias  bias\n",
        "-0.9387:                  form elements  has <textarea>\n",
        "-1.1819:  <input type=submit value=...>  login\n",
        "-1.1945:                  form elements  <form method=get\n",
        "-1.2405:                  form elements  exactly one <input type=text>\n",
        "-1.4524:                  form elements  no <input type=text>\n",
        "-1.8991:                  form elements  2 or 3 inputs\n",
        "-2.5935:                  form elements  no <input type=password>\n",
        "--------------------------------------------------------------------------------\n",
        "search\n",
        "+3.0669:               <input name=...>   q \n",
        "+2.0463:  <input type=submit value=...>  search\n",
        "+1.2925:  <input type=submit value=...>  go\n",
        "+1.1275:               <input name=...>   sear\n",
        "+1.1275:               <input name=...>   searc\n",
        "+1.1194:                  form elements  exactly one <input type=text>\n",
        "+1.1160:       <input class=... id=...>  searc\n",
        "+1.1160:       <input class=... id=...>  earch\n",
        "+1.1160:       <input class=... id=...>  earc\n",
        "+1.1045:              <form action=...>   sear\n",
        "+1.1045:              <form action=...>   searc\n",
        "+1.0995:        <form class=... id=...>  arch\n",
        "+1.0995:        <form class=... id=...>  earc\n",
        "+1.0995:        <form class=... id=...>  earch\n",
        "+1.0995:        <form class=... id=...>  sear\n",
        "+1.0995:        <form class=... id=...>  searc\n",
        "+1.0902:       <input class=... id=...>  sear\n",
        "+1.0823:       <input class=... id=...>  arch\n",
        "+1.0681:               <input name=...>   s \n",
        "+0.9941:          <label> TEXT </label>  search\n",
        "+0.9743:        <form class=... id=...>   sear\n",
        "+0.9743:        <form class=... id=...>   sea\n",
        "+0.9564:               <input name=...>  search\n",
        "+0.9564:               <input name=...>  earch\n",
        "+0.9564:               <input name=...>  searc\n",
        "   ...\n",
        "-0.5706:        <form class=... id=...>  rfor\n",
        "-0.5706:        <form class=... id=...>  rform\n",
        "-0.6097:                  form elements  exactly two <input type=text>\n",
        "-0.6102:                  <a> TEXT </a>  contact\n",
        "-0.6164:                  <a> TEXT </a>  us\n",
        "-0.6191:                  <a> TEXT </a>  contact us\n",
        "-0.6634:                  form elements  has <input type=checkbox>\n",
        "-0.6872:                  <a> TEXT </a>  privacy\n",
        "-0.7251:        <form class=... id=...>  orm \n",
        "-0.7251:        <form class=... id=...>  form \n",
        "-0.7717:        <form class=... id=...>  jump\n",
        "-0.7721:               <input name=...>  mail \n",
        "-0.7765:               <input name=...>  email \n",
        "-0.8564:  <input type=submit value=...>  submit\n",
        "-0.8601:               <input name=...>   emai\n",
        "-0.8601:               <input name=...>   email\n",
        "-0.8627:                  form elements  3 or more <input type=text>\n",
        "-0.8722:                  form elements  has <textarea>\n",
        "-0.9079:               <input name=...>   qty \n",
        "-0.9219:               <input name=...>  email\n",
        "-1.3491:                  form elements  no <input type=text>\n",
        "-1.4553:        <form class=... id=...>   xe \n",
        "-1.7021:                           bias  bias\n",
        "-1.7205:                  form elements  exactly one <input type=password>\n",
        "-1.9568:                  form elements  <form method=post\n",
        "--------------------------------------------------------------------------------\n"
       ]
      }
     ],
     "prompt_number": 6
    },
    {
     "cell_type": "markdown",
     "metadata": {},
     "source": [
      "## Compare results with \"loginform\" library\n",
      "\n",
      "It is not possible to compare the results with \"loginform\" library directly because loginform\n",
      "\n",
      "* always tries to return a login form even if the score is low;\n",
      "* only detects login forms;\n",
      "* in case of several forms returns a single form with the best score instead of deciding for each form whether to return it or not.\n",
      "\n",
      "So we used two approaches:\n",
      "\n",
      "1. Use `loginform._form_score` with different thresholds; assume that if score is greater than or equal to a threshold `loginform` detected a login form.\n",
      "2. Train the same model, but using features from loginform library (weights will be learned instead of being hardcoded as 'score' increments/decrements).\n",
      "\n"
     ]
    },
    {
     "cell_type": "markdown",
     "metadata": {},
     "source": [
      "### 1. loginform scores + thresholds\n",
      "\n",
      "* **score >= -100** means \"simply treat all forms as login forms\".\n",
      "\n",
      "* **score >= 0** all (or most) login forms are captured, but there are many false positives. \n",
      "  It is only slightly better than treating all forms as login forms.\n",
      "\n",
      "* **score >= 10** F1 score is the best among all thresholds, \n",
      "  but the quality is significantly worse than F1 of ML-based models.\n",
      "  \n",
      "* **score >= 20** ~90% of detected login forms are correct, but most \n",
      "  login forms are not detected. Also, ~90% number is still lower than what ML-based models give us.\n"
     ]
    },
    {
     "cell_type": "code",
     "collapsed": false,
     "input": [
      "%%time \n",
      "import loginform\n",
      "\n",
      "\n",
      "def labels_to_binary(y):\n",
      "    \"\"\" Convert labels to 2-classes: login forms and non-login forms \"\"\"\n",
      "    return [tp == 'l' for tp in y]\n",
      "\n",
      "    \n",
      "def predict_loginform(X, threshold):\n",
      "    \"\"\"\n",
      "    Return if forms are login or not using loginform\n",
      "    library scores and a threshold.\n",
      "    \"\"\"\n",
      "    return [\n",
      "        (loginform._form_score(form) >= threshold)\n",
      "        for form in X\n",
      "    ]\n",
      "\n",
      "\n",
      "def print_threshold_metrics(X_test, y_test, threshold):\n",
      "    y_test = labels_to_binary(y_test)\n",
      "    y_pred = predict_loginform(X_test, threshold)\n",
      "\n",
      "    precision, recall, f1, support = precision_recall_fscore_support(y_test, y_pred, pos_label=True)\n",
      "    print(\n",
      "        \"score >= %4d:    precision = %0.3f    recall = %0.3f    F1 = %0.3f\" % (\n",
      "        threshold, precision[1], recall[1], f1[1]\n",
      "    ))\n",
      "\n",
      "\n",
      "for threshold in [-100, -10, 0, 10, 20, 30]:\n",
      "    print_threshold_metrics(X_test, y_test, threshold)"
     ],
     "language": "python",
     "metadata": {},
     "outputs": [
      {
       "output_type": "stream",
       "stream": "stdout",
       "text": [
        "score >= -100:    precision = 0.200    recall = 1.000    F1 = 0.333\n",
        "score >=  -10:    precision = 0.233    recall = 0.964    F1 = 0.375"
       ]
      },
      {
       "output_type": "stream",
       "stream": "stdout",
       "text": [
        "\n",
        "score >=    0:    precision = 0.409    recall = 0.964    F1 = 0.574"
       ]
      },
      {
       "output_type": "stream",
       "stream": "stdout",
       "text": [
        "\n",
        "score >=   10:    precision = 0.710    recall = 0.786    F1 = 0.746"
       ]
      },
      {
       "output_type": "stream",
       "stream": "stdout",
       "text": [
        "\n",
        "score >=   20:    precision = 0.875    recall = 0.250    F1 = 0.389"
       ]
      },
      {
       "output_type": "stream",
       "stream": "stdout",
       "text": [
        "\n",
        "score >=   30:    precision = 0.000    recall = 0.000    F1 = 0.000"
       ]
      },
      {
       "output_type": "stream",
       "stream": "stdout",
       "text": [
        "\n",
        "CPU times: user 327 ms, sys: 5.26 ms, total: 332 ms\n",
        "Wall time: 335 ms\n"
       ]
      },
      {
       "output_type": "stream",
       "stream": "stderr",
       "text": [
        "/Users/kmike/envs/scraping/lib/python2.7/site-packages/sklearn/metrics/metrics.py:1771: UndefinedMetricWarning: Precision and F-score are ill-defined and being set to 0.0 in labels with no predicted samples.\n",
        "  'precision', 'predicted', average, warn_for)\n"
       ]
      }
     ],
     "prompt_number": 7
    },
    {
     "cell_type": "markdown",
     "metadata": {},
     "source": [
      "### 2. Use loginform features, but autodetect scores\n",
      "\n",
      "The following ML-based model is trained using original loginform features (conditions used to increase or decrease the score). Roughly speaking, it uses the same information as loginform library, but instead of hardcoding `score += 10` and `score -= 10` the numbers are adjusted based on training data.\n",
      "\n",
      "Note that the login form detection quality is significantly better than the quality of threshold-based model; it is only slightly worse than the quality of a \"full\" forms detection model. This means original loginform features are quite good at detecting login forms. But for other form types these features are not enough: other scores are bad."
     ]
    },
    {
     "cell_type": "code",
     "collapsed": false,
     "input": [
      "%%time\n",
      "\n",
      "LOGINFORM_FEATURES = [\n",
      "    ('bias', features.Bias(), DictVectorizer()),\n",
      "    ('loginform', features.OldLoginformFeatures(), DictVectorizer())\n",
      "]\n",
      "# loginform_clf = LinearSVC(C=0.5, fit_intercept=False)\n",
      "loginform_clf = LogisticRegression(penalty='l2', C=5, fit_intercept=False, random_state=0)\n",
      "\n",
      "model = make_pipeline(\n",
      "    _create_feature_union(LOGINFORM_FEATURES), \n",
      "    loginform_clf,\n",
      ")\n",
      "\n",
      "evaluation.print_metrics(model, X, y, X_train, X_test, y_train, y_test, ipython=True)\n",
      "evaluation.print_informative_features(LOGINFORM_FEATURES, loginform_clf, 25)"
     ],
     "language": "python",
     "metadata": {},
     "outputs": [
      {
       "output_type": "stream",
       "stream": "stdout",
       "text": [
        "\n",
        "Classification report (500 training examples, 140 testing examples):\n",
        "\n",
        "                         precision    recall  f1-score   support\n",
        "\n",
        "                contact       0.88      0.88      0.88         8\n",
        "                  login       0.93      0.96      0.95        28\n",
        "      join mailing list       0.00      0.00      0.00        12\n",
        "                  other       0.61      1.00      0.76        19\n",
        "password/login recovery       0.00      0.00      0.00        13\n",
        "           registration       0.87      0.72      0.79        18\n",
        "                 search       0.65      0.88      0.75        42\n",
        "\n",
        "            avg / total       0.63      0.74      0.67       140\n",
        "\n",
        "Active features: 56 out of possible 56\n",
        "\n",
        "Confusion matrix (rows=>true values, columns=>predicted values):\n"
       ]
      },
      {
       "html": [
        "<div style=\"max-height:1000px;max-width:1500px;overflow:auto;\">\n",
        "<table border=\"1\" class=\"dataframe\">\n",
        "  <thead>\n",
        "    <tr style=\"text-align: right;\">\n",
        "      <th></th>\n",
        "      <th>contact</th>\n",
        "      <th>login</th>\n",
        "      <th>join mailing list</th>\n",
        "      <th>other</th>\n",
        "      <th>password/login recovery</th>\n",
        "      <th>registration</th>\n",
        "      <th>search</th>\n",
        "    </tr>\n",
        "  </thead>\n",
        "  <tbody>\n",
        "    <tr>\n",
        "      <th>contact</th>\n",
        "      <td> 7</td>\n",
        "      <td>  0</td>\n",
        "      <td> 0</td>\n",
        "      <td>  1</td>\n",
        "      <td> 0</td>\n",
        "      <td>  0</td>\n",
        "      <td>  0</td>\n",
        "    </tr>\n",
        "    <tr>\n",
        "      <th>login</th>\n",
        "      <td> 0</td>\n",
        "      <td> 27</td>\n",
        "      <td> 0</td>\n",
        "      <td>  1</td>\n",
        "      <td> 0</td>\n",
        "      <td>  0</td>\n",
        "      <td>  0</td>\n",
        "    </tr>\n",
        "    <tr>\n",
        "      <th>join mailing list</th>\n",
        "      <td> 0</td>\n",
        "      <td>  0</td>\n",
        "      <td> 0</td>\n",
        "      <td>  0</td>\n",
        "      <td> 0</td>\n",
        "      <td>  0</td>\n",
        "      <td> 12</td>\n",
        "    </tr>\n",
        "    <tr>\n",
        "      <th>other</th>\n",
        "      <td> 0</td>\n",
        "      <td>  0</td>\n",
        "      <td> 0</td>\n",
        "      <td> 19</td>\n",
        "      <td> 0</td>\n",
        "      <td>  0</td>\n",
        "      <td>  0</td>\n",
        "    </tr>\n",
        "    <tr>\n",
        "      <th>password/login recovery</th>\n",
        "      <td> 0</td>\n",
        "      <td>  0</td>\n",
        "      <td> 0</td>\n",
        "      <td>  6</td>\n",
        "      <td> 0</td>\n",
        "      <td>  0</td>\n",
        "      <td>  7</td>\n",
        "    </tr>\n",
        "    <tr>\n",
        "      <th>registration</th>\n",
        "      <td> 1</td>\n",
        "      <td>  2</td>\n",
        "      <td> 0</td>\n",
        "      <td>  1</td>\n",
        "      <td> 0</td>\n",
        "      <td> 13</td>\n",
        "      <td>  1</td>\n",
        "    </tr>\n",
        "    <tr>\n",
        "      <th>search</th>\n",
        "      <td> 0</td>\n",
        "      <td>  0</td>\n",
        "      <td> 0</td>\n",
        "      <td>  3</td>\n",
        "      <td> 0</td>\n",
        "      <td>  2</td>\n",
        "      <td> 37</td>\n",
        "    </tr>\n",
        "  </tbody>\n",
        "</table>\n",
        "</div>"
       ],
       "metadata": {},
       "output_type": "display_data",
       "text": [
        "                         contact  login  join mailing list  other  \\\n",
        "contact                        7      0                  0      1   \n",
        "login                          0     27                  0      1   \n",
        "join mailing list              0      0                  0      0   \n",
        "other                          0      0                  0     19   \n",
        "password/login recovery        0      0                  0      6   \n",
        "registration                   1      2                  0      1   \n",
        "search                         0      0                  0      3   \n",
        "\n",
        "                         password/login recovery  registration  search  \n",
        "contact                                        0             0       0  \n",
        "login                                          0             0       0  \n",
        "join mailing list                              0             0      12  \n",
        "other                                          0             0       0  \n",
        "password/login recovery                        0             0       7  \n",
        "registration                                   0            13       1  \n",
        "search                                         0             2      37  "
       ]
      },
      {
       "output_type": "stream",
       "stream": "stdout",
       "text": [
        "\n",
        "Running cross validation...\n",
        "10-fold cross-validation F1: 0.647 (\u00b10.117)  min=0.553  max=0.728"
       ]
      },
      {
       "output_type": "stream",
       "stream": "stdout",
       "text": [
        "\n",
        "contact\n",
        "+3.8461:                      loginform  typecount_text_gt1\n",
        "+2.5897:                      loginform  typecount_password_0\n",
        "+0.9392:                      loginform  typecount_text_0\n",
        "-0.5198:                      loginform  typecount_radio_gt0\n",
        "-1.2640:                      loginform  typecount_checkbox_gt1\n",
        "-1.4278:                      loginform  typecount_password_eq1\n",
        "-2.9678:                      loginform  2_or_3_inputs\n",
        "-6.5143:                           bias  bias\n",
        "--------------------------------------------------------------------------------\n",
        "login\n",
        "+4.6784:                      loginform  typecount_password_eq1\n",
        "+0.6345:                      loginform  typecount_text_0\n",
        "+0.0009:                      loginform  2_or_3_inputs\n",
        "-1.6849:                      loginform  typecount_password_0\n",
        "-1.7660:                      loginform  typecount_text_gt1\n",
        "-1.9949:                           bias  bias\n",
        "-2.1337:                      loginform  typecount_radio_gt0\n",
        "-2.6369:                      loginform  typecount_checkbox_gt1\n",
        "--------------------------------------------------------------------------------\n",
        "join mailing list\n",
        "+1.1637:                      loginform  typecount_password_0\n",
        "+1.0081:                      loginform  typecount_checkbox_gt1\n",
        "+0.6102:                      loginform  2_or_3_inputs\n",
        "+0.5451:                      loginform  typecount_text_0\n",
        "-0.3530:                      loginform  typecount_text_gt1\n",
        "-1.8385:                      loginform  typecount_radio_gt0\n",
        "-1.9490:                      loginform  typecount_password_eq1\n",
        "-4.0039:                           bias  bias\n",
        "--------------------------------------------------------------------------------\n",
        "other\n",
        "+2.5413:                      loginform  typecount_password_0\n",
        "+1.8838:                      loginform  typecount_text_0\n",
        "+0.3577:                      loginform  typecount_radio_gt0\n",
        "+0.3249:                      loginform  typecount_text_gt1\n",
        "-0.1065:                      loginform  typecount_checkbox_gt1\n",
        "-0.2893:                      loginform  2_or_3_inputs\n",
        "-1.9204:                      loginform  typecount_password_eq1\n",
        "-4.1171:                           bias  bias\n",
        "--------------------------------------------------------------------------------\n",
        "password/login recovery\n",
        "+1.1773:                      loginform  typecount_password_0\n",
        "+0.8217:                      loginform  2_or_3_inputs\n",
        "-1.0940:                      loginform  typecount_text_0\n",
        "-1.3031:                      loginform  typecount_checkbox_gt1\n",
        "-1.3221:                      loginform  typecount_text_gt1\n",
        "-1.4477:                      loginform  typecount_radio_gt0\n",
        "-2.3458:                      loginform  typecount_password_eq1\n",
        "-3.2328:                           bias  bias\n",
        "--------------------------------------------------------------------------------\n",
        "registration\n",
        "+2.1812:                      loginform  typecount_text_gt1\n",
        "+1.4152:                      loginform  typecount_checkbox_gt1\n",
        "+1.1691:                           bias  bias\n",
        "+0.9505:                      loginform  typecount_radio_gt0\n",
        "+0.8164:                      loginform  typecount_text_0\n",
        "-1.1289:                      loginform  2_or_3_inputs\n",
        "-3.7787:                      loginform  typecount_password_eq1\n",
        "-5.2171:                      loginform  typecount_password_0\n",
        "--------------------------------------------------------------------------------\n",
        "search\n",
        "+2.9725:                      loginform  typecount_password_0\n",
        "+0.4322:                      loginform  typecount_radio_gt0\n",
        "+0.0777:                      loginform  2_or_3_inputs\n",
        "-0.1561:                      loginform  typecount_checkbox_gt1\n",
        "-2.0127:                      loginform  typecount_text_0\n",
        "-2.5662:                      loginform  typecount_password_eq1\n",
        "-2.6575:                           bias  bias\n",
        "-2.7623:                      loginform  typecount_text_gt1\n",
        "--------------------------------------------------------------------------------\n",
        "CPU times: user 3.21 s, sys: 18.8 ms, total: 3.23 s\n",
        "Wall time: 3.24 s\n"
       ]
      },
      {
       "output_type": "stream",
       "stream": "stderr",
       "text": [
        "/Users/kmike/envs/scraping/lib/python2.7/site-packages/sklearn/metrics/metrics.py:1771: UndefinedMetricWarning: F-score is ill-defined and being set to 0.0 in labels with no predicted samples.\n",
        "  'precision', 'predicted', average, warn_for)\n"
       ]
      }
     ],
     "prompt_number": 8
    },
    {
     "cell_type": "code",
     "collapsed": false,
     "input": [],
     "language": "python",
     "metadata": {},
     "outputs": []
    }
   ],
   "metadata": {}
  }
 ]
}