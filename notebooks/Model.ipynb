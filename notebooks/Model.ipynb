{
 "metadata": {
  "name": "",
  "signature": "sha256:342f4f11b9272f5277c64acb1909efed402f88f88665d0ab8f7460aed9d54d1d"
 },
 "nbformat": 3,
 "nbformat_minor": 0,
 "worksheets": [
  {
   "cells": [
    {
     "cell_type": "code",
     "collapsed": false,
     "input": [
      "import sys\n",
      "sys.path.insert(0, '..')\n",
      "\n",
      "from formtype import features, evaluation\n",
      "from formtype.storage import Storage, FORM_TYPES, FORM_TYPES_INV, load_html"
     ],
     "language": "python",
     "metadata": {},
     "outputs": [],
     "prompt_number": 1
    },
    {
     "cell_type": "markdown",
     "metadata": {},
     "source": [
      "### Available training data"
     ]
    },
    {
     "cell_type": "code",
     "collapsed": false,
     "input": [
      "storage = Storage(\"../data\")\n",
      "storage.check()\n",
      "storage.print_type_counts()"
     ],
     "language": "python",
     "metadata": {},
     "outputs": [
      {
       "output_type": "stream",
       "stream": "stdout",
       "text": [
        "\r",
        "Checking: |----------| 0/248   0% [elapsed: 00:00 left: ?, ? iters/sec]"
       ]
      },
      {
       "output_type": "stream",
       "stream": "stdout",
       "text": [
        "\r",
        "Checking: |----------| 1/248   0% [elapsed: 00:00 left: 00:00, 258.80 iters/sec]"
       ]
      },
      {
       "output_type": "stream",
       "stream": "stdout",
       "text": [
        "\r",
        "Checking: |----------| 2/248   0% [elapsed: 00:00 left: 00:01, 198.04 iters/sec]"
       ]
      },
      {
       "output_type": "stream",
       "stream": "stdout",
       "text": [
        "\r",
        "Checking: |----------| 3/248   1% [elapsed: 00:00 left: 00:01, 216.76 iters/sec]"
       ]
      },
      {
       "output_type": "stream",
       "stream": "stdout",
       "text": [
        "\r",
        "Checking: |----------| 4/248   1% [elapsed: 00:00 left: 00:01, 204.92 iters/sec]"
       ]
      },
      {
       "output_type": "stream",
       "stream": "stdout",
       "text": [
        "\r",
        "Checking: |----------| 5/248   2% [elapsed: 00:00 left: 00:01, 214.34 iters/sec]"
       ]
      },
      {
       "output_type": "stream",
       "stream": "stdout",
       "text": [
        "\r",
        "Checking: |----------| 6/248   2% [elapsed: 00:00 left: 00:01, 224.73 iters/sec]"
       ]
      },
      {
       "output_type": "stream",
       "stream": "stdout",
       "text": [
        "\r",
        "Checking: |----------| 7/248   2% [elapsed: 00:00 left: 00:01, 228.31 iters/sec]"
       ]
      },
      {
       "output_type": "stream",
       "stream": "stdout",
       "text": [
        "\r",
        "Checking: |----------| 8/248   3% [elapsed: 00:00 left: 00:01, 238.10 iters/sec]"
       ]
      },
      {
       "output_type": "stream",
       "stream": "stdout",
       "text": [
        "\r",
        "Checking: |----------| 9/248   3% [elapsed: 00:00 left: 00:01, 166.92 iters/sec]"
       ]
      },
      {
       "output_type": "stream",
       "stream": "stdout",
       "text": [
        "\r",
        "Checking: |----------| 10/248   4% [elapsed: 00:00 left: 00:01, 157.22 iters/sec]"
       ]
      },
      {
       "output_type": "stream",
       "stream": "stdout",
       "text": [
        "\r",
        "Checking: |----------| 11/248   4% [elapsed: 00:00 left: 00:01, 162.89 iters/sec]"
       ]
      },
      {
       "output_type": "stream",
       "stream": "stdout",
       "text": [
        "\r",
        "Checking: |----------| 12/248   4% [elapsed: 00:00 left: 00:01, 169.07 iters/sec]"
       ]
      },
      {
       "output_type": "stream",
       "stream": "stdout",
       "text": [
        "\r",
        "Checking: |----------| 13/248   5% [elapsed: 00:00 left: 00:01, 175.74 iters/sec]"
       ]
      },
      {
       "output_type": "stream",
       "stream": "stdout",
       "text": [
        "\r",
        "Checking: |----------| 14/248   5% [elapsed: 00:00 left: 00:01, 166.82 iters/sec]"
       ]
      },
      {
       "output_type": "stream",
       "stream": "stdout",
       "text": [
        "\r",
        "Checking: |----------| 15/248   6% [elapsed: 00:00 left: 00:01, 169.02 iters/sec]"
       ]
      },
      {
       "output_type": "stream",
       "stream": "stdout",
       "text": [
        "\r",
        "Checking: |----------| 16/248   6% [elapsed: 00:00 left: 00:01, 158.31 iters/sec]"
       ]
      },
      {
       "output_type": "stream",
       "stream": "stdout",
       "text": [
        "\r",
        "Checking: |----------| 17/248   6% [elapsed: 00:00 left: 00:01, 150.86 iters/sec]"
       ]
      },
      {
       "output_type": "stream",
       "stream": "stdout",
       "text": [
        "\r",
        "Checking: |----------| 18/248   7% [elapsed: 00:00 left: 00:01, 146.16 iters/sec]"
       ]
      },
      {
       "output_type": "stream",
       "stream": "stdout",
       "text": [
        "\r",
        "Checking: |----------| 19/248   7% [elapsed: 00:00 left: 00:01, 147.63 iters/sec]"
       ]
      },
      {
       "output_type": "stream",
       "stream": "stdout",
       "text": [
        "\r",
        "Checking: |----------| 20/248   8% [elapsed: 00:00 left: 00:01, 143.88 iters/sec]"
       ]
      },
      {
       "output_type": "stream",
       "stream": "stdout",
       "text": [
        "\r",
        "Checking: |----------| 21/248   8% [elapsed: 00:00 left: 00:01, 141.47 iters/sec]"
       ]
      },
      {
       "output_type": "stream",
       "stream": "stdout",
       "text": [
        "\r",
        "Checking: |----------| 22/248   8% [elapsed: 00:00 left: 00:01, 144.66 iters/sec]"
       ]
      },
      {
       "output_type": "stream",
       "stream": "stdout",
       "text": [
        "\r",
        "Checking: |----------| 23/248   9% [elapsed: 00:00 left: 00:01, 149.14 iters/sec]"
       ]
      },
      {
       "output_type": "stream",
       "stream": "stdout",
       "text": [
        "\r",
        "Checking: |----------| 24/248   9% [elapsed: 00:00 left: 00:01, 151.51 iters/sec]"
       ]
      },
      {
       "output_type": "stream",
       "stream": "stdout",
       "text": [
        "\r",
        "Checking: |#---------| 25/248  10% [elapsed: 00:00 left: 00:01, 154.17 iters/sec]"
       ]
      },
      {
       "output_type": "stream",
       "stream": "stdout",
       "text": [
        "\r",
        "Checking: |#---------| 26/248  10% [elapsed: 00:00 left: 00:01, 144.38 iters/sec]"
       ]
      },
      {
       "output_type": "stream",
       "stream": "stdout",
       "text": [
        "\r",
        "Checking: |#---------| 27/248  10% [elapsed: 00:00 left: 00:01, 145.07 iters/sec]"
       ]
      },
      {
       "output_type": "stream",
       "stream": "stdout",
       "text": [
        "\r",
        "Checking: |#---------| 28/248  11% [elapsed: 00:00 left: 00:01, 147.90 iters/sec]"
       ]
      },
      {
       "output_type": "stream",
       "stream": "stdout",
       "text": [
        "\r",
        "Checking: |#---------| 29/248  11% [elapsed: 00:00 left: 00:01, 143.76 iters/sec]"
       ]
      },
      {
       "output_type": "stream",
       "stream": "stdout",
       "text": [
        "\r",
        "Checking: |#---------| 30/248  12% [elapsed: 00:00 left: 00:01, 144.63 iters/sec]"
       ]
      },
      {
       "output_type": "stream",
       "stream": "stdout",
       "text": [
        "\r",
        "Checking: |#---------| 31/248  12% [elapsed: 00:00 left: 00:01, 145.50 iters/sec]"
       ]
      },
      {
       "output_type": "stream",
       "stream": "stdout",
       "text": [
        "\r",
        "Checking: |#---------| 32/248  12% [elapsed: 00:00 left: 00:01, 143.78 iters/sec]"
       ]
      },
      {
       "output_type": "stream",
       "stream": "stdout",
       "text": [
        "\r",
        "Checking: |#---------| 33/248  13% [elapsed: 00:00 left: 00:01, 145.56 iters/sec]"
       ]
      },
      {
       "output_type": "stream",
       "stream": "stdout",
       "text": [
        "\r",
        "Checking: |#---------| 34/248  13% [elapsed: 00:00 left: 00:01, 148.13 iters/sec]"
       ]
      },
      {
       "output_type": "stream",
       "stream": "stdout",
       "text": [
        "\r",
        "Checking: |#---------| 35/248  14% [elapsed: 00:00 left: 00:01, 150.13 iters/sec]"
       ]
      },
      {
       "output_type": "stream",
       "stream": "stdout",
       "text": [
        "\r",
        "Checking: |#---------| 36/248  14% [elapsed: 00:00 left: 00:01, 151.80 iters/sec]"
       ]
      },
      {
       "output_type": "stream",
       "stream": "stdout",
       "text": [
        "\r",
        "Checking: |#---------| 37/248  14% [elapsed: 00:00 left: 00:01, 151.91 iters/sec]"
       ]
      },
      {
       "output_type": "stream",
       "stream": "stdout",
       "text": [
        "\r",
        "Checking: |#---------| 38/248  15% [elapsed: 00:00 left: 00:01, 153.56 iters/sec]"
       ]
      },
      {
       "output_type": "stream",
       "stream": "stdout",
       "text": [
        "\r",
        "Checking: |#---------| 39/248  15% [elapsed: 00:00 left: 00:01, 152.85 iters/sec]"
       ]
      },
      {
       "output_type": "stream",
       "stream": "stdout",
       "text": [
        "\r",
        "Checking: |#---------| 40/248  16% [elapsed: 00:00 left: 00:01, 154.84 iters/sec]"
       ]
      },
      {
       "output_type": "stream",
       "stream": "stdout",
       "text": [
        "\r",
        "Checking: |#---------| 41/248  16% [elapsed: 00:00 left: 00:01, 155.08 iters/sec]"
       ]
      },
      {
       "output_type": "stream",
       "stream": "stdout",
       "text": [
        "\r",
        "Checking: |#---------| 42/248  16% [elapsed: 00:00 left: 00:01, 156.47 iters/sec]"
       ]
      },
      {
       "output_type": "stream",
       "stream": "stdout",
       "text": [
        "\r",
        "Checking: |#---------| 43/248  17% [elapsed: 00:00 left: 00:01, 152.99 iters/sec]"
       ]
      },
      {
       "output_type": "stream",
       "stream": "stdout",
       "text": [
        "\r",
        "Checking: |#---------| 44/248  17% [elapsed: 00:00 left: 00:01, 140.26 iters/sec]"
       ]
      },
      {
       "output_type": "stream",
       "stream": "stdout",
       "text": [
        "\r",
        "Checking: |#---------| 45/248  18% [elapsed: 00:00 left: 00:01, 138.50 iters/sec]"
       ]
      },
      {
       "output_type": "stream",
       "stream": "stdout",
       "text": [
        "\r",
        "Checking: |#---------| 46/248  18% [elapsed: 00:00 left: 00:01, 140.54 iters/sec]"
       ]
      },
      {
       "output_type": "stream",
       "stream": "stdout",
       "text": [
        "\r",
        "Checking: |#---------| 47/248  18% [elapsed: 00:00 left: 00:01, 137.16 iters/sec]"
       ]
      },
      {
       "output_type": "stream",
       "stream": "stdout",
       "text": [
        "\r",
        "Checking: |#---------| 48/248  19% [elapsed: 00:00 left: 00:01, 135.57 iters/sec]"
       ]
      },
      {
       "output_type": "stream",
       "stream": "stdout",
       "text": [
        "\r",
        "Checking: |#---------| 49/248  19% [elapsed: 00:00 left: 00:01, 136.42 iters/sec]"
       ]
      },
      {
       "output_type": "stream",
       "stream": "stdout",
       "text": [
        "\r",
        "Checking: |##--------| 50/248  20% [elapsed: 00:00 left: 00:01, 137.90 iters/sec]"
       ]
      },
      {
       "output_type": "stream",
       "stream": "stdout",
       "text": [
        "\r",
        "Checking: |##--------| 51/248  20% [elapsed: 00:00 left: 00:01, 139.85 iters/sec]"
       ]
      },
      {
       "output_type": "stream",
       "stream": "stdout",
       "text": [
        "\r",
        "Checking: |##--------| 52/248  20% [elapsed: 00:00 left: 00:01, 141.25 iters/sec]"
       ]
      },
      {
       "output_type": "stream",
       "stream": "stdout",
       "text": [
        "\r",
        "Checking: |##--------| 53/248  21% [elapsed: 00:00 left: 00:01, 141.77 iters/sec]"
       ]
      },
      {
       "output_type": "stream",
       "stream": "stdout",
       "text": [
        "\r",
        "Checking: |##--------| 54/248  21% [elapsed: 00:00 left: 00:01, 141.00 iters/sec]"
       ]
      },
      {
       "output_type": "stream",
       "stream": "stdout",
       "text": [
        "\r",
        "Checking: |##--------| 55/248  22% [elapsed: 00:00 left: 00:01, 140.70 iters/sec]"
       ]
      },
      {
       "output_type": "stream",
       "stream": "stdout",
       "text": [
        "\r",
        "Checking: |##--------| 56/248  22% [elapsed: 00:00 left: 00:01, 140.48 iters/sec]"
       ]
      },
      {
       "output_type": "stream",
       "stream": "stdout",
       "text": [
        "\r",
        "Checking: |##--------| 57/248  22% [elapsed: 00:00 left: 00:01, 141.81 iters/sec]"
       ]
      },
      {
       "output_type": "stream",
       "stream": "stdout",
       "text": [
        "\r",
        "Checking: |##--------| 58/248  23% [elapsed: 00:00 left: 00:01, 142.07 iters/sec]"
       ]
      },
      {
       "output_type": "stream",
       "stream": "stdout",
       "text": [
        "\r",
        "Checking: |##--------| 59/248  23% [elapsed: 00:00 left: 00:01, 141.85 iters/sec]"
       ]
      },
      {
       "output_type": "stream",
       "stream": "stdout",
       "text": [
        "\r",
        "Checking: |##--------| 60/248  24% [elapsed: 00:00 left: 00:01, 141.96 iters/sec]"
       ]
      },
      {
       "output_type": "stream",
       "stream": "stdout",
       "text": [
        "\r",
        "Checking: |##--------| 61/248  24% [elapsed: 00:00 left: 00:01, 143.30 iters/sec]"
       ]
      },
      {
       "output_type": "stream",
       "stream": "stdout",
       "text": [
        "\r",
        "Checking: |##--------| 62/248  25% [elapsed: 00:00 left: 00:01, 142.23 iters/sec]"
       ]
      },
      {
       "output_type": "stream",
       "stream": "stdout",
       "text": [
        "\r",
        "Checking: |##--------| 63/248  25% [elapsed: 00:00 left: 00:01, 143.03 iters/sec]"
       ]
      },
      {
       "output_type": "stream",
       "stream": "stdout",
       "text": [
        "\r",
        "Checking: |##--------| 64/248  25% [elapsed: 00:00 left: 00:01, 144.58 iters/sec]"
       ]
      },
      {
       "output_type": "stream",
       "stream": "stdout",
       "text": [
        "\r",
        "Checking: |##--------| 65/248  26% [elapsed: 00:00 left: 00:01, 145.44 iters/sec]"
       ]
      },
      {
       "output_type": "stream",
       "stream": "stdout",
       "text": [
        "\r",
        "Checking: |##--------| 66/248  26% [elapsed: 00:00 left: 00:01, 146.73 iters/sec]"
       ]
      },
      {
       "output_type": "stream",
       "stream": "stdout",
       "text": [
        "\r",
        "Checking: |##--------| 67/248  27% [elapsed: 00:00 left: 00:01, 148.01 iters/sec]"
       ]
      },
      {
       "output_type": "stream",
       "stream": "stdout",
       "text": [
        "\r",
        "Checking: |##--------| 68/248  27% [elapsed: 00:00 left: 00:01, 149.54 iters/sec]"
       ]
      },
      {
       "output_type": "stream",
       "stream": "stdout",
       "text": [
        "\r",
        "Checking: |##--------| 69/248  27% [elapsed: 00:00 left: 00:01, 149.09 iters/sec]"
       ]
      },
      {
       "output_type": "stream",
       "stream": "stdout",
       "text": [
        "\r",
        "Checking: |##--------| 70/248  28% [elapsed: 00:00 left: 00:01, 148.14 iters/sec]"
       ]
      },
      {
       "output_type": "stream",
       "stream": "stdout",
       "text": [
        "\r",
        "Checking: |##--------| 71/248  28% [elapsed: 00:00 left: 00:01, 148.86 iters/sec]"
       ]
      },
      {
       "output_type": "stream",
       "stream": "stdout",
       "text": [
        "\r",
        "Checking: |##--------| 72/248  29% [elapsed: 00:00 left: 00:01, 147.96 iters/sec]"
       ]
      },
      {
       "output_type": "stream",
       "stream": "stdout",
       "text": [
        "\r",
        "Checking: |##--------| 73/248  29% [elapsed: 00:00 left: 00:01, 144.81 iters/sec]"
       ]
      },
      {
       "output_type": "stream",
       "stream": "stdout",
       "text": [
        "\r",
        "Checking: |##--------| 74/248  29% [elapsed: 00:00 left: 00:01, 144.98 iters/sec]"
       ]
      },
      {
       "output_type": "stream",
       "stream": "stdout",
       "text": [
        "\r",
        "Checking: |###-------| 75/248  30% [elapsed: 00:00 left: 00:01, 142.41 iters/sec]"
       ]
      },
      {
       "output_type": "stream",
       "stream": "stdout",
       "text": [
        "\r",
        "Checking: |###-------| 76/248  30% [elapsed: 00:00 left: 00:01, 141.83 iters/sec]"
       ]
      },
      {
       "output_type": "stream",
       "stream": "stdout",
       "text": [
        "\r",
        "Checking: |###-------| 77/248  31% [elapsed: 00:00 left: 00:01, 141.94 iters/sec]"
       ]
      },
      {
       "output_type": "stream",
       "stream": "stdout",
       "text": [
        "\r",
        "Checking: |###-------| 78/248  31% [elapsed: 00:00 left: 00:01, 142.94 iters/sec]"
       ]
      },
      {
       "output_type": "stream",
       "stream": "stdout",
       "text": [
        "\r",
        "Checking: |###-------| 79/248  31% [elapsed: 00:00 left: 00:01, 144.09 iters/sec]"
       ]
      },
      {
       "output_type": "stream",
       "stream": "stdout",
       "text": [
        "\r",
        "Checking: |###-------| 80/248  32% [elapsed: 00:00 left: 00:01, 143.27 iters/sec]"
       ]
      },
      {
       "output_type": "stream",
       "stream": "stdout",
       "text": [
        "\r",
        "Checking: |###-------| 81/248  32% [elapsed: 00:00 left: 00:01, 142.61 iters/sec]"
       ]
      },
      {
       "output_type": "stream",
       "stream": "stdout",
       "text": [
        "\r",
        "Checking: |###-------| 82/248  33% [elapsed: 00:00 left: 00:01, 142.73 iters/sec]"
       ]
      },
      {
       "output_type": "stream",
       "stream": "stdout",
       "text": [
        "\r",
        "Checking: |###-------| 83/248  33% [elapsed: 00:00 left: 00:01, 140.82 iters/sec]"
       ]
      },
      {
       "output_type": "stream",
       "stream": "stdout",
       "text": [
        "\r",
        "Checking: |###-------| 84/248  33% [elapsed: 00:00 left: 00:01, 140.69 iters/sec]"
       ]
      },
      {
       "output_type": "stream",
       "stream": "stdout",
       "text": [
        "\r",
        "Checking: |###-------| 85/248  34% [elapsed: 00:00 left: 00:01, 140.26 iters/sec]"
       ]
      },
      {
       "output_type": "stream",
       "stream": "stdout",
       "text": [
        "\r",
        "Checking: |###-------| 86/248  34% [elapsed: 00:00 left: 00:01, 140.85 iters/sec]"
       ]
      },
      {
       "output_type": "stream",
       "stream": "stdout",
       "text": [
        "\r",
        "Checking: |###-------| 87/248  35% [elapsed: 00:00 left: 00:01, 141.89 iters/sec]"
       ]
      },
      {
       "output_type": "stream",
       "stream": "stdout",
       "text": [
        "\r",
        "Checking: |###-------| 88/248  35% [elapsed: 00:00 left: 00:01, 141.51 iters/sec]"
       ]
      },
      {
       "output_type": "stream",
       "stream": "stdout",
       "text": [
        "\r",
        "Checking: |###-------| 89/248  35% [elapsed: 00:00 left: 00:01, 141.67 iters/sec]"
       ]
      },
      {
       "output_type": "stream",
       "stream": "stdout",
       "text": [
        "\r",
        "Checking: |###-------| 90/248  36% [elapsed: 00:00 left: 00:01, 142.47 iters/sec]"
       ]
      },
      {
       "output_type": "stream",
       "stream": "stdout",
       "text": [
        "\r",
        "Checking: |###-------| 91/248  36% [elapsed: 00:00 left: 00:01, 141.60 iters/sec]"
       ]
      },
      {
       "output_type": "stream",
       "stream": "stdout",
       "text": [
        "\r",
        "Checking: |###-------| 92/248  37% [elapsed: 00:00 left: 00:01, 141.95 iters/sec]"
       ]
      },
      {
       "output_type": "stream",
       "stream": "stdout",
       "text": [
        "\r",
        "Checking: |###-------| 93/248  37% [elapsed: 00:00 left: 00:01, 142.80 iters/sec]"
       ]
      },
      {
       "output_type": "stream",
       "stream": "stdout",
       "text": [
        "\r",
        "Checking: |###-------| 94/248  37% [elapsed: 00:00 left: 00:01, 143.69 iters/sec]"
       ]
      },
      {
       "output_type": "stream",
       "stream": "stdout",
       "text": [
        "\r",
        "Checking: |###-------| 95/248  38% [elapsed: 00:00 left: 00:01, 141.60 iters/sec]"
       ]
      },
      {
       "output_type": "stream",
       "stream": "stdout",
       "text": [
        "\r",
        "Checking: |###-------| 96/248  38% [elapsed: 00:00 left: 00:01, 141.36 iters/sec]"
       ]
      },
      {
       "output_type": "stream",
       "stream": "stdout",
       "text": [
        "\r",
        "Checking: |###-------| 97/248  39% [elapsed: 00:00 left: 00:01, 142.14 iters/sec]"
       ]
      },
      {
       "output_type": "stream",
       "stream": "stdout",
       "text": [
        "\r",
        "Checking: |###-------| 98/248  39% [elapsed: 00:00 left: 00:01, 142.65 iters/sec]"
       ]
      },
      {
       "output_type": "stream",
       "stream": "stdout",
       "text": [
        "\r",
        "Checking: |###-------| 99/248  39% [elapsed: 00:00 left: 00:01, 143.17 iters/sec]"
       ]
      },
      {
       "output_type": "stream",
       "stream": "stdout",
       "text": [
        "\r",
        "Checking: |####------| 100/248  40% [elapsed: 00:00 left: 00:01, 143.96 iters/sec]"
       ]
      },
      {
       "output_type": "stream",
       "stream": "stdout",
       "text": [
        "\r",
        "Checking: |####------| 101/248  40% [elapsed: 00:00 left: 00:01, 144.35 iters/sec]"
       ]
      },
      {
       "output_type": "stream",
       "stream": "stdout",
       "text": [
        "\r",
        "Checking: |####------| 102/248  41% [elapsed: 00:00 left: 00:01, 143.85 iters/sec]"
       ]
      },
      {
       "output_type": "stream",
       "stream": "stdout",
       "text": [
        "\r",
        "Checking: |####------| 103/248  41% [elapsed: 00:00 left: 00:01, 143.59 iters/sec]"
       ]
      },
      {
       "output_type": "stream",
       "stream": "stdout",
       "text": [
        "\r",
        "Checking: |####------| 104/248  41% [elapsed: 00:00 left: 00:01, 143.84 iters/sec]"
       ]
      },
      {
       "output_type": "stream",
       "stream": "stdout",
       "text": [
        "\r",
        "Checking: |####------| 105/248  42% [elapsed: 00:00 left: 00:00, 143.23 iters/sec]"
       ]
      },
      {
       "output_type": "stream",
       "stream": "stdout",
       "text": [
        "\r",
        "Checking: |####------| 106/248  42% [elapsed: 00:00 left: 00:00, 142.80 iters/sec]"
       ]
      },
      {
       "output_type": "stream",
       "stream": "stdout",
       "text": [
        "\r",
        "Checking: |####------| 107/248  43% [elapsed: 00:00 left: 00:00, 142.86 iters/sec]"
       ]
      },
      {
       "output_type": "stream",
       "stream": "stdout",
       "text": [
        "\r",
        "Checking: |####------| 108/248  43% [elapsed: 00:00 left: 00:00, 143.39 iters/sec]"
       ]
      },
      {
       "output_type": "stream",
       "stream": "stdout",
       "text": [
        "\r",
        "Checking: |####------| 109/248  43% [elapsed: 00:00 left: 00:00, 143.75 iters/sec]"
       ]
      },
      {
       "output_type": "stream",
       "stream": "stdout",
       "text": [
        "\r",
        "Checking: |####------| 110/248  44% [elapsed: 00:00 left: 00:00, 139.61 iters/sec]"
       ]
      },
      {
       "output_type": "stream",
       "stream": "stdout",
       "text": [
        "\r",
        "Checking: |####------| 111/248  44% [elapsed: 00:00 left: 00:00, 138.40 iters/sec]"
       ]
      },
      {
       "output_type": "stream",
       "stream": "stdout",
       "text": [
        "\r",
        "Checking: |####------| 112/248  45% [elapsed: 00:00 left: 00:00, 138.31 iters/sec]"
       ]
      },
      {
       "output_type": "stream",
       "stream": "stdout",
       "text": [
        "\r",
        "Checking: |####------| 113/248  45% [elapsed: 00:00 left: 00:00, 138.26 iters/sec]"
       ]
      },
      {
       "output_type": "stream",
       "stream": "stdout",
       "text": [
        "\r",
        "Checking: |####------| 114/248  45% [elapsed: 00:00 left: 00:00, 138.85 iters/sec]"
       ]
      },
      {
       "output_type": "stream",
       "stream": "stdout",
       "text": [
        "\r",
        "Checking: |####------| 115/248  46% [elapsed: 00:00 left: 00:00, 139.46 iters/sec]"
       ]
      },
      {
       "output_type": "stream",
       "stream": "stdout",
       "text": [
        "\r",
        "Checking: |####------| 116/248  46% [elapsed: 00:00 left: 00:00, 139.58 iters/sec]"
       ]
      },
      {
       "output_type": "stream",
       "stream": "stdout",
       "text": [
        "\r",
        "Checking: |####------| 117/248  47% [elapsed: 00:00 left: 00:00, 139.16 iters/sec]"
       ]
      },
      {
       "output_type": "stream",
       "stream": "stdout",
       "text": [
        "\r",
        "Checking: |####------| 118/248  47% [elapsed: 00:00 left: 00:00, 139.59 iters/sec]"
       ]
      },
      {
       "output_type": "stream",
       "stream": "stdout",
       "text": [
        "\r",
        "Checking: |####------| 119/248  47% [elapsed: 00:00 left: 00:00, 139.76 iters/sec]"
       ]
      },
      {
       "output_type": "stream",
       "stream": "stdout",
       "text": [
        "\r",
        "Checking: |####------| 120/248  48% [elapsed: 00:00 left: 00:00, 139.91 iters/sec]"
       ]
      },
      {
       "output_type": "stream",
       "stream": "stdout",
       "text": [
        "\r",
        "Checking: |####------| 121/248  48% [elapsed: 00:00 left: 00:00, 140.23 iters/sec]"
       ]
      },
      {
       "output_type": "stream",
       "stream": "stdout",
       "text": [
        "\r",
        "Checking: |####------| 122/248  49% [elapsed: 00:00 left: 00:00, 140.97 iters/sec]"
       ]
      },
      {
       "output_type": "stream",
       "stream": "stdout",
       "text": [
        "\r",
        "Checking: |####------| 123/248  49% [elapsed: 00:00 left: 00:00, 139.86 iters/sec]"
       ]
      },
      {
       "output_type": "stream",
       "stream": "stdout",
       "text": [
        "\r",
        "Checking: |#####-----| 124/248  50% [elapsed: 00:00 left: 00:00, 138.94 iters/sec]"
       ]
      },
      {
       "output_type": "stream",
       "stream": "stdout",
       "text": [
        "\r",
        "Checking: |#####-----| 125/248  50% [elapsed: 00:00 left: 00:00, 139.23 iters/sec]"
       ]
      },
      {
       "output_type": "stream",
       "stream": "stdout",
       "text": [
        "\r",
        "Checking: |#####-----| 126/248  50% [elapsed: 00:00 left: 00:00, 139.24 iters/sec]"
       ]
      },
      {
       "output_type": "stream",
       "stream": "stdout",
       "text": [
        "\r",
        "Checking: |#####-----| 127/248  51% [elapsed: 00:00 left: 00:00, 139.72 iters/sec]"
       ]
      },
      {
       "output_type": "stream",
       "stream": "stdout",
       "text": [
        "\r",
        "Checking: |#####-----| 128/248  51% [elapsed: 00:00 left: 00:00, 139.76 iters/sec]"
       ]
      },
      {
       "output_type": "stream",
       "stream": "stdout",
       "text": [
        "\r",
        "Checking: |#####-----| 129/248  52% [elapsed: 00:00 left: 00:00, 140.07 iters/sec]"
       ]
      },
      {
       "output_type": "stream",
       "stream": "stdout",
       "text": [
        "\r",
        "Checking: |#####-----| 130/248  52% [elapsed: 00:00 left: 00:00, 139.58 iters/sec]"
       ]
      },
      {
       "output_type": "stream",
       "stream": "stdout",
       "text": [
        "\r",
        "Checking: |#####-----| 131/248  52% [elapsed: 00:00 left: 00:00, 139.96 iters/sec]"
       ]
      },
      {
       "output_type": "stream",
       "stream": "stdout",
       "text": [
        "\r",
        "Checking: |#####-----| 132/248  53% [elapsed: 00:00 left: 00:00, 140.53 iters/sec]"
       ]
      },
      {
       "output_type": "stream",
       "stream": "stdout",
       "text": [
        "\r",
        "Checking: |#####-----| 133/248  53% [elapsed: 00:00 left: 00:00, 140.36 iters/sec]"
       ]
      },
      {
       "output_type": "stream",
       "stream": "stdout",
       "text": [
        "\r",
        "Checking: |#####-----| 134/248  54% [elapsed: 00:00 left: 00:00, 140.90 iters/sec]"
       ]
      },
      {
       "output_type": "stream",
       "stream": "stdout",
       "text": [
        "\r",
        "Checking: |#####-----| 135/248  54% [elapsed: 00:00 left: 00:00, 140.61 iters/sec]"
       ]
      },
      {
       "output_type": "stream",
       "stream": "stdout",
       "text": [
        "\r",
        "Checking: |#####-----| 136/248  54% [elapsed: 00:00 left: 00:00, 141.29 iters/sec]"
       ]
      },
      {
       "output_type": "stream",
       "stream": "stdout",
       "text": [
        "\r",
        "Checking: |#####-----| 137/248  55% [elapsed: 00:00 left: 00:00, 141.47 iters/sec]"
       ]
      },
      {
       "output_type": "stream",
       "stream": "stdout",
       "text": [
        "\r",
        "Checking: |#####-----| 138/248  55% [elapsed: 00:00 left: 00:00, 141.87 iters/sec]"
       ]
      },
      {
       "output_type": "stream",
       "stream": "stdout",
       "text": [
        "\r",
        "Checking: |#####-----| 139/248  56% [elapsed: 00:00 left: 00:00, 142.37 iters/sec]"
       ]
      },
      {
       "output_type": "stream",
       "stream": "stdout",
       "text": [
        "\r",
        "Checking: |#####-----| 140/248  56% [elapsed: 00:00 left: 00:00, 143.04 iters/sec]"
       ]
      },
      {
       "output_type": "stream",
       "stream": "stdout",
       "text": [
        "\r",
        "Checking: |#####-----| 141/248  56% [elapsed: 00:00 left: 00:00, 142.81 iters/sec]"
       ]
      },
      {
       "output_type": "stream",
       "stream": "stdout",
       "text": [
        "\r",
        "Checking: |#####-----| 142/248  57% [elapsed: 00:00 left: 00:00, 142.84 iters/sec]"
       ]
      },
      {
       "output_type": "stream",
       "stream": "stdout",
       "text": [
        "\r",
        "Checking: |#####-----| 143/248  57% [elapsed: 00:00 left: 00:00, 143.49 iters/sec]"
       ]
      },
      {
       "output_type": "stream",
       "stream": "stdout",
       "text": [
        "\r",
        "Checking: |#####-----| 144/248  58% [elapsed: 00:00 left: 00:00, 144.18 iters/sec]"
       ]
      },
      {
       "output_type": "stream",
       "stream": "stdout",
       "text": [
        "\r",
        "Checking: |#####-----| 145/248  58% [elapsed: 00:01 left: 00:00, 144.35 iters/sec]"
       ]
      },
      {
       "output_type": "stream",
       "stream": "stdout",
       "text": [
        "\r",
        "Checking: |#####-----| 146/248  58% [elapsed: 00:01 left: 00:00, 145.07 iters/sec]"
       ]
      },
      {
       "output_type": "stream",
       "stream": "stdout",
       "text": [
        "\r",
        "Checking: |#####-----| 147/248  59% [elapsed: 00:01 left: 00:00, 145.57 iters/sec]"
       ]
      },
      {
       "output_type": "stream",
       "stream": "stdout",
       "text": [
        "\r",
        "Checking: |#####-----| 148/248  59% [elapsed: 00:01 left: 00:00, 145.84 iters/sec]"
       ]
      },
      {
       "output_type": "stream",
       "stream": "stdout",
       "text": [
        "\r",
        "Checking: |######----| 149/248  60% [elapsed: 00:01 left: 00:00, 146.42 iters/sec]"
       ]
      },
      {
       "output_type": "stream",
       "stream": "stdout",
       "text": [
        "\r",
        "Checking: |######----| 150/248  60% [elapsed: 00:01 left: 00:00, 146.62 iters/sec]"
       ]
      },
      {
       "output_type": "stream",
       "stream": "stdout",
       "text": [
        "\r",
        "Checking: |######----| 151/248  60% [elapsed: 00:01 left: 00:00, 146.15 iters/sec]"
       ]
      },
      {
       "output_type": "stream",
       "stream": "stdout",
       "text": [
        "\r",
        "Checking: |######----| 152/248  61% [elapsed: 00:01 left: 00:00, 146.11 iters/sec]"
       ]
      },
      {
       "output_type": "stream",
       "stream": "stdout",
       "text": [
        "\r",
        "Checking: |######----| 153/248  61% [elapsed: 00:01 left: 00:00, 146.70 iters/sec]"
       ]
      },
      {
       "output_type": "stream",
       "stream": "stdout",
       "text": [
        "\r",
        "Checking: |######----| 154/248  62% [elapsed: 00:01 left: 00:00, 147.32 iters/sec]"
       ]
      },
      {
       "output_type": "stream",
       "stream": "stdout",
       "text": [
        "\r",
        "Checking: |######----| 155/248  62% [elapsed: 00:01 left: 00:00, 147.54 iters/sec]"
       ]
      },
      {
       "output_type": "stream",
       "stream": "stdout",
       "text": [
        "\r",
        "Checking: |######----| 156/248  62% [elapsed: 00:01 left: 00:00, 147.07 iters/sec]"
       ]
      },
      {
       "output_type": "stream",
       "stream": "stdout",
       "text": [
        "\r",
        "Checking: |######----| 157/248  63% [elapsed: 00:01 left: 00:00, 147.62 iters/sec]"
       ]
      },
      {
       "output_type": "stream",
       "stream": "stdout",
       "text": [
        "\r",
        "Checking: |######----| 158/248  63% [elapsed: 00:01 left: 00:00, 148.09 iters/sec]"
       ]
      },
      {
       "output_type": "stream",
       "stream": "stdout",
       "text": [
        "\r",
        "Checking: |######----| 159/248  64% [elapsed: 00:01 left: 00:00, 148.25 iters/sec]"
       ]
      },
      {
       "output_type": "stream",
       "stream": "stdout",
       "text": [
        "\r",
        "Checking: |######----| 160/248  64% [elapsed: 00:01 left: 00:00, 148.69 iters/sec]"
       ]
      },
      {
       "output_type": "stream",
       "stream": "stdout",
       "text": [
        "\r",
        "Checking: |######----| 161/248  64% [elapsed: 00:01 left: 00:00, 149.20 iters/sec]"
       ]
      },
      {
       "output_type": "stream",
       "stream": "stdout",
       "text": [
        "\r",
        "Checking: |######----| 162/248  65% [elapsed: 00:01 left: 00:00, 148.79 iters/sec]"
       ]
      },
      {
       "output_type": "stream",
       "stream": "stdout",
       "text": [
        "\r",
        "Checking: |######----| 163/248  65% [elapsed: 00:01 left: 00:00, 149.13 iters/sec]"
       ]
      },
      {
       "output_type": "stream",
       "stream": "stdout",
       "text": [
        "\r",
        "Checking: |######----| 164/248  66% [elapsed: 00:01 left: 00:00, 147.51 iters/sec]"
       ]
      },
      {
       "output_type": "stream",
       "stream": "stdout",
       "text": [
        "\r",
        "Checking: |######----| 165/248  66% [elapsed: 00:01 left: 00:00, 147.49 iters/sec]"
       ]
      },
      {
       "output_type": "stream",
       "stream": "stdout",
       "text": [
        "\r",
        "Checking: |######----| 166/248  66% [elapsed: 00:01 left: 00:00, 147.70 iters/sec]"
       ]
      },
      {
       "output_type": "stream",
       "stream": "stdout",
       "text": [
        "\r",
        "Checking: |######----| 167/248  67% [elapsed: 00:01 left: 00:00, 148.03 iters/sec]"
       ]
      },
      {
       "output_type": "stream",
       "stream": "stdout",
       "text": [
        "\r",
        "Checking: |######----| 168/248  67% [elapsed: 00:01 left: 00:00, 147.94 iters/sec]"
       ]
      },
      {
       "output_type": "stream",
       "stream": "stdout",
       "text": [
        "\r",
        "Checking: |######----| 169/248  68% [elapsed: 00:01 left: 00:00, 147.96 iters/sec]"
       ]
      },
      {
       "output_type": "stream",
       "stream": "stdout",
       "text": [
        "\r",
        "Checking: |######----| 170/248  68% [elapsed: 00:01 left: 00:00, 148.55 iters/sec]"
       ]
      },
      {
       "output_type": "stream",
       "stream": "stdout",
       "text": [
        "\r",
        "Checking: |######----| 171/248  68% [elapsed: 00:01 left: 00:00, 148.96 iters/sec]"
       ]
      },
      {
       "output_type": "stream",
       "stream": "stdout",
       "text": [
        "\r",
        "Checking: |######----| 172/248  69% [elapsed: 00:01 left: 00:00, 147.90 iters/sec]"
       ]
      },
      {
       "output_type": "stream",
       "stream": "stdout",
       "text": [
        "\r",
        "Checking: |######----| 173/248  69% [elapsed: 00:01 left: 00:00, 147.81 iters/sec]"
       ]
      },
      {
       "output_type": "stream",
       "stream": "stdout",
       "text": [
        "\r",
        "Checking: |#######---| 174/248  70% [elapsed: 00:01 left: 00:00, 147.49 iters/sec]"
       ]
      },
      {
       "output_type": "stream",
       "stream": "stdout",
       "text": [
        "\r",
        "Checking: |#######---| 175/248  70% [elapsed: 00:01 left: 00:00, 147.63 iters/sec]"
       ]
      },
      {
       "output_type": "stream",
       "stream": "stdout",
       "text": [
        "\r",
        "Checking: |#######---| 176/248  70% [elapsed: 00:01 left: 00:00, 146.43 iters/sec]"
       ]
      },
      {
       "output_type": "stream",
       "stream": "stdout",
       "text": [
        "\r",
        "Checking: |#######---| 177/248  71% [elapsed: 00:01 left: 00:00, 146.00 iters/sec]"
       ]
      },
      {
       "output_type": "stream",
       "stream": "stdout",
       "text": [
        "\r",
        "Checking: |#######---| 178/248  71% [elapsed: 00:01 left: 00:00, 146.23 iters/sec]"
       ]
      },
      {
       "output_type": "stream",
       "stream": "stdout",
       "text": [
        "\r",
        "Checking: |#######---| 179/248  72% [elapsed: 00:01 left: 00:00, 146.78 iters/sec]"
       ]
      },
      {
       "output_type": "stream",
       "stream": "stdout",
       "text": [
        "\r",
        "Checking: |#######---| 180/248  72% [elapsed: 00:01 left: 00:00, 146.18 iters/sec]"
       ]
      },
      {
       "output_type": "stream",
       "stream": "stdout",
       "text": [
        "\r",
        "Checking: |#######---| 181/248  72% [elapsed: 00:01 left: 00:00, 146.41 iters/sec]"
       ]
      },
      {
       "output_type": "stream",
       "stream": "stdout",
       "text": [
        "\r",
        "Checking: |#######---| 182/248  73% [elapsed: 00:01 left: 00:00, 146.57 iters/sec]"
       ]
      },
      {
       "output_type": "stream",
       "stream": "stdout",
       "text": [
        "\r",
        "Checking: |#######---| 183/248  73% [elapsed: 00:01 left: 00:00, 146.31 iters/sec]"
       ]
      },
      {
       "output_type": "stream",
       "stream": "stdout",
       "text": [
        "\r",
        "Checking: |#######---| 184/248  74% [elapsed: 00:01 left: 00:00, 145.71 iters/sec]"
       ]
      },
      {
       "output_type": "stream",
       "stream": "stdout",
       "text": [
        "\r",
        "Checking: |#######---| 185/248  74% [elapsed: 00:01 left: 00:00, 145.95 iters/sec]"
       ]
      },
      {
       "output_type": "stream",
       "stream": "stdout",
       "text": [
        "\r",
        "Checking: |#######---| 186/248  75% [elapsed: 00:01 left: 00:00, 146.25 iters/sec]"
       ]
      },
      {
       "output_type": "stream",
       "stream": "stdout",
       "text": [
        "\r",
        "Checking: |#######---| 187/248  75% [elapsed: 00:01 left: 00:00, 146.63 iters/sec]"
       ]
      },
      {
       "output_type": "stream",
       "stream": "stdout",
       "text": [
        "\r",
        "Checking: |#######---| 188/248  75% [elapsed: 00:01 left: 00:00, 146.50 iters/sec]"
       ]
      },
      {
       "output_type": "stream",
       "stream": "stdout",
       "text": [
        "\r",
        "Checking: |#######---| 189/248  76% [elapsed: 00:01 left: 00:00, 146.76 iters/sec]"
       ]
      },
      {
       "output_type": "stream",
       "stream": "stdout",
       "text": [
        "\r",
        "Checking: |#######---| 190/248  76% [elapsed: 00:01 left: 00:00, 146.47 iters/sec]"
       ]
      },
      {
       "output_type": "stream",
       "stream": "stdout",
       "text": [
        "\r",
        "Checking: |#######---| 191/248  77% [elapsed: 00:01 left: 00:00, 146.79 iters/sec]"
       ]
      },
      {
       "output_type": "stream",
       "stream": "stdout",
       "text": [
        "\r",
        "Checking: |#######---| 192/248  77% [elapsed: 00:01 left: 00:00, 145.85 iters/sec]"
       ]
      },
      {
       "output_type": "stream",
       "stream": "stdout",
       "text": [
        "\r",
        "Checking: |#######---| 193/248  77% [elapsed: 00:01 left: 00:00, 146.09 iters/sec]"
       ]
      },
      {
       "output_type": "stream",
       "stream": "stdout",
       "text": [
        "\r",
        "Checking: |#######---| 194/248  78% [elapsed: 00:01 left: 00:00, 146.60 iters/sec]"
       ]
      },
      {
       "output_type": "stream",
       "stream": "stdout",
       "text": [
        "\r",
        "Checking: |#######---| 195/248  78% [elapsed: 00:01 left: 00:00, 147.03 iters/sec]"
       ]
      },
      {
       "output_type": "stream",
       "stream": "stdout",
       "text": [
        "\r",
        "Checking: |#######---| 196/248  79% [elapsed: 00:01 left: 00:00, 147.51 iters/sec]"
       ]
      },
      {
       "output_type": "stream",
       "stream": "stdout",
       "text": [
        "\r",
        "Checking: |#######---| 197/248  79% [elapsed: 00:01 left: 00:00, 147.98 iters/sec]"
       ]
      },
      {
       "output_type": "stream",
       "stream": "stdout",
       "text": [
        "\r",
        "Checking: |#######---| 198/248  79% [elapsed: 00:01 left: 00:00, 148.37 iters/sec]"
       ]
      },
      {
       "output_type": "stream",
       "stream": "stdout",
       "text": [
        "\r",
        "Checking: |########--| 199/248  80% [elapsed: 00:01 left: 00:00, 144.33 iters/sec]"
       ]
      },
      {
       "output_type": "stream",
       "stream": "stdout",
       "text": [
        "\r",
        "Checking: |########--| 200/248  80% [elapsed: 00:01 left: 00:00, 143.24 iters/sec]"
       ]
      },
      {
       "output_type": "stream",
       "stream": "stdout",
       "text": [
        "\r",
        "Checking: |########--| 201/248  81% [elapsed: 00:01 left: 00:00, 143.62 iters/sec]"
       ]
      },
      {
       "output_type": "stream",
       "stream": "stdout",
       "text": [
        "\r",
        "Checking: |########--| 202/248  81% [elapsed: 00:01 left: 00:00, 144.09 iters/sec]"
       ]
      },
      {
       "output_type": "stream",
       "stream": "stdout",
       "text": [
        "\r",
        "Checking: |########--| 203/248  81% [elapsed: 00:01 left: 00:00, 144.22 iters/sec]"
       ]
      },
      {
       "output_type": "stream",
       "stream": "stdout",
       "text": [
        "\r",
        "Checking: |########--| 204/248  82% [elapsed: 00:01 left: 00:00, 144.70 iters/sec]"
       ]
      },
      {
       "output_type": "stream",
       "stream": "stdout",
       "text": [
        "\r",
        "Checking: |########--| 205/248  82% [elapsed: 00:01 left: 00:00, 145.14 iters/sec]"
       ]
      },
      {
       "output_type": "stream",
       "stream": "stdout",
       "text": [
        "\r",
        "Checking: |########--| 206/248  83% [elapsed: 00:01 left: 00:00, 145.45 iters/sec]"
       ]
      },
      {
       "output_type": "stream",
       "stream": "stdout",
       "text": [
        "\r",
        "Checking: |########--| 207/248  83% [elapsed: 00:01 left: 00:00, 145.80 iters/sec]"
       ]
      },
      {
       "output_type": "stream",
       "stream": "stdout",
       "text": [
        "\r",
        "Checking: |########--| 208/248  83% [elapsed: 00:01 left: 00:00, 145.30 iters/sec]"
       ]
      },
      {
       "output_type": "stream",
       "stream": "stdout",
       "text": [
        "\r",
        "Checking: |########--| 209/248  84% [elapsed: 00:01 left: 00:00, 145.38 iters/sec]"
       ]
      },
      {
       "output_type": "stream",
       "stream": "stdout",
       "text": [
        "\r",
        "Checking: |########--| 210/248  84% [elapsed: 00:01 left: 00:00, 145.50 iters/sec]"
       ]
      },
      {
       "output_type": "stream",
       "stream": "stdout",
       "text": [
        "\r",
        "Checking: |########--| 211/248  85% [elapsed: 00:01 left: 00:00, 145.74 iters/sec]"
       ]
      },
      {
       "output_type": "stream",
       "stream": "stdout",
       "text": [
        "\r",
        "Checking: |########--| 212/248  85% [elapsed: 00:01 left: 00:00, 145.91 iters/sec]"
       ]
      },
      {
       "output_type": "stream",
       "stream": "stdout",
       "text": [
        "\r",
        "Checking: |########--| 213/248  85% [elapsed: 00:01 left: 00:00, 144.63 iters/sec]"
       ]
      },
      {
       "output_type": "stream",
       "stream": "stdout",
       "text": [
        "\r",
        "Checking: |########--| 214/248  86% [elapsed: 00:01 left: 00:00, 144.60 iters/sec]"
       ]
      },
      {
       "output_type": "stream",
       "stream": "stdout",
       "text": [
        "\r",
        "Checking: |########--| 215/248  86% [elapsed: 00:01 left: 00:00, 145.02 iters/sec]"
       ]
      },
      {
       "output_type": "stream",
       "stream": "stdout",
       "text": [
        "\r",
        "Checking: |########--| 216/248  87% [elapsed: 00:01 left: 00:00, 144.76 iters/sec]"
       ]
      },
      {
       "output_type": "stream",
       "stream": "stdout",
       "text": [
        "\r",
        "Checking: |########--| 217/248  87% [elapsed: 00:01 left: 00:00, 144.97 iters/sec]"
       ]
      },
      {
       "output_type": "stream",
       "stream": "stdout",
       "text": [
        "\r",
        "Checking: |########--| 218/248  87% [elapsed: 00:01 left: 00:00, 145.33 iters/sec]"
       ]
      },
      {
       "output_type": "stream",
       "stream": "stdout",
       "text": [
        "\r",
        "Checking: |########--| 219/248  88% [elapsed: 00:01 left: 00:00, 145.63 iters/sec]"
       ]
      },
      {
       "output_type": "stream",
       "stream": "stdout",
       "text": [
        "\r",
        "Checking: |########--| 220/248  88% [elapsed: 00:01 left: 00:00, 146.01 iters/sec]"
       ]
      },
      {
       "output_type": "stream",
       "stream": "stdout",
       "text": [
        "\r",
        "Checking: |########--| 221/248  89% [elapsed: 00:01 left: 00:00, 146.48 iters/sec]"
       ]
      },
      {
       "output_type": "stream",
       "stream": "stdout",
       "text": [
        "\r",
        "Checking: |########--| 222/248  89% [elapsed: 00:01 left: 00:00, 146.60 iters/sec]"
       ]
      },
      {
       "output_type": "stream",
       "stream": "stdout",
       "text": [
        "\r",
        "Checking: |########--| 223/248  89% [elapsed: 00:01 left: 00:00, 146.97 iters/sec]"
       ]
      },
      {
       "output_type": "stream",
       "stream": "stdout",
       "text": [
        "\r",
        "Checking: |#########-| 224/248  90% [elapsed: 00:01 left: 00:00, 147.45 iters/sec]"
       ]
      },
      {
       "output_type": "stream",
       "stream": "stdout",
       "text": [
        "\r",
        "Checking: |#########-| 225/248  90% [elapsed: 00:01 left: 00:00, 146.83 iters/sec]"
       ]
      },
      {
       "output_type": "stream",
       "stream": "stdout",
       "text": [
        "\r",
        "Checking: |#########-| 226/248  91% [elapsed: 00:01 left: 00:00, 146.63 iters/sec]"
       ]
      },
      {
       "output_type": "stream",
       "stream": "stdout",
       "text": [
        "\r",
        "Checking: |#########-| 227/248  91% [elapsed: 00:01 left: 00:00, 145.54 iters/sec]"
       ]
      },
      {
       "output_type": "stream",
       "stream": "stdout",
       "text": [
        "\r",
        "Checking: |#########-| 228/248  91% [elapsed: 00:01 left: 00:00, 145.51 iters/sec]"
       ]
      },
      {
       "output_type": "stream",
       "stream": "stdout",
       "text": [
        "\r",
        "Checking: |#########-| 229/248  92% [elapsed: 00:01 left: 00:00, 144.60 iters/sec]"
       ]
      },
      {
       "output_type": "stream",
       "stream": "stdout",
       "text": [
        "\r",
        "Checking: |#########-| 230/248  92% [elapsed: 00:01 left: 00:00, 144.82 iters/sec]"
       ]
      },
      {
       "output_type": "stream",
       "stream": "stdout",
       "text": [
        "\r",
        "Checking: |#########-| 231/248  93% [elapsed: 00:01 left: 00:00, 145.27 iters/sec]"
       ]
      },
      {
       "output_type": "stream",
       "stream": "stdout",
       "text": [
        "\r",
        "Checking: |#########-| 232/248  93% [elapsed: 00:01 left: 00:00, 145.64 iters/sec]"
       ]
      },
      {
       "output_type": "stream",
       "stream": "stdout",
       "text": [
        "\r",
        "Checking: |#########-| 233/248  93% [elapsed: 00:01 left: 00:00, 145.87 iters/sec]"
       ]
      },
      {
       "output_type": "stream",
       "stream": "stdout",
       "text": [
        "\r",
        "Checking: |#########-| 234/248  94% [elapsed: 00:01 left: 00:00, 145.68 iters/sec]"
       ]
      },
      {
       "output_type": "stream",
       "stream": "stdout",
       "text": [
        "\r",
        "Checking: |#########-| 235/248  94% [elapsed: 00:01 left: 00:00, 145.86 iters/sec]"
       ]
      },
      {
       "output_type": "stream",
       "stream": "stdout",
       "text": [
        "\r",
        "Checking: |#########-| 236/248  95% [elapsed: 00:01 left: 00:00, 146.08 iters/sec]"
       ]
      },
      {
       "output_type": "stream",
       "stream": "stdout",
       "text": [
        "\r",
        "Checking: |#########-| 237/248  95% [elapsed: 00:01 left: 00:00, 146.26 iters/sec]"
       ]
      },
      {
       "output_type": "stream",
       "stream": "stdout",
       "text": [
        "\r",
        "Checking: |#########-| 238/248  95% [elapsed: 00:01 left: 00:00, 146.13 iters/sec]"
       ]
      },
      {
       "output_type": "stream",
       "stream": "stdout",
       "text": [
        "\r",
        "Checking: |#########-| 239/248  96% [elapsed: 00:01 left: 00:00, 146.19 iters/sec]"
       ]
      },
      {
       "output_type": "stream",
       "stream": "stdout",
       "text": [
        "\r",
        "Checking: |#########-| 240/248  96% [elapsed: 00:01 left: 00:00, 146.29 iters/sec]"
       ]
      },
      {
       "output_type": "stream",
       "stream": "stdout",
       "text": [
        "\r",
        "Checking: |#########-| 241/248  97% [elapsed: 00:01 left: 00:00, 146.69 iters/sec]"
       ]
      },
      {
       "output_type": "stream",
       "stream": "stdout",
       "text": [
        "\r",
        "Checking: |#########-| 242/248  97% [elapsed: 00:01 left: 00:00, 146.40 iters/sec]"
       ]
      },
      {
       "output_type": "stream",
       "stream": "stdout",
       "text": [
        "\r",
        "Checking: |#########-| 243/248  97% [elapsed: 00:01 left: 00:00, 146.50 iters/sec]"
       ]
      },
      {
       "output_type": "stream",
       "stream": "stdout",
       "text": [
        "\r",
        "Checking: |#########-| 244/248  98% [elapsed: 00:01 left: 00:00, 145.73 iters/sec]"
       ]
      },
      {
       "output_type": "stream",
       "stream": "stdout",
       "text": [
        "\r",
        "Checking: |#########-| 245/248  98% [elapsed: 00:01 left: 00:00, 145.79 iters/sec]"
       ]
      },
      {
       "output_type": "stream",
       "stream": "stdout",
       "text": [
        "\r",
        "Checking: |#########-| 246/248  99% [elapsed: 00:01 left: 00:00, 146.10 iters/sec]"
       ]
      },
      {
       "output_type": "stream",
       "stream": "stdout",
       "text": [
        "\r",
        "Checking: |#########-| 247/248  99% [elapsed: 00:01 left: 00:00, 146.34 iters/sec]"
       ]
      },
      {
       "output_type": "stream",
       "stream": "stdout",
       "text": [
        "\r",
        "Checking: |##########| 248/248 100% [elapsed: 00:01 left: 00:00, 146.04 iters/sec]"
       ]
      },
      {
       "output_type": "stream",
       "stream": "stdout",
       "text": [
        " OK\n",
        "Annotated HTML forms:\n",
        "\n",
        "202   search                    (s)\n",
        "117   login                     (l)\n",
        "108   other                     (o)\n",
        "67    registration              (r)\n",
        "44    join mailing list         (m)\n",
        "33    password/login recovery   (p)\n",
        "28    contact                   (c)\n",
        "\n",
        "Total form count: 599\n"
       ]
      }
     ],
     "prompt_number": 2
    },
    {
     "cell_type": "markdown",
     "metadata": {},
     "source": [
      "## Load training / evaluation data\n",
      "\n",
      "We must be careful when splitting the dataset into training and evaluation parts: forms from the same domain should be in the same \"bin\". There could be several pages from the same domain, and these pages may have duplicate or similar forms (e.g. a search form on each page). If we put one such form in training dataset and another in evaluation dataset then the metrics will be too optimistic, and they can make us to choose wrong features/models. For example, train_test_split from scikit-learn shouldn't be used here.\n",
      "\n",
      "As an approximation, data is sorted by a domain below (it is done in storage.get_Xy function), and then it is split into 2 parts. It means that no more than 1 domain is prone to overfitting (the one we're splitting at)."
     ]
    },
    {
     "cell_type": "code",
     "collapsed": false,
     "input": [
      "TRAIN_SIZE = 400\n",
      "\n",
      "X, y = storage.get_Xy(verbose=True)\n",
      "X_train, X_test, y_train, y_test = X[:TRAIN_SIZE], X[TRAIN_SIZE:], y[:TRAIN_SIZE], y[TRAIN_SIZE:]\n",
      "\n",
      "print(\"Train size: %d, test size: %d\" % (len(y_train), len(y_test)))"
     ],
     "language": "python",
     "metadata": {},
     "outputs": [
      {
       "output_type": "stream",
       "stream": "stdout",
       "text": [
        "\r",
        "Loading: |----------| 0/248   0% [elapsed: 00:00 left: ?, ? iters/sec]"
       ]
      },
      {
       "output_type": "stream",
       "stream": "stdout",
       "text": [
        "\r",
        "Loading: |----------| 1/248   0% [elapsed: 00:00 left: 00:01, 185.22 iters/sec]"
       ]
      },
      {
       "output_type": "stream",
       "stream": "stdout",
       "text": [
        "\r",
        "Loading: |----------| 2/248   0% [elapsed: 00:00 left: 00:01, 157.29 iters/sec]"
       ]
      },
      {
       "output_type": "stream",
       "stream": "stdout",
       "text": [
        "\r",
        "Loading: |----------| 3/248   1% [elapsed: 00:00 left: 00:01, 137.43 iters/sec]"
       ]
      },
      {
       "output_type": "stream",
       "stream": "stdout",
       "text": [
        "\r",
        "Loading: |----------| 4/248   1% [elapsed: 00:00 left: 00:01, 162.63 iters/sec]"
       ]
      },
      {
       "output_type": "stream",
       "stream": "stdout",
       "text": [
        "\r",
        "Loading: |----------| 5/248   2% [elapsed: 00:00 left: 00:01, 145.77 iters/sec]"
       ]
      },
      {
       "output_type": "stream",
       "stream": "stdout",
       "text": [
        "\r",
        "Loading: |----------| 6/248   2% [elapsed: 00:00 left: 00:01, 160.48 iters/sec]"
       ]
      },
      {
       "output_type": "stream",
       "stream": "stdout",
       "text": [
        "\r",
        "Loading: |----------| 7/248   2% [elapsed: 00:00 left: 00:01, 177.47 iters/sec]"
       ]
      },
      {
       "output_type": "stream",
       "stream": "stdout",
       "text": [
        "\r",
        "Loading: |----------| 8/248   3% [elapsed: 00:00 left: 00:01, 189.46 iters/sec]"
       ]
      },
      {
       "output_type": "stream",
       "stream": "stdout",
       "text": [
        "\r",
        "Loading: |----------| 9/248   3% [elapsed: 00:00 left: 00:01, 149.93 iters/sec]"
       ]
      },
      {
       "output_type": "stream",
       "stream": "stdout",
       "text": [
        "\r",
        "Loading: |----------| 10/248   4% [elapsed: 00:00 left: 00:01, 146.31 iters/sec]"
       ]
      },
      {
       "output_type": "stream",
       "stream": "stdout",
       "text": [
        "\r",
        "Loading: |----------| 11/248   4% [elapsed: 00:00 left: 00:01, 153.49 iters/sec]"
       ]
      },
      {
       "output_type": "stream",
       "stream": "stdout",
       "text": [
        "\r",
        "Loading: |----------| 12/248   4% [elapsed: 00:00 left: 00:01, 158.85 iters/sec]"
       ]
      },
      {
       "output_type": "stream",
       "stream": "stdout",
       "text": [
        "\r",
        "Loading: |----------| 13/248   5% [elapsed: 00:00 left: 00:01, 140.19 iters/sec]"
       ]
      },
      {
       "output_type": "stream",
       "stream": "stdout",
       "text": [
        "\r",
        "Loading: |----------| 14/248   5% [elapsed: 00:00 left: 00:01, 143.00 iters/sec]"
       ]
      },
      {
       "output_type": "stream",
       "stream": "stdout",
       "text": [
        "\r",
        "Loading: |----------| 15/248   6% [elapsed: 00:00 left: 00:01, 148.74 iters/sec]"
       ]
      },
      {
       "output_type": "stream",
       "stream": "stdout",
       "text": [
        "\r",
        "Loading: |----------| 16/248   6% [elapsed: 00:00 left: 00:01, 142.12 iters/sec]"
       ]
      },
      {
       "output_type": "stream",
       "stream": "stdout",
       "text": [
        "\r",
        "Loading: |----------| 17/248   6% [elapsed: 00:00 left: 00:01, 149.18 iters/sec]"
       ]
      },
      {
       "output_type": "stream",
       "stream": "stdout",
       "text": [
        "\r",
        "Loading: |----------| 18/248   7% [elapsed: 00:00 left: 00:01, 155.01 iters/sec]"
       ]
      },
      {
       "output_type": "stream",
       "stream": "stdout",
       "text": [
        "\r",
        "Loading: |----------| 19/248   7% [elapsed: 00:00 left: 00:01, 150.93 iters/sec]"
       ]
      },
      {
       "output_type": "stream",
       "stream": "stdout",
       "text": [
        "\r",
        "Loading: |----------| 20/248   8% [elapsed: 00:00 left: 00:01, 149.66 iters/sec]"
       ]
      },
      {
       "output_type": "stream",
       "stream": "stdout",
       "text": [
        "\r",
        "Loading: |----------| 21/248   8% [elapsed: 00:00 left: 00:01, 152.14 iters/sec]"
       ]
      },
      {
       "output_type": "stream",
       "stream": "stdout",
       "text": [
        "\r",
        "Loading: |----------| 22/248   8% [elapsed: 00:00 left: 00:01, 151.46 iters/sec]"
       ]
      },
      {
       "output_type": "stream",
       "stream": "stdout",
       "text": [
        "\r",
        "Loading: |----------| 23/248   9% [elapsed: 00:00 left: 00:01, 153.02 iters/sec]"
       ]
      },
      {
       "output_type": "stream",
       "stream": "stdout",
       "text": [
        "\r",
        "Loading: |----------| 24/248   9% [elapsed: 00:00 left: 00:01, 151.74 iters/sec]"
       ]
      },
      {
       "output_type": "stream",
       "stream": "stdout",
       "text": [
        "\r",
        "Loading: |#---------| 25/248  10% [elapsed: 00:00 left: 00:01, 150.34 iters/sec]"
       ]
      },
      {
       "output_type": "stream",
       "stream": "stdout",
       "text": [
        "\r",
        "Loading: |#---------| 26/248  10% [elapsed: 00:00 left: 00:01, 153.63 iters/sec]"
       ]
      },
      {
       "output_type": "stream",
       "stream": "stdout",
       "text": [
        "\r",
        "Loading: |#---------| 27/248  10% [elapsed: 00:00 left: 00:01, 157.04 iters/sec]"
       ]
      },
      {
       "output_type": "stream",
       "stream": "stdout",
       "text": [
        "\r",
        "Loading: |#---------| 28/248  11% [elapsed: 00:00 left: 00:01, 158.66 iters/sec]"
       ]
      },
      {
       "output_type": "stream",
       "stream": "stdout",
       "text": [
        "\r",
        "Loading: |#---------| 29/248  11% [elapsed: 00:00 left: 00:01, 156.88 iters/sec]"
       ]
      },
      {
       "output_type": "stream",
       "stream": "stdout",
       "text": [
        "\r",
        "Loading: |#---------| 30/248  12% [elapsed: 00:00 left: 00:01, 159.05 iters/sec]"
       ]
      },
      {
       "output_type": "stream",
       "stream": "stdout",
       "text": [
        "\r",
        "Loading: |#---------| 31/248  12% [elapsed: 00:00 left: 00:01, 162.84 iters/sec]"
       ]
      },
      {
       "output_type": "stream",
       "stream": "stdout",
       "text": [
        "\r",
        "Loading: |#---------| 32/248  12% [elapsed: 00:00 left: 00:01, 163.46 iters/sec]"
       ]
      },
      {
       "output_type": "stream",
       "stream": "stdout",
       "text": [
        "\r",
        "Loading: |#---------| 33/248  13% [elapsed: 00:00 left: 00:01, 163.36 iters/sec]"
       ]
      },
      {
       "output_type": "stream",
       "stream": "stdout",
       "text": [
        "\r",
        "Loading: |#---------| 34/248  13% [elapsed: 00:00 left: 00:01, 159.19 iters/sec]"
       ]
      },
      {
       "output_type": "stream",
       "stream": "stdout",
       "text": [
        "\r",
        "Loading: |#---------| 35/248  14% [elapsed: 00:00 left: 00:01, 162.46 iters/sec]"
       ]
      },
      {
       "output_type": "stream",
       "stream": "stdout",
       "text": [
        "\r",
        "Loading: |#---------| 36/248  14% [elapsed: 00:00 left: 00:01, 166.16 iters/sec]"
       ]
      },
      {
       "output_type": "stream",
       "stream": "stdout",
       "text": [
        "\r",
        "Loading: |#---------| 37/248  14% [elapsed: 00:00 left: 00:01, 169.69 iters/sec]"
       ]
      },
      {
       "output_type": "stream",
       "stream": "stdout",
       "text": [
        "\r",
        "Loading: |#---------| 38/248  15% [elapsed: 00:00 left: 00:01, 172.40 iters/sec]"
       ]
      },
      {
       "output_type": "stream",
       "stream": "stdout",
       "text": [
        "\r",
        "Loading: |#---------| 39/248  15% [elapsed: 00:00 left: 00:01, 167.22 iters/sec]"
       ]
      },
      {
       "output_type": "stream",
       "stream": "stdout",
       "text": [
        "\r",
        "Loading: |#---------| 40/248  16% [elapsed: 00:00 left: 00:01, 168.90 iters/sec]"
       ]
      },
      {
       "output_type": "stream",
       "stream": "stdout",
       "text": [
        "\r",
        "Loading: |#---------| 41/248  16% [elapsed: 00:00 left: 00:01, 162.42 iters/sec]"
       ]
      },
      {
       "output_type": "stream",
       "stream": "stdout",
       "text": [
        "\r",
        "Loading: |#---------| 42/248  16% [elapsed: 00:00 left: 00:01, 161.69 iters/sec]"
       ]
      },
      {
       "output_type": "stream",
       "stream": "stdout",
       "text": [
        "\r",
        "Loading: |#---------| 43/248  17% [elapsed: 00:00 left: 00:01, 163.22 iters/sec]"
       ]
      },
      {
       "output_type": "stream",
       "stream": "stdout",
       "text": [
        "\r",
        "Loading: |#---------| 44/248  17% [elapsed: 00:00 left: 00:01, 161.62 iters/sec]"
       ]
      },
      {
       "output_type": "stream",
       "stream": "stdout",
       "text": [
        "\r",
        "Loading: |#---------| 45/248  18% [elapsed: 00:00 left: 00:01, 159.31 iters/sec]"
       ]
      },
      {
       "output_type": "stream",
       "stream": "stdout",
       "text": [
        "\r",
        "Loading: |#---------| 46/248  18% [elapsed: 00:00 left: 00:01, 161.01 iters/sec]"
       ]
      },
      {
       "output_type": "stream",
       "stream": "stdout",
       "text": [
        "\r",
        "Loading: |#---------| 47/248  18% [elapsed: 00:00 left: 00:01, 163.32 iters/sec]"
       ]
      },
      {
       "output_type": "stream",
       "stream": "stdout",
       "text": [
        "\r",
        "Loading: |#---------| 48/248  19% [elapsed: 00:00 left: 00:01, 165.01 iters/sec]"
       ]
      },
      {
       "output_type": "stream",
       "stream": "stdout",
       "text": [
        "\r",
        "Loading: |#---------| 49/248  19% [elapsed: 00:00 left: 00:01, 167.00 iters/sec]"
       ]
      },
      {
       "output_type": "stream",
       "stream": "stdout",
       "text": [
        "\r",
        "Loading: |##--------| 50/248  20% [elapsed: 00:00 left: 00:01, 168.72 iters/sec]"
       ]
      },
      {
       "output_type": "stream",
       "stream": "stdout",
       "text": [
        "\r",
        "Loading: |##--------| 51/248  20% [elapsed: 00:00 left: 00:01, 167.84 iters/sec]"
       ]
      },
      {
       "output_type": "stream",
       "stream": "stdout",
       "text": [
        "\r",
        "Loading: |##--------| 52/248  20% [elapsed: 00:00 left: 00:01, 169.51 iters/sec]"
       ]
      },
      {
       "output_type": "stream",
       "stream": "stdout",
       "text": [
        "\r",
        "Loading: |##--------| 53/248  21% [elapsed: 00:00 left: 00:01, 169.59 iters/sec]"
       ]
      },
      {
       "output_type": "stream",
       "stream": "stdout",
       "text": [
        "\r",
        "Loading: |##--------| 54/248  21% [elapsed: 00:00 left: 00:01, 170.86 iters/sec]"
       ]
      },
      {
       "output_type": "stream",
       "stream": "stdout",
       "text": [
        "\r",
        "Loading: |##--------| 55/248  22% [elapsed: 00:00 left: 00:01, 173.07 iters/sec]"
       ]
      },
      {
       "output_type": "stream",
       "stream": "stdout",
       "text": [
        "\r",
        "Loading: |##--------| 56/248  22% [elapsed: 00:00 left: 00:01, 173.47 iters/sec]"
       ]
      },
      {
       "output_type": "stream",
       "stream": "stdout",
       "text": [
        "\r",
        "Loading: |##--------| 57/248  22% [elapsed: 00:00 left: 00:01, 175.57 iters/sec]"
       ]
      },
      {
       "output_type": "stream",
       "stream": "stdout",
       "text": [
        "\r",
        "Loading: |##--------| 58/248  23% [elapsed: 00:00 left: 00:01, 174.91 iters/sec]"
       ]
      },
      {
       "output_type": "stream",
       "stream": "stdout",
       "text": [
        "\r",
        "Loading: |##--------| 59/248  23% [elapsed: 00:00 left: 00:01, 175.61 iters/sec]"
       ]
      },
      {
       "output_type": "stream",
       "stream": "stdout",
       "text": [
        "\r",
        "Loading: |##--------| 60/248  24% [elapsed: 00:00 left: 00:01, 174.36 iters/sec]"
       ]
      },
      {
       "output_type": "stream",
       "stream": "stdout",
       "text": [
        "\r",
        "Loading: |##--------| 61/248  24% [elapsed: 00:00 left: 00:01, 176.47 iters/sec]"
       ]
      },
      {
       "output_type": "stream",
       "stream": "stdout",
       "text": [
        "\r",
        "Loading: |##--------| 62/248  25% [elapsed: 00:00 left: 00:01, 177.86 iters/sec]"
       ]
      },
      {
       "output_type": "stream",
       "stream": "stdout",
       "text": [
        "\r",
        "Loading: |##--------| 63/248  25% [elapsed: 00:00 left: 00:01, 178.96 iters/sec]"
       ]
      },
      {
       "output_type": "stream",
       "stream": "stdout",
       "text": [
        "\r",
        "Loading: |##--------| 64/248  25% [elapsed: 00:00 left: 00:01, 177.71 iters/sec]"
       ]
      },
      {
       "output_type": "stream",
       "stream": "stdout",
       "text": [
        "\r",
        "Loading: |##--------| 65/248  26% [elapsed: 00:00 left: 00:01, 178.08 iters/sec]"
       ]
      },
      {
       "output_type": "stream",
       "stream": "stdout",
       "text": [
        "\r",
        "Loading: |##--------| 66/248  26% [elapsed: 00:00 left: 00:01, 178.25 iters/sec]"
       ]
      },
      {
       "output_type": "stream",
       "stream": "stdout",
       "text": [
        "\r",
        "Loading: |##--------| 67/248  27% [elapsed: 00:00 left: 00:01, 177.63 iters/sec]"
       ]
      },
      {
       "output_type": "stream",
       "stream": "stdout",
       "text": [
        "\r",
        "Loading: |##--------| 68/248  27% [elapsed: 00:00 left: 00:01, 179.55 iters/sec]"
       ]
      },
      {
       "output_type": "stream",
       "stream": "stdout",
       "text": [
        "\r",
        "Loading: |##--------| 69/248  27% [elapsed: 00:00 left: 00:00, 180.62 iters/sec]"
       ]
      },
      {
       "output_type": "stream",
       "stream": "stdout",
       "text": [
        "\r",
        "Loading: |##--------| 70/248  28% [elapsed: 00:00 left: 00:00, 180.68 iters/sec]"
       ]
      },
      {
       "output_type": "stream",
       "stream": "stdout",
       "text": [
        "\r",
        "Loading: |##--------| 71/248  28% [elapsed: 00:00 left: 00:00, 182.56 iters/sec]"
       ]
      },
      {
       "output_type": "stream",
       "stream": "stdout",
       "text": [
        "\r",
        "Loading: |##--------| 72/248  29% [elapsed: 00:00 left: 00:00, 184.46 iters/sec]"
       ]
      },
      {
       "output_type": "stream",
       "stream": "stdout",
       "text": [
        "\r",
        "Loading: |##--------| 73/248  29% [elapsed: 00:00 left: 00:00, 182.04 iters/sec]"
       ]
      },
      {
       "output_type": "stream",
       "stream": "stdout",
       "text": [
        "\r",
        "Loading: |##--------| 74/248  29% [elapsed: 00:00 left: 00:00, 182.10 iters/sec]"
       ]
      },
      {
       "output_type": "stream",
       "stream": "stdout",
       "text": [
        "\r",
        "Loading: |###-------| 75/248  30% [elapsed: 00:00 left: 00:00, 183.68 iters/sec]"
       ]
      },
      {
       "output_type": "stream",
       "stream": "stdout",
       "text": [
        "\r",
        "Loading: |###-------| 76/248  30% [elapsed: 00:00 left: 00:00, 185.10 iters/sec]"
       ]
      },
      {
       "output_type": "stream",
       "stream": "stdout",
       "text": [
        "\r",
        "Loading: |###-------| 77/248  31% [elapsed: 00:00 left: 00:00, 186.38 iters/sec]"
       ]
      },
      {
       "output_type": "stream",
       "stream": "stdout",
       "text": [
        "\r",
        "Loading: |###-------| 78/248  31% [elapsed: 00:00 left: 00:00, 186.89 iters/sec]"
       ]
      },
      {
       "output_type": "stream",
       "stream": "stdout",
       "text": [
        "\r",
        "Loading: |###-------| 79/248  31% [elapsed: 00:00 left: 00:00, 188.61 iters/sec]"
       ]
      },
      {
       "output_type": "stream",
       "stream": "stdout",
       "text": [
        "\r",
        "Loading: |###-------| 80/248  32% [elapsed: 00:00 left: 00:00, 190.28 iters/sec]"
       ]
      },
      {
       "output_type": "stream",
       "stream": "stdout",
       "text": [
        "\r",
        "Loading: |###-------| 81/248  32% [elapsed: 00:00 left: 00:00, 192.02 iters/sec]"
       ]
      },
      {
       "output_type": "stream",
       "stream": "stdout",
       "text": [
        "\r",
        "Loading: |###-------| 82/248  33% [elapsed: 00:00 left: 00:00, 192.77 iters/sec]"
       ]
      },
      {
       "output_type": "stream",
       "stream": "stdout",
       "text": [
        "\r",
        "Loading: |###-------| 83/248  33% [elapsed: 00:00 left: 00:00, 193.80 iters/sec]"
       ]
      },
      {
       "output_type": "stream",
       "stream": "stdout",
       "text": [
        "\r",
        "Loading: |###-------| 84/248  33% [elapsed: 00:00 left: 00:00, 190.96 iters/sec]"
       ]
      },
      {
       "output_type": "stream",
       "stream": "stdout",
       "text": [
        "\r",
        "Loading: |###-------| 85/248  34% [elapsed: 00:00 left: 00:00, 189.00 iters/sec]"
       ]
      },
      {
       "output_type": "stream",
       "stream": "stdout",
       "text": [
        "\r",
        "Loading: |###-------| 86/248  34% [elapsed: 00:00 left: 00:00, 190.21 iters/sec]"
       ]
      },
      {
       "output_type": "stream",
       "stream": "stdout",
       "text": [
        "\r",
        "Loading: |###-------| 87/248  35% [elapsed: 00:00 left: 00:00, 190.94 iters/sec]"
       ]
      },
      {
       "output_type": "stream",
       "stream": "stdout",
       "text": [
        "\r",
        "Loading: |###-------| 88/248  35% [elapsed: 00:00 left: 00:00, 192.24 iters/sec]"
       ]
      },
      {
       "output_type": "stream",
       "stream": "stdout",
       "text": [
        "\r",
        "Loading: |###-------| 89/248  35% [elapsed: 00:00 left: 00:00, 193.47 iters/sec]"
       ]
      },
      {
       "output_type": "stream",
       "stream": "stdout",
       "text": [
        "\r",
        "Loading: |###-------| 90/248  36% [elapsed: 00:00 left: 00:00, 194.12 iters/sec]"
       ]
      },
      {
       "output_type": "stream",
       "stream": "stdout",
       "text": [
        "\r",
        "Loading: |###-------| 91/248  36% [elapsed: 00:00 left: 00:00, 190.39 iters/sec]"
       ]
      },
      {
       "output_type": "stream",
       "stream": "stdout",
       "text": [
        "\r",
        "Loading: |###-------| 92/248  37% [elapsed: 00:00 left: 00:00, 191.66 iters/sec]"
       ]
      },
      {
       "output_type": "stream",
       "stream": "stdout",
       "text": [
        "\r",
        "Loading: |###-------| 93/248  37% [elapsed: 00:00 left: 00:00, 193.06 iters/sec]"
       ]
      },
      {
       "output_type": "stream",
       "stream": "stdout",
       "text": [
        "\r",
        "Loading: |###-------| 94/248  37% [elapsed: 00:00 left: 00:00, 193.54 iters/sec]"
       ]
      },
      {
       "output_type": "stream",
       "stream": "stdout",
       "text": [
        "\r",
        "Loading: |###-------| 95/248  38% [elapsed: 00:00 left: 00:00, 193.99 iters/sec]"
       ]
      },
      {
       "output_type": "stream",
       "stream": "stdout",
       "text": [
        "\r",
        "Loading: |###-------| 96/248  38% [elapsed: 00:00 left: 00:00, 193.44 iters/sec]"
       ]
      },
      {
       "output_type": "stream",
       "stream": "stdout",
       "text": [
        "\r",
        "Loading: |###-------| 97/248  39% [elapsed: 00:00 left: 00:00, 194.05 iters/sec]"
       ]
      },
      {
       "output_type": "stream",
       "stream": "stdout",
       "text": [
        "\r",
        "Loading: |###-------| 98/248  39% [elapsed: 00:00 left: 00:00, 195.28 iters/sec]"
       ]
      },
      {
       "output_type": "stream",
       "stream": "stdout",
       "text": [
        "\r",
        "Loading: |###-------| 99/248  39% [elapsed: 00:00 left: 00:00, 196.31 iters/sec]"
       ]
      },
      {
       "output_type": "stream",
       "stream": "stdout",
       "text": [
        "\r",
        "Loading: |####------| 100/248  40% [elapsed: 00:00 left: 00:00, 197.36 iters/sec]"
       ]
      },
      {
       "output_type": "stream",
       "stream": "stdout",
       "text": [
        "\r",
        "Loading: |####------| 101/248  40% [elapsed: 00:00 left: 00:00, 198.83 iters/sec]"
       ]
      },
      {
       "output_type": "stream",
       "stream": "stdout",
       "text": [
        "\r",
        "Loading: |####------| 102/248  41% [elapsed: 00:00 left: 00:00, 198.75 iters/sec]"
       ]
      },
      {
       "output_type": "stream",
       "stream": "stdout",
       "text": [
        "\r",
        "Loading: |####------| 103/248  41% [elapsed: 00:00 left: 00:00, 199.61 iters/sec]"
       ]
      },
      {
       "output_type": "stream",
       "stream": "stdout",
       "text": [
        "\r",
        "Loading: |####------| 104/248  41% [elapsed: 00:00 left: 00:00, 200.50 iters/sec]"
       ]
      },
      {
       "output_type": "stream",
       "stream": "stdout",
       "text": [
        "\r",
        "Loading: |####------| 105/248  42% [elapsed: 00:00 left: 00:00, 201.13 iters/sec]"
       ]
      },
      {
       "output_type": "stream",
       "stream": "stdout",
       "text": [
        "\r",
        "Loading: |####------| 106/248  42% [elapsed: 00:00 left: 00:00, 186.83 iters/sec]"
       ]
      },
      {
       "output_type": "stream",
       "stream": "stdout",
       "text": [
        "\r",
        "Loading: |####------| 107/248  43% [elapsed: 00:00 left: 00:00, 187.31 iters/sec]"
       ]
      },
      {
       "output_type": "stream",
       "stream": "stdout",
       "text": [
        "\r",
        "Loading: |####------| 108/248  43% [elapsed: 00:00 left: 00:00, 187.33 iters/sec]"
       ]
      },
      {
       "output_type": "stream",
       "stream": "stdout",
       "text": [
        "\r",
        "Loading: |####------| 109/248  43% [elapsed: 00:00 left: 00:00, 186.05 iters/sec]"
       ]
      },
      {
       "output_type": "stream",
       "stream": "stdout",
       "text": [
        "\r",
        "Loading: |####------| 110/248  44% [elapsed: 00:00 left: 00:00, 185.15 iters/sec]"
       ]
      },
      {
       "output_type": "stream",
       "stream": "stdout",
       "text": [
        "\r",
        "Loading: |####------| 111/248  44% [elapsed: 00:00 left: 00:00, 184.36 iters/sec]"
       ]
      },
      {
       "output_type": "stream",
       "stream": "stdout",
       "text": [
        "\r",
        "Loading: |####------| 112/248  45% [elapsed: 00:00 left: 00:00, 185.13 iters/sec]"
       ]
      },
      {
       "output_type": "stream",
       "stream": "stdout",
       "text": [
        "\r",
        "Loading: |####------| 113/248  45% [elapsed: 00:00 left: 00:00, 185.85 iters/sec]"
       ]
      },
      {
       "output_type": "stream",
       "stream": "stdout",
       "text": [
        "\r",
        "Loading: |####------| 114/248  45% [elapsed: 00:00 left: 00:00, 186.75 iters/sec]"
       ]
      },
      {
       "output_type": "stream",
       "stream": "stdout",
       "text": [
        "\r",
        "Loading: |####------| 115/248  46% [elapsed: 00:00 left: 00:00, 185.87 iters/sec]"
       ]
      },
      {
       "output_type": "stream",
       "stream": "stdout",
       "text": [
        "\r",
        "Loading: |####------| 116/248  46% [elapsed: 00:00 left: 00:00, 186.84 iters/sec]"
       ]
      },
      {
       "output_type": "stream",
       "stream": "stdout",
       "text": [
        "\r",
        "Loading: |####------| 117/248  47% [elapsed: 00:00 left: 00:00, 186.56 iters/sec]"
       ]
      },
      {
       "output_type": "stream",
       "stream": "stdout",
       "text": [
        "\r",
        "Loading: |####------| 118/248  47% [elapsed: 00:00 left: 00:00, 187.25 iters/sec]"
       ]
      },
      {
       "output_type": "stream",
       "stream": "stdout",
       "text": [
        "\r",
        "Loading: |####------| 119/248  47% [elapsed: 00:00 left: 00:00, 187.88 iters/sec]"
       ]
      },
      {
       "output_type": "stream",
       "stream": "stdout",
       "text": [
        "\r",
        "Loading: |####------| 120/248  48% [elapsed: 00:00 left: 00:00, 186.38 iters/sec]"
       ]
      },
      {
       "output_type": "stream",
       "stream": "stdout",
       "text": [
        "\r",
        "Loading: |####------| 121/248  48% [elapsed: 00:00 left: 00:00, 186.75 iters/sec]"
       ]
      },
      {
       "output_type": "stream",
       "stream": "stdout",
       "text": [
        "\r",
        "Loading: |####------| 122/248  49% [elapsed: 00:00 left: 00:00, 186.79 iters/sec]"
       ]
      },
      {
       "output_type": "stream",
       "stream": "stdout",
       "text": [
        "\r",
        "Loading: |####------| 123/248  49% [elapsed: 00:00 left: 00:00, 185.39 iters/sec]"
       ]
      },
      {
       "output_type": "stream",
       "stream": "stdout",
       "text": [
        "\r",
        "Loading: |#####-----| 124/248  50% [elapsed: 00:00 left: 00:00, 183.70 iters/sec]"
       ]
      },
      {
       "output_type": "stream",
       "stream": "stdout",
       "text": [
        "\r",
        "Loading: |#####-----| 125/248  50% [elapsed: 00:00 left: 00:00, 183.02 iters/sec]"
       ]
      },
      {
       "output_type": "stream",
       "stream": "stdout",
       "text": [
        "\r",
        "Loading: |#####-----| 126/248  50% [elapsed: 00:00 left: 00:00, 182.32 iters/sec]"
       ]
      },
      {
       "output_type": "stream",
       "stream": "stdout",
       "text": [
        "\r",
        "Loading: |#####-----| 127/248  51% [elapsed: 00:00 left: 00:00, 180.83 iters/sec]"
       ]
      },
      {
       "output_type": "stream",
       "stream": "stdout",
       "text": [
        "\r",
        "Loading: |#####-----| 128/248  51% [elapsed: 00:00 left: 00:00, 179.49 iters/sec]"
       ]
      },
      {
       "output_type": "stream",
       "stream": "stdout",
       "text": [
        "\r",
        "Loading: |#####-----| 129/248  52% [elapsed: 00:00 left: 00:00, 178.40 iters/sec]"
       ]
      },
      {
       "output_type": "stream",
       "stream": "stdout",
       "text": [
        "\r",
        "Loading: |#####-----| 130/248  52% [elapsed: 00:00 left: 00:00, 178.92 iters/sec]"
       ]
      },
      {
       "output_type": "stream",
       "stream": "stdout",
       "text": [
        "\r",
        "Loading: |#####-----| 131/248  52% [elapsed: 00:00 left: 00:00, 179.24 iters/sec]"
       ]
      },
      {
       "output_type": "stream",
       "stream": "stdout",
       "text": [
        "\r",
        "Loading: |#####-----| 132/248  53% [elapsed: 00:00 left: 00:00, 178.16 iters/sec]"
       ]
      },
      {
       "output_type": "stream",
       "stream": "stdout",
       "text": [
        "\r",
        "Loading: |#####-----| 133/248  53% [elapsed: 00:00 left: 00:00, 174.72 iters/sec]"
       ]
      },
      {
       "output_type": "stream",
       "stream": "stdout",
       "text": [
        "\r",
        "Loading: |#####-----| 134/248  54% [elapsed: 00:00 left: 00:00, 173.58 iters/sec]"
       ]
      },
      {
       "output_type": "stream",
       "stream": "stdout",
       "text": [
        "\r",
        "Loading: |#####-----| 135/248  54% [elapsed: 00:00 left: 00:00, 172.83 iters/sec]"
       ]
      },
      {
       "output_type": "stream",
       "stream": "stdout",
       "text": [
        "\r",
        "Loading: |#####-----| 136/248  54% [elapsed: 00:00 left: 00:00, 170.07 iters/sec]"
       ]
      },
      {
       "output_type": "stream",
       "stream": "stdout",
       "text": [
        "\r",
        "Loading: |#####-----| 137/248  55% [elapsed: 00:00 left: 00:00, 170.93 iters/sec]"
       ]
      },
      {
       "output_type": "stream",
       "stream": "stdout",
       "text": [
        "\r",
        "Loading: |#####-----| 138/248  55% [elapsed: 00:00 left: 00:00, 171.27 iters/sec]"
       ]
      },
      {
       "output_type": "stream",
       "stream": "stdout",
       "text": [
        "\r",
        "Loading: |#####-----| 139/248  56% [elapsed: 00:00 left: 00:00, 171.34 iters/sec]"
       ]
      },
      {
       "output_type": "stream",
       "stream": "stdout",
       "text": [
        "\r",
        "Loading: |#####-----| 140/248  56% [elapsed: 00:00 left: 00:00, 171.18 iters/sec]"
       ]
      },
      {
       "output_type": "stream",
       "stream": "stdout",
       "text": [
        "\r",
        "Loading: |#####-----| 141/248  56% [elapsed: 00:00 left: 00:00, 171.93 iters/sec]"
       ]
      },
      {
       "output_type": "stream",
       "stream": "stdout",
       "text": [
        "\r",
        "Loading: |#####-----| 142/248  57% [elapsed: 00:00 left: 00:00, 171.85 iters/sec]"
       ]
      },
      {
       "output_type": "stream",
       "stream": "stdout",
       "text": [
        "\r",
        "Loading: |#####-----| 143/248  57% [elapsed: 00:00 left: 00:00, 172.13 iters/sec]"
       ]
      },
      {
       "output_type": "stream",
       "stream": "stdout",
       "text": [
        "\r",
        "Loading: |#####-----| 144/248  58% [elapsed: 00:00 left: 00:00, 171.25 iters/sec]"
       ]
      },
      {
       "output_type": "stream",
       "stream": "stdout",
       "text": [
        "\r",
        "Loading: |#####-----| 145/248  58% [elapsed: 00:00 left: 00:00, 171.20 iters/sec]"
       ]
      },
      {
       "output_type": "stream",
       "stream": "stdout",
       "text": [
        "\r",
        "Loading: |#####-----| 146/248  58% [elapsed: 00:00 left: 00:00, 165.64 iters/sec]"
       ]
      },
      {
       "output_type": "stream",
       "stream": "stdout",
       "text": [
        "\r",
        "Loading: |#####-----| 147/248  59% [elapsed: 00:00 left: 00:00, 165.79 iters/sec]"
       ]
      },
      {
       "output_type": "stream",
       "stream": "stdout",
       "text": [
        "\r",
        "Loading: |#####-----| 148/248  59% [elapsed: 00:00 left: 00:00, 165.99 iters/sec]"
       ]
      },
      {
       "output_type": "stream",
       "stream": "stdout",
       "text": [
        "\r",
        "Loading: |######----| 149/248  60% [elapsed: 00:00 left: 00:00, 166.11 iters/sec]"
       ]
      },
      {
       "output_type": "stream",
       "stream": "stdout",
       "text": [
        "\r",
        "Loading: |######----| 150/248  60% [elapsed: 00:00 left: 00:00, 165.68 iters/sec]"
       ]
      },
      {
       "output_type": "stream",
       "stream": "stdout",
       "text": [
        "\r",
        "Loading: |######----| 151/248  60% [elapsed: 00:00 left: 00:00, 166.06 iters/sec]"
       ]
      },
      {
       "output_type": "stream",
       "stream": "stdout",
       "text": [
        "\r",
        "Loading: |######----| 152/248  61% [elapsed: 00:00 left: 00:00, 166.18 iters/sec]"
       ]
      },
      {
       "output_type": "stream",
       "stream": "stdout",
       "text": [
        "\r",
        "Loading: |######----| 153/248  61% [elapsed: 00:00 left: 00:00, 166.32 iters/sec]"
       ]
      },
      {
       "output_type": "stream",
       "stream": "stdout",
       "text": [
        "\r",
        "Loading: |######----| 154/248  62% [elapsed: 00:00 left: 00:00, 166.35 iters/sec]"
       ]
      },
      {
       "output_type": "stream",
       "stream": "stdout",
       "text": [
        "\r",
        "Loading: |######----| 155/248  62% [elapsed: 00:00 left: 00:00, 166.71 iters/sec]"
       ]
      },
      {
       "output_type": "stream",
       "stream": "stdout",
       "text": [
        "\r",
        "Loading: |######----| 156/248  62% [elapsed: 00:00 left: 00:00, 167.29 iters/sec]"
       ]
      },
      {
       "output_type": "stream",
       "stream": "stdout",
       "text": [
        "\r",
        "Loading: |######----| 157/248  63% [elapsed: 00:00 left: 00:00, 168.11 iters/sec]"
       ]
      },
      {
       "output_type": "stream",
       "stream": "stdout",
       "text": [
        "\r",
        "Loading: |######----| 158/248  63% [elapsed: 00:00 left: 00:00, 167.73 iters/sec]"
       ]
      },
      {
       "output_type": "stream",
       "stream": "stdout",
       "text": [
        "\r",
        "Loading: |######----| 159/248  64% [elapsed: 00:00 left: 00:00, 168.07 iters/sec]"
       ]
      },
      {
       "output_type": "stream",
       "stream": "stdout",
       "text": [
        "\r",
        "Loading: |######----| 160/248  64% [elapsed: 00:00 left: 00:00, 168.11 iters/sec]"
       ]
      },
      {
       "output_type": "stream",
       "stream": "stdout",
       "text": [
        "\r",
        "Loading: |######----| 161/248  64% [elapsed: 00:00 left: 00:00, 165.94 iters/sec]"
       ]
      },
      {
       "output_type": "stream",
       "stream": "stdout",
       "text": [
        "\r",
        "Loading: |######----| 162/248  65% [elapsed: 00:00 left: 00:00, 166.25 iters/sec]"
       ]
      },
      {
       "output_type": "stream",
       "stream": "stdout",
       "text": [
        "\r",
        "Loading: |######----| 163/248  65% [elapsed: 00:00 left: 00:00, 165.57 iters/sec]"
       ]
      },
      {
       "output_type": "stream",
       "stream": "stdout",
       "text": [
        "\r",
        "Loading: |######----| 164/248  66% [elapsed: 00:00 left: 00:00, 165.66 iters/sec]"
       ]
      },
      {
       "output_type": "stream",
       "stream": "stdout",
       "text": [
        "\r",
        "Loading: |######----| 165/248  66% [elapsed: 00:01 left: 00:00, 163.68 iters/sec]"
       ]
      },
      {
       "output_type": "stream",
       "stream": "stdout",
       "text": [
        "\r",
        "Loading: |######----| 166/248  66% [elapsed: 00:01 left: 00:00, 163.27 iters/sec]"
       ]
      },
      {
       "output_type": "stream",
       "stream": "stdout",
       "text": [
        "\r",
        "Loading: |######----| 167/248  67% [elapsed: 00:01 left: 00:00, 163.97 iters/sec]"
       ]
      },
      {
       "output_type": "stream",
       "stream": "stdout",
       "text": [
        "\r",
        "Loading: |######----| 168/248  67% [elapsed: 00:01 left: 00:00, 163.36 iters/sec]"
       ]
      },
      {
       "output_type": "stream",
       "stream": "stdout",
       "text": [
        "\r",
        "Loading: |######----| 169/248  68% [elapsed: 00:01 left: 00:00, 163.61 iters/sec]"
       ]
      },
      {
       "output_type": "stream",
       "stream": "stdout",
       "text": [
        "\r",
        "Loading: |######----| 170/248  68% [elapsed: 00:01 left: 00:00, 163.99 iters/sec]"
       ]
      },
      {
       "output_type": "stream",
       "stream": "stdout",
       "text": [
        "\r",
        "Loading: |######----| 171/248  68% [elapsed: 00:01 left: 00:00, 164.19 iters/sec]"
       ]
      },
      {
       "output_type": "stream",
       "stream": "stdout",
       "text": [
        "\r",
        "Loading: |######----| 172/248  69% [elapsed: 00:01 left: 00:00, 159.43 iters/sec]"
       ]
      },
      {
       "output_type": "stream",
       "stream": "stdout",
       "text": [
        "\r",
        "Loading: |######----| 173/248  69% [elapsed: 00:01 left: 00:00, 159.96 iters/sec]"
       ]
      },
      {
       "output_type": "stream",
       "stream": "stdout",
       "text": [
        "\r",
        "Loading: |#######---| 174/248  70% [elapsed: 00:01 left: 00:00, 160.55 iters/sec]"
       ]
      },
      {
       "output_type": "stream",
       "stream": "stdout",
       "text": [
        "\r",
        "Loading: |#######---| 175/248  70% [elapsed: 00:01 left: 00:00, 161.10 iters/sec]"
       ]
      },
      {
       "output_type": "stream",
       "stream": "stdout",
       "text": [
        "\r",
        "Loading: |#######---| 176/248  70% [elapsed: 00:01 left: 00:00, 161.35 iters/sec]"
       ]
      },
      {
       "output_type": "stream",
       "stream": "stdout",
       "text": [
        "\r",
        "Loading: |#######---| 177/248  71% [elapsed: 00:01 left: 00:00, 161.53 iters/sec]"
       ]
      },
      {
       "output_type": "stream",
       "stream": "stdout",
       "text": [
        "\r",
        "Loading: |#######---| 178/248  71% [elapsed: 00:01 left: 00:00, 160.17 iters/sec]"
       ]
      },
      {
       "output_type": "stream",
       "stream": "stdout",
       "text": [
        "\r",
        "Loading: |#######---| 179/248  72% [elapsed: 00:01 left: 00:00, 158.74 iters/sec]"
       ]
      },
      {
       "output_type": "stream",
       "stream": "stdout",
       "text": [
        "\r",
        "Loading: |#######---| 180/248  72% [elapsed: 00:01 left: 00:00, 156.75 iters/sec]"
       ]
      },
      {
       "output_type": "stream",
       "stream": "stdout",
       "text": [
        "\r",
        "Loading: |#######---| 181/248  72% [elapsed: 00:01 left: 00:00, 155.92 iters/sec]"
       ]
      },
      {
       "output_type": "stream",
       "stream": "stdout",
       "text": [
        "\r",
        "Loading: |#######---| 182/248  73% [elapsed: 00:01 left: 00:00, 156.42 iters/sec]"
       ]
      },
      {
       "output_type": "stream",
       "stream": "stdout",
       "text": [
        "\r",
        "Loading: |#######---| 183/248  73% [elapsed: 00:01 left: 00:00, 156.84 iters/sec]"
       ]
      },
      {
       "output_type": "stream",
       "stream": "stdout",
       "text": [
        "\r",
        "Loading: |#######---| 184/248  74% [elapsed: 00:01 left: 00:00, 157.17 iters/sec]"
       ]
      },
      {
       "output_type": "stream",
       "stream": "stdout",
       "text": [
        "\r",
        "Loading: |#######---| 185/248  74% [elapsed: 00:01 left: 00:00, 157.72 iters/sec]"
       ]
      },
      {
       "output_type": "stream",
       "stream": "stdout",
       "text": [
        "\r",
        "Loading: |#######---| 186/248  75% [elapsed: 00:01 left: 00:00, 158.23 iters/sec]"
       ]
      },
      {
       "output_type": "stream",
       "stream": "stdout",
       "text": [
        "\r",
        "Loading: |#######---| 187/248  75% [elapsed: 00:01 left: 00:00, 158.71 iters/sec]"
       ]
      },
      {
       "output_type": "stream",
       "stream": "stdout",
       "text": [
        "\r",
        "Loading: |#######---| 188/248  75% [elapsed: 00:01 left: 00:00, 159.18 iters/sec]"
       ]
      },
      {
       "output_type": "stream",
       "stream": "stdout",
       "text": [
        "\r",
        "Loading: |#######---| 189/248  76% [elapsed: 00:01 left: 00:00, 159.27 iters/sec]"
       ]
      },
      {
       "output_type": "stream",
       "stream": "stdout",
       "text": [
        "\r",
        "Loading: |#######---| 190/248  76% [elapsed: 00:01 left: 00:00, 159.45 iters/sec]"
       ]
      },
      {
       "output_type": "stream",
       "stream": "stdout",
       "text": [
        "\r",
        "Loading: |#######---| 191/248  77% [elapsed: 00:01 left: 00:00, 159.53 iters/sec]"
       ]
      },
      {
       "output_type": "stream",
       "stream": "stdout",
       "text": [
        "\r",
        "Loading: |#######---| 192/248  77% [elapsed: 00:01 left: 00:00, 159.61 iters/sec]"
       ]
      },
      {
       "output_type": "stream",
       "stream": "stdout",
       "text": [
        "\r",
        "Loading: |#######---| 193/248  77% [elapsed: 00:01 left: 00:00, 159.79 iters/sec]"
       ]
      },
      {
       "output_type": "stream",
       "stream": "stdout",
       "text": [
        "\r",
        "Loading: |#######---| 194/248  78% [elapsed: 00:01 left: 00:00, 158.80 iters/sec]"
       ]
      },
      {
       "output_type": "stream",
       "stream": "stdout",
       "text": [
        "\r",
        "Loading: |#######---| 195/248  78% [elapsed: 00:01 left: 00:00, 157.42 iters/sec]"
       ]
      },
      {
       "output_type": "stream",
       "stream": "stdout",
       "text": [
        "\r",
        "Loading: |#######---| 196/248  79% [elapsed: 00:01 left: 00:00, 157.75 iters/sec]"
       ]
      },
      {
       "output_type": "stream",
       "stream": "stdout",
       "text": [
        "\r",
        "Loading: |#######---| 197/248  79% [elapsed: 00:01 left: 00:00, 158.08 iters/sec]"
       ]
      },
      {
       "output_type": "stream",
       "stream": "stdout",
       "text": [
        "\r",
        "Loading: |#######---| 198/248  79% [elapsed: 00:01 left: 00:00, 158.49 iters/sec]"
       ]
      },
      {
       "output_type": "stream",
       "stream": "stdout",
       "text": [
        "\r",
        "Loading: |########--| 199/248  80% [elapsed: 00:01 left: 00:00, 158.40 iters/sec]"
       ]
      },
      {
       "output_type": "stream",
       "stream": "stdout",
       "text": [
        "\r",
        "Loading: |########--| 200/248  80% [elapsed: 00:01 left: 00:00, 158.34 iters/sec]"
       ]
      },
      {
       "output_type": "stream",
       "stream": "stdout",
       "text": [
        "\r",
        "Loading: |########--| 201/248  81% [elapsed: 00:01 left: 00:00, 158.52 iters/sec]"
       ]
      },
      {
       "output_type": "stream",
       "stream": "stdout",
       "text": [
        "\r",
        "Loading: |########--| 202/248  81% [elapsed: 00:01 left: 00:00, 158.43 iters/sec]"
       ]
      },
      {
       "output_type": "stream",
       "stream": "stdout",
       "text": [
        "\r",
        "Loading: |########--| 203/248  81% [elapsed: 00:01 left: 00:00, 158.42 iters/sec]"
       ]
      },
      {
       "output_type": "stream",
       "stream": "stdout",
       "text": [
        "\r",
        "Loading: |########--| 204/248  82% [elapsed: 00:01 left: 00:00, 158.20 iters/sec]"
       ]
      },
      {
       "output_type": "stream",
       "stream": "stdout",
       "text": [
        "\r",
        "Loading: |########--| 205/248  82% [elapsed: 00:01 left: 00:00, 157.99 iters/sec]"
       ]
      },
      {
       "output_type": "stream",
       "stream": "stdout",
       "text": [
        "\r",
        "Loading: |########--| 206/248  83% [elapsed: 00:01 left: 00:00, 158.28 iters/sec]"
       ]
      },
      {
       "output_type": "stream",
       "stream": "stdout",
       "text": [
        "\r",
        "Loading: |########--| 207/248  83% [elapsed: 00:01 left: 00:00, 156.54 iters/sec]"
       ]
      },
      {
       "output_type": "stream",
       "stream": "stdout",
       "text": [
        "\r",
        "Loading: |########--| 208/248  83% [elapsed: 00:01 left: 00:00, 156.98 iters/sec]"
       ]
      },
      {
       "output_type": "stream",
       "stream": "stdout",
       "text": [
        "\r",
        "Loading: |########--| 209/248  84% [elapsed: 00:01 left: 00:00, 157.40 iters/sec]"
       ]
      },
      {
       "output_type": "stream",
       "stream": "stdout",
       "text": [
        "\r",
        "Loading: |########--| 210/248  84% [elapsed: 00:01 left: 00:00, 157.90 iters/sec]"
       ]
      },
      {
       "output_type": "stream",
       "stream": "stdout",
       "text": [
        "\r",
        "Loading: |########--| 211/248  85% [elapsed: 00:01 left: 00:00, 158.24 iters/sec]"
       ]
      },
      {
       "output_type": "stream",
       "stream": "stdout",
       "text": [
        "\r",
        "Loading: |########--| 212/248  85% [elapsed: 00:01 left: 00:00, 158.53 iters/sec]"
       ]
      },
      {
       "output_type": "stream",
       "stream": "stdout",
       "text": [
        "\r",
        "Loading: |########--| 213/248  85% [elapsed: 00:01 left: 00:00, 159.01 iters/sec]"
       ]
      },
      {
       "output_type": "stream",
       "stream": "stdout",
       "text": [
        "\r",
        "Loading: |########--| 214/248  86% [elapsed: 00:01 left: 00:00, 159.45 iters/sec]"
       ]
      },
      {
       "output_type": "stream",
       "stream": "stdout",
       "text": [
        "\r",
        "Loading: |########--| 215/248  86% [elapsed: 00:01 left: 00:00, 159.91 iters/sec]"
       ]
      },
      {
       "output_type": "stream",
       "stream": "stdout",
       "text": [
        "\r",
        "Loading: |########--| 216/248  87% [elapsed: 00:01 left: 00:00, 160.07 iters/sec]"
       ]
      },
      {
       "output_type": "stream",
       "stream": "stdout",
       "text": [
        "\r",
        "Loading: |########--| 217/248  87% [elapsed: 00:01 left: 00:00, 160.48 iters/sec]"
       ]
      },
      {
       "output_type": "stream",
       "stream": "stdout",
       "text": [
        "\r",
        "Loading: |########--| 218/248  87% [elapsed: 00:01 left: 00:00, 160.59 iters/sec]"
       ]
      },
      {
       "output_type": "stream",
       "stream": "stdout",
       "text": [
        "\r",
        "Loading: |########--| 219/248  88% [elapsed: 00:01 left: 00:00, 160.82 iters/sec]"
       ]
      },
      {
       "output_type": "stream",
       "stream": "stdout",
       "text": [
        "\r",
        "Loading: |########--| 220/248  88% [elapsed: 00:01 left: 00:00, 160.71 iters/sec]"
       ]
      },
      {
       "output_type": "stream",
       "stream": "stdout",
       "text": [
        "\r",
        "Loading: |########--| 221/248  89% [elapsed: 00:01 left: 00:00, 159.95 iters/sec]"
       ]
      },
      {
       "output_type": "stream",
       "stream": "stdout",
       "text": [
        "\r",
        "Loading: |########--| 222/248  89% [elapsed: 00:01 left: 00:00, 160.39 iters/sec]"
       ]
      },
      {
       "output_type": "stream",
       "stream": "stdout",
       "text": [
        "\r",
        "Loading: |########--| 223/248  89% [elapsed: 00:01 left: 00:00, 160.72 iters/sec]"
       ]
      },
      {
       "output_type": "stream",
       "stream": "stdout",
       "text": [
        "\r",
        "Loading: |#########-| 224/248  90% [elapsed: 00:01 left: 00:00, 161.00 iters/sec]"
       ]
      },
      {
       "output_type": "stream",
       "stream": "stdout",
       "text": [
        "\r",
        "Loading: |#########-| 225/248  90% [elapsed: 00:01 left: 00:00, 160.59 iters/sec]"
       ]
      },
      {
       "output_type": "stream",
       "stream": "stdout",
       "text": [
        "\r",
        "Loading: |#########-| 226/248  91% [elapsed: 00:01 left: 00:00, 159.45 iters/sec]"
       ]
      },
      {
       "output_type": "stream",
       "stream": "stdout",
       "text": [
        "\r",
        "Loading: |#########-| 227/248  91% [elapsed: 00:01 left: 00:00, 159.70 iters/sec]"
       ]
      },
      {
       "output_type": "stream",
       "stream": "stdout",
       "text": [
        "\r",
        "Loading: |#########-| 228/248  91% [elapsed: 00:01 left: 00:00, 159.96 iters/sec]"
       ]
      },
      {
       "output_type": "stream",
       "stream": "stdout",
       "text": [
        "\r",
        "Loading: |#########-| 229/248  92% [elapsed: 00:01 left: 00:00, 159.94 iters/sec]"
       ]
      },
      {
       "output_type": "stream",
       "stream": "stdout",
       "text": [
        "\r",
        "Loading: |#########-| 230/248  92% [elapsed: 00:01 left: 00:00, 160.50 iters/sec]"
       ]
      },
      {
       "output_type": "stream",
       "stream": "stdout",
       "text": [
        "\r",
        "Loading: |#########-| 231/248  93% [elapsed: 00:01 left: 00:00, 160.96 iters/sec]"
       ]
      },
      {
       "output_type": "stream",
       "stream": "stdout",
       "text": [
        "\r",
        "Loading: |#########-| 232/248  93% [elapsed: 00:01 left: 00:00, 161.08 iters/sec]"
       ]
      },
      {
       "output_type": "stream",
       "stream": "stdout",
       "text": [
        "\r",
        "Loading: |#########-| 233/248  93% [elapsed: 00:01 left: 00:00, 161.24 iters/sec]"
       ]
      },
      {
       "output_type": "stream",
       "stream": "stdout",
       "text": [
        "\r",
        "Loading: |#########-| 234/248  94% [elapsed: 00:01 left: 00:00, 161.57 iters/sec]"
       ]
      },
      {
       "output_type": "stream",
       "stream": "stdout",
       "text": [
        "\r",
        "Loading: |#########-| 235/248  94% [elapsed: 00:01 left: 00:00, 161.98 iters/sec]"
       ]
      },
      {
       "output_type": "stream",
       "stream": "stdout",
       "text": [
        "\r",
        "Loading: |#########-| 236/248  95% [elapsed: 00:01 left: 00:00, 161.98 iters/sec]"
       ]
      },
      {
       "output_type": "stream",
       "stream": "stdout",
       "text": [
        "\r",
        "Loading: |#########-| 237/248  95% [elapsed: 00:01 left: 00:00, 162.38 iters/sec]"
       ]
      },
      {
       "output_type": "stream",
       "stream": "stdout",
       "text": [
        "\r",
        "Loading: |#########-| 238/248  95% [elapsed: 00:01 left: 00:00, 162.79 iters/sec]"
       ]
      },
      {
       "output_type": "stream",
       "stream": "stdout",
       "text": [
        "\r",
        "Loading: |#########-| 239/248  96% [elapsed: 00:01 left: 00:00, 161.09 iters/sec]"
       ]
      },
      {
       "output_type": "stream",
       "stream": "stdout",
       "text": [
        "\r",
        "Loading: |#########-| 240/248  96% [elapsed: 00:01 left: 00:00, 160.77 iters/sec]"
       ]
      },
      {
       "output_type": "stream",
       "stream": "stdout",
       "text": [
        "\r",
        "Loading: |#########-| 241/248  97% [elapsed: 00:01 left: 00:00, 160.75 iters/sec]"
       ]
      },
      {
       "output_type": "stream",
       "stream": "stdout",
       "text": [
        "\r",
        "Loading: |#########-| 242/248  97% [elapsed: 00:01 left: 00:00, 161.12 iters/sec]"
       ]
      },
      {
       "output_type": "stream",
       "stream": "stdout",
       "text": [
        "\r",
        "Loading: |#########-| 243/248  97% [elapsed: 00:01 left: 00:00, 161.03 iters/sec]"
       ]
      },
      {
       "output_type": "stream",
       "stream": "stdout",
       "text": [
        "\r",
        "Loading: |#########-| 244/248  98% [elapsed: 00:01 left: 00:00, 161.04 iters/sec]"
       ]
      },
      {
       "output_type": "stream",
       "stream": "stdout",
       "text": [
        "\r",
        "Loading: |#########-| 245/248  98% [elapsed: 00:01 left: 00:00, 161.16 iters/sec]"
       ]
      },
      {
       "output_type": "stream",
       "stream": "stdout",
       "text": [
        "\r",
        "Loading: |#########-| 246/248  99% [elapsed: 00:01 left: 00:00, 160.79 iters/sec]"
       ]
      },
      {
       "output_type": "stream",
       "stream": "stdout",
       "text": [
        "\r",
        "Loading: |#########-| 247/248  99% [elapsed: 00:01 left: 00:00, 159.76 iters/sec]"
       ]
      },
      {
       "output_type": "stream",
       "stream": "stdout",
       "text": [
        "\r",
        "Loading: |##########| 248/248 100% [elapsed: 00:01 left: 00:00, 158.82 iters/sec]"
       ]
      },
      {
       "output_type": "stream",
       "stream": "stdout",
       "text": [
        "\n",
        "Train size: 400, test size: 199\n"
       ]
      }
     ],
     "prompt_number": 3
    },
    {
     "cell_type": "markdown",
     "metadata": {},
     "source": [
      "## Ideas for useful features\n",
      "\n",
      "### Search forms\n",
      "\n",
      "* a single query field\n",
      "* a field named \"q\" or \"s\"\n",
      "* \"search\" in URL\n",
      "* \"search\" in submit button text (submit value)\n",
      "* \"search\" in form css class or id\n",
      "* no password field\n",
      "* method == GET?\n",
      "\n",
      "### Login forms\n",
      "\n",
      "* username or email and password\n",
      "* 2 passwords - likely not a login form\n",
      "* \"login\" or \"sign in\" (or variations) in URL\n",
      "* \"login\" or \"sign in\" (or variations) in form css class or id\n",
      "* \"login\" or \"sign in\" in submit button text\n",
      "* \"Remember me\" checkbox (or any single checkbox)\n",
      "* no select elements\n",
      "* no textarea elements\n",
      "* openid?\n",
      "* method == POST\n",
      "\n",
      "### Registration forms\n",
      "\n",
      "* 2 passwords \n",
      "* \"register\" / \"sign up\" in URL, form css class / id or submit button text\n",
      "* \"agree\" checkbox\n",
      "* email\n",
      "* username\n",
      "* method == POST\n",
      "\n",
      "### Contact forms\n",
      "\n",
      "* feedback in URL/class\n",
      "* textarea\n",
      "* \"Send\" button\n",
      "* email\n",
      "* method == POST\n",
      "\n",
      "### Password reset\n",
      "\n",
      "* a single email or username field\n",
      "* \"password\" in URL/css class/ submit button text\n",
      "\n",
      "### Join Mailing List\n",
      "\n",
      "* a single email field\n",
      "* subscribe/join/newsletter words\n",
      "* a short form\n",
      "\n",
      "The main problem with \"join mailing list\" forms is to distinguish them from search forms.\n",
      "\n",
      "## How to handle them\n",
      "\n",
      "Instead of hardcoding the features above many of them are generalized. For exmaple, instead of writing \"search in URL\" we extract all 5-character substrings from the URL and use \"`urlsubstring<N>` in URL\" as features. There are some disadvantages in this approach, but it provides a good starting point."
     ]
    },
    {
     "cell_type": "code",
     "collapsed": false,
     "input": [
      "from sklearn.feature_extraction import DictVectorizer\n",
      "from sklearn.feature_extraction.text import CountVectorizer, TfidfVectorizer\n",
      "from sklearn.pipeline import Pipeline, FeatureUnion, make_pipeline, make_union\n",
      "from sklearn.linear_model import LogisticRegression\n",
      "from sklearn.svm import LinearSVC\n",
      "from sklearn.cross_validation import cross_val_score\n",
      "from sklearn.metrics import classification_report, confusion_matrix, precision_recall_fscore_support"
     ],
     "language": "python",
     "metadata": {},
     "outputs": [],
     "prompt_number": 4
    },
    {
     "cell_type": "code",
     "collapsed": false,
     "input": [
      "%%time\n",
      "# ======= define the model ========\n",
      "\n",
      "FEATURES = [\n",
      "#     (\n",
      "#         \"loginform    \", \n",
      "#         features.OldLoginformFeatures(), \n",
      "#         DictVectorizer()\n",
      "#     ),\n",
      "    (\n",
      "        \"bias\",\n",
      "        features.Bias(),\n",
      "        DictVectorizer(),\n",
      "    ),\n",
      "    (\n",
      "        \"form elements\", \n",
      "        features.FormElements(), \n",
      "        DictVectorizer()\n",
      "    ),\n",
      "    (\n",
      "        \"<input type=submit value=...>\", \n",
      "        features.SubmitText(), \n",
      "        CountVectorizer(ngram_range=(1,2), min_df=1, binary=True)\n",
      "    ),\n",
      "   (\n",
      "        \"<form> TEXT </form>\", \n",
      "        features.FormText(), \n",
      "        TfidfVectorizer(ngram_range=(1,2), min_df=5, stop_words='english', binary=True)\n",
      "    ),\n",
      "    (\n",
      "        \"<form action=...>\", \n",
      "        features.FormUrl(), \n",
      "        TfidfVectorizer(ngram_range=(5,6), min_df=4, analyzer=\"char_wb\", binary=True)\n",
      "    ),\n",
      "\n",
      "#     (\n",
      "#         \"<form><a> TEXT </a>\", \n",
      "#         features.FormLinksText(), \n",
      "#         TfidfVectorizer(ngram_range=(1,2), min_df=4, stop_words='english', binary=True)\n",
      "#     ),\n",
      "\n",
      "    (\n",
      "        \"<form class=... id=...>\", \n",
      "        features.FormCss(), \n",
      "        TfidfVectorizer(ngram_range=(4,5), min_df=3, analyzer=\"char_wb\", binary=True)\n",
      "    ),\n",
      "    (\n",
      "        \"<form><input name=...>\", \n",
      "        features.FormInputNames(), \n",
      "        TfidfVectorizer(ngram_range=(5,6), min_df=3, analyzer=\"char_wb\", binary=True)\n",
      "    ),\n",
      "]\n",
      "\n",
      "def create_feature_union(features):\n",
      "    \"\"\" \n",
      "    Create a FeatureUnion from individual. \n",
      "    Each \"feature\" is a 3-tuple: (name, feature_extractor, vectorizer).\n",
      "    \"\"\"\n",
      "    return make_union(*[\n",
      "        make_pipeline(fe, vec) \n",
      "        for name, fe, vec in features\n",
      "    ])\n",
      "        \n",
      "# clf = LogisticRegression(penalty='l1', C=1)\n",
      "clf = LinearSVC(C=0.5, random_state=0, fit_intercept=False)\n",
      "\n",
      "model = make_pipeline(\n",
      "    create_feature_union(FEATURES), \n",
      "    clf,\n",
      ")\n",
      "    \n",
      "evaluation.print_metrics(model, X, y, X_train, X_test, y_train, y_test, ipython=True)"
     ],
     "language": "python",
     "metadata": {},
     "outputs": [
      {
       "output_type": "stream",
       "stream": "stdout",
       "text": [
        "10-fold cross-validation F1: 0.931 (\u00b10.074)  min=0.866  max=0.983\n",
        "\n",
        "Classification report (400 training examples, 199 testing examples):\n"
       ]
      },
      {
       "output_type": "stream",
       "stream": "stdout",
       "text": [
        "\n",
        "                         precision    recall  f1-score   support\n",
        "\n",
        "                contact       0.80      0.89      0.84         9\n",
        "                  login       0.97      0.97      0.97        37\n",
        "      join mailing list       0.67      0.43      0.53        23\n",
        "                  other       0.69      0.83      0.75        35\n",
        "password/login recovery       0.91      0.91      0.91        11\n",
        "           registration       1.00      0.82      0.90        22\n",
        "                 search       0.88      0.94      0.91        62\n",
        "\n",
        "            avg / total       0.85      0.85      0.84       199\n",
        "\n",
        "Active features: 21881 out of possible 27195\n",
        "\n",
        "Confusion matrix (rows=>true values, columns=>predicted values):\n"
       ]
      },
      {
       "html": [
        "<div style=\"max-height:1000px;max-width:1500px;overflow:auto;\">\n",
        "<table border=\"1\" class=\"dataframe\">\n",
        "  <thead>\n",
        "    <tr style=\"text-align: right;\">\n",
        "      <th></th>\n",
        "      <th>contact</th>\n",
        "      <th>login</th>\n",
        "      <th>join mailing list</th>\n",
        "      <th>other</th>\n",
        "      <th>password/login recovery</th>\n",
        "      <th>registration</th>\n",
        "      <th>search</th>\n",
        "    </tr>\n",
        "  </thead>\n",
        "  <tbody>\n",
        "    <tr>\n",
        "      <th>contact</th>\n",
        "      <td> 8</td>\n",
        "      <td>  0</td>\n",
        "      <td>  0</td>\n",
        "      <td>  1</td>\n",
        "      <td>  0</td>\n",
        "      <td>  0</td>\n",
        "      <td>  0</td>\n",
        "    </tr>\n",
        "    <tr>\n",
        "      <th>login</th>\n",
        "      <td> 0</td>\n",
        "      <td> 36</td>\n",
        "      <td>  0</td>\n",
        "      <td>  1</td>\n",
        "      <td>  0</td>\n",
        "      <td>  0</td>\n",
        "      <td>  0</td>\n",
        "    </tr>\n",
        "    <tr>\n",
        "      <th>join mailing list</th>\n",
        "      <td> 0</td>\n",
        "      <td>  0</td>\n",
        "      <td> 10</td>\n",
        "      <td>  5</td>\n",
        "      <td>  0</td>\n",
        "      <td>  0</td>\n",
        "      <td>  8</td>\n",
        "    </tr>\n",
        "    <tr>\n",
        "      <th>other</th>\n",
        "      <td> 2</td>\n",
        "      <td>  0</td>\n",
        "      <td>  3</td>\n",
        "      <td> 29</td>\n",
        "      <td>  1</td>\n",
        "      <td>  0</td>\n",
        "      <td>  0</td>\n",
        "    </tr>\n",
        "    <tr>\n",
        "      <th>password/login recovery</th>\n",
        "      <td> 0</td>\n",
        "      <td>  0</td>\n",
        "      <td>  1</td>\n",
        "      <td>  0</td>\n",
        "      <td> 10</td>\n",
        "      <td>  0</td>\n",
        "      <td>  0</td>\n",
        "    </tr>\n",
        "    <tr>\n",
        "      <th>registration</th>\n",
        "      <td> 0</td>\n",
        "      <td>  1</td>\n",
        "      <td>  1</td>\n",
        "      <td>  2</td>\n",
        "      <td>  0</td>\n",
        "      <td> 18</td>\n",
        "      <td>  0</td>\n",
        "    </tr>\n",
        "    <tr>\n",
        "      <th>search</th>\n",
        "      <td> 0</td>\n",
        "      <td>  0</td>\n",
        "      <td>  0</td>\n",
        "      <td>  4</td>\n",
        "      <td>  0</td>\n",
        "      <td>  0</td>\n",
        "      <td> 58</td>\n",
        "    </tr>\n",
        "  </tbody>\n",
        "</table>\n",
        "</div>"
       ],
       "metadata": {},
       "output_type": "display_data",
       "text": [
        "                         contact  login  join mailing list  other  \\\n",
        "contact                        8      0                  0      1   \n",
        "login                          0     36                  0      1   \n",
        "join mailing list              0      0                 10      5   \n",
        "other                          2      0                  3     29   \n",
        "password/login recovery        0      0                  1      0   \n",
        "registration                   0      1                  1      2   \n",
        "search                         0      0                  0      4   \n",
        "\n",
        "                         password/login recovery  registration  search  \n",
        "contact                                        0             0       0  \n",
        "login                                          0             0       0  \n",
        "join mailing list                              0             0       8  \n",
        "other                                          1             0       0  \n",
        "password/login recovery                       10             0       0  \n",
        "registration                                   0            18       0  \n",
        "search                                         0             0      58  "
       ]
      },
      {
       "output_type": "stream",
       "stream": "stdout",
       "text": [
        "CPU times: user 11.3 s, sys: 185 ms, total: 11.5 s\n",
        "Wall time: 12.3 s\n"
       ]
      }
     ],
     "prompt_number": 5
    },
    {
     "cell_type": "markdown",
     "metadata": {},
     "source": [
      "## Check what classifier learned\n",
      "\n",
      "For linear classifiers like Logistic Regression or an SVM without a kernel we can check coefficient values to understand better how the decision is made. \n",
      "\n",
      "For correlated features weight will be spread across all correlated features, so just checking coefficients is not enough, but looking at them is useful anyways."
     ]
    },
    {
     "cell_type": "code",
     "collapsed": false,
     "input": [
      "evaluation.print_informative_features(FEATURES, clf, 25)"
     ],
     "language": "python",
     "metadata": {},
     "outputs": [
      {
       "output_type": "stream",
       "stream": "stdout",
       "text": [
        "contact\n",
        "+0.8513:                  form elements  has <textarea>\n",
        "+0.3014:            <form> TEXT </form>  copyright\n",
        "+0.3014:            <form> TEXT </form>  version\n",
        "+0.2992:              <form action=...>  feedb\n",
        "+0.2948:            <form> TEXT </form>  2013\n",
        "+0.2920:            <form> TEXT </form>  contact\n",
        "+0.2860:            <form> TEXT </form>  2002\n",
        "+0.2830:            <form> TEXT </form>  mobile\n",
        "+0.2735:            <form> TEXT </form>  forums\n",
        "+0.2450:              <form action=...>   send\n",
        "+0.2238:            <form> TEXT </form>  privacy\n",
        "+0.2212:  <input type=submit value=...>  submit\n",
        "+0.2197:              <form action=...>  x.php \n",
        "+0.2082:                  form elements  3 or more <input type=text>\n",
        "+0.1839:            <form> TEXT </form>  message\n",
        "+0.1768:            <form> TEXT </form>  fixed\n",
        "+0.1669:         <form><input name=...>  name \n",
        "+0.1634:            <form> TEXT </form>  email address\n",
        "+0.1618:              <form action=...>   inde\n",
        "+0.1618:              <form action=...>   index\n",
        "+0.1608:            <form> TEXT </form>  address\n",
        "+0.1485:              <form action=...>  ex.php\n",
        "+0.1485:              <form action=...>  ndex.p\n",
        "+0.1485:              <form action=...>  ex.ph\n",
        "+0.1485:              <form action=...>  x.php\n",
        "   ...\n",
        "-0.1363:            <form> TEXT </form>  address enter\n",
        "-0.1363:            <form> TEXT </form>  enter valid\n",
        "-0.1390:  <input type=submit value=...>  create\n",
        "-0.1393:         <form><input name=...>  login \n",
        "-0.1393:         <form><input name=...>  ogin \n",
        "-0.1398:                  form elements  no <input type=text>\n",
        "-0.1405:                  form elements  has <input type=radio>\n",
        "-0.1501:         <form><input name=...>  word \n",
        "-0.1549:            <form> TEXT </form>  valid\n",
        "-0.1552:        <form class=... id=...>  e-for\n",
        "-0.1552:        <form class=... id=...>  e-fo\n",
        "-0.1582:              <form action=...>  epost\n",
        "-0.1583:  <input type=submit value=...>  register\n",
        "-0.1583:  <input type=submit value=...>  register now\n",
        "-0.1889:  <input type=submit value=...>  los\n",
        "-0.1898:                  form elements  <form method=get\n",
        "-0.1911:                  form elements  exactly one <input type=password>\n",
        "-0.2010:  <input type=submit value=...>  now\n",
        "-0.2206:                  form elements  has <input type=email>\n",
        "-0.2493:                  form elements  exactly two <input type=password>\n",
        "-0.2724:                  form elements  <form method=post\n",
        "-0.3183:  <input type=submit value=...>  registrova\u0165\n",
        "-0.3598:                  form elements  2 or 3 inputs\n",
        "-0.4622:                           bias  bias\n",
        "-0.4686:                  form elements  exactly one <input type=text>\n",
        "--------------------------------------------------------------------------------\n",
        "login\n",
        "+0.7074:                  form elements  exactly one <input type=password>\n",
        "+0.3788:  <input type=submit value=...>  login\n",
        "+0.3273:              <form action=...>  login\n",
        "+0.3076:              <form action=...>  login \n",
        "+0.3076:              <form action=...>  ogin \n",
        "+0.2994:            <form> TEXT </form>  url\n",
        "+0.2994:  <input type=submit value=...>  sign in\n",
        "+0.2815:  <input type=submit value=...>  in\n",
        "+0.2636:        <form class=... id=...>   logi\n",
        "+0.2636:        <form class=... id=...>   log\n",
        "+0.2607:            <form> TEXT </form>  sign\n",
        "+0.2438:        <form class=... id=...>  login\n",
        "+0.2438:        <form class=... id=...>  logi\n",
        "+0.2438:        <form class=... id=...>  ogin\n",
        "+0.2273:            <form> TEXT </form>  login\n",
        "+0.1851:  <input type=submit value=...>  sign\n",
        "+0.1830:                  form elements  has <input type=checkbox>\n",
        "+0.1663:        <form class=... id=...>  ogin \n",
        "+0.1663:        <form class=... id=...>  gin \n",
        "+0.1605:        <form class=... id=...>  form \n",
        "+0.1605:        <form class=... id=...>  orm \n",
        "+0.1591:        <form class=... id=...>  nform\n",
        "+0.1591:        <form class=... id=...>  nfor\n",
        "+0.1451:                  form elements  exactly one <input type=text>\n",
        "+0.1336:                  form elements  2 or 3 inputs\n",
        "   ...\n",
        "-0.1188:        <form class=... id=...>  giste\n",
        "-0.1252:            <form> TEXT </form>  registrieren\n",
        "-0.1285:  <input type=submit value=...>  odo\u0161li\n",
        "-0.1290:                  form elements  <form method=get\n",
        "-0.1300:            <form> TEXT </form>  terms conditions\n",
        "-0.1300:            <form> TEXT </form>  conditions\n",
        "-0.1301:        <form class=... id=...>  regi\n",
        "-0.1322:        <form class=... id=...>  regis\n",
        "-0.1322:        <form class=... id=...>  egis\n",
        "-0.1322:        <form class=... id=...>  egist\n",
        "-0.1322:        <form class=... id=...>  gist\n",
        "-0.1448:                  form elements  <form method=post\n",
        "-0.1568:  <input type=submit value=...>  now\n",
        "-0.1568:  <input type=submit value=...>  register now\n",
        "-0.1568:                  form elements  has <textarea>\n",
        "-0.1683:            <form> TEXT </form>  terms\n",
        "-0.2544:                  form elements  3 or more <input type=text>\n",
        "-0.2685:                  form elements  has <input type=radio>\n",
        "-0.2738:                           bias  bias\n",
        "-0.2858:                  form elements  exactly two <input type=password>\n",
        "-0.2888:                  form elements  exactly two <input type=text>\n",
        "-0.3639:  <input type=submit value=...>  register\n",
        "-0.4241:                  form elements  has <input type=email>\n",
        "-0.4299:                  form elements  has <select>\n",
        "-0.6954:                  form elements  no <input type=password>\n",
        "--------------------------------------------------------------------------------\n",
        "join mailing list\n",
        "+0.4718:  <input type=submit value=...>  subscribe\n",
        "+0.4223:            <form> TEXT </form>  list\n",
        "+0.3280:                  form elements  has <input type=email>\n",
        "+0.2693:              <form action=...>  bscri\n",
        "+0.2693:              <form action=...>  ubscr\n",
        "+0.2693:              <form action=...>  subscr\n",
        "+0.2693:              <form action=...>  subsc\n",
        "+0.2693:              <form action=...>  ubscri\n",
        "+0.2629:         <form><input name=...>   emai\n",
        "+0.2629:         <form><input name=...>   email\n",
        "+0.2556:         <form><input name=...>  email\n",
        "+0.2326:        <form class=... id=...>  etter\n",
        "+0.2326:        <form class=... id=...>  ette\n",
        "+0.2326:        <form class=... id=...>  news\n",
        "+0.2326:        <form class=... id=...>  newsl\n",
        "+0.2326:        <form class=... id=...>   news\n",
        "+0.2326:        <form class=... id=...>  ewsl\n",
        "+0.2326:        <form class=... id=...>  wsle\n",
        "+0.2326:        <form class=... id=...>  lette\n",
        "+0.2326:        <form class=... id=...>  lett\n",
        "+0.2326:        <form class=... id=...>  wslet\n",
        "+0.2326:        <form class=... id=...>  ewsle\n",
        "+0.2326:        <form class=... id=...>  tter\n",
        "+0.2326:        <form class=... id=...>  slett\n",
        "+0.2326:        <form class=... id=...>  slet\n",
        "   ...\n",
        "-0.1066:        <form class=... id=...>  tion \n",
        "-0.1066:        <form class=... id=...>  ion \n",
        "-0.1085:            <form> TEXT </form>  mail\n",
        "-0.1086:        <form class=... id=...>  tion\n",
        "-0.1108:            <form> TEXT </form>  ihre\n",
        "-0.1118:              <form action=...>  email\n",
        "-0.1221:        <form class=... id=...>  forg\n",
        "-0.1221:        <form class=... id=...>  forgo\n",
        "-0.1221:        <form class=... id=...>  orgo\n",
        "-0.1221:        <form class=... id=...>  orgot\n",
        "-0.1221:        <form class=... id=...>  rgot\n",
        "-0.1295:  <input type=submit value=...>  weiter\n",
        "-0.1304:                  form elements  3 or more <input type=text>\n",
        "-0.1398:            <form> TEXT </form>  adresse\n",
        "-0.1501:        <form class=... id=...>  email\n",
        "-0.1501:        <form class=... id=...>  emai\n",
        "-0.1529:            <form> TEXT </form>  password\n",
        "-0.2090:            <form> TEXT </form>  email\n",
        "-0.2174:                  form elements  has <select>\n",
        "-0.2188:                  form elements  exactly two <input type=text>\n",
        "-0.2259:                  form elements  has <textarea>\n",
        "-0.2385:                  form elements  <form method=post\n",
        "-0.2572:                  form elements  <form method=get\n",
        "-0.3118:                  form elements  exactly one <input type=password>\n",
        "-0.4957:                           bias  bias\n",
        "--------------------------------------------------------------------------------\n",
        "other\n",
        "+0.4767:                  form elements  no <input type=text>\n",
        "+0.4342:              <form action=...>  epost\n",
        "+0.4084:        <form class=... id=...>  jump\n",
        "+0.3700:         <form><input name=...>   qty \n",
        "+0.3516:  <input type=submit value=...>  keres\u00e9s ment\u00e9se\n",
        "+0.3516:  <input type=submit value=...>  ment\u00e9se\n",
        "+0.3074:            <form> TEXT </form>  cancel\n",
        "+0.3045:              <form action=...>  e.com\n",
        "+0.3044:            <form> TEXT </form>  view\n",
        "+0.2915:            <form> TEXT </form>  board\n",
        "+0.2861:         <form><input name=...>  ntemai\n",
        "+0.2861:         <form><input name=...>  temai\n",
        "+0.2861:         <form><input name=...>  temail\n",
        "+0.2861:         <form><input name=...>  ntema\n",
        "+0.2852:            <form> TEXT </form>  address enter\n",
        "+0.2852:            <form> TEXT </form>  enter valid\n",
        "+0.2848:            <form> TEXT </form>  basic\n",
        "+0.2822:            <form> TEXT </form>  special\n",
        "+0.2776:              <form action=...>  http:\n",
        "+0.2776:              <form action=...>   http:\n",
        "+0.2748:                  form elements  no <input type=password>\n",
        "+0.2741:            <form> TEXT </form>  image\n",
        "+0.2660:            <form> TEXT </form>  content\n",
        "+0.2612:            <form> TEXT </form>  details\n",
        "+0.2539:            <form> TEXT </form>  images\n",
        "   ...\n",
        "-0.2478:         <form><input name=...>   sear\n",
        "-0.2478:         <form><input name=...>   searc\n",
        "-0.2512:            <form> TEXT </form>  2002\n",
        "-0.2588:  <input type=submit value=...>  zoeken\n",
        "-0.2589:                  form elements  exactly two <input type=password>\n",
        "-0.2589:            <form> TEXT </form>  2013\n",
        "-0.2622:  <input type=submit value=...>  search\n",
        "-0.3013:            <form> TEXT </form>  forums\n",
        "-0.3024:  <input type=submit value=...>  go\n",
        "-0.3052:                  form elements  exactly one <input type=password>\n",
        "-0.3056:            <form> TEXT </form>  visit\n",
        "-0.3130:         <form><input name=...>   emai\n",
        "-0.3130:         <form><input name=...>   email\n",
        "-0.3138:              <form action=...>  .php \n",
        "-0.3225:            <form> TEXT </form>  login\n",
        "-0.3243:                           bias  bias\n",
        "-0.3255:         <form><input name=...>  email\n",
        "-0.3278:                  form elements  <form method=get\n",
        "-0.3684:            <form> TEXT </form>  sign\n",
        "-0.4014:         <form><input name=...>   s \n",
        "-0.4021:            <form> TEXT </form>  com\n",
        "-0.4071:         <form><input name=...>   q \n",
        "-0.4303:                  form elements  has <textarea>\n",
        "-0.4392:                  form elements  has <input type=email>\n",
        "-0.5404:                  form elements  3 or more <input type=text>\n",
        "--------------------------------------------------------------------------------\n",
        "password/login recovery\n",
        "+0.4269:  <input type=submit value=...>  odo\u0161li\n",
        "+0.3696:  <input type=submit value=...>  megv\u00e1ltoztat\u00e1s\n",
        "+0.3647:  <input type=submit value=...>  priminti\n",
        "+0.3400:  <input type=submit value=...>  weiter\n",
        "+0.3364:            <form> TEXT </form>  login\n",
        "+0.3288:  <input type=submit value=...>  password\n",
        "+0.3180:            <form> TEXT </form>  el\n",
        "+0.3115:            <form> TEXT </form>  email\n",
        "+0.2802:            <form> TEXT </form>  mail\n",
        "+0.2551:        <form class=... id=...>  forg\n",
        "+0.2551:        <form class=... id=...>  rgot\n",
        "+0.2551:        <form class=... id=...>  orgot\n",
        "+0.2551:        <form class=... id=...>  orgo\n",
        "+0.2551:        <form class=... id=...>  forgo\n",
        "+0.2515:         <form><input name=...>   email\n",
        "+0.2515:         <form><input name=...>   emai\n",
        "+0.2514:            <form> TEXT </form>  password\n",
        "+0.2480:              <form action=...>  sswor\n",
        "+0.2480:              <form action=...>  passwo\n",
        "+0.2480:              <form action=...>  asswor\n",
        "+0.2480:              <form action=...>  asswo\n",
        "+0.2480:              <form action=...>  passw\n",
        "+0.2469:  <input type=submit value=...>  reset\n",
        "+0.2405:            <form> TEXT </form>  adresse\n",
        "+0.2184:              <form action=...>  ssword\n",
        "   ...\n",
        "-0.1158:  <input type=submit value=...>  login\n",
        "-0.1194:            <form> TEXT </form>  list\n",
        "-0.1230:              <form action=...>  http:\n",
        "-0.1230:              <form action=...>   http:\n",
        "-0.1297:                  form elements  has <input type=radio>\n",
        "-0.1351:         <form><input name=...>   q \n",
        "-0.1362:        <form class=... id=...>  mail\n",
        "-0.1532:              <form action=...>  http:f\n",
        "-0.1532:              <form action=...>  ttp:f\n",
        "-0.1576:            <form> TEXT </form>  message\n",
        "-0.1785:  <input type=submit value=...>  bel\u00e9p\u00e9s\n",
        "-0.1819:                  form elements  <form method=post\n",
        "-0.1879:                  form elements  has <input type=checkbox>\n",
        "-0.1966:              <form action=...>  e.com\n",
        "-0.2129:                  form elements  exactly two <input type=password>\n",
        "-0.2281:              <form action=...>  feedb\n",
        "-0.2286:                  form elements  no <input type=text>\n",
        "-0.2372:  <input type=submit value=...>  search\n",
        "-0.2404:                  form elements  3 or more <input type=text>\n",
        "-0.2613:                  form elements  has <select>\n",
        "-0.3276:  <input type=submit value=...>  subscribe\n",
        "-0.3819:                  form elements  has <textarea>\n",
        "-0.3880:                  form elements  <form method=get\n",
        "-0.4622:                  form elements  exactly one <input type=password>\n",
        "-0.5699:                           bias  bias\n",
        "--------------------------------------------------------------------------------\n",
        "registration\n",
        "+0.4961:                  form elements  exactly two <input type=password>\n",
        "+0.4642:  <input type=submit value=...>  register\n",
        "+0.3753:  <input type=submit value=...>  registrova\u0165\n",
        "+0.3405:                  form elements  has <input type=email>\n",
        "+0.3267:                  form elements  3 or more <input type=text>\n",
        "+0.3162:  <input type=submit value=...>  create\n",
        "+0.2749:  <input type=submit value=...>  now\n",
        "+0.2566:         <form><input name=...>  word \n",
        "+0.2360:            <form> TEXT </form>  policy\n",
        "+0.2297:            <form> TEXT </form>  privacy policy\n",
        "+0.2259:              <form action=...>  reate\n",
        "+0.2259:              <form action=...>  create\n",
        "+0.2259:              <form action=...>  creat\n",
        "+0.2208:         <form><input name=...>  mail \n",
        "+0.2174:        <form class=... id=...>  regis\n",
        "+0.2174:        <form class=... id=...>  egis\n",
        "+0.2174:        <form class=... id=...>  egist\n",
        "+0.2174:        <form class=... id=...>  gist\n",
        "+0.2139:        <form class=... id=...>  regi\n",
        "+0.2133:            <form> TEXT </form>  privacy\n",
        "+0.2129:              <form action=...>  regist\n",
        "+0.2129:              <form action=...>  regis\n",
        "+0.2129:              <form action=...>  egist\n",
        "+0.2125:  <input type=submit value=...>  register now\n",
        "+0.2092:  <input type=submit value=...>  create user\n",
        "   ...\n",
        "-0.1166:              <form action=...>  ttp:s\n",
        "-0.1187:              <form action=...>  login \n",
        "-0.1187:              <form action=...>  ogin \n",
        "-0.1198:              <form action=...>   http:\n",
        "-0.1198:              <form action=...>  http:\n",
        "-0.1236:  <input type=submit value=...>  absenden\n",
        "-0.1291:              <form action=...>  login\n",
        "-0.1445:        <form class=... id=...>  orm \n",
        "-0.1445:        <form class=... id=...>  form \n",
        "-0.1459:  <input type=submit value=...>  continue\n",
        "-0.1539:              <form action=...>  feedb\n",
        "-0.1571:              <form action=...>  epost\n",
        "-0.1666:  <input type=submit value=...>  sign in\n",
        "-0.1720:                  form elements  <form method=get\n",
        "-0.1789:                           bias  bias\n",
        "-0.1802:  <input type=submit value=...>  submit\n",
        "-0.2007:                  form elements  exactly one <input type=password>\n",
        "-0.2008:  <input type=submit value=...>  in\n",
        "-0.2300:                  form elements  exactly one <input type=text>\n",
        "-0.2418:                  form elements  has <input type=checkbox>\n",
        "-0.2601:                  form elements  has <textarea>\n",
        "-0.2831:  <input type=submit value=...>  login\n",
        "-0.3648:                  form elements  no <input type=text>\n",
        "-0.4630:                  form elements  2 or 3 inputs\n",
        "-0.5898:                  form elements  no <input type=password>\n",
        "--------------------------------------------------------------------------------\n",
        "search\n",
        "+0.5824:         <form><input name=...>   q \n",
        "+0.5688:  <input type=submit value=...>  search\n",
        "+0.4534:         <form><input name=...>   s \n",
        "+0.3678:            <form> TEXT </form>  visit\n",
        "+0.3504:  <input type=submit value=...>  go\n",
        "+0.3274:              <form action=...>  arch \n",
        "+0.3274:              <form action=...>  earch \n",
        "+0.3200:  <input type=submit value=...>  los\n",
        "+0.3193:              <form action=...>  earch\n",
        "+0.3193:              <form action=...>  searc\n",
        "+0.3193:              <form action=...>  search\n",
        "+0.2781:  <input type=submit value=...>  zoeken\n",
        "+0.2770:         <form><input name=...>  searc\n",
        "+0.2770:         <form><input name=...>  earch\n",
        "+0.2770:         <form><input name=...>  search\n",
        "+0.2757:            <form> TEXT </form>  form search\n",
        "+0.2748:         <form><input name=...>   sear\n",
        "+0.2748:         <form><input name=...>   searc\n",
        "+0.2740:                  form elements  exactly one <input type=text>\n",
        "+0.2714:        <form class=... id=...>  searc\n",
        "+0.2714:        <form class=... id=...>  sear\n",
        "+0.2714:        <form class=... id=...>  arch\n",
        "+0.2714:        <form class=... id=...>  earch\n",
        "+0.2714:        <form class=... id=...>  earc\n",
        "+0.2665:              <form action=...>  rsear\n",
        "   ...\n",
        "-0.1903:              <form action=...>   http:\n",
        "-0.1903:              <form action=...>  http:\n",
        "-0.2121:            <form> TEXT </form>  version\n",
        "-0.2174:                           bias  bias\n",
        "-0.2191:            <form> TEXT </form>  mail\n",
        "-0.2211:            <form> TEXT </form>  email\n",
        "-0.2336:            <form> TEXT </form>  login\n",
        "-0.2389:              <form action=...>  e.com\n",
        "-0.2393:         <form><input name=...>  email\n",
        "-0.2407:            <form> TEXT </form>  privacy\n",
        "-0.2418:            <form> TEXT </form>  ok\n",
        "-0.2423:            <form> TEXT </form>  special\n",
        "-0.2498:         <form><input name=...>   email\n",
        "-0.2498:         <form><input name=...>   emai\n",
        "-0.2509:            <form> TEXT </form>  copyright\n",
        "-0.2580:         <form><input name=...>   qty \n",
        "-0.2582:            <form> TEXT </form>  view\n",
        "-0.2640:            <form> TEXT </form>  details\n",
        "-0.2841:  <input type=submit value=...>  submit\n",
        "-0.2851:        <form class=... id=...>  jump\n",
        "-0.2978:        <form class=... id=...>   form\n",
        "-0.3045:        <form class=... id=...>   for\n",
        "-0.3184:                  form elements  exactly one <input type=password>\n",
        "-0.4145:                  form elements  <form method=post\n",
        "-0.4507:                  form elements  no <input type=text>\n",
        "--------------------------------------------------------------------------------\n"
       ]
      }
     ],
     "prompt_number": 6
    },
    {
     "cell_type": "markdown",
     "metadata": {},
     "source": [
      "## Compare results with \"loginform\" library\n",
      "\n",
      "It is not possible to compare the results with \"loginform\" library directly because loginform\n",
      "\n",
      "* always tries to return a login form even if the score is low;\n",
      "* only detects login forms;\n",
      "* in case of several forms returns a single form with the best score instead of deciding for each form whether to return it or not.\n",
      "\n",
      "So we used two approaches:\n",
      "\n",
      "1. Use `loginform._form_score` with different thresholds; assume that if score is greater than or equal to a threshold `loginform` detected a login form.\n",
      "2. Train the same model, but using features from loginform library (weights will be learned instead of being hardcoded as 'score' increments/decrements).\n",
      "\n"
     ]
    },
    {
     "cell_type": "markdown",
     "metadata": {},
     "source": [
      "### 1. loginform scores + thresholds\n",
      "\n",
      "* **score >= -100** means \"simply treat all forms as login forms\".\n",
      "\n",
      "* **score >= 0** all (or most) login forms are captured, but there are many false positives. \n",
      "  It is only slightly better than treating all forms as login forms.\n",
      "\n",
      "* **score >= 10** F1 score is the best among all thresholds, \n",
      "  but the quality is significantly worse than F1 of ML-based models.\n",
      "  \n",
      "* **score >= 20** ~90% of detected login forms are correct, but most \n",
      "  login forms are not detected. Also, ~90% number is still lower than what ML-based models give us.\n"
     ]
    },
    {
     "cell_type": "code",
     "collapsed": false,
     "input": [
      "%%time \n",
      "import loginform\n",
      "\n",
      "\n",
      "def labels_to_binary(y):\n",
      "    \"\"\" Convert labels to 2-classes: login forms and non-login forms \"\"\"\n",
      "    return [tp == 'l' for tp in y]\n",
      "\n",
      "    \n",
      "def predict_loginform(X, threshold):\n",
      "    \"\"\"\n",
      "    Return if forms are login or not using loginform\n",
      "    library scores and a threshold.\n",
      "    \"\"\"\n",
      "    return [\n",
      "        (loginform._form_score(form) >= threshold)\n",
      "        for form in X\n",
      "    ]\n",
      "\n",
      "\n",
      "def print_threshold_metrics(X_test, y_test, threshold):\n",
      "    y_test = labels_to_binary(y_test)\n",
      "    y_pred = predict_loginform(X_test, threshold)\n",
      "\n",
      "    precision, recall, f1, support = precision_recall_fscore_support(y_test, y_pred, pos_label=True)\n",
      "    print(\n",
      "        \"score >= %4d:    precision = %0.3f    recall = %0.3f    F1 = %0.3f\" % (\n",
      "        threshold, precision[1], recall[1], f1[1]\n",
      "    ))\n",
      "\n",
      "\n",
      "for threshold in [-100, -10, 0, 10, 20, 30]:\n",
      "    print_threshold_metrics(X_test, y_test, threshold)"
     ],
     "language": "python",
     "metadata": {},
     "outputs": [
      {
       "output_type": "stream",
       "stream": "stdout",
       "text": [
        "score >= -100:    precision = 0.186    recall = 1.000    F1 = 0.314\n",
        "score >=  -10:    precision = 0.234    recall = 1.000    F1 = 0.379"
       ]
      },
      {
       "output_type": "stream",
       "stream": "stdout",
       "text": [
        "\n",
        "score >=    0:    precision = 0.363    recall = 1.000    F1 = 0.532"
       ]
      },
      {
       "output_type": "stream",
       "stream": "stdout",
       "text": [
        "\n",
        "score >=   10:    precision = 0.707    recall = 0.784    F1 = 0.744"
       ]
      },
      {
       "output_type": "stream",
       "stream": "stdout",
       "text": [
        "\n",
        "score >=   20:    precision = 0.933    recall = 0.378    F1 = 0.538"
       ]
      },
      {
       "output_type": "stream",
       "stream": "stdout",
       "text": [
        "\n",
        "score >=   30:    precision = 0.000    recall = 0.000    F1 = 0.000"
       ]
      },
      {
       "output_type": "stream",
       "stream": "stdout",
       "text": [
        "\n",
        "CPU times: user 403 ms, sys: 4.79 ms, total: 408 ms\n",
        "Wall time: 408 ms\n"
       ]
      },
      {
       "output_type": "stream",
       "stream": "stderr",
       "text": [
        "/Users/kmike/envs/scraping/lib/python2.7/site-packages/sklearn/metrics/metrics.py:1771: UndefinedMetricWarning: Precision and F-score are ill-defined and being set to 0.0 in labels with no predicted samples.\n",
        "  'precision', 'predicted', average, warn_for)\n"
       ]
      }
     ],
     "prompt_number": 7
    },
    {
     "cell_type": "markdown",
     "metadata": {},
     "source": [
      "### 2. Use loginform features, but autodetect scores\n",
      "\n",
      "The following ML-based model is trained using original loginform features (conditions used to increase or decrease the score). Roughly speaking, it uses the same information as loginform library, but instead of hardcoding `score += 10` and `score -= 10` the numbers are adjusted based on training data.\n",
      "\n",
      "Note that the login form detection quality is significantly better than the quality of threshold-based model; it is only slightly worse than the quality of a \"full\" forms detection model. This means original loginform features are quite good at detecting login forms. But for other form types these features are not enough: other scores are bad."
     ]
    },
    {
     "cell_type": "code",
     "collapsed": false,
     "input": [
      "%%time\n",
      "\n",
      "LOGINFORM_FEATURES = [\n",
      "    ('loginform', features.OldLoginformFeatures(), DictVectorizer())\n",
      "]\n",
      "loginform_clf = LinearSVC(C=0.5)\n",
      "\n",
      "model = make_pipeline(\n",
      "    create_feature_union(LOGINFORM_FEATURES), \n",
      "    loginform_clf,\n",
      ")\n",
      "\n",
      "evaluation.print_metrics(model, X, y, X_train, X_test, y_train, y_test, ipython=True)\n",
      "evaluation.print_informative_features(LOGINFORM_FEATURES, loginform_clf, 25)"
     ],
     "language": "python",
     "metadata": {},
     "outputs": [
      {
       "output_type": "stream",
       "stream": "stdout",
       "text": [
        "10-fold cross-validation F1: 0.666 (\u00b10.117)  min=0.578  max=0.750\n",
        "\n",
        "Classification report (400 training examples, 199 testing examples):\n"
       ]
      },
      {
       "output_type": "stream",
       "stream": "stdout",
       "text": [
        "\n",
        "                         precision    recall  f1-score   support\n",
        "\n",
        "                contact       0.44      0.89      0.59         9\n",
        "                  login       0.95      0.95      0.95        37\n",
        "      join mailing list       0.00      0.00      0.00        23\n",
        "                  other       0.67      0.86      0.75        35\n",
        "password/login recovery       0.00      0.00      0.00        11\n",
        "           registration       0.83      0.68      0.75        22\n",
        "                 search       0.60      0.79      0.69        62\n",
        "\n",
        "            avg / total       0.59      0.69      0.63       199\n",
        "\n",
        "Active features: 49 out of possible 49\n",
        "\n",
        "Confusion matrix (rows=>true values, columns=>predicted values):\n"
       ]
      },
      {
       "output_type": "stream",
       "stream": "stderr",
       "text": [
        "/Users/kmike/envs/scraping/lib/python2.7/site-packages/sklearn/metrics/metrics.py:1771: UndefinedMetricWarning: F-score is ill-defined and being set to 0.0 in labels with no predicted samples.\n",
        "  'precision', 'predicted', average, warn_for)\n"
       ]
      },
      {
       "html": [
        "<div style=\"max-height:1000px;max-width:1500px;overflow:auto;\">\n",
        "<table border=\"1\" class=\"dataframe\">\n",
        "  <thead>\n",
        "    <tr style=\"text-align: right;\">\n",
        "      <th></th>\n",
        "      <th>contact</th>\n",
        "      <th>login</th>\n",
        "      <th>join mailing list</th>\n",
        "      <th>other</th>\n",
        "      <th>password/login recovery</th>\n",
        "      <th>registration</th>\n",
        "      <th>search</th>\n",
        "    </tr>\n",
        "  </thead>\n",
        "  <tbody>\n",
        "    <tr>\n",
        "      <th>contact</th>\n",
        "      <td> 8</td>\n",
        "      <td>  0</td>\n",
        "      <td> 0</td>\n",
        "      <td>  1</td>\n",
        "      <td> 0</td>\n",
        "      <td>  0</td>\n",
        "      <td>  0</td>\n",
        "    </tr>\n",
        "    <tr>\n",
        "      <th>login</th>\n",
        "      <td> 1</td>\n",
        "      <td> 35</td>\n",
        "      <td> 0</td>\n",
        "      <td>  0</td>\n",
        "      <td> 0</td>\n",
        "      <td>  0</td>\n",
        "      <td>  1</td>\n",
        "    </tr>\n",
        "    <tr>\n",
        "      <th>join mailing list</th>\n",
        "      <td> 1</td>\n",
        "      <td>  0</td>\n",
        "      <td> 0</td>\n",
        "      <td>  0</td>\n",
        "      <td> 0</td>\n",
        "      <td>  0</td>\n",
        "      <td> 22</td>\n",
        "    </tr>\n",
        "    <tr>\n",
        "      <th>other</th>\n",
        "      <td> 3</td>\n",
        "      <td>  0</td>\n",
        "      <td> 0</td>\n",
        "      <td> 30</td>\n",
        "      <td> 0</td>\n",
        "      <td>  1</td>\n",
        "      <td>  1</td>\n",
        "    </tr>\n",
        "    <tr>\n",
        "      <th>password/login recovery</th>\n",
        "      <td> 0</td>\n",
        "      <td>  0</td>\n",
        "      <td> 0</td>\n",
        "      <td>  4</td>\n",
        "      <td> 0</td>\n",
        "      <td>  0</td>\n",
        "      <td>  7</td>\n",
        "    </tr>\n",
        "    <tr>\n",
        "      <th>registration</th>\n",
        "      <td> 3</td>\n",
        "      <td>  2</td>\n",
        "      <td> 0</td>\n",
        "      <td>  1</td>\n",
        "      <td> 0</td>\n",
        "      <td> 15</td>\n",
        "      <td>  1</td>\n",
        "    </tr>\n",
        "    <tr>\n",
        "      <th>search</th>\n",
        "      <td> 2</td>\n",
        "      <td>  0</td>\n",
        "      <td> 0</td>\n",
        "      <td>  9</td>\n",
        "      <td> 0</td>\n",
        "      <td>  2</td>\n",
        "      <td> 49</td>\n",
        "    </tr>\n",
        "  </tbody>\n",
        "</table>\n",
        "</div>"
       ],
       "metadata": {},
       "output_type": "display_data",
       "text": [
        "                         contact  login  join mailing list  other  \\\n",
        "contact                        8      0                  0      1   \n",
        "login                          1     35                  0      0   \n",
        "join mailing list              1      0                  0      0   \n",
        "other                          3      0                  0     30   \n",
        "password/login recovery        0      0                  0      4   \n",
        "registration                   3      2                  0      1   \n",
        "search                         2      0                  0      9   \n",
        "\n",
        "                         password/login recovery  registration  search  \n",
        "contact                                        0             0       0  \n",
        "login                                          0             0       1  \n",
        "join mailing list                              0             0      22  \n",
        "other                                          0             1       1  \n",
        "password/login recovery                        0             0       7  \n",
        "registration                                   0            15       1  \n",
        "search                                         0             2      49  "
       ]
      },
      {
       "output_type": "stream",
       "stream": "stdout",
       "text": [
        "contact\n",
        "+1.0975:                      loginform  typecount_text_gt1\n",
        "+0.8321:                      loginform  typecount_password_0\n",
        "+0.0449:                      loginform  typecount_text_0\n",
        "-0.2725:                      loginform  typecount_password_eq1\n",
        "-0.3344:                      loginform  typecount_checkbox_gt1\n",
        "-0.4185:                      loginform  typecount_radio_gt0\n",
        "-0.8455:                      loginform  2_or_3_inputs\n",
        "--------------------------------------------------------------------------------\n",
        "login\n",
        "+1.3801:                      loginform  typecount_password_eq1\n",
        "+0.0339:                      loginform  2_or_3_inputs\n",
        "-0.0673:                      loginform  typecount_text_0\n",
        "-0.4944:                      loginform  typecount_text_gt1\n",
        "-0.5059:                      loginform  typecount_password_0\n",
        "-0.8006:                      loginform  typecount_checkbox_gt1\n",
        "-0.8089:                      loginform  typecount_radio_gt0\n",
        "--------------------------------------------------------------------------------\n",
        "join mailing list\n",
        "+0.3314:                      loginform  typecount_checkbox_gt1\n",
        "+0.2171:                      loginform  typecount_text_0\n",
        "+0.0514:                      loginform  typecount_password_0\n",
        "-0.0101:                      loginform  2_or_3_inputs\n",
        "-0.2544:                      loginform  typecount_radio_gt0\n",
        "-0.3246:                      loginform  typecount_password_eq1\n",
        "-0.3522:                      loginform  typecount_text_gt1\n",
        "--------------------------------------------------------------------------------\n",
        "other\n",
        "+0.8499:                      loginform  typecount_text_0\n",
        "+0.4135:                      loginform  typecount_password_0\n",
        "+0.2412:                      loginform  typecount_radio_gt0\n",
        "-0.0479:                      loginform  typecount_text_gt1\n",
        "-0.0989:                      loginform  typecount_checkbox_gt1\n",
        "-0.1615:                      loginform  2_or_3_inputs\n",
        "-0.5904:                      loginform  typecount_password_eq1\n",
        "--------------------------------------------------------------------------------\n",
        "password/login recovery\n",
        "+0.0958:                      loginform  2_or_3_inputs\n",
        "+0.0648:                      loginform  typecount_password_0\n",
        "-0.0198:                      loginform  typecount_text_gt1\n",
        "-0.0941:                      loginform  typecount_text_0\n",
        "-0.1266:                      loginform  typecount_checkbox_gt1\n",
        "-0.1372:                      loginform  typecount_radio_gt0\n",
        "-0.1781:                      loginform  typecount_password_eq1\n",
        "--------------------------------------------------------------------------------\n",
        "registration\n",
        "+0.4575:                      loginform  typecount_text_gt1\n",
        "+0.4392:                      loginform  typecount_checkbox_gt1\n",
        "+0.2322:                      loginform  typecount_radio_gt0\n",
        "+0.1039:                      loginform  typecount_text_0\n",
        "-0.1253:                      loginform  2_or_3_inputs\n",
        "-1.2099:                      loginform  typecount_password_eq1\n",
        "-1.4501:                      loginform  typecount_password_0\n",
        "--------------------------------------------------------------------------------\n",
        "search\n",
        "+0.9294:                      loginform  typecount_password_0\n",
        "+0.1513:                      loginform  2_or_3_inputs\n",
        "+0.1247:                      loginform  typecount_radio_gt0\n",
        "-0.1678:                      loginform  typecount_checkbox_gt1\n",
        "-0.5122:                      loginform  typecount_password_eq1\n",
        "-1.0021:                      loginform  typecount_text_0\n",
        "-1.2057:                      loginform  typecount_text_gt1\n",
        "--------------------------------------------------------------------------------\n",
        "CPU times: user 2.98 s, sys: 23.5 ms, total: 3 s\n",
        "Wall time: 3.03 s\n"
       ]
      }
     ],
     "prompt_number": 8
    },
    {
     "cell_type": "code",
     "collapsed": false,
     "input": [],
     "language": "python",
     "metadata": {},
     "outputs": []
    }
   ],
   "metadata": {}
  }
 ]
}