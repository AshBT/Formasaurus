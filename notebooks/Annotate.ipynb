{
 "cells": [
  {
   "cell_type": "code",
   "execution_count": 1,
   "metadata": {
    "collapsed": false
   },
   "outputs": [
    {
     "data": {
      "text/html": [
       "<style>\n",
       ".formasaurus-field-highlighted { outline: 2px solid magenta;}\n",
       "</style>"
      ],
      "text/plain": [
       "<IPython.core.display.HTML object>"
      ]
     },
     "metadata": {},
     "output_type": "display_data"
    }
   ],
   "source": [
    "%%html\n",
    "<style>\n",
    ".formasaurus-field-highlighted { outline: 2px solid magenta;}\n",
    "</style>"
   ]
  },
  {
   "cell_type": "code",
   "execution_count": 1,
   "metadata": {
    "collapsed": false
   },
   "outputs": [],
   "source": [
    "import re\n",
    "\n",
    "from ipywidgets import widgets\n",
    "from ipywidgets import interact, interactive, fixed\n",
    "from IPython.display import HTML, display\n",
    "\n",
    "from formasaurus.html import load_html, get_cleaned_form_html, get_field_names, get_fields_to_annotate\n",
    "from formasaurus.annotation import print_form_html\n",
    "from formasaurus.storage import Storage\n",
    "from formasaurus.widgets import (\n",
    "    HtmlView, FormTypeSelect, FieldTypeSelect, FormAnnotator, MultiFormAnnotator, \n",
    ")\n",
    "from formasaurus.utils import inverse_mapping\n",
    "from formasaurus import annotation"
   ]
  },
  {
   "cell_type": "code",
   "execution_count": 3,
   "metadata": {
    "collapsed": false
   },
   "outputs": [],
   "source": [
    "storage = Storage(\"../formasaurus/data/\")\n",
    "index = storage.get_index()\n",
    "\n",
    "def save_func():\n",
    "    storage.write_index(index)    \n",
    "    \n",
    "field_schema = storage.get_field_schema()\n",
    "form_schema = storage.get_form_schema()\n",
    "all_annotations = list(storage.iter_annotations(index, drop_na=False))\n",
    "\n",
    "def ann_by_type(types):\n",
    "    \"\"\" Return all annotations with given form types (short names) \"\"\"\n",
    "    return [a for a in all_annotations if a.type in types]\n",
    "\n",
    "\n",
    "def ann_by_field_type(field_type):\n",
    "    \"\"\" Return all annotations which has at least one field of a given type \"\"\"\n",
    "    return [\n",
    "        a for a in all_annotations \n",
    "        if field_type in a.info['visible_html_fields'][a.index].values()\n",
    "   ]    \n",
    "\n",
    "def get_fields_annotation(ann):\n",
    "    return ann.info['visible_html_fields'][ann.index]\n",
    "\n",
    "def fields_annotation_complete(ann, na_value):\n",
    "    field_ann = get_fields_annotation(ann)\n",
    "    if not field_ann:\n",
    "        return True\n",
    "    return all(v != na_value for v in field_ann.values())\n",
    "\n",
    "def fields_annotation_partial(ann, na_value):\n",
    "    field_ann = get_fields_annotation(ann)\n",
    "    if not field_ann:\n",
    "        return False\n",
    "    values = field_ann.values()\n",
    "    return any(v == na_value for v in values) and not all(v == na_value for v in values)    "
   ]
  },
  {
   "cell_type": "code",
   "execution_count": 4,
   "metadata": {
    "collapsed": false
   },
   "outputs": [
    {
     "name": "stderr",
     "output_type": "stream",
     "text": []
    },
    {
     "data": {
      "text/plain": [
       "Counter({'N': 9,\n",
       "         'P': 6,\n",
       "         'V': 16,\n",
       "         'b': 22,\n",
       "         'c': 91,\n",
       "         'l': 185,\n",
       "         'm': 78,\n",
       "         'o': 77,\n",
       "         'p': 78,\n",
       "         'r': 123,\n",
       "         's': 287})"
      ]
     },
     "execution_count": 4,
     "metadata": {},
     "output_type": "execute_result"
    }
   ],
   "source": [
    "storage.get_form_type_counts()"
   ]
  },
  {
   "cell_type": "code",
   "execution_count": 5,
   "metadata": {
    "collapsed": false
   },
   "outputs": [],
   "source": [
    "partial_annotations = [a for a in all_annotations if fields_annotation_partial(a, field_schema.na_value)]\n",
    "not_annotated_annotations = [\n",
    "    a for a in all_annotations if not fields_annotation_complete(a, field_schema.na_value)\n",
    "]\n",
    "_annotations = partial_annotations + not_annotated_annotations\n",
    "MultiFormAnnotator(_annotations, form_schema.types, field_schema.types, annotate_types=True, save_func=save_func)"
   ]
  },
  {
   "cell_type": "code",
   "execution_count": 7,
   "metadata": {
    "collapsed": false
   },
   "outputs": [
    {
     "data": {
      "text/plain": [
       "FormAnnotation(form=<Element form at 0x110a58048>, type='l', index=0, info={'url': 'http://www.acozinhar.pt/portal/parceiros/', 'visible_html_fields': [{'pwd': 'p1', 'log': 'us', 'submit': 'Bs', 'rememberme': 'rC'}], 'forms': ['l']}, key='html/www.acozinhar.pt-0.html')"
      ]
     },
     "execution_count": 7,
     "metadata": {},
     "output_type": "execute_result"
    }
   ],
   "source": [
    "all_annotations[0]"
   ]
  },
  {
   "cell_type": "code",
   "execution_count": 7,
   "metadata": {
    "collapsed": false
   },
   "outputs": [],
   "source": [
    "_annotations = ann_by_field_type('ab')\n",
    "MultiFormAnnotator(_annotations, form_schema.types, field_schema.types, \n",
    "                   annotate_types=True, annotate_fields=True, save_func=save_func)"
   ]
  },
  {
   "cell_type": "code",
   "execution_count": 21,
   "metadata": {
    "collapsed": true
   },
   "outputs": [],
   "source": [
    "# _annotations = [a for a in all_annotations if a.type == 'b']\n",
    "# MultiFormAnnotator(form_na_annotations, form_types, field_types, annotate_types=True, save_func=save_func)"
   ]
  },
  {
   "cell_type": "code",
   "execution_count": null,
   "metadata": {
    "collapsed": true
   },
   "outputs": [],
   "source": []
  },
  {
   "cell_type": "code",
   "execution_count": null,
   "metadata": {
    "collapsed": true
   },
   "outputs": [],
   "source": []
  },
  {
   "cell_type": "code",
   "execution_count": null,
   "metadata": {
    "collapsed": true
   },
   "outputs": [],
   "source": []
  },
  {
   "cell_type": "code",
   "execution_count": null,
   "metadata": {
    "collapsed": true
   },
   "outputs": [],
   "source": []
  },
  {
   "cell_type": "code",
   "execution_count": null,
   "metadata": {
    "collapsed": true
   },
   "outputs": [],
   "source": []
  },
  {
   "cell_type": "code",
   "execution_count": null,
   "metadata": {
    "collapsed": true
   },
   "outputs": [],
   "source": []
  },
  {
   "cell_type": "code",
   "execution_count": null,
   "metadata": {
    "collapsed": true
   },
   "outputs": [],
   "source": []
  },
  {
   "cell_type": "code",
   "execution_count": null,
   "metadata": {
    "collapsed": true
   },
   "outputs": [],
   "source": []
  },
  {
   "cell_type": "code",
   "execution_count": null,
   "metadata": {
    "collapsed": true
   },
   "outputs": [],
   "source": []
  },
  {
   "cell_type": "code",
   "execution_count": null,
   "metadata": {
    "collapsed": true
   },
   "outputs": [],
   "source": []
  },
  {
   "cell_type": "code",
   "execution_count": null,
   "metadata": {
    "collapsed": true
   },
   "outputs": [],
   "source": []
  },
  {
   "cell_type": "code",
   "execution_count": null,
   "metadata": {
    "collapsed": true
   },
   "outputs": [],
   "source": []
  },
  {
   "cell_type": "code",
   "execution_count": null,
   "metadata": {
    "collapsed": true
   },
   "outputs": [],
   "source": []
  },
  {
   "cell_type": "code",
   "execution_count": null,
   "metadata": {
    "collapsed": true
   },
   "outputs": [],
   "source": []
  },
  {
   "cell_type": "code",
   "execution_count": null,
   "metadata": {
    "collapsed": true
   },
   "outputs": [],
   "source": []
  },
  {
   "cell_type": "code",
   "execution_count": null,
   "metadata": {
    "collapsed": true
   },
   "outputs": [],
   "source": []
  },
  {
   "cell_type": "code",
   "execution_count": null,
   "metadata": {
    "collapsed": true
   },
   "outputs": [],
   "source": []
  },
  {
   "cell_type": "code",
   "execution_count": null,
   "metadata": {
    "collapsed": true
   },
   "outputs": [],
   "source": []
  },
  {
   "cell_type": "code",
   "execution_count": null,
   "metadata": {
    "collapsed": true
   },
   "outputs": [],
   "source": []
  },
  {
   "cell_type": "code",
   "execution_count": null,
   "metadata": {
    "collapsed": true
   },
   "outputs": [],
   "source": []
  },
  {
   "cell_type": "code",
   "execution_count": null,
   "metadata": {
    "collapsed": true
   },
   "outputs": [],
   "source": []
  }
 ],
 "metadata": {
  "kernelspec": {
   "display_name": "Python 3",
   "language": "python",
   "name": "python3"
  },
  "language_info": {
   "codemirror_mode": {
    "name": "ipython",
    "version": 3
   },
   "file_extension": ".py",
   "mimetype": "text/x-python",
   "name": "python",
   "nbconvert_exporter": "python",
   "pygments_lexer": "ipython3",
   "version": "3.4.2"
  }
 },
 "nbformat": 4,
 "nbformat_minor": 0
}
